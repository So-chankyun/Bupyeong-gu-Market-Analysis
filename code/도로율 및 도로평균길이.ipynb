{
 "cells": [
  {
   "cell_type": "code",
   "execution_count": 1,
   "id": "9e7c5ca1-e8d6-44d0-9087-2c8148a62830",
   "metadata": {},
   "outputs": [],
   "source": [
    "import pandas as pd\n",
    "import missingno as msno\n",
    "import seaborn as sns\n",
    "import matplotlib.pyplot as plt\n",
    "from matplotlib import font_manager, rc\n",
    "import geopandas as gpd\n",
    "\n",
    "font_path = r'C:/Users/user/NanumFontSetup_TTF_ALL/NanumGothic.ttf'\n",
    "font_name = font_manager.FontProperties(fname=font_path, size=18).get_name()\n",
    "rc('font',family=font_name)"
   ]
  },
  {
   "cell_type": "markdown",
   "id": "2544fe0e-68e5-44fe-9e99-7f85c683294a",
   "metadata": {},
   "source": [
    "# 1. Data Loading"
   ]
  },
  {
   "cell_type": "code",
   "execution_count": 2,
   "id": "77e557b2-a34e-4c62-bf96-4a5f6d02a14e",
   "metadata": {},
   "outputs": [],
   "source": [
    "boundary_path = r'C:/Data Analysis/부평구 상권분석/data/전처리 파일/부평구 도로_5181/도로 데이터/5. 기초구역별 도로데이터/집계전'\n",
    "basis_area_path = r'C:/Data Analysis/부평구 상권분석/data/전처리 파일/부평구_기초구역_5181'\n",
    "near_boundary_road_data = gpd.read_file(boundary_path+'/기초구역별_도로데이터_경계인접_5181.shp')\n",
    "not_near_boundary_road_data = gpd.read_file(boundary_path+'/기초구역별_도로데이터_경계미인접_5181.shp')\n",
    "basis_area_data = gpd.read_file(basis_area_path+'/부평구_기초구역_5181.shp')"
   ]
  },
  {
   "cell_type": "code",
   "execution_count": 3,
   "id": "a4b9364e-a224-4ee6-a4e4-1ec02383c60f",
   "metadata": {},
   "outputs": [
    {
     "data": {
      "text/plain": [
       "Index(['BAS_AR', 'BAS_ID', 'BAS_MGT_SN', 'CTP_KOR_NM', 'MVMN_DE', 'MVMN_RESN',\n",
       "       'NTFC_DE', 'OPERT_DE', 'SIG_CD', 'SIG_KOR_NM', 'ALWNC_DE', 'ALWNC_RESN',\n",
       "       'BSI_INT', 'ENG_RN', 'MVMN_DE_2', 'MVMN_RESN_', 'MVM_RES_CD',\n",
       "       'NTFC_DE_2', 'OPERT_DE_2', 'RBP_CN', 'RDS_DPN_SE', 'RDS_MAN_NO',\n",
       "       'REP_CN', 'RN', 'RN_CD', 'ROAD_BT', 'ROAD_LT', 'ROA_CLS_SE', 'SIG_CD_2',\n",
       "       'WDR_RD_CD', 'ROAD_LT_CU', 'center_x', 'center_y', 'geometry'],\n",
       "      dtype='object')"
      ]
     },
     "execution_count": 3,
     "metadata": {},
     "output_type": "execute_result"
    }
   ],
   "source": [
    "near_boundary_road_data.columns"
   ]
  },
  {
   "cell_type": "code",
   "execution_count": 4,
   "id": "74355a52-ad8d-4590-b717-baad50a39a71",
   "metadata": {},
   "outputs": [],
   "source": [
    "# 불필요한 컬럼 삭제\n",
    "essential_col = ['BAS_ID','BAS_AR','ROAD_BT','ROAD_LT','ROAD_LT_CU','geometry']\n",
    "\n",
    "use_data1 = near_boundary_road_data[essential_col]\n",
    "use_data2 = not_near_boundary_road_data[essential_col]"
   ]
  },
  {
   "cell_type": "markdown",
   "id": "4c87172c-5954-453f-9b58-82c0c90c5d45",
   "metadata": {
    "tags": []
   },
   "source": [
    "# 2. 결측치 제거"
   ]
  },
  {
   "cell_type": "code",
   "execution_count": 5,
   "id": "70b2ef3f-c869-4322-9778-ec4fb9fc172b",
   "metadata": {},
   "outputs": [
    {
     "data": {
      "text/plain": [
       "BAS_ID        0\n",
       "BAS_AR        0\n",
       "ROAD_BT       2\n",
       "ROAD_LT       2\n",
       "ROAD_LT_CU    2\n",
       "geometry      0\n",
       "dtype: int64"
      ]
     },
     "metadata": {},
     "output_type": "display_data"
    },
    {
     "data": {
      "text/plain": [
       "BAS_ID        0\n",
       "BAS_AR        0\n",
       "ROAD_BT       7\n",
       "ROAD_LT       7\n",
       "ROAD_LT_CU    7\n",
       "geometry      0\n",
       "dtype: int64"
      ]
     },
     "metadata": {},
     "output_type": "display_data"
    }
   ],
   "source": [
    "display(use_data1.isnull().sum())\n",
    "display(use_data2.isnull().sum())"
   ]
  },
  {
   "cell_type": "code",
   "execution_count": 6,
   "id": "b0e225f1-405e-4bcc-ae19-4a6d05e7c522",
   "metadata": {},
   "outputs": [],
   "source": [
    "use_data1 = use_data1.dropna()\n",
    "use_data2 = use_data2.dropna()"
   ]
  },
  {
   "cell_type": "code",
   "execution_count": 7,
   "id": "629b1adc-e8be-437f-95f6-a8f4d4a1d53a",
   "metadata": {},
   "outputs": [],
   "source": [
    "# 2에는 '-nan(ind)'가 없다. 따라서 1에서만 drop을 진행한다.\n",
    "use_data1.drop(use_data1.loc[use_data1['ROAD_LT_CU']=='-nan(ind)'].index,axis=0,inplace=True)\n",
    "# use_data2.drop(use_data1.loc[use_data2['ROAD_LT_CU']=='-nan(ind)'].index,axis=0,inplace=True)"
   ]
  },
  {
   "cell_type": "markdown",
   "id": "bb92de8d-2fad-4689-997c-5fa9afd1550c",
   "metadata": {
    "tags": []
   },
   "source": [
    "# 3. 도로율 컬럼 생성\n"
   ]
  },
  {
   "cell_type": "code",
   "execution_count": 8,
   "id": "470121ad-8b16-4bbe-9015-dd60d76ad2a0",
   "metadata": {},
   "outputs": [],
   "source": [
    "use_data1['ROAD_LT_CU'] = use_data1.loc[:,'ROAD_LT_CU'].astype('float')\n",
    "use_data2['ROAD_LT_CU'] = use_data2.loc[:,'ROAD_LT_CU'].astype('float')"
   ]
  },
  {
   "cell_type": "code",
   "execution_count": 9,
   "id": "6986e519-4cf0-43e4-bcf7-f7f8f10feddb",
   "metadata": {},
   "outputs": [],
   "source": [
    "# 도로 길이와 폭은 m단위이므로, 도로의 넓이를 구한다음 10만으로 나누어준다.\n",
    "use_data1['ROAD_AREA'] = (use_data1['ROAD_BT'] * use_data1['ROAD_LT_CU']) / 1000000\n",
    "use_data2['ROAD_AREA'] = (use_data2['ROAD_BT'] * use_data2['ROAD_LT_CU']) / 1000000"
   ]
  },
  {
   "cell_type": "code",
   "execution_count": 10,
   "id": "1f54aaec-718f-41e9-bf16-c5d0e0c6d193",
   "metadata": {},
   "outputs": [
    {
     "data": {
      "text/plain": [
       "{'21417', '21460'}"
      ]
     },
     "execution_count": 10,
     "metadata": {},
     "output_type": "execute_result"
    }
   ],
   "source": [
    "# 경계인접도로에 모든 기초구역이 포함되어 있는가?\n",
    "set(basis_area_data['BAS_ID'])- set(use_data1['BAS_ID'].unique())"
   ]
  },
  {
   "cell_type": "code",
   "execution_count": 11,
   "id": "89199ab9-b953-484c-9614-2527decbbec9",
   "metadata": {},
   "outputs": [],
   "source": [
    "# 위의 기초구역은 그대로 BAS_AR을 사용하면 될것같다.\n",
    "# 기존의 BAS_AR에 경계인접도로의 넓이를 더해준다.\n",
    "use_data1['BAS_AR'] += use_data1['ROAD_AREA']"
   ]
  },
  {
   "cell_type": "code",
   "execution_count": 12,
   "id": "7793c973-a2ad-490d-b3e8-44173a90590a",
   "metadata": {},
   "outputs": [],
   "source": [
    "# 임시로 기초구역 넓이(+도로 넓이) 저장\n",
    "TEMP_BAS_DATA = use_data1[['BAS_ID','BAS_AR']]"
   ]
  },
  {
   "cell_type": "code",
   "execution_count": 13,
   "id": "1a204fd8-cc8b-45a2-b777-c0dac7df372c",
   "metadata": {},
   "outputs": [
    {
     "data": {
      "text/html": [
       "<div>\n",
       "<style scoped>\n",
       "    .dataframe tbody tr th:only-of-type {\n",
       "        vertical-align: middle;\n",
       "    }\n",
       "\n",
       "    .dataframe tbody tr th {\n",
       "        vertical-align: top;\n",
       "    }\n",
       "\n",
       "    .dataframe thead th {\n",
       "        text-align: right;\n",
       "    }\n",
       "</style>\n",
       "<table border=\"1\" class=\"dataframe\">\n",
       "  <thead>\n",
       "    <tr style=\"text-align: right;\">\n",
       "      <th></th>\n",
       "      <th>BAS_ID</th>\n",
       "      <th>BAS_AR</th>\n",
       "      <th>ROAD_BT</th>\n",
       "      <th>ROAD_LT</th>\n",
       "      <th>ROAD_LT_CU</th>\n",
       "      <th>geometry</th>\n",
       "      <th>ROAD_AREA</th>\n",
       "    </tr>\n",
       "  </thead>\n",
       "  <tbody>\n",
       "    <tr>\n",
       "      <th>0</th>\n",
       "      <td>21459</td>\n",
       "      <td>2.649139</td>\n",
       "      <td>4.0</td>\n",
       "      <td>75.000</td>\n",
       "      <td>75.309</td>\n",
       "      <td>POLYGON ((176641.304 442645.152, 176647.527 44...</td>\n",
       "      <td>0.000301</td>\n",
       "    </tr>\n",
       "    <tr>\n",
       "      <th>1</th>\n",
       "      <td>21459</td>\n",
       "      <td>2.648906</td>\n",
       "      <td>3.0</td>\n",
       "      <td>23.000</td>\n",
       "      <td>22.798</td>\n",
       "      <td>POLYGON ((176641.304 442645.152, 176647.527 44...</td>\n",
       "      <td>0.000068</td>\n",
       "    </tr>\n",
       "    <tr>\n",
       "      <th>2</th>\n",
       "      <td>21384</td>\n",
       "      <td>0.158624</td>\n",
       "      <td>30.0</td>\n",
       "      <td>249.442</td>\n",
       "      <td>80.385</td>\n",
       "      <td>POLYGON ((174332.882 443549.806, 174341.717 44...</td>\n",
       "      <td>0.002412</td>\n",
       "    </tr>\n",
       "    <tr>\n",
       "      <th>3</th>\n",
       "      <td>21384</td>\n",
       "      <td>0.156395</td>\n",
       "      <td>30.0</td>\n",
       "      <td>332.271</td>\n",
       "      <td>6.100</td>\n",
       "      <td>POLYGON ((174332.882 443549.806, 174341.717 44...</td>\n",
       "      <td>0.000183</td>\n",
       "    </tr>\n",
       "    <tr>\n",
       "      <th>4</th>\n",
       "      <td>21384</td>\n",
       "      <td>0.156437</td>\n",
       "      <td>30.0</td>\n",
       "      <td>332.271</td>\n",
       "      <td>7.501</td>\n",
       "      <td>POLYGON ((174332.882 443549.806, 174341.717 44...</td>\n",
       "      <td>0.000225</td>\n",
       "    </tr>\n",
       "    <tr>\n",
       "      <th>...</th>\n",
       "      <td>...</td>\n",
       "      <td>...</td>\n",
       "      <td>...</td>\n",
       "      <td>...</td>\n",
       "      <td>...</td>\n",
       "      <td>...</td>\n",
       "      <td>...</td>\n",
       "    </tr>\n",
       "    <tr>\n",
       "      <th>3004</th>\n",
       "      <td>21432</td>\n",
       "      <td>0.249155</td>\n",
       "      <td>3.0</td>\n",
       "      <td>48.000</td>\n",
       "      <td>47.513</td>\n",
       "      <td>POLYGON ((174941.445 442603.951, 174999.172 44...</td>\n",
       "      <td>0.000143</td>\n",
       "    </tr>\n",
       "    <tr>\n",
       "      <th>3005</th>\n",
       "      <td>21432</td>\n",
       "      <td>0.249155</td>\n",
       "      <td>4.0</td>\n",
       "      <td>45.000</td>\n",
       "      <td>45.456</td>\n",
       "      <td>POLYGON ((174941.445 442603.951, 174999.172 44...</td>\n",
       "      <td>0.000182</td>\n",
       "    </tr>\n",
       "    <tr>\n",
       "      <th>3006</th>\n",
       "      <td>21432</td>\n",
       "      <td>0.249155</td>\n",
       "      <td>5.0</td>\n",
       "      <td>52.000</td>\n",
       "      <td>51.927</td>\n",
       "      <td>POLYGON ((174941.445 442603.951, 174999.172 44...</td>\n",
       "      <td>0.000260</td>\n",
       "    </tr>\n",
       "    <tr>\n",
       "      <th>3007</th>\n",
       "      <td>21432</td>\n",
       "      <td>0.249155</td>\n",
       "      <td>3.0</td>\n",
       "      <td>451.000</td>\n",
       "      <td>451.072</td>\n",
       "      <td>POLYGON ((174941.445 442603.951, 174999.172 44...</td>\n",
       "      <td>0.001353</td>\n",
       "    </tr>\n",
       "    <tr>\n",
       "      <th>3008</th>\n",
       "      <td>21432</td>\n",
       "      <td>0.249155</td>\n",
       "      <td>5.0</td>\n",
       "      <td>36.000</td>\n",
       "      <td>36.487</td>\n",
       "      <td>POLYGON ((174941.445 442603.951, 174999.172 44...</td>\n",
       "      <td>0.000182</td>\n",
       "    </tr>\n",
       "  </tbody>\n",
       "</table>\n",
       "<p>3741 rows × 7 columns</p>\n",
       "</div>"
      ],
      "text/plain": [
       "     BAS_ID    BAS_AR  ROAD_BT  ROAD_LT  ROAD_LT_CU  \\\n",
       "0     21459  2.649139      4.0   75.000      75.309   \n",
       "1     21459  2.648906      3.0   23.000      22.798   \n",
       "2     21384  0.158624     30.0  249.442      80.385   \n",
       "3     21384  0.156395     30.0  332.271       6.100   \n",
       "4     21384  0.156437     30.0  332.271       7.501   \n",
       "...     ...       ...      ...      ...         ...   \n",
       "3004  21432  0.249155      3.0   48.000      47.513   \n",
       "3005  21432  0.249155      4.0   45.000      45.456   \n",
       "3006  21432  0.249155      5.0   52.000      51.927   \n",
       "3007  21432  0.249155      3.0  451.000     451.072   \n",
       "3008  21432  0.249155      5.0   36.000      36.487   \n",
       "\n",
       "                                               geometry  ROAD_AREA  \n",
       "0     POLYGON ((176641.304 442645.152, 176647.527 44...   0.000301  \n",
       "1     POLYGON ((176641.304 442645.152, 176647.527 44...   0.000068  \n",
       "2     POLYGON ((174332.882 443549.806, 174341.717 44...   0.002412  \n",
       "3     POLYGON ((174332.882 443549.806, 174341.717 44...   0.000183  \n",
       "4     POLYGON ((174332.882 443549.806, 174341.717 44...   0.000225  \n",
       "...                                                 ...        ...  \n",
       "3004  POLYGON ((174941.445 442603.951, 174999.172 44...   0.000143  \n",
       "3005  POLYGON ((174941.445 442603.951, 174999.172 44...   0.000182  \n",
       "3006  POLYGON ((174941.445 442603.951, 174999.172 44...   0.000260  \n",
       "3007  POLYGON ((174941.445 442603.951, 174999.172 44...   0.001353  \n",
       "3008  POLYGON ((174941.445 442603.951, 174999.172 44...   0.000182  \n",
       "\n",
       "[3741 rows x 7 columns]"
      ]
     },
     "execution_count": 13,
     "metadata": {},
     "output_type": "execute_result"
    }
   ],
   "source": [
    "use_data = pd.concat([use_data1,use_data2])\n",
    "use_data"
   ]
  },
  {
   "cell_type": "code",
   "execution_count": 14,
   "id": "9439ada1-93ee-4d8c-b466-93076322f0b9",
   "metadata": {},
   "outputs": [
    {
     "data": {
      "text/html": [
       "<div>\n",
       "<style scoped>\n",
       "    .dataframe tbody tr th:only-of-type {\n",
       "        vertical-align: middle;\n",
       "    }\n",
       "\n",
       "    .dataframe tbody tr th {\n",
       "        vertical-align: top;\n",
       "    }\n",
       "\n",
       "    .dataframe thead th {\n",
       "        text-align: right;\n",
       "    }\n",
       "</style>\n",
       "<table border=\"1\" class=\"dataframe\">\n",
       "  <thead>\n",
       "    <tr style=\"text-align: right;\">\n",
       "      <th></th>\n",
       "      <th>BAS_ID</th>\n",
       "      <th>BAS_AR</th>\n",
       "      <th>geometry</th>\n",
       "    </tr>\n",
       "  </thead>\n",
       "  <tbody>\n",
       "    <tr>\n",
       "      <th>139</th>\n",
       "      <td>21300</td>\n",
       "      <td>0.743330</td>\n",
       "      <td>POLYGON ((172624.863 447152.276, 172670.940 44...</td>\n",
       "    </tr>\n",
       "    <tr>\n",
       "      <th>143</th>\n",
       "      <td>21301</td>\n",
       "      <td>0.121045</td>\n",
       "      <td>POLYGON ((173295.105 447039.530, 173295.147 44...</td>\n",
       "    </tr>\n",
       "    <tr>\n",
       "      <th>134</th>\n",
       "      <td>21302</td>\n",
       "      <td>0.175777</td>\n",
       "      <td>POLYGON ((173891.544 446881.024, 173891.543 44...</td>\n",
       "    </tr>\n",
       "    <tr>\n",
       "      <th>131</th>\n",
       "      <td>21303</td>\n",
       "      <td>0.270679</td>\n",
       "      <td>POLYGON ((173668.839 446507.436, 173658.833 44...</td>\n",
       "    </tr>\n",
       "    <tr>\n",
       "      <th>133</th>\n",
       "      <td>21304</td>\n",
       "      <td>0.073319</td>\n",
       "      <td>POLYGON ((173891.543 446881.019, 173891.500 44...</td>\n",
       "    </tr>\n",
       "    <tr>\n",
       "      <th>...</th>\n",
       "      <td>...</td>\n",
       "      <td>...</td>\n",
       "      <td>...</td>\n",
       "    </tr>\n",
       "    <tr>\n",
       "      <th>151</th>\n",
       "      <td>21456</td>\n",
       "      <td>1.340721</td>\n",
       "      <td>POLYGON ((175340.378 442397.517, 175349.045 44...</td>\n",
       "    </tr>\n",
       "    <tr>\n",
       "      <th>154</th>\n",
       "      <td>21457</td>\n",
       "      <td>0.268643</td>\n",
       "      <td>POLYGON ((178051.841 442436.153, 178041.770 44...</td>\n",
       "    </tr>\n",
       "    <tr>\n",
       "      <th>32</th>\n",
       "      <td>21458</td>\n",
       "      <td>0.197292</td>\n",
       "      <td>POLYGON ((176592.215 442885.941, 176595.066 44...</td>\n",
       "    </tr>\n",
       "    <tr>\n",
       "      <th>0</th>\n",
       "      <td>21459</td>\n",
       "      <td>2.648838</td>\n",
       "      <td>POLYGON ((176641.304 442645.152, 176647.527 44...</td>\n",
       "    </tr>\n",
       "    <tr>\n",
       "      <th>25</th>\n",
       "      <td>21460</td>\n",
       "      <td>0.750104</td>\n",
       "      <td>POLYGON ((178740.177 441942.916, 178742.755 44...</td>\n",
       "    </tr>\n",
       "  </tbody>\n",
       "</table>\n",
       "<p>161 rows × 3 columns</p>\n",
       "</div>"
      ],
      "text/plain": [
       "    BAS_ID    BAS_AR                                           geometry\n",
       "139  21300  0.743330  POLYGON ((172624.863 447152.276, 172670.940 44...\n",
       "143  21301  0.121045  POLYGON ((173295.105 447039.530, 173295.147 44...\n",
       "134  21302  0.175777  POLYGON ((173891.544 446881.024, 173891.543 44...\n",
       "131  21303  0.270679  POLYGON ((173668.839 446507.436, 173658.833 44...\n",
       "133  21304  0.073319  POLYGON ((173891.543 446881.019, 173891.500 44...\n",
       "..     ...       ...                                                ...\n",
       "151  21456  1.340721  POLYGON ((175340.378 442397.517, 175349.045 44...\n",
       "154  21457  0.268643  POLYGON ((178051.841 442436.153, 178041.770 44...\n",
       "32   21458  0.197292  POLYGON ((176592.215 442885.941, 176595.066 44...\n",
       "0    21459  2.648838  POLYGON ((176641.304 442645.152, 176647.527 44...\n",
       "25   21460  0.750104  POLYGON ((178740.177 441942.916, 178742.755 44...\n",
       "\n",
       "[161 rows x 3 columns]"
      ]
     },
     "execution_count": 14,
     "metadata": {},
     "output_type": "execute_result"
    }
   ],
   "source": [
    "basis_area_data.sort_values(by='BAS_ID',axis=0,inplace=True)\n",
    "basis_area = basis_area_data[['BAS_ID','BAS_AR','geometry']]\n",
    "basis_area"
   ]
  },
  {
   "cell_type": "code",
   "execution_count": 126,
   "id": "385619e1-5c90-4459-8bf8-99b8b9cc1a3f",
   "metadata": {},
   "outputs": [],
   "source": [
    "total_road_area = use_data.groupby('BAS_ID')['ROAD_AREA'].sum().to_frame()\n",
    "total_road_length = use_data.groupby('BAS_ID')['ROAD_LT_CU'].mean().to_frame()"
   ]
  },
  {
   "cell_type": "code",
   "execution_count": 127,
   "id": "54777746-24b1-47bb-8281-aefb0fa90a96",
   "metadata": {},
   "outputs": [
    {
     "data": {
      "text/html": [
       "<div>\n",
       "<style scoped>\n",
       "    .dataframe tbody tr th:only-of-type {\n",
       "        vertical-align: middle;\n",
       "    }\n",
       "\n",
       "    .dataframe tbody tr th {\n",
       "        vertical-align: top;\n",
       "    }\n",
       "\n",
       "    .dataframe thead th {\n",
       "        text-align: right;\n",
       "    }\n",
       "</style>\n",
       "<table border=\"1\" class=\"dataframe\">\n",
       "  <thead>\n",
       "    <tr style=\"text-align: right;\">\n",
       "      <th></th>\n",
       "      <th>BAS_ID</th>\n",
       "      <th>ROAD_AREA</th>\n",
       "      <th>ROAD_LT_CU</th>\n",
       "    </tr>\n",
       "  </thead>\n",
       "  <tbody>\n",
       "    <tr>\n",
       "      <th>0</th>\n",
       "      <td>21300</td>\n",
       "      <td>0.054511</td>\n",
       "      <td>119.253463</td>\n",
       "    </tr>\n",
       "    <tr>\n",
       "      <th>1</th>\n",
       "      <td>21301</td>\n",
       "      <td>0.037785</td>\n",
       "      <td>211.340833</td>\n",
       "    </tr>\n",
       "    <tr>\n",
       "      <th>2</th>\n",
       "      <td>21302</td>\n",
       "      <td>0.048710</td>\n",
       "      <td>214.144188</td>\n",
       "    </tr>\n",
       "    <tr>\n",
       "      <th>3</th>\n",
       "      <td>21303</td>\n",
       "      <td>0.044312</td>\n",
       "      <td>105.011320</td>\n",
       "    </tr>\n",
       "    <tr>\n",
       "      <th>4</th>\n",
       "      <td>21304</td>\n",
       "      <td>0.024928</td>\n",
       "      <td>134.361765</td>\n",
       "    </tr>\n",
       "    <tr>\n",
       "      <th>...</th>\n",
       "      <td>...</td>\n",
       "      <td>...</td>\n",
       "      <td>...</td>\n",
       "    </tr>\n",
       "    <tr>\n",
       "      <th>156</th>\n",
       "      <td>21456</td>\n",
       "      <td>0.049117</td>\n",
       "      <td>184.741846</td>\n",
       "    </tr>\n",
       "    <tr>\n",
       "      <th>157</th>\n",
       "      <td>21457</td>\n",
       "      <td>0.057680</td>\n",
       "      <td>224.758789</td>\n",
       "    </tr>\n",
       "    <tr>\n",
       "      <th>158</th>\n",
       "      <td>21458</td>\n",
       "      <td>0.031474</td>\n",
       "      <td>152.046143</td>\n",
       "    </tr>\n",
       "    <tr>\n",
       "      <th>159</th>\n",
       "      <td>21459</td>\n",
       "      <td>0.000370</td>\n",
       "      <td>49.053500</td>\n",
       "    </tr>\n",
       "    <tr>\n",
       "      <th>160</th>\n",
       "      <td>21460</td>\n",
       "      <td>0.001045</td>\n",
       "      <td>174.217000</td>\n",
       "    </tr>\n",
       "  </tbody>\n",
       "</table>\n",
       "<p>161 rows × 3 columns</p>\n",
       "</div>"
      ],
      "text/plain": [
       "    BAS_ID  ROAD_AREA  ROAD_LT_CU\n",
       "0    21300   0.054511  119.253463\n",
       "1    21301   0.037785  211.340833\n",
       "2    21302   0.048710  214.144188\n",
       "3    21303   0.044312  105.011320\n",
       "4    21304   0.024928  134.361765\n",
       "..     ...        ...         ...\n",
       "156  21456   0.049117  184.741846\n",
       "157  21457   0.057680  224.758789\n",
       "158  21458   0.031474  152.046143\n",
       "159  21459   0.000370   49.053500\n",
       "160  21460   0.001045  174.217000\n",
       "\n",
       "[161 rows x 3 columns]"
      ]
     },
     "execution_count": 127,
     "metadata": {},
     "output_type": "execute_result"
    }
   ],
   "source": [
    "agg_road_data_by_basis_area = total_road_area.merge(total_road_length,how='inner',right_on='BAS_ID',left_on='BAS_ID')\n",
    "agg_road_data_by_basis_area.reset_index(inplace=True)\n",
    "agg_road_data_by_basis_area"
   ]
  },
  {
   "cell_type": "markdown",
   "id": "d117fae4-5dd1-47c8-9c35-0a5424bebfb1",
   "metadata": {},
   "source": [
    "# 4. 도로율 및 평균 도로길이 계산"
   ]
  },
  {
   "cell_type": "code",
   "execution_count": 128,
   "id": "09b5e132-f40e-4114-89dd-6313da207d96",
   "metadata": {},
   "outputs": [],
   "source": [
    "agg_road_data_by_basis_area['geometry'] = basis_area['geometry']"
   ]
  },
  {
   "cell_type": "code",
   "execution_count": 135,
   "id": "3cdea25a-bdc2-4515-84d6-77c18d366bed",
   "metadata": {},
   "outputs": [],
   "source": [
    "# 중복행 제거\n",
    "TEMP_BAS_AREA = TEMP_BAS_DATA.drop_duplicates(['BAS_ID'],ignore_index=True)"
   ]
  },
  {
   "cell_type": "code",
   "execution_count": 136,
   "id": "ff248c30-df8b-4833-aac8-757e7d792b4b",
   "metadata": {},
   "outputs": [
    {
     "data": {
      "text/html": [
       "<div>\n",
       "<style scoped>\n",
       "    .dataframe tbody tr th:only-of-type {\n",
       "        vertical-align: middle;\n",
       "    }\n",
       "\n",
       "    .dataframe tbody tr th {\n",
       "        vertical-align: top;\n",
       "    }\n",
       "\n",
       "    .dataframe thead th {\n",
       "        text-align: right;\n",
       "    }\n",
       "</style>\n",
       "<table border=\"1\" class=\"dataframe\">\n",
       "  <thead>\n",
       "    <tr style=\"text-align: right;\">\n",
       "      <th></th>\n",
       "      <th>BAS_ID</th>\n",
       "      <th>BAS_AR</th>\n",
       "    </tr>\n",
       "  </thead>\n",
       "  <tbody>\n",
       "    <tr>\n",
       "      <th>137</th>\n",
       "      <td>21300</td>\n",
       "      <td>0.743428</td>\n",
       "    </tr>\n",
       "    <tr>\n",
       "      <th>141</th>\n",
       "      <td>21301</td>\n",
       "      <td>0.122091</td>\n",
       "    </tr>\n",
       "    <tr>\n",
       "      <th>132</th>\n",
       "      <td>21302</td>\n",
       "      <td>0.190669</td>\n",
       "    </tr>\n",
       "    <tr>\n",
       "      <th>129</th>\n",
       "      <td>21303</td>\n",
       "      <td>0.285571</td>\n",
       "    </tr>\n",
       "    <tr>\n",
       "      <th>131</th>\n",
       "      <td>21304</td>\n",
       "      <td>0.076201</td>\n",
       "    </tr>\n",
       "    <tr>\n",
       "      <th>...</th>\n",
       "      <td>...</td>\n",
       "      <td>...</td>\n",
       "    </tr>\n",
       "    <tr>\n",
       "      <th>9</th>\n",
       "      <td>21455</td>\n",
       "      <td>0.088647</td>\n",
       "    </tr>\n",
       "    <tr>\n",
       "      <th>149</th>\n",
       "      <td>21456</td>\n",
       "      <td>1.341835</td>\n",
       "    </tr>\n",
       "    <tr>\n",
       "      <th>152</th>\n",
       "      <td>21457</td>\n",
       "      <td>0.268944</td>\n",
       "    </tr>\n",
       "    <tr>\n",
       "      <th>30</th>\n",
       "      <td>21458</td>\n",
       "      <td>0.219061</td>\n",
       "    </tr>\n",
       "    <tr>\n",
       "      <th>0</th>\n",
       "      <td>21459</td>\n",
       "      <td>2.649139</td>\n",
       "    </tr>\n",
       "  </tbody>\n",
       "</table>\n",
       "<p>159 rows × 2 columns</p>\n",
       "</div>"
      ],
      "text/plain": [
       "    BAS_ID    BAS_AR\n",
       "137  21300  0.743428\n",
       "141  21301  0.122091\n",
       "132  21302  0.190669\n",
       "129  21303  0.285571\n",
       "131  21304  0.076201\n",
       "..     ...       ...\n",
       "9    21455  0.088647\n",
       "149  21456  1.341835\n",
       "152  21457  0.268944\n",
       "30   21458  0.219061\n",
       "0    21459  2.649139\n",
       "\n",
       "[159 rows x 2 columns]"
      ]
     },
     "execution_count": 136,
     "metadata": {},
     "output_type": "execute_result"
    }
   ],
   "source": [
    "TEMP_BAS_DATA.sort_values(by='BAS_ID')"
   ]
  },
  {
   "cell_type": "code",
   "execution_count": 146,
   "id": "bacfed9d-a5e2-40d6-97c0-22b88ad55153",
   "metadata": {},
   "outputs": [
    {
     "name": "stdout",
     "output_type": "stream",
     "text": [
      "<class 'pandas.core.frame.DataFrame'>\n",
      "RangeIndex: 159 entries, 0 to 158\n",
      "Data columns (total 2 columns):\n",
      " #   Column  Non-Null Count  Dtype  \n",
      "---  ------  --------------  -----  \n",
      " 0   BAS_ID  159 non-null    object \n",
      " 1   BAS_AR  159 non-null    float64\n",
      "dtypes: float64(1), object(1)\n",
      "memory usage: 2.6+ KB\n"
     ]
    }
   ],
   "source": [
    "TEMP_BAS_DATA.info()"
   ]
  },
  {
   "cell_type": "code",
   "execution_count": 162,
   "id": "1477cae8-709c-44c6-805d-e031f8ab9827",
   "metadata": {},
   "outputs": [
    {
     "data": {
      "text/plain": [
       "14    0.447183\n",
       "25    0.750104\n",
       "Name: BAS_AR, dtype: float64"
      ]
     },
     "execution_count": 162,
     "metadata": {},
     "output_type": "execute_result"
    }
   ],
   "source": [
    "basis_area_data[basis_area_data['BAS_ID'].isin({'21417', '21460'})]['BAS_AR']"
   ]
  },
  {
   "cell_type": "code",
   "execution_count": 181,
   "id": "b74103d9-f607-4795-9197-58feecdcb304",
   "metadata": {},
   "outputs": [],
   "source": [
    "# 기초구역 넓이가 없는 값들을 넣어준다.\n",
    "result = agg_road_data_by_basis_area.merge(TEMP_BAS_DATA,how='left',right_on='BAS_ID',left_on='BAS_ID').sort_values(by='BAS_ID')\n",
    "\n",
    "for bas_id in ['21417', '21460']:\n",
    "    result.loc[result['BAS_ID'] == bas_id,'BAS_AR'] = basis_area_data[basis_area_data['BAS_ID'] == bas_id]['BAS_AR'].values    "
   ]
  },
  {
   "cell_type": "code",
   "execution_count": 191,
   "id": "5463ab47-83d1-47e0-81fc-3b4f7ad2882f",
   "metadata": {},
   "outputs": [
    {
     "data": {
      "text/html": [
       "<div>\n",
       "<style scoped>\n",
       "    .dataframe tbody tr th:only-of-type {\n",
       "        vertical-align: middle;\n",
       "    }\n",
       "\n",
       "    .dataframe tbody tr th {\n",
       "        vertical-align: top;\n",
       "    }\n",
       "\n",
       "    .dataframe thead th {\n",
       "        text-align: right;\n",
       "    }\n",
       "</style>\n",
       "<table border=\"1\" class=\"dataframe\">\n",
       "  <thead>\n",
       "    <tr style=\"text-align: right;\">\n",
       "      <th></th>\n",
       "      <th>BAS_ID</th>\n",
       "      <th>ROAD_AREA</th>\n",
       "      <th>ROAD_LT_CU</th>\n",
       "      <th>BAS_AR</th>\n",
       "      <th>ROAD_RATE</th>\n",
       "    </tr>\n",
       "  </thead>\n",
       "  <tbody>\n",
       "    <tr>\n",
       "      <th>min</th>\n",
       "      <td>21300</td>\n",
       "      <td>0.00037</td>\n",
       "      <td>49.0535</td>\n",
       "      <td>0.043340</td>\n",
       "      <td>0.013953</td>\n",
       "    </tr>\n",
       "    <tr>\n",
       "      <th>max</th>\n",
       "      <td>21460</td>\n",
       "      <td>0.12719</td>\n",
       "      <td>604.0870</td>\n",
       "      <td>2.649139</td>\n",
       "      <td>62.535292</td>\n",
       "    </tr>\n",
       "  </tbody>\n",
       "</table>\n",
       "</div>"
      ],
      "text/plain": [
       "    BAS_ID  ROAD_AREA  ROAD_LT_CU    BAS_AR  ROAD_RATE\n",
       "min  21300    0.00037     49.0535  0.043340   0.013953\n",
       "max  21460    0.12719    604.0870  2.649139  62.535292"
      ]
     },
     "execution_count": 191,
     "metadata": {},
     "output_type": "execute_result"
    }
   ],
   "source": [
    "# 기초구역 내 도로의 넓이 / 기초구역의 넓이, 단위는 %이다.\n",
    "result['ROAD_RATE'] = (result['ROAD_AREA'] / result['BAS_AR']) * 100\n",
    "result.agg(['min','max'])"
   ]
  },
  {
   "cell_type": "code",
   "execution_count": 194,
   "id": "ac6d015e-1839-4747-9223-914ece1ec01f",
   "metadata": {},
   "outputs": [],
   "source": [
    "path = r'C:/Data Analysis/부평구 상권분석/data/전처리 파일/부평구 도로_5181/도로 데이터/5. 기초구역별 도로데이터/집계후/'\n",
    "result.to_csv(path+'기초구역별_도로데이터(집계후).csv')"
   ]
  },
  {
   "cell_type": "code",
   "execution_count": 196,
   "id": "7cbec7e8-bdfd-41b1-9c58-659c7e09329d",
   "metadata": {},
   "outputs": [
    {
     "data": {
      "image/png": "[encoded data removed]",
      "text/plain": [
       "<Figure size 640x480 with 1 Axes>"
      ]
     },
     "metadata": {},
     "output_type": "display_data"
    }
   ],
   "source": [
    "sns.histplot(data=result, x='ROAD_RATE', kde=True,color='magenta')\n",
    "plt.show()"
   ]
  },
  {
   "cell_type": "code",
   "execution_count": 198,
   "id": "3b918a44-889b-4038-99e4-a554d717e957",
   "metadata": {},
   "outputs": [
    {
     "data": {
      "image/png": "[encoded data removed]",
      "text/plain": [
       "<Figure size 640x480 with 1 Axes>"
      ]
     },
     "metadata": {},
     "output_type": "display_data"
    }
   ],
   "source": [
    "sns.histplot(data=result, x='ROAD_LT_CU', kde=True,color='red')\n",
    "plt.show()"
   ]
  }
 ],
 "metadata": {
  "kernelspec": {
   "display_name": "Python 3",
   "language": "python",
   "name": "python3"
  },
  "language_info": {
   "codemirror_mode": {
    "name": "ipython",
    "version": 3
   },
   "file_extension": ".py",
   "mimetype": "text/x-python",
   "name": "python",
   "nbconvert_exporter": "python",
   "pygments_lexer": "ipython3",
   "version": "3.8.11"
  }
 },
 "nbformat": 4,
 "nbformat_minor": 5
}

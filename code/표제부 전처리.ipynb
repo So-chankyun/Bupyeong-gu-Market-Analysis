{
 "cells": [
  {
   "cell_type": "code",
   "execution_count": 1,
   "id": "988bc333-84b9-467d-a419-7cee982ed4c7",
   "metadata": {},
   "outputs": [],
   "source": [
    "import pandas as pd\n",
    "import missingno as msno\n",
    "import seaborn as sns\n",
    "import matplotlib.pyplot as plt\n",
    "from matplotlib import font_manager, rc\n",
    "import random\n",
    "from datetime import datetime\n",
    "import numpy as np\n",
    "import re\n",
    "import os\n",
    "\n",
    "font_path = r'C:/Users/user/NanumFontSetup_TTF_ALL/NanumGothic.ttf'\n",
    "font_name = font_manager.FontProperties(fname=font_path, size=18).get_name()\n",
    "rc('font',family=font_name)"
   ]
  },
  {
   "cell_type": "markdown",
   "id": "c4e1dd2d-f4cf-4812-889e-f7eb1643385e",
   "metadata": {},
   "source": [
    "# 1. Data Loading"
   ]
  },
  {
   "cell_type": "code",
   "execution_count": 2,
   "id": "b6a47a83-b916-452d-ba3f-f0bfdd580a4d",
   "metadata": {},
   "outputs": [
    {
     "data": {
      "text/plain": [
       "['2. 표제부 정제파일.csv',\n",
       " '3. 표제부 정제파일(위치).csv',\n",
       " '건물노후도',\n",
       " '연면적',\n",
       " '표제부 정제파일(위치 포함,not null).csv',\n",
       " '표제부 정제파일(위치 포함,null).csv',\n",
       " '표제부 정제파일.csv']"
      ]
     },
     "execution_count": 2,
     "metadata": {},
     "output_type": "execute_result"
    }
   ],
   "source": [
    "os.listdir('../data/전처리 파일/표제부')"
   ]
  },
  {
   "cell_type": "code",
   "execution_count": 3,
   "id": "73d2ddad-8127-46bf-8f5a-31fbfd103e8d",
   "metadata": {},
   "outputs": [],
   "source": [
    "build_df = pd.read_csv('../data/전처리 파일/표제부/표제부 정제파일(위치 포함,null).csv')"
   ]
  },
  {
   "cell_type": "code",
   "execution_count": 4,
   "id": "c2dbec2c-2426-41c0-964e-84e4dfdfaab2",
   "metadata": {},
   "outputs": [
    {
     "data": {
      "text/html": [
       "<div>\n",
       "<style scoped>\n",
       "    .dataframe tbody tr th:only-of-type {\n",
       "        vertical-align: middle;\n",
       "    }\n",
       "\n",
       "    .dataframe tbody tr th {\n",
       "        vertical-align: top;\n",
       "    }\n",
       "\n",
       "    .dataframe thead th {\n",
       "        text-align: right;\n",
       "    }\n",
       "</style>\n",
       "<table border=\"1\" class=\"dataframe\">\n",
       "  <thead>\n",
       "    <tr style=\"text-align: right;\">\n",
       "      <th></th>\n",
       "      <th>대지위치</th>\n",
       "      <th>시군구코드</th>\n",
       "      <th>법정동코드</th>\n",
       "      <th>대지구분코드</th>\n",
       "      <th>번</th>\n",
       "      <th>지</th>\n",
       "      <th>관리건축물대장PK</th>\n",
       "      <th>대장구분코드</th>\n",
       "      <th>대장구분코드명</th>\n",
       "      <th>대장종류코드</th>\n",
       "      <th>...</th>\n",
       "      <th>에너지효율등급</th>\n",
       "      <th>에너지절감율</th>\n",
       "      <th>EPI점수</th>\n",
       "      <th>친환경건축물등급</th>\n",
       "      <th>친환경건축물인증점수</th>\n",
       "      <th>지능형건축물등급</th>\n",
       "      <th>지능형건축물인증점수</th>\n",
       "      <th>생성일자</th>\n",
       "      <th>내진설계적용여부</th>\n",
       "      <th>내진능력</th>\n",
       "    </tr>\n",
       "  </thead>\n",
       "  <tbody>\n",
       "    <tr>\n",
       "      <th>0</th>\n",
       "      <td>인천광역시 부평구 부평동 10-1001번지</td>\n",
       "      <td>28237</td>\n",
       "      <td>10100</td>\n",
       "      <td>0</td>\n",
       "      <td>10</td>\n",
       "      <td>1001</td>\n",
       "      <td>28237-12633</td>\n",
       "      <td>2</td>\n",
       "      <td>집합</td>\n",
       "      <td>3</td>\n",
       "      <td>...</td>\n",
       "      <td>NaN</td>\n",
       "      <td>0.0</td>\n",
       "      <td>0</td>\n",
       "      <td>NaN</td>\n",
       "      <td>0</td>\n",
       "      <td>NaN</td>\n",
       "      <td>0</td>\n",
       "      <td>20200427</td>\n",
       "      <td>0.0</td>\n",
       "      <td>NaN</td>\n",
       "    </tr>\n",
       "    <tr>\n",
       "      <th>1</th>\n",
       "      <td>인천광역시 부평구 부평동 10-1002번지</td>\n",
       "      <td>28237</td>\n",
       "      <td>10100</td>\n",
       "      <td>0</td>\n",
       "      <td>10</td>\n",
       "      <td>1002</td>\n",
       "      <td>28237-12952</td>\n",
       "      <td>2</td>\n",
       "      <td>집합</td>\n",
       "      <td>3</td>\n",
       "      <td>...</td>\n",
       "      <td>NaN</td>\n",
       "      <td>0.0</td>\n",
       "      <td>0</td>\n",
       "      <td>NaN</td>\n",
       "      <td>0</td>\n",
       "      <td>NaN</td>\n",
       "      <td>0</td>\n",
       "      <td>20200427</td>\n",
       "      <td>0.0</td>\n",
       "      <td>NaN</td>\n",
       "    </tr>\n",
       "    <tr>\n",
       "      <th>2</th>\n",
       "      <td>인천광역시 부평구 부평동 10-1003번지</td>\n",
       "      <td>28237</td>\n",
       "      <td>10100</td>\n",
       "      <td>0</td>\n",
       "      <td>10</td>\n",
       "      <td>1003</td>\n",
       "      <td>28237-14406</td>\n",
       "      <td>2</td>\n",
       "      <td>집합</td>\n",
       "      <td>3</td>\n",
       "      <td>...</td>\n",
       "      <td>NaN</td>\n",
       "      <td>0.0</td>\n",
       "      <td>0</td>\n",
       "      <td>NaN</td>\n",
       "      <td>0</td>\n",
       "      <td>NaN</td>\n",
       "      <td>0</td>\n",
       "      <td>20200427</td>\n",
       "      <td>0.0</td>\n",
       "      <td>NaN</td>\n",
       "    </tr>\n",
       "    <tr>\n",
       "      <th>3</th>\n",
       "      <td>인천광역시 부평구 부평동 10-1004번지</td>\n",
       "      <td>28237</td>\n",
       "      <td>10100</td>\n",
       "      <td>0</td>\n",
       "      <td>10</td>\n",
       "      <td>1004</td>\n",
       "      <td>28237-10572</td>\n",
       "      <td>1</td>\n",
       "      <td>일반</td>\n",
       "      <td>2</td>\n",
       "      <td>...</td>\n",
       "      <td>NaN</td>\n",
       "      <td>0.0</td>\n",
       "      <td>0</td>\n",
       "      <td>NaN</td>\n",
       "      <td>0</td>\n",
       "      <td>NaN</td>\n",
       "      <td>0</td>\n",
       "      <td>20200427</td>\n",
       "      <td>0.0</td>\n",
       "      <td>NaN</td>\n",
       "    </tr>\n",
       "    <tr>\n",
       "      <th>4</th>\n",
       "      <td>인천광역시 부평구 부평동 10-1007번지</td>\n",
       "      <td>28237</td>\n",
       "      <td>10100</td>\n",
       "      <td>0</td>\n",
       "      <td>10</td>\n",
       "      <td>1007</td>\n",
       "      <td>28237-36680</td>\n",
       "      <td>1</td>\n",
       "      <td>일반</td>\n",
       "      <td>2</td>\n",
       "      <td>...</td>\n",
       "      <td>NaN</td>\n",
       "      <td>0.0</td>\n",
       "      <td>0</td>\n",
       "      <td>NaN</td>\n",
       "      <td>0</td>\n",
       "      <td>NaN</td>\n",
       "      <td>0</td>\n",
       "      <td>20171118</td>\n",
       "      <td>NaN</td>\n",
       "      <td>NaN</td>\n",
       "    </tr>\n",
       "  </tbody>\n",
       "</table>\n",
       "<p>5 rows × 77 columns</p>\n",
       "</div>"
      ],
      "text/plain": [
       "                      대지위치  시군구코드  법정동코드  대지구분코드   번     지    관리건축물대장PK  \\\n",
       "0  인천광역시 부평구 부평동 10-1001번지  28237  10100       0  10  1001  28237-12633   \n",
       "1  인천광역시 부평구 부평동 10-1002번지  28237  10100       0  10  1002  28237-12952   \n",
       "2  인천광역시 부평구 부평동 10-1003번지  28237  10100       0  10  1003  28237-14406   \n",
       "3  인천광역시 부평구 부평동 10-1004번지  28237  10100       0  10  1004  28237-10572   \n",
       "4  인천광역시 부평구 부평동 10-1007번지  28237  10100       0  10  1007  28237-36680   \n",
       "\n",
       "   대장구분코드 대장구분코드명  대장종류코드  ... 에너지효율등급 에너지절감율 EPI점수 친환경건축물등급 친환경건축물인증점수  \\\n",
       "0       2      집합       3  ...     NaN    0.0     0      NaN          0   \n",
       "1       2      집합       3  ...     NaN    0.0     0      NaN          0   \n",
       "2       2      집합       3  ...     NaN    0.0     0      NaN          0   \n",
       "3       1      일반       2  ...     NaN    0.0     0      NaN          0   \n",
       "4       1      일반       2  ...     NaN    0.0     0      NaN          0   \n",
       "\n",
       "  지능형건축물등급  지능형건축물인증점수      생성일자  내진설계적용여부  내진능력  \n",
       "0      NaN           0  20200427       0.0   NaN  \n",
       "1      NaN           0  20200427       0.0   NaN  \n",
       "2      NaN           0  20200427       0.0   NaN  \n",
       "3      NaN           0  20200427       0.0   NaN  \n",
       "4      NaN           0  20171118       NaN   NaN  \n",
       "\n",
       "[5 rows x 77 columns]"
      ]
     },
     "execution_count": 4,
     "metadata": {},
     "output_type": "execute_result"
    }
   ],
   "source": [
    "building_data = pd.read_excel('../data/표제부 조회.xlsx')\n",
    "building_data.head()"
   ]
  },
  {
   "cell_type": "code",
   "execution_count": 5,
   "id": "d6c31e1a-8812-4e11-b359-6799d53f9a68",
   "metadata": {},
   "outputs": [
    {
     "data": {
      "text/html": [
       "<div>\n",
       "<style scoped>\n",
       "    .dataframe tbody tr th:only-of-type {\n",
       "        vertical-align: middle;\n",
       "    }\n",
       "\n",
       "    .dataframe tbody tr th {\n",
       "        vertical-align: top;\n",
       "    }\n",
       "\n",
       "    .dataframe thead th {\n",
       "        text-align: right;\n",
       "    }\n",
       "</style>\n",
       "<table border=\"1\" class=\"dataframe\">\n",
       "  <thead>\n",
       "    <tr style=\"text-align: right;\">\n",
       "      <th></th>\n",
       "      <th>대지위치</th>\n",
       "      <th>용적률(%)</th>\n",
       "      <th>주용도코드명</th>\n",
       "      <th>사용승인일</th>\n",
       "    </tr>\n",
       "  </thead>\n",
       "  <tbody>\n",
       "    <tr>\n",
       "      <th>0</th>\n",
       "      <td>인천광역시 부평구 부평동 10-1001번지</td>\n",
       "      <td>0.00</td>\n",
       "      <td>공동주택</td>\n",
       "      <td>19911227.0</td>\n",
       "    </tr>\n",
       "    <tr>\n",
       "      <th>1</th>\n",
       "      <td>인천광역시 부평구 부평동 10-1002번지</td>\n",
       "      <td>0.00</td>\n",
       "      <td>공동주택</td>\n",
       "      <td>19911227.0</td>\n",
       "    </tr>\n",
       "    <tr>\n",
       "      <th>2</th>\n",
       "      <td>인천광역시 부평구 부평동 10-1003번지</td>\n",
       "      <td>137.26</td>\n",
       "      <td>공동주택</td>\n",
       "      <td>19920929.0</td>\n",
       "    </tr>\n",
       "    <tr>\n",
       "      <th>3</th>\n",
       "      <td>인천광역시 부평구 부평동 10-1004번지</td>\n",
       "      <td>165.96</td>\n",
       "      <td>제1종근린생활시설</td>\n",
       "      <td>19911122.0</td>\n",
       "    </tr>\n",
       "    <tr>\n",
       "      <th>4</th>\n",
       "      <td>인천광역시 부평구 부평동 10-1007번지</td>\n",
       "      <td>157.78</td>\n",
       "      <td>제1종근린생활시설</td>\n",
       "      <td>19911122.0</td>\n",
       "    </tr>\n",
       "    <tr>\n",
       "      <th>...</th>\n",
       "      <td>...</td>\n",
       "      <td>...</td>\n",
       "      <td>...</td>\n",
       "      <td>...</td>\n",
       "    </tr>\n",
       "    <tr>\n",
       "      <th>30900</th>\n",
       "      <td>인천광역시 부평구 구산동 95-1번지</td>\n",
       "      <td>0.00</td>\n",
       "      <td>제1종근린생활시설</td>\n",
       "      <td>20121012.0</td>\n",
       "    </tr>\n",
       "    <tr>\n",
       "      <th>30901</th>\n",
       "      <td>인천광역시 부평구 구산동 산 6-2번지</td>\n",
       "      <td>0.00</td>\n",
       "      <td>교정및군사시설</td>\n",
       "      <td>20200331.0</td>\n",
       "    </tr>\n",
       "    <tr>\n",
       "      <th>30902</th>\n",
       "      <td>인천광역시 부평구 구산동 산 6-2번지</td>\n",
       "      <td>0.00</td>\n",
       "      <td>교정및군사시설</td>\n",
       "      <td>20200331.0</td>\n",
       "    </tr>\n",
       "    <tr>\n",
       "      <th>30903</th>\n",
       "      <td>인천광역시 부평구 구산동 산 6-2번지</td>\n",
       "      <td>9.68</td>\n",
       "      <td>교정및군사시설</td>\n",
       "      <td>20200331.0</td>\n",
       "    </tr>\n",
       "    <tr>\n",
       "      <th>30904</th>\n",
       "      <td>인천광역시 부평구 구산동 산 8-2번지</td>\n",
       "      <td>0.00</td>\n",
       "      <td>단독주택</td>\n",
       "      <td>19790108.0</td>\n",
       "    </tr>\n",
       "  </tbody>\n",
       "</table>\n",
       "<p>30905 rows × 4 columns</p>\n",
       "</div>"
      ],
      "text/plain": [
       "                          대지위치  용적률(%)     주용도코드명       사용승인일\n",
       "0      인천광역시 부평구 부평동 10-1001번지    0.00       공동주택  19911227.0\n",
       "1      인천광역시 부평구 부평동 10-1002번지    0.00       공동주택  19911227.0\n",
       "2      인천광역시 부평구 부평동 10-1003번지  137.26       공동주택  19920929.0\n",
       "3      인천광역시 부평구 부평동 10-1004번지  165.96  제1종근린생활시설  19911122.0\n",
       "4      인천광역시 부평구 부평동 10-1007번지  157.78  제1종근린생활시설  19911122.0\n",
       "...                        ...     ...        ...         ...\n",
       "30900     인천광역시 부평구 구산동 95-1번지    0.00  제1종근린생활시설  20121012.0\n",
       "30901    인천광역시 부평구 구산동 산 6-2번지    0.00    교정및군사시설  20200331.0\n",
       "30902    인천광역시 부평구 구산동 산 6-2번지    0.00    교정및군사시설  20200331.0\n",
       "30903    인천광역시 부평구 구산동 산 6-2번지    9.68    교정및군사시설  20200331.0\n",
       "30904    인천광역시 부평구 구산동 산 8-2번지    0.00       단독주택  19790108.0\n",
       "\n",
       "[30905 rows x 4 columns]"
      ]
     },
     "execution_count": 5,
     "metadata": {},
     "output_type": "execute_result"
    }
   ],
   "source": [
    "building_data[['대지위치','용적률(%)','주용도코드명','사용승인일']]"
   ]
  },
  {
   "cell_type": "markdown",
   "id": "48a2cb1a-b09b-4809-8469-d3b3b705b121",
   "metadata": {
    "tags": []
   },
   "source": [
    "## 1.1 필요데이터\n",
    "- 시군구코드\n",
    "- 법정동코드\n",
    "- 도로명대지위치\n",
    "- 건물명\n",
    "- 연면적(㎡)\n",
    "- 주용도코드\n",
    "- 주용도코드명\n",
    "- 사용승인일 => 건물노후도 측정을 위해서이다."
   ]
  },
  {
   "cell_type": "code",
   "execution_count": 6,
   "id": "fc09cf28-a775-4f4e-8ab6-dc9f20f8f86d",
   "metadata": {},
   "outputs": [
    {
     "data": {
      "text/plain": [
       "Index(['대지위치', '시군구코드', '법정동코드', '대지구분코드', '번', '지', '관리건축물대장PK', '대장구분코드',\n",
       "       '대장구분코드명', '대장종류코드', '대장종류코드명', '도로명대지위치', '건물명', '특수지명', '블록', '로트',\n",
       "       '외필지수', '새주소도로코드', '새주소법정동코드', '새주소지상지하코드', '새주소본번', '새주소부번', '동명칭',\n",
       "       '주부속구분코드', '주부속구분코드명', '대지면적(㎡)', '건축면적(㎡)', '건폐율(%)', '연면적(㎡)',\n",
       "       '용적률산정연면적(㎡)', '용적률(%)', '구조코드', '구조코드명', '기타구조', '주용도코드', '주용도코드명',\n",
       "       '기타용도', '지붕코드', '지붕코드명', '기타지붕', '세대수(세대)', '가구수(가구)', '높이(m)', '지상층수',\n",
       "       '지하층수', '승용승강기수', '비상용승강기수', '부속건축물수', '부속건축물면적(㎡)', '총동연면적(㎡)',\n",
       "       '옥내기계식대수(대)', '옥내기계식면적(㎡)', '옥외기계식대수(대)', '옥외기계식면적(㎡)', '옥내자주식대수(대)',\n",
       "       '옥내자주식면적(㎡)', '옥외자주식대수(대)', '옥외자주식면적(㎡)', '허가일', '착공일', '사용승인일',\n",
       "       '허가번호년', '허가번호기관코드', '허가번호기관코드명', '허가번호구분코드', '허가번호구분코드명', '호수(호)',\n",
       "       '에너지효율등급', '에너지절감율', 'EPI점수', '친환경건축물등급', '친환경건축물인증점수', '지능형건축물등급',\n",
       "       '지능형건축물인증점수', '생성일자', '내진설계적용여부', '내진능력'],\n",
       "      dtype='object')"
      ]
     },
     "execution_count": 6,
     "metadata": {},
     "output_type": "execute_result"
    }
   ],
   "source": [
    "building_data.columns"
   ]
  },
  {
   "cell_type": "code",
   "execution_count": 7,
   "id": "9ae36331-ddc8-4c84-8eb9-b02266357a70",
   "metadata": {},
   "outputs": [
    {
     "data": {
      "text/html": [
       "<div>\n",
       "<style scoped>\n",
       "    .dataframe tbody tr th:only-of-type {\n",
       "        vertical-align: middle;\n",
       "    }\n",
       "\n",
       "    .dataframe tbody tr th {\n",
       "        vertical-align: top;\n",
       "    }\n",
       "\n",
       "    .dataframe thead th {\n",
       "        text-align: right;\n",
       "    }\n",
       "</style>\n",
       "<table border=\"1\" class=\"dataframe\">\n",
       "  <thead>\n",
       "    <tr style=\"text-align: right;\">\n",
       "      <th></th>\n",
       "      <th>대지위치</th>\n",
       "      <th>건물명</th>\n",
       "      <th>연면적(㎡)</th>\n",
       "      <th>주용도코드</th>\n",
       "      <th>주용도코드명</th>\n",
       "      <th>사용승인일</th>\n",
       "    </tr>\n",
       "  </thead>\n",
       "  <tbody>\n",
       "    <tr>\n",
       "      <th>0</th>\n",
       "      <td>인천광역시 부평구 부평동 10-1001번지</td>\n",
       "      <td>대성빌라</td>\n",
       "      <td>657.11</td>\n",
       "      <td>02000</td>\n",
       "      <td>공동주택</td>\n",
       "      <td>19911227.0</td>\n",
       "    </tr>\n",
       "    <tr>\n",
       "      <th>1</th>\n",
       "      <td>인천광역시 부평구 부평동 10-1002번지</td>\n",
       "      <td>대성타운</td>\n",
       "      <td>657.61</td>\n",
       "      <td>02000</td>\n",
       "      <td>공동주택</td>\n",
       "      <td>19911227.0</td>\n",
       "    </tr>\n",
       "    <tr>\n",
       "      <th>2</th>\n",
       "      <td>인천광역시 부평구 부평동 10-1003번지</td>\n",
       "      <td>대성빌라</td>\n",
       "      <td>657.61</td>\n",
       "      <td>02000</td>\n",
       "      <td>공동주택</td>\n",
       "      <td>19920929.0</td>\n",
       "    </tr>\n",
       "    <tr>\n",
       "      <th>3</th>\n",
       "      <td>인천광역시 부평구 부평동 10-1004번지</td>\n",
       "      <td>NaN</td>\n",
       "      <td>488.10</td>\n",
       "      <td>03000</td>\n",
       "      <td>제1종근린생활시설</td>\n",
       "      <td>19911122.0</td>\n",
       "    </tr>\n",
       "    <tr>\n",
       "      <th>4</th>\n",
       "      <td>인천광역시 부평구 부평동 10-1007번지</td>\n",
       "      <td>NaN</td>\n",
       "      <td>386.88</td>\n",
       "      <td>03000</td>\n",
       "      <td>제1종근린생활시설</td>\n",
       "      <td>19911122.0</td>\n",
       "    </tr>\n",
       "  </tbody>\n",
       "</table>\n",
       "</div>"
      ],
      "text/plain": [
       "                      대지위치   건물명  연면적(㎡)  주용도코드     주용도코드명       사용승인일\n",
       "0  인천광역시 부평구 부평동 10-1001번지  대성빌라  657.11  02000       공동주택  19911227.0\n",
       "1  인천광역시 부평구 부평동 10-1002번지  대성타운  657.61  02000       공동주택  19911227.0\n",
       "2  인천광역시 부평구 부평동 10-1003번지  대성빌라  657.61  02000       공동주택  19920929.0\n",
       "3  인천광역시 부평구 부평동 10-1004번지   NaN  488.10  03000  제1종근린생활시설  19911122.0\n",
       "4  인천광역시 부평구 부평동 10-1007번지   NaN  386.88  03000  제1종근린생활시설  19911122.0"
      ]
     },
     "execution_count": 7,
     "metadata": {},
     "output_type": "execute_result"
    }
   ],
   "source": [
    "essential_col = ['대지위치','건물명','연면적(㎡)','주용도코드','주용도코드명','사용승인일']\n",
    "bd_use_data = building_data[essential_col]\n",
    "bd_use_data.head()"
   ]
  },
  {
   "cell_type": "markdown",
   "id": "a60074ee-bc68-41c1-908a-95dcfaf6da76",
   "metadata": {},
   "source": [
    "# 2. Column명 변경\n",
    "* 연면적(㎡) => 연면적"
   ]
  },
  {
   "cell_type": "code",
   "execution_count": 8,
   "id": "8de761d2-7a9f-460d-b8e6-648522fdff04",
   "metadata": {},
   "outputs": [],
   "source": [
    "bd_use_data = bd_use_data.rename(columns={'건축면적(㎡)':'건축면적','대지면적(㎡)':'대지면적','건폐율(%)':'건폐율'\n",
    "                            ,'연면적(㎡)':'연면적'})"
   ]
  },
  {
   "cell_type": "markdown",
   "id": "554d3e30-f603-43c4-a3e3-b79961559448",
   "metadata": {},
   "source": [
    "## 2.1 필요한 Row\n",
    "- 공동주택\n",
    "- 제1종근린생활시설\n",
    "- 제2종근린생활시설\n",
    "- 단독주택\n",
    "- 근린생활시설\n",
    "- 업무시설"
   ]
  },
  {
   "cell_type": "code",
   "execution_count": 9,
   "id": "e6d524a7-3268-430d-85e8-515114e3fd41",
   "metadata": {},
   "outputs": [
    {
     "data": {
      "text/plain": [
       "array(['공동주택', '제1종근린생활시설', '제2종근린생활시설', '단독주택', '노유자시설', '종교시설',\n",
       "       '교육연구시설', '위험물저장및처리시설', '자동차관련시설', '공장', '근린생활시설', '업무시설', '창고시설',\n",
       "       '의료시설', '판매시설', '판매및영업시설', '숙박시설', '위락시설', '교육연구및복지시설', '방송통신시설',\n",
       "       '운수시설', '운동시설', '묘지관련시설', '분뇨.쓰레기처리시설', '동.식물관련시설', '문화및집회시설',\n",
       "       '관광휴게시설', '교정및군사시설', '공공용시설', '수련시설'], dtype=object)"
      ]
     },
     "execution_count": 9,
     "metadata": {},
     "output_type": "execute_result"
    }
   ],
   "source": [
    "bd_use_data['주용도코드명'].unique()"
   ]
  },
  {
   "cell_type": "code",
   "execution_count": 10,
   "id": "b97cd737-6fc5-4416-a58c-a02c43ea9f6d",
   "metadata": {},
   "outputs": [
    {
     "data": {
      "text/html": [
       "<div>\n",
       "<style scoped>\n",
       "    .dataframe tbody tr th:only-of-type {\n",
       "        vertical-align: middle;\n",
       "    }\n",
       "\n",
       "    .dataframe tbody tr th {\n",
       "        vertical-align: top;\n",
       "    }\n",
       "\n",
       "    .dataframe thead th {\n",
       "        text-align: right;\n",
       "    }\n",
       "</style>\n",
       "<table border=\"1\" class=\"dataframe\">\n",
       "  <thead>\n",
       "    <tr style=\"text-align: right;\">\n",
       "      <th></th>\n",
       "      <th>대지위치</th>\n",
       "      <th>건물명</th>\n",
       "      <th>연면적</th>\n",
       "      <th>주용도코드</th>\n",
       "      <th>주용도코드명</th>\n",
       "      <th>사용승인일</th>\n",
       "    </tr>\n",
       "  </thead>\n",
       "  <tbody>\n",
       "    <tr>\n",
       "      <th>0</th>\n",
       "      <td>인천광역시 부평구 부평동 10-1001번지</td>\n",
       "      <td>대성빌라</td>\n",
       "      <td>657.11</td>\n",
       "      <td>02000</td>\n",
       "      <td>공동주택</td>\n",
       "      <td>19911227.0</td>\n",
       "    </tr>\n",
       "    <tr>\n",
       "      <th>1</th>\n",
       "      <td>인천광역시 부평구 부평동 10-1002번지</td>\n",
       "      <td>대성타운</td>\n",
       "      <td>657.61</td>\n",
       "      <td>02000</td>\n",
       "      <td>공동주택</td>\n",
       "      <td>19911227.0</td>\n",
       "    </tr>\n",
       "    <tr>\n",
       "      <th>2</th>\n",
       "      <td>인천광역시 부평구 부평동 10-1003번지</td>\n",
       "      <td>대성빌라</td>\n",
       "      <td>657.61</td>\n",
       "      <td>02000</td>\n",
       "      <td>공동주택</td>\n",
       "      <td>19920929.0</td>\n",
       "    </tr>\n",
       "    <tr>\n",
       "      <th>3</th>\n",
       "      <td>인천광역시 부평구 부평동 10-1004번지</td>\n",
       "      <td>NaN</td>\n",
       "      <td>488.10</td>\n",
       "      <td>03000</td>\n",
       "      <td>제1종근린생활시설</td>\n",
       "      <td>19911122.0</td>\n",
       "    </tr>\n",
       "    <tr>\n",
       "      <th>4</th>\n",
       "      <td>인천광역시 부평구 부평동 10-1007번지</td>\n",
       "      <td>NaN</td>\n",
       "      <td>386.88</td>\n",
       "      <td>03000</td>\n",
       "      <td>제1종근린생활시설</td>\n",
       "      <td>19911122.0</td>\n",
       "    </tr>\n",
       "  </tbody>\n",
       "</table>\n",
       "</div>"
      ],
      "text/plain": [
       "                      대지위치   건물명     연면적  주용도코드     주용도코드명       사용승인일\n",
       "0  인천광역시 부평구 부평동 10-1001번지  대성빌라  657.11  02000       공동주택  19911227.0\n",
       "1  인천광역시 부평구 부평동 10-1002번지  대성타운  657.61  02000       공동주택  19911227.0\n",
       "2  인천광역시 부평구 부평동 10-1003번지  대성빌라  657.61  02000       공동주택  19920929.0\n",
       "3  인천광역시 부평구 부평동 10-1004번지   NaN  488.10  03000  제1종근린생활시설  19911122.0\n",
       "4  인천광역시 부평구 부평동 10-1007번지   NaN  386.88  03000  제1종근린생활시설  19911122.0"
      ]
     },
     "metadata": {},
     "output_type": "display_data"
    },
    {
     "data": {
      "text/plain": [
       "27156"
      ]
     },
     "metadata": {},
     "output_type": "display_data"
    }
   ],
   "source": [
    "# 상업용 건물\n",
    "commertial = ['제1종근린생활시설','제2종근린생활시설','근린생활시설','업무시설','관광휴게시설','의료시설'\n",
    "              ,'판매시설','판매및영업시설'] \n",
    "\n",
    "# 주거용 건물\n",
    "residential = ['공동주택','단독주택'] # 공동주택이 다세대주택이겠지?\n",
    "\n",
    "# 추출해야할 row list 생성\n",
    "extract_row = commertial + residential\n",
    "\n",
    "# 필요 data 추출\n",
    "use_data = bd_use_data[bd_use_data['주용도코드명'].isin(extract_row)]\n",
    "display(use_data.head())\n",
    "display(len(use_data))"
   ]
  },
  {
   "cell_type": "code",
   "execution_count": 11,
   "id": "6144f496-00af-4919-8911-129c428e769d",
   "metadata": {},
   "outputs": [
    {
     "data": {
      "text/plain": [
       "array(['공동주택', '제1종근린생활시설', '제2종근린생활시설', '단독주택', '근린생활시설', '업무시설', '의료시설',\n",
       "       '판매시설', '판매및영업시설', '관광휴게시설'], dtype=object)"
      ]
     },
     "metadata": {},
     "output_type": "display_data"
    },
    {
     "data": {
      "text/plain": [
       "27156"
      ]
     },
     "metadata": {},
     "output_type": "display_data"
    }
   ],
   "source": [
    "display(use_data['주용도코드명'].unique())\n",
    "display(len(use_data))"
   ]
  },
  {
   "cell_type": "code",
   "execution_count": 12,
   "id": "b028a015-febd-4dac-9427-c1e0749986fb",
   "metadata": {},
   "outputs": [
    {
     "data": {
      "text/plain": [
       "min        1945.0\n",
       "max    20210830.0\n",
       "Name: 사용승인일, dtype: float64"
      ]
     },
     "execution_count": 12,
     "metadata": {},
     "output_type": "execute_result"
    }
   ],
   "source": [
    "use_data['사용승인일'].agg(['min','max'])"
   ]
  },
  {
   "cell_type": "code",
   "execution_count": 13,
   "id": "e72ef1e7-bdd4-4dae-b5f2-f2efd2f6f4cb",
   "metadata": {},
   "outputs": [
    {
     "data": {
      "image/png": "[encoded data removed]",
      "text/plain": [
       "<Figure size 2500x1000 with 2 Axes>"
      ]
     },
     "metadata": {},
     "output_type": "display_data"
    }
   ],
   "source": [
    "msno.matrix(use_data)\n",
    "plt.show()"
   ]
  },
  {
   "cell_type": "code",
   "execution_count": 14,
   "id": "1deb3921-47ff-46a0-8766-959dd54dc2af",
   "metadata": {},
   "outputs": [
    {
     "name": "stdout",
     "output_type": "stream",
     "text": [
      "<class 'pandas.core.frame.DataFrame'>\n",
      "Int64Index: 27156 entries, 0 to 30904\n",
      "Data columns (total 6 columns):\n",
      " #   Column  Non-Null Count  Dtype  \n",
      "---  ------  --------------  -----  \n",
      " 0   대지위치    27156 non-null  object \n",
      " 1   건물명     6629 non-null   object \n",
      " 2   연면적     27156 non-null  float64\n",
      " 3   주용도코드   27156 non-null  object \n",
      " 4   주용도코드명  27156 non-null  object \n",
      " 5   사용승인일   23919 non-null  float64\n",
      "dtypes: float64(2), object(4)\n",
      "memory usage: 1.5+ MB\n"
     ]
    }
   ],
   "source": [
    "use_data.info()"
   ]
  },
  {
   "cell_type": "markdown",
   "id": "9b9adfd7-d2bc-442a-8585-7e0b3c062ab4",
   "metadata": {},
   "source": [
    "건물명에 많은 null값이 존재한다. 하지만 건물의 용도, 다양한 지수, 위치 정도면 알면되기 때문에 딱히 신경쓰지 않아도 될것 같다."
   ]
  },
  {
   "cell_type": "code",
   "execution_count": 15,
   "id": "b040a468-47e4-43e7-ba20-1b75cd33db51",
   "metadata": {},
   "outputs": [
    {
     "data": {
      "text/plain": [
       "대지위치          0\n",
       "건물명       20527\n",
       "연면적           0\n",
       "주용도코드         0\n",
       "주용도코드명        0\n",
       "사용승인일      3237\n",
       "dtype: int64"
      ]
     },
     "execution_count": 15,
     "metadata": {},
     "output_type": "execute_result"
    }
   ],
   "source": [
    "use_data.isnull().sum()"
   ]
  },
  {
   "cell_type": "code",
   "execution_count": 16,
   "id": "d233afca-b7be-443a-bad1-d52a1fb757dc",
   "metadata": {},
   "outputs": [
    {
     "data": {
      "text/plain": [
       "981"
      ]
     },
     "execution_count": 16,
     "metadata": {},
     "output_type": "execute_result"
    }
   ],
   "source": [
    "use_data.duplicated(list(use_data)).sum()"
   ]
  },
  {
   "cell_type": "code",
   "execution_count": 17,
   "id": "a7cea55a-6016-4a4f-8a76-a4db817187ea",
   "metadata": {},
   "outputs": [
    {
     "data": {
      "text/plain": [
       "7365"
      ]
     },
     "execution_count": 17,
     "metadata": {},
     "output_type": "execute_result"
    }
   ],
   "source": [
    "use_data.duplicated('대지위치').sum()"
   ]
  },
  {
   "cell_type": "code",
   "execution_count": 18,
   "id": "b75d33d8-540f-48af-bcbe-8fdda9f152e6",
   "metadata": {},
   "outputs": [
    {
     "name": "stderr",
     "output_type": "stream",
     "text": [
      "C:\\Users\\user\\anaconda3\\lib\\site-packages\\pandas\\core\\indexing.py:1773: SettingWithCopyWarning: \n",
      "A value is trying to be set on a copy of a slice from a DataFrame.\n",
      "Try using .loc[row_indexer,col_indexer] = value instead\n",
      "\n",
      "See the caveats in the documentation: https://pandas.pydata.org/pandas-docs/stable/user_guide/indexing.html#returning-a-view-versus-a-copy\n",
      "  self._setitem_single_column(ilocs[0], value, pi)\n"
     ]
    },
    {
     "data": {
      "text/plain": [
       "0    인천광역시 부평구 부평동 10-1001번지\n",
       "1    인천광역시 부평구 부평동 10-1002번지\n",
       "2    인천광역시 부평구 부평동 10-1003번지\n",
       "3    인천광역시 부평구 부평동 10-1004번지\n",
       "4    인천광역시 부평구 부평동 10-1007번지\n",
       "Name: 대지위치, dtype: object"
      ]
     },
     "execution_count": 18,
     "metadata": {},
     "output_type": "execute_result"
    }
   ],
   "source": [
    "use_data.loc[:,'대지위치'] = [add.strip() for add in use_data['대지위치'].values]\n",
    "use_data['대지위치'].head()"
   ]
  },
  {
   "cell_type": "code",
   "execution_count": 19,
   "id": "b03679bf-773c-44be-9432-4f940b0fde00",
   "metadata": {},
   "outputs": [
    {
     "name": "stdout",
     "output_type": "stream",
     "text": [
      "['제1종근린생활시설' '단독주택' '공동주택' '제2종근린생활시설' '판매시설' '판매및영업시설' '업무시설' '근린생활시설'\n",
      " '의료시설' '관광휴게시설']\n"
     ]
    }
   ],
   "source": [
    "# 중복되는 row들의 주용도코드명을 담는다.\n",
    "main_use_code_name= use_data[use_data.duplicated('대지위치')]['주용도코드명'].unique()\n",
    "print(main_use_code_name)"
   ]
  },
  {
   "cell_type": "code",
   "execution_count": 20,
   "id": "79437611-6896-43bf-8626-60c802ace72c",
   "metadata": {},
   "outputs": [
    {
     "name": "stdout",
     "output_type": "stream",
     "text": [
      "제1종근린생활시설 : 511개\n",
      "단독주택 : 4137개\n",
      "공동주택 : 2422개\n",
      "제2종근린생활시설 : 228개\n",
      "판매시설 : 24개\n",
      "판매및영업시설 : 2개\n",
      "업무시설 : 17개\n",
      "근린생활시설 : 8개\n",
      "의료시설 : 14개\n",
      "관광휴게시설 : 2개\n"
     ]
    }
   ],
   "source": [
    "# 중복되는 데이터들의 주용도코드명이 어떤 분포로 있는지 살펴본다.\n",
    "\n",
    "# 도로명대지위치 기준으로 몇개의 row가 중복되는가?\n",
    "condition1 = use_data.duplicated('대지위치')\n",
    "\n",
    "for name in main_use_code_name:\n",
    "    condition2 = (use_data['주용도코드명'] == name)\n",
    "    count = len(use_data[condition1 & condition2])\n",
    "    print(f'{name} : {count}개')"
   ]
  },
  {
   "cell_type": "code",
   "execution_count": 21,
   "id": "3a7e2450-02ec-4771-b58c-4cdb9ce06f42",
   "metadata": {},
   "outputs": [
    {
     "data": {
      "text/html": [
       "<div>\n",
       "<style scoped>\n",
       "    .dataframe tbody tr th:only-of-type {\n",
       "        vertical-align: middle;\n",
       "    }\n",
       "\n",
       "    .dataframe tbody tr th {\n",
       "        vertical-align: top;\n",
       "    }\n",
       "\n",
       "    .dataframe thead th {\n",
       "        text-align: right;\n",
       "    }\n",
       "</style>\n",
       "<table border=\"1\" class=\"dataframe\">\n",
       "  <thead>\n",
       "    <tr style=\"text-align: right;\">\n",
       "      <th></th>\n",
       "      <th>대지위치</th>\n",
       "      <th>건물명</th>\n",
       "      <th>연면적</th>\n",
       "      <th>주용도코드</th>\n",
       "      <th>주용도코드명</th>\n",
       "      <th>사용승인일</th>\n",
       "    </tr>\n",
       "  </thead>\n",
       "  <tbody>\n",
       "    <tr>\n",
       "      <th>29210</th>\n",
       "      <td>인천광역시 부평구 일신동 1-1번지</td>\n",
       "      <td>NaN</td>\n",
       "      <td>493.50</td>\n",
       "      <td>03000</td>\n",
       "      <td>제1종근린생활시설</td>\n",
       "      <td>20060714.0</td>\n",
       "    </tr>\n",
       "    <tr>\n",
       "      <th>29211</th>\n",
       "      <td>인천광역시 부평구 일신동 1-2번지</td>\n",
       "      <td>NaN</td>\n",
       "      <td>791.91</td>\n",
       "      <td>04000</td>\n",
       "      <td>제2종근린생활시설</td>\n",
       "      <td>20060313.0</td>\n",
       "    </tr>\n",
       "    <tr>\n",
       "      <th>29212</th>\n",
       "      <td>인천광역시 부평구 일신동 1-5번지</td>\n",
       "      <td>NaN</td>\n",
       "      <td>32.40</td>\n",
       "      <td>01000</td>\n",
       "      <td>단독주택</td>\n",
       "      <td>NaN</td>\n",
       "    </tr>\n",
       "    <tr>\n",
       "      <th>29213</th>\n",
       "      <td>인천광역시 부평구 일신동 100-4번지</td>\n",
       "      <td>NaN</td>\n",
       "      <td>384.00</td>\n",
       "      <td>04000</td>\n",
       "      <td>제2종근린생활시설</td>\n",
       "      <td>19931023.0</td>\n",
       "    </tr>\n",
       "    <tr>\n",
       "      <th>29214</th>\n",
       "      <td>인천광역시 부평구 일신동 100-5번지</td>\n",
       "      <td>NaN</td>\n",
       "      <td>167.82</td>\n",
       "      <td>01000</td>\n",
       "      <td>단독주택</td>\n",
       "      <td>19931012.0</td>\n",
       "    </tr>\n",
       "    <tr>\n",
       "      <th>...</th>\n",
       "      <td>...</td>\n",
       "      <td>...</td>\n",
       "      <td>...</td>\n",
       "      <td>...</td>\n",
       "      <td>...</td>\n",
       "      <td>...</td>\n",
       "    </tr>\n",
       "    <tr>\n",
       "      <th>30089</th>\n",
       "      <td>인천광역시 부평구 일신동 98-8번지</td>\n",
       "      <td>NaN</td>\n",
       "      <td>212.80</td>\n",
       "      <td>04000</td>\n",
       "      <td>제2종근린생활시설</td>\n",
       "      <td>20030116.0</td>\n",
       "    </tr>\n",
       "    <tr>\n",
       "      <th>30090</th>\n",
       "      <td>인천광역시 부평구 일신동 99-1번지</td>\n",
       "      <td>NaN</td>\n",
       "      <td>42.75</td>\n",
       "      <td>01000</td>\n",
       "      <td>단독주택</td>\n",
       "      <td>19830316.0</td>\n",
       "    </tr>\n",
       "    <tr>\n",
       "      <th>30091</th>\n",
       "      <td>인천광역시 부평구 일신동 99-7번지</td>\n",
       "      <td>NaN</td>\n",
       "      <td>1520.19</td>\n",
       "      <td>04000</td>\n",
       "      <td>제2종근린생활시설</td>\n",
       "      <td>19981231.0</td>\n",
       "    </tr>\n",
       "    <tr>\n",
       "      <th>30092</th>\n",
       "      <td>인천광역시 부평구 일신동 99번지</td>\n",
       "      <td>NaN</td>\n",
       "      <td>43.64</td>\n",
       "      <td>01000</td>\n",
       "      <td>단독주택</td>\n",
       "      <td>19740918.0</td>\n",
       "    </tr>\n",
       "    <tr>\n",
       "      <th>30093</th>\n",
       "      <td>인천광역시 부평구 일신동 산 11번지</td>\n",
       "      <td>NaN</td>\n",
       "      <td>131.76</td>\n",
       "      <td>03000</td>\n",
       "      <td>제1종근린생활시설</td>\n",
       "      <td>19891025.0</td>\n",
       "    </tr>\n",
       "  </tbody>\n",
       "</table>\n",
       "<p>814 rows × 6 columns</p>\n",
       "</div>"
      ],
      "text/plain": [
       "                        대지위치  건물명      연면적  주용도코드     주용도코드명       사용승인일\n",
       "29210    인천광역시 부평구 일신동 1-1번지  NaN   493.50  03000  제1종근린생활시설  20060714.0\n",
       "29211    인천광역시 부평구 일신동 1-2번지  NaN   791.91  04000  제2종근린생활시설  20060313.0\n",
       "29212    인천광역시 부평구 일신동 1-5번지  NaN    32.40  01000       단독주택         NaN\n",
       "29213  인천광역시 부평구 일신동 100-4번지  NaN   384.00  04000  제2종근린생활시설  19931023.0\n",
       "29214  인천광역시 부평구 일신동 100-5번지  NaN   167.82  01000       단독주택  19931012.0\n",
       "...                      ...  ...      ...    ...        ...         ...\n",
       "30089   인천광역시 부평구 일신동 98-8번지  NaN   212.80  04000  제2종근린생활시설  20030116.0\n",
       "30090   인천광역시 부평구 일신동 99-1번지  NaN    42.75  01000       단독주택  19830316.0\n",
       "30091   인천광역시 부평구 일신동 99-7번지  NaN  1520.19  04000  제2종근린생활시설  19981231.0\n",
       "30092     인천광역시 부평구 일신동 99번지  NaN    43.64  01000       단독주택  19740918.0\n",
       "30093   인천광역시 부평구 일신동 산 11번지  NaN   131.76  03000  제1종근린생활시설  19891025.0\n",
       "\n",
       "[814 rows x 6 columns]"
      ]
     },
     "execution_count": 21,
     "metadata": {},
     "output_type": "execute_result"
    }
   ],
   "source": [
    "use_data[use_data['대지위치'].apply(lambda x : '일신동' in x)]"
   ]
  },
  {
   "cell_type": "code",
   "execution_count": 22,
   "id": "0b105682-3acb-40b5-82c9-630eef8d702e",
   "metadata": {},
   "outputs": [],
   "source": [
    "con2 = (use_data['주용도코드명']==main_use_code_name[8])\n",
    "space_add = (use_data['대지위치'] == '')\n",
    "share_house = use_data[condition1 & ~space_add]\n",
    "add_list = share_house['대지위치'].unique()"
   ]
  },
  {
   "cell_type": "code",
   "execution_count": 23,
   "id": "36caa30c-e560-495d-8f84-7924b37ab7d0",
   "metadata": {},
   "outputs": [
    {
     "data": {
      "text/html": [
       "<div>\n",
       "<style scoped>\n",
       "    .dataframe tbody tr th:only-of-type {\n",
       "        vertical-align: middle;\n",
       "    }\n",
       "\n",
       "    .dataframe tbody tr th {\n",
       "        vertical-align: top;\n",
       "    }\n",
       "\n",
       "    .dataframe thead th {\n",
       "        text-align: right;\n",
       "    }\n",
       "</style>\n",
       "<table border=\"1\" class=\"dataframe\">\n",
       "  <thead>\n",
       "    <tr style=\"text-align: right;\">\n",
       "      <th></th>\n",
       "      <th>대지위치</th>\n",
       "      <th>건물명</th>\n",
       "      <th>연면적</th>\n",
       "      <th>주용도코드</th>\n",
       "      <th>주용도코드명</th>\n",
       "      <th>사용승인일</th>\n",
       "    </tr>\n",
       "  </thead>\n",
       "  <tbody>\n",
       "    <tr>\n",
       "      <th>25969</th>\n",
       "      <td>인천광역시 부평구 부개동 120-287번지</td>\n",
       "      <td>NaN</td>\n",
       "      <td>135.14</td>\n",
       "      <td>01000</td>\n",
       "      <td>단독주택</td>\n",
       "      <td>19780206.0</td>\n",
       "    </tr>\n",
       "  </tbody>\n",
       "</table>\n",
       "</div>"
      ],
      "text/plain": [
       "                          대지위치  건물명     연면적  주용도코드 주용도코드명       사용승인일\n",
       "25969  인천광역시 부평구 부개동 120-287번지  NaN  135.14  01000   단독주택  19780206.0"
      ]
     },
     "execution_count": 23,
     "metadata": {},
     "output_type": "execute_result"
    }
   ],
   "source": [
    "idx = random.randint(0,len(share_house)-1)\n",
    "address = share_house.iloc[idx,0]\n",
    "share_house[share_house['대지위치'] == address].sort_values(by='연면적')"
   ]
  },
  {
   "cell_type": "code",
   "execution_count": 24,
   "id": "83361eec-1e02-4cde-9c3f-6a3fd09e8697",
   "metadata": {},
   "outputs": [
    {
     "data": {
      "text/plain": [
       "27156"
      ]
     },
     "execution_count": 24,
     "metadata": {},
     "output_type": "execute_result"
    }
   ],
   "source": [
    "len(use_data)"
   ]
  },
  {
   "cell_type": "markdown",
   "id": "137748d6-cf51-4559-8a3e-5cbcf9de143a",
   "metadata": {
    "tags": []
   },
   "source": [
    "# 3. 사용승인일"
   ]
  },
  {
   "cell_type": "code",
   "execution_count": 52,
   "id": "294cec48-9d7e-41ef-be15-8cb2e68e213a",
   "metadata": {},
   "outputs": [
    {
     "data": {
      "text/html": [
       "<div>\n",
       "<style scoped>\n",
       "    .dataframe tbody tr th:only-of-type {\n",
       "        vertical-align: middle;\n",
       "    }\n",
       "\n",
       "    .dataframe tbody tr th {\n",
       "        vertical-align: top;\n",
       "    }\n",
       "\n",
       "    .dataframe thead th {\n",
       "        text-align: right;\n",
       "    }\n",
       "</style>\n",
       "<table border=\"1\" class=\"dataframe\">\n",
       "  <thead>\n",
       "    <tr style=\"text-align: right;\">\n",
       "      <th></th>\n",
       "      <th>대지위치</th>\n",
       "      <th>건물명</th>\n",
       "      <th>연면적</th>\n",
       "      <th>주용도코드</th>\n",
       "      <th>주용도코드명</th>\n",
       "      <th>사용승인일</th>\n",
       "    </tr>\n",
       "  </thead>\n",
       "  <tbody>\n",
       "    <tr>\n",
       "      <th>0</th>\n",
       "      <td>인천광역시 부평구 부평동 10-1001번지</td>\n",
       "      <td>대성빌라</td>\n",
       "      <td>657.11</td>\n",
       "      <td>02000</td>\n",
       "      <td>공동주택</td>\n",
       "      <td>19911227.0</td>\n",
       "    </tr>\n",
       "    <tr>\n",
       "      <th>1</th>\n",
       "      <td>인천광역시 부평구 부평동 10-1002번지</td>\n",
       "      <td>대성타운</td>\n",
       "      <td>657.61</td>\n",
       "      <td>02000</td>\n",
       "      <td>공동주택</td>\n",
       "      <td>19911227.0</td>\n",
       "    </tr>\n",
       "    <tr>\n",
       "      <th>2</th>\n",
       "      <td>인천광역시 부평구 부평동 10-1003번지</td>\n",
       "      <td>대성빌라</td>\n",
       "      <td>657.61</td>\n",
       "      <td>02000</td>\n",
       "      <td>공동주택</td>\n",
       "      <td>19920929.0</td>\n",
       "    </tr>\n",
       "    <tr>\n",
       "      <th>3</th>\n",
       "      <td>인천광역시 부평구 부평동 10-1004번지</td>\n",
       "      <td>NaN</td>\n",
       "      <td>488.10</td>\n",
       "      <td>03000</td>\n",
       "      <td>제1종근린생활시설</td>\n",
       "      <td>19911122.0</td>\n",
       "    </tr>\n",
       "    <tr>\n",
       "      <th>4</th>\n",
       "      <td>인천광역시 부평구 부평동 10-1007번지</td>\n",
       "      <td>NaN</td>\n",
       "      <td>386.88</td>\n",
       "      <td>03000</td>\n",
       "      <td>제1종근린생활시설</td>\n",
       "      <td>19911122.0</td>\n",
       "    </tr>\n",
       "  </tbody>\n",
       "</table>\n",
       "</div>"
      ],
      "text/plain": [
       "                      대지위치   건물명     연면적  주용도코드     주용도코드명       사용승인일\n",
       "0  인천광역시 부평구 부평동 10-1001번지  대성빌라  657.11  02000       공동주택  19911227.0\n",
       "1  인천광역시 부평구 부평동 10-1002번지  대성타운  657.61  02000       공동주택  19911227.0\n",
       "2  인천광역시 부평구 부평동 10-1003번지  대성빌라  657.61  02000       공동주택  19920929.0\n",
       "3  인천광역시 부평구 부평동 10-1004번지   NaN  488.10  03000  제1종근린생활시설  19911122.0\n",
       "4  인천광역시 부평구 부평동 10-1007번지   NaN  386.88  03000  제1종근린생활시설  19911122.0"
      ]
     },
     "execution_count": 52,
     "metadata": {},
     "output_type": "execute_result"
    }
   ],
   "source": [
    "# 중복 데이터 제거\n",
    "admit_use_date_data = use_data.drop_duplicates(['대지위치','주용도코드명','사용승인일'],keep='first')\n",
    "admit_use_date_data.head()"
   ]
  },
  {
   "cell_type": "code",
   "execution_count": 53,
   "id": "739d67be-74d4-439a-9f71-5cfeae77b10f",
   "metadata": {},
   "outputs": [
    {
     "name": "stdout",
     "output_type": "stream",
     "text": [
      "<class 'pandas.core.frame.DataFrame'>\n",
      "Int64Index: 20886 entries, 0 to 30904\n",
      "Data columns (total 6 columns):\n",
      " #   Column  Non-Null Count  Dtype  \n",
      "---  ------  --------------  -----  \n",
      " 0   대지위치    20886 non-null  object \n",
      " 1   건물명     4679 non-null   object \n",
      " 2   연면적     20886 non-null  float64\n",
      " 3   주용도코드   20886 non-null  object \n",
      " 4   주용도코드명  20886 non-null  object \n",
      " 5   사용승인일   19099 non-null  float64\n",
      "dtypes: float64(2), object(4)\n",
      "memory usage: 1.1+ MB\n"
     ]
    }
   ],
   "source": [
    "admit_use_date_data.info()"
   ]
  },
  {
   "cell_type": "code",
   "execution_count": 54,
   "id": "d548e30a-7987-4454-a2ef-ad5feb75f172",
   "metadata": {},
   "outputs": [
    {
     "data": {
      "text/plain": [
       "대지위치          0\n",
       "건물명       16207\n",
       "연면적           0\n",
       "주용도코드         0\n",
       "주용도코드명        0\n",
       "사용승인일      1787\n",
       "dtype: int64"
      ]
     },
     "execution_count": 54,
     "metadata": {},
     "output_type": "execute_result"
    }
   ],
   "source": [
    "admit_use_date_data.isnull().sum()"
   ]
  },
  {
   "cell_type": "code",
   "execution_count": 28,
   "id": "b9f9a7fe-b6de-4a1c-b8d3-a351d2c1b296",
   "metadata": {},
   "outputs": [
    {
     "data": {
      "text/html": [
       "<div>\n",
       "<style scoped>\n",
       "    .dataframe tbody tr th:only-of-type {\n",
       "        vertical-align: middle;\n",
       "    }\n",
       "\n",
       "    .dataframe tbody tr th {\n",
       "        vertical-align: top;\n",
       "    }\n",
       "\n",
       "    .dataframe thead th {\n",
       "        text-align: right;\n",
       "    }\n",
       "</style>\n",
       "<table border=\"1\" class=\"dataframe\">\n",
       "  <thead>\n",
       "    <tr style=\"text-align: right;\">\n",
       "      <th></th>\n",
       "      <th>대지위치</th>\n",
       "      <th>건물명</th>\n",
       "      <th>연면적</th>\n",
       "      <th>주용도코드</th>\n",
       "      <th>주용도코드명</th>\n",
       "      <th>사용승인일</th>\n",
       "    </tr>\n",
       "  </thead>\n",
       "  <tbody>\n",
       "    <tr>\n",
       "      <th>0</th>\n",
       "      <td>인천광역시 부평구 부평동 10-1001번지</td>\n",
       "      <td>대성빌라</td>\n",
       "      <td>657.11</td>\n",
       "      <td>02000</td>\n",
       "      <td>공동주택</td>\n",
       "      <td>19911227.0</td>\n",
       "    </tr>\n",
       "    <tr>\n",
       "      <th>1</th>\n",
       "      <td>인천광역시 부평구 부평동 10-1002번지</td>\n",
       "      <td>대성타운</td>\n",
       "      <td>657.61</td>\n",
       "      <td>02000</td>\n",
       "      <td>공동주택</td>\n",
       "      <td>19911227.0</td>\n",
       "    </tr>\n",
       "    <tr>\n",
       "      <th>2</th>\n",
       "      <td>인천광역시 부평구 부평동 10-1003번지</td>\n",
       "      <td>대성빌라</td>\n",
       "      <td>657.61</td>\n",
       "      <td>02000</td>\n",
       "      <td>공동주택</td>\n",
       "      <td>19920929.0</td>\n",
       "    </tr>\n",
       "    <tr>\n",
       "      <th>3</th>\n",
       "      <td>인천광역시 부평구 부평동 10-1004번지</td>\n",
       "      <td>NaN</td>\n",
       "      <td>488.10</td>\n",
       "      <td>03000</td>\n",
       "      <td>제1종근린생활시설</td>\n",
       "      <td>19911122.0</td>\n",
       "    </tr>\n",
       "    <tr>\n",
       "      <th>4</th>\n",
       "      <td>인천광역시 부평구 부평동 10-1007번지</td>\n",
       "      <td>NaN</td>\n",
       "      <td>386.88</td>\n",
       "      <td>03000</td>\n",
       "      <td>제1종근린생활시설</td>\n",
       "      <td>19911122.0</td>\n",
       "    </tr>\n",
       "    <tr>\n",
       "      <th>...</th>\n",
       "      <td>...</td>\n",
       "      <td>...</td>\n",
       "      <td>...</td>\n",
       "      <td>...</td>\n",
       "      <td>...</td>\n",
       "      <td>...</td>\n",
       "    </tr>\n",
       "    <tr>\n",
       "      <th>19094</th>\n",
       "      <td>인천광역시 부평구 구산동 9-5번지</td>\n",
       "      <td>NaN</td>\n",
       "      <td>1247.41</td>\n",
       "      <td>01000</td>\n",
       "      <td>단독주택</td>\n",
       "      <td>19800818.0</td>\n",
       "    </tr>\n",
       "    <tr>\n",
       "      <th>19095</th>\n",
       "      <td>인천광역시 부평구 구산동 9-5번지</td>\n",
       "      <td>NaN</td>\n",
       "      <td>35.87</td>\n",
       "      <td>01000</td>\n",
       "      <td>단독주택</td>\n",
       "      <td>19890406.0</td>\n",
       "    </tr>\n",
       "    <tr>\n",
       "      <th>19096</th>\n",
       "      <td>인천광역시 부평구 구산동 93-1번지</td>\n",
       "      <td>보보주유소</td>\n",
       "      <td>84.33</td>\n",
       "      <td>04000</td>\n",
       "      <td>제2종근린생활시설</td>\n",
       "      <td>20060705.0</td>\n",
       "    </tr>\n",
       "    <tr>\n",
       "      <th>19097</th>\n",
       "      <td>인천광역시 부평구 구산동 95-1번지</td>\n",
       "      <td>NaN</td>\n",
       "      <td>951.44</td>\n",
       "      <td>03000</td>\n",
       "      <td>제1종근린생활시설</td>\n",
       "      <td>20121012.0</td>\n",
       "    </tr>\n",
       "    <tr>\n",
       "      <th>19098</th>\n",
       "      <td>인천광역시 부평구 구산동 산 8-2번지</td>\n",
       "      <td>NaN</td>\n",
       "      <td>60.50</td>\n",
       "      <td>01000</td>\n",
       "      <td>단독주택</td>\n",
       "      <td>19790108.0</td>\n",
       "    </tr>\n",
       "  </tbody>\n",
       "</table>\n",
       "<p>19099 rows × 6 columns</p>\n",
       "</div>"
      ],
      "text/plain": [
       "                          대지위치    건물명      연면적  주용도코드     주용도코드명       사용승인일\n",
       "0      인천광역시 부평구 부평동 10-1001번지   대성빌라   657.11  02000       공동주택  19911227.0\n",
       "1      인천광역시 부평구 부평동 10-1002번지   대성타운   657.61  02000       공동주택  19911227.0\n",
       "2      인천광역시 부평구 부평동 10-1003번지   대성빌라   657.61  02000       공동주택  19920929.0\n",
       "3      인천광역시 부평구 부평동 10-1004번지    NaN   488.10  03000  제1종근린생활시설  19911122.0\n",
       "4      인천광역시 부평구 부평동 10-1007번지    NaN   386.88  03000  제1종근린생활시설  19911122.0\n",
       "...                        ...    ...      ...    ...        ...         ...\n",
       "19094      인천광역시 부평구 구산동 9-5번지    NaN  1247.41  01000       단독주택  19800818.0\n",
       "19095      인천광역시 부평구 구산동 9-5번지    NaN    35.87  01000       단독주택  19890406.0\n",
       "19096     인천광역시 부평구 구산동 93-1번지  보보주유소    84.33  04000  제2종근린생활시설  20060705.0\n",
       "19097     인천광역시 부평구 구산동 95-1번지    NaN   951.44  03000  제1종근린생활시설  20121012.0\n",
       "19098    인천광역시 부평구 구산동 산 8-2번지    NaN    60.50  01000       단독주택  19790108.0\n",
       "\n",
       "[19099 rows x 6 columns]"
      ]
     },
     "execution_count": 28,
     "metadata": {},
     "output_type": "execute_result"
    }
   ],
   "source": [
    "admit_use_date_data = admit_use_date_data[admit_use_date_data['사용승인일'].notna()]\n",
    "admit_use_date_data.reset_index(inplace=True,drop=True)\n",
    "admit_use_date_data"
   ]
  },
  {
   "cell_type": "code",
   "execution_count": 29,
   "id": "aef4af36-b30a-43b1-b297-b28a82dd0237",
   "metadata": {},
   "outputs": [],
   "source": [
    "# int형으로 변환\n",
    "admit_use_date_data['사용승인일'] = admit_use_date_data['사용승인일'].astype(int).astype(str)"
   ]
  },
  {
   "cell_type": "code",
   "execution_count": 30,
   "id": "e33259ee-80dc-4dd7-8e61-14ea20042abb",
   "metadata": {},
   "outputs": [],
   "source": [
    "test_data = admit_use_date_data.copy()"
   ]
  },
  {
   "cell_type": "code",
   "execution_count": 31,
   "id": "a6fae31a-ef83-4c36-890c-2e75a7b423ea",
   "metadata": {},
   "outputs": [],
   "source": [
    "def check_admit_use(regx):\n",
    "    # 사용승인일이 해당 digit에 부합하지 않는 row들을 반환한다.\n",
    "    \n",
    "    p = re.compile(regx)\n",
    "    four_to_eight_con = test_data['사용승인일'].apply(lambda x : p.match(str(x)) != None)\n",
    "    result = test_data[four_to_eight_con]\n",
    "    return result"
   ]
  },
  {
   "cell_type": "code",
   "execution_count": 32,
   "id": "193af341-f63a-4cf7-9955-e3de51dc8b1a",
   "metadata": {},
   "outputs": [
    {
     "name": "stdout",
     "output_type": "stream",
     "text": [
      "남은 4 승인일 : 0\n",
      "남은 6 승인일 : 0\n"
     ]
    }
   ],
   "source": [
    "# 8자리가 아닌 데이터 추출해서 8자리로 만들어줌\n",
    "def make_digit_eight(digit):\n",
    "    regx = r'^\\d{'+str(digit)+r'}$'\n",
    "    idx = check_admit_use(regx).index\n",
    "    \n",
    "    for i in idx:\n",
    "        test_data.iloc[i,5] = str(test_data.iloc[i,5])+int((8-digit)/2)*'01'\n",
    "\n",
    "    result = check_admit_use(regx)\n",
    "    print(f'남은 {digit} 승인일 : {len(result)}')\n",
    "\n",
    "for digit in [4,6]: \n",
    "    make_digit_eight(digit)\n",
    "\n",
    "# datetime형으로 변환\n",
    "\n",
    "# admit_use_date_data['사용승인일'] = admit_use_date_data['사용승인일'].apply(lambda x : datetime.strptime(str(x),'%Y%m%d'))\n",
    "\n",
    "    "
   ]
  },
  {
   "cell_type": "code",
   "execution_count": 33,
   "id": "667a7711-0832-4a48-a9fa-ab7da5743ab6",
   "metadata": {},
   "outputs": [
    {
     "data": {
      "text/html": [
       "<div>\n",
       "<style scoped>\n",
       "    .dataframe tbody tr th:only-of-type {\n",
       "        vertical-align: middle;\n",
       "    }\n",
       "\n",
       "    .dataframe tbody tr th {\n",
       "        vertical-align: top;\n",
       "    }\n",
       "\n",
       "    .dataframe thead th {\n",
       "        text-align: right;\n",
       "    }\n",
       "</style>\n",
       "<table border=\"1\" class=\"dataframe\">\n",
       "  <thead>\n",
       "    <tr style=\"text-align: right;\">\n",
       "      <th></th>\n",
       "      <th>대지위치</th>\n",
       "      <th>건물명</th>\n",
       "      <th>연면적</th>\n",
       "      <th>주용도코드</th>\n",
       "      <th>주용도코드명</th>\n",
       "      <th>사용승인일</th>\n",
       "    </tr>\n",
       "  </thead>\n",
       "  <tbody>\n",
       "    <tr>\n",
       "      <th>7647</th>\n",
       "      <td>인천광역시 부평구 십정동 282-1번지</td>\n",
       "      <td>NaN</td>\n",
       "      <td>1024.74</td>\n",
       "      <td>02000</td>\n",
       "      <td>공동주택</td>\n",
       "      <td>1983121</td>\n",
       "    </tr>\n",
       "  </tbody>\n",
       "</table>\n",
       "</div>"
      ],
      "text/plain": [
       "                       대지위치  건물명      연면적  주용도코드 주용도코드명    사용승인일\n",
       "7647  인천광역시 부평구 십정동 282-1번지  NaN  1024.74  02000   공동주택  1983121"
      ]
     },
     "execution_count": 33,
     "metadata": {},
     "output_type": "execute_result"
    }
   ],
   "source": [
    "reg = '^\\d{7}$'\n",
    "check_admit_use(reg)"
   ]
  },
  {
   "cell_type": "code",
   "execution_count": 34,
   "id": "cf8510eb-f087-4642-883b-e52e9502fa3f",
   "metadata": {},
   "outputs": [],
   "source": [
    "reg = '^\\d{7}$'\n",
    "four_to_eight = check_admit_use(reg).index\n",
    "test_data.iloc[four_to_eight[0],5] = '19831201'"
   ]
  },
  {
   "cell_type": "code",
   "execution_count": 35,
   "id": "14e92df8-ef2b-4805-8f5e-674e938b6ea2",
   "metadata": {},
   "outputs": [
    {
     "data": {
      "text/html": [
       "<div>\n",
       "<style scoped>\n",
       "    .dataframe tbody tr th:only-of-type {\n",
       "        vertical-align: middle;\n",
       "    }\n",
       "\n",
       "    .dataframe tbody tr th {\n",
       "        vertical-align: top;\n",
       "    }\n",
       "\n",
       "    .dataframe thead th {\n",
       "        text-align: right;\n",
       "    }\n",
       "</style>\n",
       "<table border=\"1\" class=\"dataframe\">\n",
       "  <thead>\n",
       "    <tr style=\"text-align: right;\">\n",
       "      <th></th>\n",
       "      <th>대지위치</th>\n",
       "      <th>건물명</th>\n",
       "      <th>연면적</th>\n",
       "      <th>주용도코드</th>\n",
       "      <th>주용도코드명</th>\n",
       "      <th>사용승인일</th>\n",
       "    </tr>\n",
       "  </thead>\n",
       "  <tbody>\n",
       "  </tbody>\n",
       "</table>\n",
       "</div>"
      ],
      "text/plain": [
       "Empty DataFrame\n",
       "Columns: [대지위치, 건물명, 연면적, 주용도코드, 주용도코드명, 사용승인일]\n",
       "Index: []"
      ]
     },
     "execution_count": 35,
     "metadata": {},
     "output_type": "execute_result"
    }
   ],
   "source": [
    "reg = '^\\d{8}$'\n",
    "test_data[check_admit_use(reg).index != test_data.index]\n",
    "# 8자리가 아닌 데이터는 없다."
   ]
  },
  {
   "cell_type": "code",
   "execution_count": 36,
   "id": "aecb0738-564d-4568-a48f-a26f5911b06d",
   "metadata": {},
   "outputs": [
    {
     "data": {
      "text/plain": [
       "0"
      ]
     },
     "execution_count": 36,
     "metadata": {},
     "output_type": "execute_result"
    }
   ],
   "source": [
    "reg = '^\\d{6}00$'\n",
    "index = check_admit_use(reg).index\n",
    "\n",
    "for i in index:\n",
    "    date = str(test_data.iloc[i,5])\n",
    "    test_data.iloc[i,5] = date.replace(date,date[:6]+'01')\n",
    "\n",
    "len(check_admit_use(reg))"
   ]
  },
  {
   "cell_type": "code",
   "execution_count": 37,
   "id": "b4f15099-234d-4eff-9874-af157568a131",
   "metadata": {},
   "outputs": [],
   "source": [
    "for idx, data in test_data.iterrows():\n",
    "    try:\n",
    "        test_data.iloc[idx,5] = datetime.strptime(str(test_data.iloc[idx,5]),'%Y%m%d')\n",
    "    except:\n",
    "        continue"
   ]
  },
  {
   "cell_type": "code",
   "execution_count": 38,
   "id": "17583251-cb70-4a1d-8054-2364e5166ce3",
   "metadata": {},
   "outputs": [
    {
     "data": {
      "text/html": [
       "<div>\n",
       "<style scoped>\n",
       "    .dataframe tbody tr th:only-of-type {\n",
       "        vertical-align: middle;\n",
       "    }\n",
       "\n",
       "    .dataframe tbody tr th {\n",
       "        vertical-align: top;\n",
       "    }\n",
       "\n",
       "    .dataframe thead th {\n",
       "        text-align: right;\n",
       "    }\n",
       "</style>\n",
       "<table border=\"1\" class=\"dataframe\">\n",
       "  <thead>\n",
       "    <tr style=\"text-align: right;\">\n",
       "      <th></th>\n",
       "      <th>대지위치</th>\n",
       "      <th>건물명</th>\n",
       "      <th>연면적</th>\n",
       "      <th>주용도코드</th>\n",
       "      <th>주용도코드명</th>\n",
       "      <th>사용승인일</th>\n",
       "    </tr>\n",
       "  </thead>\n",
       "  <tbody>\n",
       "    <tr>\n",
       "      <th>5085</th>\n",
       "      <td>인천광역시 부평구 부평동 70-5번지</td>\n",
       "      <td>부평동아아파트</td>\n",
       "      <td>17768.82</td>\n",
       "      <td>02000</td>\n",
       "      <td>공동주택</td>\n",
       "      <td>19890631</td>\n",
       "    </tr>\n",
       "    <tr>\n",
       "      <th>5239</th>\n",
       "      <td>인천광역시 부평구 부평동 736-7번지</td>\n",
       "      <td>NaN</td>\n",
       "      <td>199.32</td>\n",
       "      <td>01000</td>\n",
       "      <td>단독주택</td>\n",
       "      <td>19993121</td>\n",
       "    </tr>\n",
       "    <tr>\n",
       "      <th>15302</th>\n",
       "      <td>인천광역시 부평구 갈산동 367번지</td>\n",
       "      <td>NaN</td>\n",
       "      <td>1431.74</td>\n",
       "      <td>03000</td>\n",
       "      <td>제1종근린생활시설</td>\n",
       "      <td>19921330</td>\n",
       "    </tr>\n",
       "  </tbody>\n",
       "</table>\n",
       "</div>"
      ],
      "text/plain": [
       "                        대지위치      건물명       연면적  주용도코드     주용도코드명     사용승인일\n",
       "5085    인천광역시 부평구 부평동 70-5번지  부평동아아파트  17768.82  02000       공동주택  19890631\n",
       "5239   인천광역시 부평구 부평동 736-7번지      NaN    199.32  01000       단독주택  19993121\n",
       "15302    인천광역시 부평구 갈산동 367번지      NaN   1431.74  03000  제1종근린생활시설  19921330"
      ]
     },
     "execution_count": 38,
     "metadata": {},
     "output_type": "execute_result"
    }
   ],
   "source": [
    "# 해당 월에 날짜가 없는 경우.\n",
    "test_data[~(test_data['사용승인일'].apply(lambda x : isinstance(x,datetime)))]"
   ]
  },
  {
   "cell_type": "code",
   "execution_count": 39,
   "id": "7a056e04-f325-4ead-9095-3d4ffbb68507",
   "metadata": {},
   "outputs": [
    {
     "data": {
      "text/plain": [
       "0"
      ]
     },
     "execution_count": 39,
     "metadata": {},
     "output_type": "execute_result"
    }
   ],
   "source": [
    "idx = test_data[~(test_data['사용승인일'].apply(lambda x : isinstance(x,datetime)))].index\n",
    "\n",
    "edit_dict = {'19890631':'19890630','19993121':'19990121','19921330':'19921230'}\n",
    "\n",
    "for i in idx:\n",
    "    date = edit_dict[str(test_data.iloc[i,5])] # 새로운 값으로 변경\n",
    "    test_data.iloc[i,5] = datetime.strptime(date,'%Y%m%d')\n",
    "\n",
    "len(test_data[~(test_data['사용승인일'].apply(lambda x : isinstance(x,datetime)))])"
   ]
  },
  {
   "cell_type": "code",
   "execution_count": 40,
   "id": "c8b2c5e0-1357-495e-87b6-233c6b161604",
   "metadata": {},
   "outputs": [
    {
     "name": "stdout",
     "output_type": "stream",
     "text": [
      "<class 'pandas.core.frame.DataFrame'>\n",
      "RangeIndex: 19099 entries, 0 to 19098\n",
      "Data columns (total 6 columns):\n",
      " #   Column  Non-Null Count  Dtype         \n",
      "---  ------  --------------  -----         \n",
      " 0   대지위치    19099 non-null  object        \n",
      " 1   건물명     4641 non-null   object        \n",
      " 2   연면적     19099 non-null  float64       \n",
      " 3   주용도코드   19099 non-null  object        \n",
      " 4   주용도코드명  19099 non-null  object        \n",
      " 5   사용승인일   19099 non-null  datetime64[ns]\n",
      "dtypes: datetime64[ns](1), float64(1), object(4)\n",
      "memory usage: 895.4+ KB\n"
     ]
    }
   ],
   "source": [
    "test_data['사용승인일'] = pd.to_datetime(test_data['사용승인일'])\n",
    "test_data.info()"
   ]
  },
  {
   "cell_type": "code",
   "execution_count": 41,
   "id": "36d9a2fc-b145-4198-a69a-7b3f84b79d2f",
   "metadata": {},
   "outputs": [],
   "source": [
    "# 2020-01-01 이후의 데이터 추출\n",
    "over_2019_index = test_data[test_data['사용승인일'] >= '2020-01-01'].index"
   ]
  },
  {
   "cell_type": "code",
   "execution_count": 42,
   "id": "d9f6dd73-0734-4d1a-a6c9-a0b406ac9169",
   "metadata": {},
   "outputs": [],
   "source": [
    "# 데이터 추출후 제거\n",
    "result = test_data.drop(over_2019_index,axis=0).reset_index(drop=True)"
   ]
  },
  {
   "cell_type": "code",
   "execution_count": 43,
   "id": "35d02fff-bff6-4a22-83ed-b09b2d81e9a4",
   "metadata": {},
   "outputs": [
    {
     "data": {
      "text/html": [
       "<div>\n",
       "<style scoped>\n",
       "    .dataframe tbody tr th:only-of-type {\n",
       "        vertical-align: middle;\n",
       "    }\n",
       "\n",
       "    .dataframe tbody tr th {\n",
       "        vertical-align: top;\n",
       "    }\n",
       "\n",
       "    .dataframe thead th {\n",
       "        text-align: right;\n",
       "    }\n",
       "</style>\n",
       "<table border=\"1\" class=\"dataframe\">\n",
       "  <thead>\n",
       "    <tr style=\"text-align: right;\">\n",
       "      <th></th>\n",
       "      <th>대지위치</th>\n",
       "      <th>건물명</th>\n",
       "      <th>연면적</th>\n",
       "      <th>주용도코드</th>\n",
       "      <th>주용도코드명</th>\n",
       "      <th>사용승인일</th>\n",
       "    </tr>\n",
       "  </thead>\n",
       "  <tbody>\n",
       "    <tr>\n",
       "      <th>0</th>\n",
       "      <td>인천광역시 부평구 부평동 10-1001번지</td>\n",
       "      <td>대성빌라</td>\n",
       "      <td>657.11</td>\n",
       "      <td>02000</td>\n",
       "      <td>공동주택</td>\n",
       "      <td>1991-12-27</td>\n",
       "    </tr>\n",
       "    <tr>\n",
       "      <th>1</th>\n",
       "      <td>인천광역시 부평구 부평동 10-1002번지</td>\n",
       "      <td>대성타운</td>\n",
       "      <td>657.61</td>\n",
       "      <td>02000</td>\n",
       "      <td>공동주택</td>\n",
       "      <td>1991-12-27</td>\n",
       "    </tr>\n",
       "    <tr>\n",
       "      <th>2</th>\n",
       "      <td>인천광역시 부평구 부평동 10-1003번지</td>\n",
       "      <td>대성빌라</td>\n",
       "      <td>657.61</td>\n",
       "      <td>02000</td>\n",
       "      <td>공동주택</td>\n",
       "      <td>1992-09-29</td>\n",
       "    </tr>\n",
       "    <tr>\n",
       "      <th>3</th>\n",
       "      <td>인천광역시 부평구 부평동 10-1004번지</td>\n",
       "      <td>NaN</td>\n",
       "      <td>488.10</td>\n",
       "      <td>03000</td>\n",
       "      <td>제1종근린생활시설</td>\n",
       "      <td>1991-11-22</td>\n",
       "    </tr>\n",
       "    <tr>\n",
       "      <th>4</th>\n",
       "      <td>인천광역시 부평구 부평동 10-1007번지</td>\n",
       "      <td>NaN</td>\n",
       "      <td>386.88</td>\n",
       "      <td>03000</td>\n",
       "      <td>제1종근린생활시설</td>\n",
       "      <td>1991-11-22</td>\n",
       "    </tr>\n",
       "    <tr>\n",
       "      <th>...</th>\n",
       "      <td>...</td>\n",
       "      <td>...</td>\n",
       "      <td>...</td>\n",
       "      <td>...</td>\n",
       "      <td>...</td>\n",
       "      <td>...</td>\n",
       "    </tr>\n",
       "    <tr>\n",
       "      <th>18948</th>\n",
       "      <td>인천광역시 부평구 구산동 9-5번지</td>\n",
       "      <td>NaN</td>\n",
       "      <td>1247.41</td>\n",
       "      <td>01000</td>\n",
       "      <td>단독주택</td>\n",
       "      <td>1980-08-18</td>\n",
       "    </tr>\n",
       "    <tr>\n",
       "      <th>18949</th>\n",
       "      <td>인천광역시 부평구 구산동 9-5번지</td>\n",
       "      <td>NaN</td>\n",
       "      <td>35.87</td>\n",
       "      <td>01000</td>\n",
       "      <td>단독주택</td>\n",
       "      <td>1989-04-06</td>\n",
       "    </tr>\n",
       "    <tr>\n",
       "      <th>18950</th>\n",
       "      <td>인천광역시 부평구 구산동 93-1번지</td>\n",
       "      <td>보보주유소</td>\n",
       "      <td>84.33</td>\n",
       "      <td>04000</td>\n",
       "      <td>제2종근린생활시설</td>\n",
       "      <td>2006-07-05</td>\n",
       "    </tr>\n",
       "    <tr>\n",
       "      <th>18951</th>\n",
       "      <td>인천광역시 부평구 구산동 95-1번지</td>\n",
       "      <td>NaN</td>\n",
       "      <td>951.44</td>\n",
       "      <td>03000</td>\n",
       "      <td>제1종근린생활시설</td>\n",
       "      <td>2012-10-12</td>\n",
       "    </tr>\n",
       "    <tr>\n",
       "      <th>18952</th>\n",
       "      <td>인천광역시 부평구 구산동 산 8-2번지</td>\n",
       "      <td>NaN</td>\n",
       "      <td>60.50</td>\n",
       "      <td>01000</td>\n",
       "      <td>단독주택</td>\n",
       "      <td>1979-01-08</td>\n",
       "    </tr>\n",
       "  </tbody>\n",
       "</table>\n",
       "<p>18953 rows × 6 columns</p>\n",
       "</div>"
      ],
      "text/plain": [
       "                          대지위치    건물명      연면적  주용도코드     주용도코드명      사용승인일\n",
       "0      인천광역시 부평구 부평동 10-1001번지   대성빌라   657.11  02000       공동주택 1991-12-27\n",
       "1      인천광역시 부평구 부평동 10-1002번지   대성타운   657.61  02000       공동주택 1991-12-27\n",
       "2      인천광역시 부평구 부평동 10-1003번지   대성빌라   657.61  02000       공동주택 1992-09-29\n",
       "3      인천광역시 부평구 부평동 10-1004번지    NaN   488.10  03000  제1종근린생활시설 1991-11-22\n",
       "4      인천광역시 부평구 부평동 10-1007번지    NaN   386.88  03000  제1종근린생활시설 1991-11-22\n",
       "...                        ...    ...      ...    ...        ...        ...\n",
       "18948      인천광역시 부평구 구산동 9-5번지    NaN  1247.41  01000       단독주택 1980-08-18\n",
       "18949      인천광역시 부평구 구산동 9-5번지    NaN    35.87  01000       단독주택 1989-04-06\n",
       "18950     인천광역시 부평구 구산동 93-1번지  보보주유소    84.33  04000  제2종근린생활시설 2006-07-05\n",
       "18951     인천광역시 부평구 구산동 95-1번지    NaN   951.44  03000  제1종근린생활시설 2012-10-12\n",
       "18952    인천광역시 부평구 구산동 산 8-2번지    NaN    60.50  01000       단독주택 1979-01-08\n",
       "\n",
       "[18953 rows x 6 columns]"
      ]
     },
     "execution_count": 43,
     "metadata": {},
     "output_type": "execute_result"
    }
   ],
   "source": [
    "result"
   ]
  },
  {
   "cell_type": "code",
   "execution_count": 44,
   "id": "5cb99be5-6565-4f7d-b69d-77e17d9421e7",
   "metadata": {},
   "outputs": [
    {
     "data": {
      "text/html": [
       "<div>\n",
       "<style scoped>\n",
       "    .dataframe tbody tr th:only-of-type {\n",
       "        vertical-align: middle;\n",
       "    }\n",
       "\n",
       "    .dataframe tbody tr th {\n",
       "        vertical-align: top;\n",
       "    }\n",
       "\n",
       "    .dataframe thead th {\n",
       "        text-align: right;\n",
       "    }\n",
       "</style>\n",
       "<table border=\"1\" class=\"dataframe\">\n",
       "  <thead>\n",
       "    <tr style=\"text-align: right;\">\n",
       "      <th></th>\n",
       "      <th>대지위치</th>\n",
       "      <th>건물명</th>\n",
       "      <th>연면적</th>\n",
       "      <th>주용도코드</th>\n",
       "      <th>주용도코드명</th>\n",
       "      <th>사용승인일</th>\n",
       "      <th>건물노후도</th>\n",
       "    </tr>\n",
       "  </thead>\n",
       "  <tbody>\n",
       "    <tr>\n",
       "      <th>0</th>\n",
       "      <td>인천광역시 부평구 부평동 10-1001번지</td>\n",
       "      <td>대성빌라</td>\n",
       "      <td>657.11</td>\n",
       "      <td>02000</td>\n",
       "      <td>공동주택</td>\n",
       "      <td>1991-12-27</td>\n",
       "      <td>330</td>\n",
       "    </tr>\n",
       "    <tr>\n",
       "      <th>1</th>\n",
       "      <td>인천광역시 부평구 부평동 10-1002번지</td>\n",
       "      <td>대성타운</td>\n",
       "      <td>657.61</td>\n",
       "      <td>02000</td>\n",
       "      <td>공동주택</td>\n",
       "      <td>1991-12-27</td>\n",
       "      <td>330</td>\n",
       "    </tr>\n",
       "    <tr>\n",
       "      <th>2</th>\n",
       "      <td>인천광역시 부평구 부평동 10-1003번지</td>\n",
       "      <td>대성빌라</td>\n",
       "      <td>657.61</td>\n",
       "      <td>02000</td>\n",
       "      <td>공동주택</td>\n",
       "      <td>1992-09-29</td>\n",
       "      <td>321</td>\n",
       "    </tr>\n",
       "    <tr>\n",
       "      <th>3</th>\n",
       "      <td>인천광역시 부평구 부평동 10-1004번지</td>\n",
       "      <td>NaN</td>\n",
       "      <td>488.10</td>\n",
       "      <td>03000</td>\n",
       "      <td>제1종근린생활시설</td>\n",
       "      <td>1991-11-22</td>\n",
       "      <td>331</td>\n",
       "    </tr>\n",
       "    <tr>\n",
       "      <th>4</th>\n",
       "      <td>인천광역시 부평구 부평동 10-1007번지</td>\n",
       "      <td>NaN</td>\n",
       "      <td>386.88</td>\n",
       "      <td>03000</td>\n",
       "      <td>제1종근린생활시설</td>\n",
       "      <td>1991-11-22</td>\n",
       "      <td>331</td>\n",
       "    </tr>\n",
       "  </tbody>\n",
       "</table>\n",
       "</div>"
      ],
      "text/plain": [
       "                      대지위치   건물명     연면적  주용도코드     주용도코드명      사용승인일  건물노후도\n",
       "0  인천광역시 부평구 부평동 10-1001번지  대성빌라  657.11  02000       공동주택 1991-12-27    330\n",
       "1  인천광역시 부평구 부평동 10-1002번지  대성타운  657.61  02000       공동주택 1991-12-27    330\n",
       "2  인천광역시 부평구 부평동 10-1003번지  대성빌라  657.61  02000       공동주택 1992-09-29    321\n",
       "3  인천광역시 부평구 부평동 10-1004번지   NaN  488.10  03000  제1종근린생활시설 1991-11-22    331\n",
       "4  인천광역시 부평구 부평동 10-1007번지   NaN  386.88  03000  제1종근린생활시설 1991-11-22    331"
      ]
     },
     "execution_count": 44,
     "metadata": {},
     "output_type": "execute_result"
    }
   ],
   "source": [
    "building_old = []\n",
    "now = datetime.strptime('202001','%Y%m')\n",
    "# temp_date = result['사용승인일'].apply(lambda x : )\n",
    "\n",
    "for idx, row in result.iterrows():\n",
    "    target_date = result.iloc[idx,5]\n",
    "    gap = now-target_date\n",
    "    building_old.append(gap)\n",
    "    \n",
    "result['건물노후도'] = (pd.Series(building_old).dt.days / 31).astype(int)\n",
    "# result['건물노후도'] = result['건물노후도']\n",
    "result.head()"
   ]
  },
  {
   "cell_type": "code",
   "execution_count": 45,
   "id": "79094e4f-9f36-470a-929e-e640be576493",
   "metadata": {},
   "outputs": [
    {
     "data": {
      "text/plain": [
       "0"
      ]
     },
     "execution_count": 45,
     "metadata": {},
     "output_type": "execute_result"
    }
   ],
   "source": [
    "result['건물노후도'].min()"
   ]
  },
  {
   "cell_type": "code",
   "execution_count": 46,
   "id": "bd3cdb7d-9fe0-45f4-9d34-1adcfbbfac2c",
   "metadata": {},
   "outputs": [
    {
     "data": {
      "image/png": "[encoded data removed]",
      "text/plain": [
       "<Figure size 640x480 with 1 Axes>"
      ]
     },
     "metadata": {},
     "output_type": "display_data"
    }
   ],
   "source": [
    "sns.histplot(result,x='건물노후도',kde=True,color='magenta')\n",
    "plt.show()"
   ]
  },
  {
   "cell_type": "code",
   "execution_count": 47,
   "id": "03775103-8fcc-437f-aa5f-f2b3899a9fb3",
   "metadata": {},
   "outputs": [
    {
     "data": {
      "text/plain": [
       "count    18953.000000\n",
       "mean       325.493906\n",
       "std        135.190603\n",
       "min          0.000000\n",
       "25%        219.000000\n",
       "50%        342.000000\n",
       "75%        416.000000\n",
       "max        926.000000\n",
       "Name: 건물노후도, dtype: float64"
      ]
     },
     "execution_count": 47,
     "metadata": {},
     "output_type": "execute_result"
    }
   ],
   "source": [
    "result['건물노후도'].describe()"
   ]
  },
  {
   "cell_type": "code",
   "execution_count": 48,
   "id": "a70451b2-3a4d-4c90-8155-f6a77a6bc865",
   "metadata": {},
   "outputs": [],
   "source": [
    "store_path = '../data/전처리 파일/표제부/건물노후도'\n",
    "result.to_csv(os.path.join(store_path,'주소별 건물노후도.csv'),index=False)"
   ]
  },
  {
   "cell_type": "markdown",
   "id": "689da2fb-9e55-4462-ba9f-21368b9bfac8",
   "metadata": {
    "tags": []
   },
   "source": [
    "# 4. 연면적\n",
    "- 각 건물별로 연면적을 구했으며, 지오코딩을 통해서 변환해야함."
   ]
  },
  {
   "cell_type": "code",
   "execution_count": 49,
   "id": "547f5878-04fa-4ffa-8ad5-bb19995047dd",
   "metadata": {},
   "outputs": [
    {
     "data": {
      "text/plain": [
       "(18634, 3)"
      ]
     },
     "execution_count": 49,
     "metadata": {},
     "output_type": "execute_result"
    }
   ],
   "source": [
    "area = result.groupby(['대지위치','주용도코드명'])['연면적'].sum().to_frame().reset_index()\n",
    "area.shape"
   ]
  },
  {
   "cell_type": "code",
   "execution_count": 50,
   "id": "8492b4b5-64f5-4ccf-b736-ff2ffd7a1c59",
   "metadata": {},
   "outputs": [],
   "source": [
    "store_path = os.path.join('..\\\\data\\\\전처리 파일\\\\표제부\\\\연면적')\n",
    "area.to_csv(os.path.join(store_path,'주소별 연면적.csv'),index=False)\n",
    "\n",
    "use_data.to_csv('..\\\\data\\\\전처리 파일\\\\표제부\\\\표제부 정제파일.csv',index=False)"
   ]
  }
 ],
 "metadata": {
  "kernelspec": {
   "display_name": "Python 3",
   "language": "python",
   "name": "python3"
  },
  "language_info": {
   "codemirror_mode": {
    "name": "ipython",
    "version": 3
   },
   "file_extension": ".py",
   "mimetype": "text/x-python",
   "name": "python",
   "nbconvert_exporter": "python",
   "pygments_lexer": "ipython3",
   "version": "3.8.11"
  }
 },
 "nbformat": 4,
 "nbformat_minor": 5
}

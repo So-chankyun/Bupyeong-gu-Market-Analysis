{
 "cells": [
  {
   "cell_type": "code",
   "execution_count": 1,
   "id": "65a24150-8f81-4ff3-b1e6-4938501ef26a",
   "metadata": {
    "execution": {
     "iopub.execute_input": "2021-12-29T05:02:55.616725Z",
     "iopub.status.busy": "2021-12-29T05:02:55.616725Z",
     "iopub.status.idle": "2021-12-29T05:02:57.978472Z",
     "shell.execute_reply": "2021-12-29T05:02:57.978472Z",
     "shell.execute_reply.started": "2021-12-29T05:02:55.616725Z"
    },
    "tags": []
   },
   "outputs": [],
   "source": [
    "import numpy as np\n",
    "import libpysal as ps\n",
    "from mgwr.gwr import GWR, MGWR\n",
    "from mgwr.sel_bw import Sel_BW\n",
    "import geopandas as gp\n",
    "import matplotlib.pyplot as plt\n",
    "import matplotlib as mpl\n",
    "import pandas as pd\n",
    "import geopandas as gpd\n",
    "from sklearn.model_selection import train_test_split\n",
    "from sklearn.preprocessing import StandardScaler\n",
    "from sklearn.preprocessing import MinMaxScaler\n",
    "from sklearn.preprocessing import RobustScaler\n",
    "from sklearn.metrics import mean_squared_error\n",
    "import matplotlib.font_manager as fm\n",
    "from matplotlib import font_manager, rc\n",
    "import seaborn as sns\n",
    "import warnings\n",
    "from statsmodels.stats.outliers_influence import variance_inflation_factor\n",
    "from sklearn.decomposition import PCA\n",
    "from numpy import dot \n",
    "from numpy.linalg import norm\n",
    "from libpysal.weights.contiguity import Queen\n",
    "import splot\n",
    "from esda.moran import Moran\n",
    "from splot.esda import moran_scatterplot\n",
    "from tqdm.notebook import tqdm\n",
    "from sklearn.model_selection import KFold, StratifiedKFold\n",
    "from scipy import stats\n",
    "from scipy.stats import kurtosis\n",
    "import os\n",
    "import copy\n",
    "import time\n",
    "\n",
    "mpl.rcParams['axes.unicode_minus'] = False\n",
    "warnings.simplefilter('ignore')\n",
    "\n",
    "font_path = r'C:/Users/user/NanumFontSetup_TTF_ALL/NanumGothic.ttf'\n",
    "font_name = font_manager.FontProperties(fname=font_path, size=18).get_name()\n",
    "rc('font',family=font_name)"
   ]
  },
  {
   "cell_type": "markdown",
   "id": "6faff5be-63df-4ced-81dc-37cd9b0b435a",
   "metadata": {},
   "source": [
    "# 1. Data Load"
   ]
  },
  {
   "cell_type": "code",
   "execution_count": 2,
   "id": "5d8ff1b5-0430-414e-9a90-8cea104d11d2",
   "metadata": {
    "execution": {
     "iopub.execute_input": "2021-12-29T05:02:57.980578Z",
     "iopub.status.busy": "2021-12-29T05:02:57.980578Z",
     "iopub.status.idle": "2021-12-29T05:02:57.994217Z",
     "shell.execute_reply": "2021-12-29T05:02:57.994217Z",
     "shell.execute_reply.started": "2021-12-29T05:02:57.980578Z"
    },
    "tags": []
   },
   "outputs": [
    {
     "data": {
      "text/plain": [
       "['fixed_dataset(매출건수).csv',\n",
       " 'fixed_dataset(자동차유지,10퍼센트절사평균).csv',\n",
       " 'fixed_dataset(자동차제거,null유지).csv',\n",
       " 'fixed_dataset(자동차제거,매출log,null유지).csv',\n",
       " 'fixed_dataset(자동차제거,매출log,null유지,절사평균).csv',\n",
       " 'fixed_dataset(자동차제거,매출raw,null유지).csv',\n",
       " 'fixed_dataset(자동차제거,매출raw,null유지,1126).csv',\n",
       " 'fixed_dataset(자동차제거,매출raw,null유지,1201).csv',\n",
       " 'fixed_dataset(자동차제거,매출raw,null유지,원래연면적,1201).csv',\n",
       " 'fixed_dataset(자동차제거,매출raw,null유지,원래연면적,버퍼점포밀도,1202).csv',\n",
       " 'fixed_dataset.csv',\n",
       " 'fixed_dataset_1105.csv',\n",
       " 'fixed_dataset_1214.csv']"
      ]
     },
     "execution_count": 2,
     "metadata": {},
     "output_type": "execute_result"
    }
   ],
   "source": [
    "data_path = '../data/Dataset' \n",
    "os.listdir(data_path)"
   ]
  },
  {
   "cell_type": "code",
   "execution_count": 3,
   "id": "014dba82-eace-4977-9bbe-a48386e4330d",
   "metadata": {
    "execution": {
     "iopub.execute_input": "2021-12-29T05:02:57.996525Z",
     "iopub.status.busy": "2021-12-29T05:02:57.995528Z",
     "iopub.status.idle": "2021-12-29T05:02:58.025712Z",
     "shell.execute_reply": "2021-12-29T05:02:58.025215Z",
     "shell.execute_reply.started": "2021-12-29T05:02:57.996525Z"
    },
    "tags": []
   },
   "outputs": [
    {
     "data": {
      "text/html": [
       "<div>\n",
       "<style scoped>\n",
       "    .dataframe tbody tr th:only-of-type {\n",
       "        vertical-align: middle;\n",
       "    }\n",
       "\n",
       "    .dataframe tbody tr th {\n",
       "        vertical-align: top;\n",
       "    }\n",
       "\n",
       "    .dataframe thead th {\n",
       "        text-align: right;\n",
       "    }\n",
       "</style>\n",
       "<table border=\"1\" class=\"dataframe\">\n",
       "  <thead>\n",
       "    <tr style=\"text-align: right;\">\n",
       "      <th></th>\n",
       "      <th>BAS_ID</th>\n",
       "      <th>BAS_AR</th>\n",
       "      <th>도로길이고려_전체통합도</th>\n",
       "      <th>도로길이고려_국부통합도_R3</th>\n",
       "      <th>기초구역평균_전체통합도</th>\n",
       "      <th>기초구역평균_국부통합도_R3</th>\n",
       "      <th>도로율</th>\n",
       "      <th>평균 도로 길이</th>\n",
       "      <th>아파트시세변화_차분평균</th>\n",
       "      <th>평균영업기간</th>\n",
       "      <th>...</th>\n",
       "      <th>서비스업종다양성</th>\n",
       "      <th>소매업종다양성</th>\n",
       "      <th>상가밀도</th>\n",
       "      <th>주중 / 주말</th>\n",
       "      <th>06 to 18 / 18 to 06</th>\n",
       "      <th>개별공시지가 변화 차분평균</th>\n",
       "      <th>(주거인구+직장인구) / 유동인구</th>\n",
       "      <th>주거인구/직장인구</th>\n",
       "      <th>10_30 / 40_60</th>\n",
       "      <th>점포밀도</th>\n",
       "    </tr>\n",
       "  </thead>\n",
       "  <tbody>\n",
       "    <tr>\n",
       "      <th>0</th>\n",
       "      <td>21300</td>\n",
       "      <td>0.743330</td>\n",
       "      <td>617.130076</td>\n",
       "      <td>7987.604945</td>\n",
       "      <td>0.060037</td>\n",
       "      <td>0.907932</td>\n",
       "      <td>7.332336</td>\n",
       "      <td>119.253463</td>\n",
       "      <td>0.000</td>\n",
       "      <td>163.106482</td>\n",
       "      <td>...</td>\n",
       "      <td>1.609438</td>\n",
       "      <td>2.390980</td>\n",
       "      <td>86.099041</td>\n",
       "      <td>2.342449</td>\n",
       "      <td>2.695669</td>\n",
       "      <td>31337.73585</td>\n",
       "      <td>0.268398</td>\n",
       "      <td>0.149563</td>\n",
       "      <td>0.406896</td>\n",
       "      <td>7.046875</td>\n",
       "    </tr>\n",
       "    <tr>\n",
       "      <th>1</th>\n",
       "      <td>21301</td>\n",
       "      <td>0.121045</td>\n",
       "      <td>221.397046</td>\n",
       "      <td>2876.534944</td>\n",
       "      <td>0.069661</td>\n",
       "      <td>0.938454</td>\n",
       "      <td>30.948119</td>\n",
       "      <td>211.340833</td>\n",
       "      <td>305.909</td>\n",
       "      <td>156.249615</td>\n",
       "      <td>...</td>\n",
       "      <td>1.127535</td>\n",
       "      <td>1.985080</td>\n",
       "      <td>346.978396</td>\n",
       "      <td>2.315147</td>\n",
       "      <td>2.280277</td>\n",
       "      <td>344640.00000</td>\n",
       "      <td>0.254881</td>\n",
       "      <td>0.667946</td>\n",
       "      <td>0.439757</td>\n",
       "      <td>11.523810</td>\n",
       "    </tr>\n",
       "    <tr>\n",
       "      <th>2</th>\n",
       "      <td>21302</td>\n",
       "      <td>0.175777</td>\n",
       "      <td>341.252878</td>\n",
       "      <td>4162.583064</td>\n",
       "      <td>0.087372</td>\n",
       "      <td>1.084619</td>\n",
       "      <td>25.546905</td>\n",
       "      <td>214.144187</td>\n",
       "      <td>0.000</td>\n",
       "      <td>111.950730</td>\n",
       "      <td>...</td>\n",
       "      <td>2.029155</td>\n",
       "      <td>1.314799</td>\n",
       "      <td>876.110071</td>\n",
       "      <td>2.064957</td>\n",
       "      <td>2.339853</td>\n",
       "      <td>174949.46240</td>\n",
       "      <td>0.220317</td>\n",
       "      <td>0.899425</td>\n",
       "      <td>0.508371</td>\n",
       "      <td>143.584416</td>\n",
       "    </tr>\n",
       "    <tr>\n",
       "      <th>3</th>\n",
       "      <td>21303</td>\n",
       "      <td>0.270679</td>\n",
       "      <td>475.038010</td>\n",
       "      <td>6080.093135</td>\n",
       "      <td>0.084712</td>\n",
       "      <td>1.079401</td>\n",
       "      <td>15.517121</td>\n",
       "      <td>105.011320</td>\n",
       "      <td>912.500</td>\n",
       "      <td>153.728003</td>\n",
       "      <td>...</td>\n",
       "      <td>2.364045</td>\n",
       "      <td>2.064017</td>\n",
       "      <td>232.748015</td>\n",
       "      <td>2.273528</td>\n",
       "      <td>2.246297</td>\n",
       "      <td>97041.79104</td>\n",
       "      <td>0.108296</td>\n",
       "      <td>6.308614</td>\n",
       "      <td>0.441902</td>\n",
       "      <td>36.111111</td>\n",
       "    </tr>\n",
       "    <tr>\n",
       "      <th>4</th>\n",
       "      <td>21304</td>\n",
       "      <td>0.073319</td>\n",
       "      <td>273.241567</td>\n",
       "      <td>3575.514233</td>\n",
       "      <td>0.092931</td>\n",
       "      <td>1.107098</td>\n",
       "      <td>32.713927</td>\n",
       "      <td>134.361765</td>\n",
       "      <td>369.231</td>\n",
       "      <td>177.329451</td>\n",
       "      <td>...</td>\n",
       "      <td>2.289920</td>\n",
       "      <td>2.379112</td>\n",
       "      <td>2495.942389</td>\n",
       "      <td>2.016228</td>\n",
       "      <td>2.004099</td>\n",
       "      <td>166589.33650</td>\n",
       "      <td>0.212989</td>\n",
       "      <td>1.959390</td>\n",
       "      <td>0.479893</td>\n",
       "      <td>113.836066</td>\n",
       "    </tr>\n",
       "  </tbody>\n",
       "</table>\n",
       "<p>5 rows × 35 columns</p>\n",
       "</div>"
      ],
      "text/plain": [
       "   BAS_ID    BAS_AR  도로길이고려_전체통합도  도로길이고려_국부통합도_R3  기초구역평균_전체통합도  \\\n",
       "0   21300  0.743330    617.130076      7987.604945      0.060037   \n",
       "1   21301  0.121045    221.397046      2876.534944      0.069661   \n",
       "2   21302  0.175777    341.252878      4162.583064      0.087372   \n",
       "3   21303  0.270679    475.038010      6080.093135      0.084712   \n",
       "4   21304  0.073319    273.241567      3575.514233      0.092931   \n",
       "\n",
       "   기초구역평균_국부통합도_R3        도로율    평균 도로 길이  아파트시세변화_차분평균      평균영업기간  ...  \\\n",
       "0         0.907932   7.332336  119.253463         0.000  163.106482  ...   \n",
       "1         0.938454  30.948119  211.340833       305.909  156.249615  ...   \n",
       "2         1.084619  25.546905  214.144187         0.000  111.950730  ...   \n",
       "3         1.079401  15.517121  105.011320       912.500  153.728003  ...   \n",
       "4         1.107098  32.713927  134.361765       369.231  177.329451  ...   \n",
       "\n",
       "   서비스업종다양성   소매업종다양성         상가밀도   주중 / 주말  06 to 18 / 18 to 06  \\\n",
       "0  1.609438  2.390980    86.099041  2.342449             2.695669   \n",
       "1  1.127535  1.985080   346.978396  2.315147             2.280277   \n",
       "2  2.029155  1.314799   876.110071  2.064957             2.339853   \n",
       "3  2.364045  2.064017   232.748015  2.273528             2.246297   \n",
       "4  2.289920  2.379112  2495.942389  2.016228             2.004099   \n",
       "\n",
       "   개별공시지가 변화 차분평균  (주거인구+직장인구) / 유동인구  주거인구/직장인구  10_30 / 40_60        점포밀도  \n",
       "0     31337.73585            0.268398   0.149563       0.406896    7.046875  \n",
       "1    344640.00000            0.254881   0.667946       0.439757   11.523810  \n",
       "2    174949.46240            0.220317   0.899425       0.508371  143.584416  \n",
       "3     97041.79104            0.108296   6.308614       0.441902   36.111111  \n",
       "4    166589.33650            0.212989   1.959390       0.479893  113.836066  \n",
       "\n",
       "[5 rows x 35 columns]"
      ]
     },
     "execution_count": 3,
     "metadata": {},
     "output_type": "execute_result"
    }
   ],
   "source": [
    "# 1. 매출 log, null 유지\n",
    "data = pd.read_csv(os.path.join(data_path,'fixed_dataset_1214.csv'),encoding='euc-kr')\n",
    "\n",
    "# 2. 자동차제거,매출log,null유지,절사평균\n",
    "# data = pd.read_csv(os.path.join(data_path,'fixed_dataset(자동차제거,매출log,null유지,절사평균).csv'),encoding='euc-kr')\n",
    "data.head()"
   ]
  },
  {
   "cell_type": "code",
   "execution_count": 4,
   "id": "33eb1fe6-e931-40c9-bb22-85d028d8ad2b",
   "metadata": {
    "execution": {
     "iopub.execute_input": "2021-12-29T05:02:58.026717Z",
     "iopub.status.busy": "2021-12-29T05:02:58.026717Z",
     "iopub.status.idle": "2021-12-29T05:02:58.041431Z",
     "shell.execute_reply": "2021-12-29T05:02:58.040933Z",
     "shell.execute_reply.started": "2021-12-29T05:02:58.026717Z"
    },
    "tags": []
   },
   "outputs": [
    {
     "name": "stdout",
     "output_type": "stream",
     "text": [
      "<class 'pandas.core.frame.DataFrame'>\n",
      "RangeIndex: 161 entries, 0 to 160\n",
      "Data columns (total 35 columns):\n",
      " #   Column               Non-Null Count  Dtype  \n",
      "---  ------               --------------  -----  \n",
      " 0   BAS_ID               161 non-null    int64  \n",
      " 1   BAS_AR               161 non-null    float64\n",
      " 2   도로길이고려_전체통합도         161 non-null    float64\n",
      " 3   도로길이고려_국부통합도_R3      161 non-null    float64\n",
      " 4   기초구역평균_전체통합도         161 non-null    float64\n",
      " 5   기초구역평균_국부통합도_R3      161 non-null    float64\n",
      " 6   도로율                  161 non-null    float64\n",
      " 7   평균 도로 길이             161 non-null    float64\n",
      " 8   아파트시세변화_차분평균         161 non-null    float64\n",
      " 9   평균영업기간               158 non-null    float64\n",
      " 10  평균폐업기간               151 non-null    float64\n",
      " 11  평균최근접역거리             160 non-null    float64\n",
      " 12  평균최근접정류장거리           160 non-null    float64\n",
      " 13  건물노후도                161 non-null    float64\n",
      " 14  공동주택 비율              161 non-null    float64\n",
      " 15  근린생활시설 비율            161 non-null    float64\n",
      " 16  단독주택 비율              161 non-null    float64\n",
      " 17  아파트 가구수              161 non-null    int64  \n",
      " 18  외식업매출월평균변화량          157 non-null    float64\n",
      " 19  서비스업매출월평균변화량         158 non-null    float64\n",
      " 20  소매업매출월평균변화량          156 non-null    float64\n",
      " 21  외식업매출비율              153 non-null    float64\n",
      " 22  서비스업매출비율             156 non-null    float64\n",
      " 23  소매업매출비율              156 non-null    float64\n",
      " 24  외식업종다양성              160 non-null    float64\n",
      " 25  서비스업종다양성             160 non-null    float64\n",
      " 26  소매업종다양성              160 non-null    float64\n",
      " 27  상가밀도                 160 non-null    float64\n",
      " 28  주중 / 주말              161 non-null    float64\n",
      " 29  06 to 18 / 18 to 06  161 non-null    float64\n",
      " 30  개별공시지가 변화 차분평균       161 non-null    float64\n",
      " 31  (주거인구+직장인구) / 유동인구   161 non-null    float64\n",
      " 32  주거인구/직장인구            161 non-null    float64\n",
      " 33  10_30 / 40_60        161 non-null    float64\n",
      " 34  점포밀도                 160 non-null    float64\n",
      "dtypes: float64(33), int64(2)\n",
      "memory usage: 44.1 KB\n"
     ]
    }
   ],
   "source": [
    "data.info()"
   ]
  },
  {
   "cell_type": "markdown",
   "id": "705a8325-b3e3-41f9-ba14-787454f2780d",
   "metadata": {},
   "source": [
    "## 1.1 결측치 확인"
   ]
  },
  {
   "cell_type": "code",
   "execution_count": 5,
   "id": "5877e252-cdac-4253-87ca-1f5820f58619",
   "metadata": {
    "execution": {
     "iopub.execute_input": "2021-12-29T05:02:58.042533Z",
     "iopub.status.busy": "2021-12-29T05:02:58.042533Z",
     "iopub.status.idle": "2021-12-29T05:02:58.076599Z",
     "shell.execute_reply": "2021-12-29T05:02:58.072319Z",
     "shell.execute_reply.started": "2021-12-29T05:02:58.042533Z"
    },
    "tags": []
   },
   "outputs": [
    {
     "data": {
      "text/plain": [
       "BAS_ID                  0\n",
       "BAS_AR                  0\n",
       "도로길이고려_전체통합도            0\n",
       "도로길이고려_국부통합도_R3         0\n",
       "기초구역평균_전체통합도            0\n",
       "기초구역평균_국부통합도_R3         0\n",
       "도로율                     0\n",
       "평균 도로 길이                0\n",
       "아파트시세변화_차분평균            0\n",
       "평균영업기간                  3\n",
       "평균폐업기간                 10\n",
       "평균최근접역거리                1\n",
       "평균최근접정류장거리              1\n",
       "건물노후도                   0\n",
       "공동주택 비율                 0\n",
       "근린생활시설 비율               0\n",
       "단독주택 비율                 0\n",
       "아파트 가구수                 0\n",
       "외식업매출월평균변화량             4\n",
       "서비스업매출월평균변화량            3\n",
       "소매업매출월평균변화량             5\n",
       "외식업매출비율                 8\n",
       "서비스업매출비율                5\n",
       "소매업매출비율                 5\n",
       "외식업종다양성                 1\n",
       "서비스업종다양성                1\n",
       "소매업종다양성                 1\n",
       "상가밀도                    1\n",
       "주중 / 주말                 0\n",
       "06 to 18 / 18 to 06     0\n",
       "개별공시지가 변화 차분평균          0\n",
       "(주거인구+직장인구) / 유동인구      0\n",
       "주거인구/직장인구               0\n",
       "10_30 / 40_60           0\n",
       "점포밀도                    1\n",
       "dtype: int64"
      ]
     },
     "execution_count": 5,
     "metadata": {},
     "output_type": "execute_result"
    }
   ],
   "source": [
    "data.isnull().sum()"
   ]
  },
  {
   "cell_type": "markdown",
   "id": "39e277b6-b0bd-4636-8c6d-b0f002b8e625",
   "metadata": {
    "tags": []
   },
   "source": [
    "### 1.1.1 평균운영기간, 평균폐업기간\n",
    "- 영업기간, 폐업기간 둘 다 없을 경우 제거\n",
    "- 영업기간은 있지만 폐업기간이 없을 경우 영업기간으로 대체\n",
    "- 점포밀도가 무한대인 row 제거"
   ]
  },
  {
   "cell_type": "code",
   "execution_count": 6,
   "id": "9bbc9641-c876-42ba-a213-4797b6be1cff",
   "metadata": {
    "execution": {
     "iopub.execute_input": "2021-12-29T05:02:58.077596Z",
     "iopub.status.busy": "2021-12-29T05:02:58.077596Z",
     "iopub.status.idle": "2021-12-29T05:02:58.103690Z",
     "shell.execute_reply": "2021-12-29T05:02:58.103512Z",
     "shell.execute_reply.started": "2021-12-29T05:02:58.077596Z"
    },
    "tags": []
   },
   "outputs": [
    {
     "data": {
      "text/html": [
       "<div>\n",
       "<style scoped>\n",
       "    .dataframe tbody tr th:only-of-type {\n",
       "        vertical-align: middle;\n",
       "    }\n",
       "\n",
       "    .dataframe tbody tr th {\n",
       "        vertical-align: top;\n",
       "    }\n",
       "\n",
       "    .dataframe thead th {\n",
       "        text-align: right;\n",
       "    }\n",
       "</style>\n",
       "<table border=\"1\" class=\"dataframe\">\n",
       "  <thead>\n",
       "    <tr style=\"text-align: right;\">\n",
       "      <th></th>\n",
       "      <th>BAS_ID</th>\n",
       "      <th>평균영업기간</th>\n",
       "      <th>평균폐업기간</th>\n",
       "      <th>점포밀도</th>\n",
       "    </tr>\n",
       "  </thead>\n",
       "  <tbody>\n",
       "    <tr>\n",
       "      <th>22</th>\n",
       "      <td>21322</td>\n",
       "      <td>201.466149</td>\n",
       "      <td>NaN</td>\n",
       "      <td>2.666667</td>\n",
       "    </tr>\n",
       "    <tr>\n",
       "      <th>27</th>\n",
       "      <td>21327</td>\n",
       "      <td>89.858108</td>\n",
       "      <td>NaN</td>\n",
       "      <td>12.000000</td>\n",
       "    </tr>\n",
       "    <tr>\n",
       "      <th>39</th>\n",
       "      <td>21339</td>\n",
       "      <td>82.104355</td>\n",
       "      <td>NaN</td>\n",
       "      <td>0.000000</td>\n",
       "    </tr>\n",
       "    <tr>\n",
       "      <th>72</th>\n",
       "      <td>21372</td>\n",
       "      <td>NaN</td>\n",
       "      <td>NaN</td>\n",
       "      <td>28.500000</td>\n",
       "    </tr>\n",
       "    <tr>\n",
       "      <th>73</th>\n",
       "      <td>21373</td>\n",
       "      <td>252.747147</td>\n",
       "      <td>NaN</td>\n",
       "      <td>26.633333</td>\n",
       "    </tr>\n",
       "    <tr>\n",
       "      <th>75</th>\n",
       "      <td>21375</td>\n",
       "      <td>NaN</td>\n",
       "      <td>NaN</td>\n",
       "      <td>2.000000</td>\n",
       "    </tr>\n",
       "    <tr>\n",
       "      <th>81</th>\n",
       "      <td>21381</td>\n",
       "      <td>183.029083</td>\n",
       "      <td>NaN</td>\n",
       "      <td>16.920000</td>\n",
       "    </tr>\n",
       "    <tr>\n",
       "      <th>86</th>\n",
       "      <td>21386</td>\n",
       "      <td>132.306618</td>\n",
       "      <td>NaN</td>\n",
       "      <td>10.750000</td>\n",
       "    </tr>\n",
       "    <tr>\n",
       "      <th>159</th>\n",
       "      <td>21459</td>\n",
       "      <td>165.177930</td>\n",
       "      <td>NaN</td>\n",
       "      <td>2.666667</td>\n",
       "    </tr>\n",
       "    <tr>\n",
       "      <th>160</th>\n",
       "      <td>21460</td>\n",
       "      <td>NaN</td>\n",
       "      <td>NaN</td>\n",
       "      <td>NaN</td>\n",
       "    </tr>\n",
       "  </tbody>\n",
       "</table>\n",
       "</div>"
      ],
      "text/plain": [
       "     BAS_ID      평균영업기간  평균폐업기간       점포밀도\n",
       "22    21322  201.466149     NaN   2.666667\n",
       "27    21327   89.858108     NaN  12.000000\n",
       "39    21339   82.104355     NaN   0.000000\n",
       "72    21372         NaN     NaN  28.500000\n",
       "73    21373  252.747147     NaN  26.633333\n",
       "75    21375         NaN     NaN   2.000000\n",
       "81    21381  183.029083     NaN  16.920000\n",
       "86    21386  132.306618     NaN  10.750000\n",
       "159   21459  165.177930     NaN   2.666667\n",
       "160   21460         NaN     NaN        NaN"
      ]
     },
     "execution_count": 6,
     "metadata": {},
     "output_type": "execute_result"
    }
   ],
   "source": [
    "data[data['평균폐업기간'].isnull()][['BAS_ID','평균영업기간','평균폐업기간','점포밀도']]"
   ]
  },
  {
   "cell_type": "code",
   "execution_count": 7,
   "id": "d2d368ec-739d-4e1a-861f-46a80a436830",
   "metadata": {
    "execution": {
     "iopub.execute_input": "2021-12-29T05:02:58.105733Z",
     "iopub.status.busy": "2021-12-29T05:02:58.104728Z",
     "iopub.status.idle": "2021-12-29T05:02:58.118862Z",
     "shell.execute_reply": "2021-12-29T05:02:58.118366Z",
     "shell.execute_reply.started": "2021-12-29T05:02:58.105733Z"
    },
    "tags": []
   },
   "outputs": [],
   "source": [
    "# 제거할 row 정의 및 제거\n",
    "\n",
    "drop_index = list(data[data['평균영업기간'].isnull()].index)\n",
    "\n",
    "clean_data = data.drop(drop_index,axis=0).reset_index(drop=True)"
   ]
  },
  {
   "cell_type": "code",
   "execution_count": 8,
   "id": "49402a30-9e27-49b8-a7f7-7b58a206cdbf",
   "metadata": {
    "execution": {
     "iopub.execute_input": "2021-12-29T05:02:58.119871Z",
     "iopub.status.busy": "2021-12-29T05:02:58.119871Z",
     "iopub.status.idle": "2021-12-29T05:02:58.134299Z",
     "shell.execute_reply": "2021-12-29T05:02:58.133802Z",
     "shell.execute_reply.started": "2021-12-29T05:02:58.119871Z"
    },
    "tags": []
   },
   "outputs": [
    {
     "name": "stdout",
     "output_type": "stream",
     "text": [
      "<class 'pandas.core.frame.DataFrame'>\n",
      "RangeIndex: 158 entries, 0 to 157\n",
      "Data columns (total 35 columns):\n",
      " #   Column               Non-Null Count  Dtype  \n",
      "---  ------               --------------  -----  \n",
      " 0   BAS_ID               158 non-null    int64  \n",
      " 1   BAS_AR               158 non-null    float64\n",
      " 2   도로길이고려_전체통합도         158 non-null    float64\n",
      " 3   도로길이고려_국부통합도_R3      158 non-null    float64\n",
      " 4   기초구역평균_전체통합도         158 non-null    float64\n",
      " 5   기초구역평균_국부통합도_R3      158 non-null    float64\n",
      " 6   도로율                  158 non-null    float64\n",
      " 7   평균 도로 길이             158 non-null    float64\n",
      " 8   아파트시세변화_차분평균         158 non-null    float64\n",
      " 9   평균영업기간               158 non-null    float64\n",
      " 10  평균폐업기간               151 non-null    float64\n",
      " 11  평균최근접역거리             158 non-null    float64\n",
      " 12  평균최근접정류장거리           158 non-null    float64\n",
      " 13  건물노후도                158 non-null    float64\n",
      " 14  공동주택 비율              158 non-null    float64\n",
      " 15  근린생활시설 비율            158 non-null    float64\n",
      " 16  단독주택 비율              158 non-null    float64\n",
      " 17  아파트 가구수              158 non-null    int64  \n",
      " 18  외식업매출월평균변화량          156 non-null    float64\n",
      " 19  서비스업매출월평균변화량         156 non-null    float64\n",
      " 20  소매업매출월평균변화량          155 non-null    float64\n",
      " 21  외식업매출비율              153 non-null    float64\n",
      " 22  서비스업매출비율             155 non-null    float64\n",
      " 23  소매업매출비율              155 non-null    float64\n",
      " 24  외식업종다양성              158 non-null    float64\n",
      " 25  서비스업종다양성             158 non-null    float64\n",
      " 26  소매업종다양성              158 non-null    float64\n",
      " 27  상가밀도                 158 non-null    float64\n",
      " 28  주중 / 주말              158 non-null    float64\n",
      " 29  06 to 18 / 18 to 06  158 non-null    float64\n",
      " 30  개별공시지가 변화 차분평균       158 non-null    float64\n",
      " 31  (주거인구+직장인구) / 유동인구   158 non-null    float64\n",
      " 32  주거인구/직장인구            158 non-null    float64\n",
      " 33  10_30 / 40_60        158 non-null    float64\n",
      " 34  점포밀도                 158 non-null    float64\n",
      "dtypes: float64(33), int64(2)\n",
      "memory usage: 43.3 KB\n"
     ]
    }
   ],
   "source": [
    "clean_data.info()"
   ]
  },
  {
   "cell_type": "code",
   "execution_count": 9,
   "id": "57d7eb87-0dd8-4b0b-a169-f94016bfd90f",
   "metadata": {
    "execution": {
     "iopub.execute_input": "2021-12-29T05:02:58.136299Z",
     "iopub.status.busy": "2021-12-29T05:02:58.136299Z",
     "iopub.status.idle": "2021-12-29T05:02:58.149708Z",
     "shell.execute_reply": "2021-12-29T05:02:58.149708Z",
     "shell.execute_reply.started": "2021-12-29T05:02:58.136299Z"
    },
    "tags": []
   },
   "outputs": [
    {
     "data": {
      "text/html": [
       "<div>\n",
       "<style scoped>\n",
       "    .dataframe tbody tr th:only-of-type {\n",
       "        vertical-align: middle;\n",
       "    }\n",
       "\n",
       "    .dataframe tbody tr th {\n",
       "        vertical-align: top;\n",
       "    }\n",
       "\n",
       "    .dataframe thead th {\n",
       "        text-align: right;\n",
       "    }\n",
       "</style>\n",
       "<table border=\"1\" class=\"dataframe\">\n",
       "  <thead>\n",
       "    <tr style=\"text-align: right;\">\n",
       "      <th></th>\n",
       "      <th>BAS_ID</th>\n",
       "      <th>외식업매출월평균변화량</th>\n",
       "      <th>서비스업매출월평균변화량</th>\n",
       "      <th>소매업매출월평균변화량</th>\n",
       "    </tr>\n",
       "  </thead>\n",
       "  <tbody>\n",
       "    <tr>\n",
       "      <th>27</th>\n",
       "      <td>21327</td>\n",
       "      <td>-34481.37931</td>\n",
       "      <td>NaN</td>\n",
       "      <td>NaN</td>\n",
       "    </tr>\n",
       "    <tr>\n",
       "      <th>39</th>\n",
       "      <td>21339</td>\n",
       "      <td>-63057.75862</td>\n",
       "      <td>-2.931084e+07</td>\n",
       "      <td>NaN</td>\n",
       "    </tr>\n",
       "    <tr>\n",
       "      <th>72</th>\n",
       "      <td>21373</td>\n",
       "      <td>NaN</td>\n",
       "      <td>1.759062e+05</td>\n",
       "      <td>276226.6034</td>\n",
       "    </tr>\n",
       "    <tr>\n",
       "      <th>84</th>\n",
       "      <td>21386</td>\n",
       "      <td>-633171.81030</td>\n",
       "      <td>NaN</td>\n",
       "      <td>NaN</td>\n",
       "    </tr>\n",
       "    <tr>\n",
       "      <th>109</th>\n",
       "      <td>21411</td>\n",
       "      <td>NaN</td>\n",
       "      <td>-2.047334e+04</td>\n",
       "      <td>-423603.6429</td>\n",
       "    </tr>\n",
       "  </tbody>\n",
       "</table>\n",
       "</div>"
      ],
      "text/plain": [
       "     BAS_ID   외식업매출월평균변화량  서비스업매출월평균변화량  소매업매출월평균변화량\n",
       "27    21327  -34481.37931           NaN          NaN\n",
       "39    21339  -63057.75862 -2.931084e+07          NaN\n",
       "72    21373           NaN  1.759062e+05  276226.6034\n",
       "84    21386 -633171.81030           NaN          NaN\n",
       "109   21411           NaN -2.047334e+04 -423603.6429"
      ]
     },
     "execution_count": 9,
     "metadata": {},
     "output_type": "execute_result"
    }
   ],
   "source": [
    "condition = clean_data['외식업매출월평균변화량'].isnull() | clean_data['소매업매출월평균변화량'].isnull() \n",
    "clean_data[condition].loc[:,['BAS_ID','외식업매출월평균변화량','서비스업매출월평균변화량','소매업매출월평균변화량']]"
   ]
  },
  {
   "cell_type": "code",
   "execution_count": 10,
   "id": "0391ce6c-0260-422b-ab7c-93f5b7ebb067",
   "metadata": {
    "execution": {
     "iopub.execute_input": "2021-12-29T05:02:58.150920Z",
     "iopub.status.busy": "2021-12-29T05:02:58.150920Z",
     "iopub.status.idle": "2021-12-29T05:02:58.166132Z",
     "shell.execute_reply": "2021-12-29T05:02:58.165637Z",
     "shell.execute_reply.started": "2021-12-29T05:02:58.150920Z"
    },
    "tags": []
   },
   "outputs": [],
   "source": [
    "clean_data.fillna(0,inplace=True)"
   ]
  },
  {
   "cell_type": "code",
   "execution_count": 11,
   "id": "2675e907-907a-4a88-9971-d4bb28353f75",
   "metadata": {
    "execution": {
     "iopub.execute_input": "2021-12-29T05:02:58.167229Z",
     "iopub.status.busy": "2021-12-29T05:02:58.167229Z",
     "iopub.status.idle": "2021-12-29T05:02:58.197815Z",
     "shell.execute_reply": "2021-12-29T05:02:58.197076Z",
     "shell.execute_reply.started": "2021-12-29T05:02:58.167229Z"
    },
    "tags": []
   },
   "outputs": [
    {
     "data": {
      "text/plain": [
       "BAS_ID                 0\n",
       "BAS_AR                 0\n",
       "도로길이고려_전체통합도           0\n",
       "도로길이고려_국부통합도_R3        0\n",
       "기초구역평균_전체통합도           0\n",
       "기초구역평균_국부통합도_R3        0\n",
       "도로율                    0\n",
       "평균 도로 길이               0\n",
       "아파트시세변화_차분평균           0\n",
       "평균영업기간                 0\n",
       "평균폐업기간                 0\n",
       "평균최근접역거리               0\n",
       "평균최근접정류장거리             0\n",
       "건물노후도                  0\n",
       "공동주택 비율                0\n",
       "근린생활시설 비율              0\n",
       "단독주택 비율                0\n",
       "아파트 가구수                0\n",
       "외식업매출월평균변화량            0\n",
       "서비스업매출월평균변화량           0\n",
       "소매업매출월평균변화량            0\n",
       "외식업매출비율                0\n",
       "서비스업매출비율               0\n",
       "소매업매출비율                0\n",
       "외식업종다양성                0\n",
       "서비스업종다양성               0\n",
       "소매업종다양성                0\n",
       "상가밀도                   0\n",
       "주중 / 주말                0\n",
       "06 to 18 / 18 to 06    0\n",
       "개별공시지가 변화 차분평균         0\n",
       "(주거인구+직장인구) / 유동인구     0\n",
       "주거인구/직장인구              0\n",
       "10_30 / 40_60          0\n",
       "점포밀도                   0\n",
       "dtype: int64"
      ]
     },
     "execution_count": 11,
     "metadata": {},
     "output_type": "execute_result"
    }
   ],
   "source": [
    "# null값은 없다.\n",
    "clean_data.isnull().sum()"
   ]
  },
  {
   "cell_type": "markdown",
   "id": "630c1220-f26d-462e-9314-c8ef87f9e767",
   "metadata": {},
   "source": [
    "## 1.2 geometry 정보 로딩"
   ]
  },
  {
   "cell_type": "code",
   "execution_count": 12,
   "id": "b1785128-e75a-4e2a-a1f8-5fe7ac115c0d",
   "metadata": {
    "execution": {
     "iopub.execute_input": "2021-12-29T05:02:58.198823Z",
     "iopub.status.busy": "2021-12-29T05:02:58.198823Z",
     "iopub.status.idle": "2021-12-29T05:02:58.289780Z",
     "shell.execute_reply": "2021-12-29T05:02:58.289780Z",
     "shell.execute_reply.started": "2021-12-29T05:02:58.198823Z"
    },
    "tags": []
   },
   "outputs": [
    {
     "data": {
      "text/html": [
       "<div>\n",
       "<style scoped>\n",
       "    .dataframe tbody tr th:only-of-type {\n",
       "        vertical-align: middle;\n",
       "    }\n",
       "\n",
       "    .dataframe tbody tr th {\n",
       "        vertical-align: top;\n",
       "    }\n",
       "\n",
       "    .dataframe thead th {\n",
       "        text-align: right;\n",
       "    }\n",
       "</style>\n",
       "<table border=\"1\" class=\"dataframe\">\n",
       "  <thead>\n",
       "    <tr style=\"text-align: right;\">\n",
       "      <th></th>\n",
       "      <th>BAS_AR</th>\n",
       "      <th>BAS_ID</th>\n",
       "      <th>BAS_MGT_SN</th>\n",
       "      <th>CTP_KOR_NM</th>\n",
       "      <th>MVMN_DE</th>\n",
       "      <th>MVMN_RESN</th>\n",
       "      <th>NTFC_DE</th>\n",
       "      <th>OPERT_DE</th>\n",
       "      <th>SIG_CD</th>\n",
       "      <th>SIG_KOR_NM</th>\n",
       "      <th>center_x</th>\n",
       "      <th>center_y</th>\n",
       "      <th>geometry</th>\n",
       "    </tr>\n",
       "  </thead>\n",
       "  <tbody>\n",
       "    <tr>\n",
       "      <th>0</th>\n",
       "      <td>2.648838</td>\n",
       "      <td>21459</td>\n",
       "      <td>2823700025</td>\n",
       "      <td>인천광역시</td>\n",
       "      <td>None</td>\n",
       "      <td>None</td>\n",
       "      <td>20121221</td>\n",
       "      <td>None</td>\n",
       "      <td>28237</td>\n",
       "      <td>부평구</td>\n",
       "      <td>126.742914</td>\n",
       "      <td>37.474121</td>\n",
       "      <td>POLYGON ((126.73590 37.48296, 126.73597 37.482...</td>\n",
       "    </tr>\n",
       "    <tr>\n",
       "      <th>1</th>\n",
       "      <td>0.156212</td>\n",
       "      <td>21384</td>\n",
       "      <td>2823700061</td>\n",
       "      <td>인천광역시</td>\n",
       "      <td>None</td>\n",
       "      <td>None</td>\n",
       "      <td>20121221</td>\n",
       "      <td>None</td>\n",
       "      <td>28237</td>\n",
       "      <td>부평구</td>\n",
       "      <td>126.708049</td>\n",
       "      <td>37.489905</td>\n",
       "      <td>POLYGON ((126.70977 37.49105, 126.70987 37.491...</td>\n",
       "    </tr>\n",
       "    <tr>\n",
       "      <th>2</th>\n",
       "      <td>0.076024</td>\n",
       "      <td>21403</td>\n",
       "      <td>2823700058</td>\n",
       "      <td>인천광역시</td>\n",
       "      <td>None</td>\n",
       "      <td>None</td>\n",
       "      <td>20121221</td>\n",
       "      <td>None</td>\n",
       "      <td>28237</td>\n",
       "      <td>부평구</td>\n",
       "      <td>126.732706</td>\n",
       "      <td>37.489535</td>\n",
       "      <td>POLYGON ((126.73383 37.48969, 126.73431 37.489...</td>\n",
       "    </tr>\n",
       "    <tr>\n",
       "      <th>3</th>\n",
       "      <td>0.527205</td>\n",
       "      <td>21447</td>\n",
       "      <td>2823700035</td>\n",
       "      <td>인천광역시</td>\n",
       "      <td>None</td>\n",
       "      <td>None</td>\n",
       "      <td>20121221</td>\n",
       "      <td>None</td>\n",
       "      <td>28237</td>\n",
       "      <td>부평구</td>\n",
       "      <td>126.694834</td>\n",
       "      <td>37.482046</td>\n",
       "      <td>POLYGON ((126.69892 37.48537, 126.69960 37.485...</td>\n",
       "    </tr>\n",
       "    <tr>\n",
       "      <th>4</th>\n",
       "      <td>0.073898</td>\n",
       "      <td>21421</td>\n",
       "      <td>2823700036</td>\n",
       "      <td>인천광역시</td>\n",
       "      <td>None</td>\n",
       "      <td>None</td>\n",
       "      <td>20121221</td>\n",
       "      <td>None</td>\n",
       "      <td>28237</td>\n",
       "      <td>부평구</td>\n",
       "      <td>126.737058</td>\n",
       "      <td>37.484080</td>\n",
       "      <td>POLYGON ((126.73785 37.48219, 126.73772 37.482...</td>\n",
       "    </tr>\n",
       "  </tbody>\n",
       "</table>\n",
       "</div>"
      ],
      "text/plain": [
       "     BAS_AR BAS_ID  BAS_MGT_SN CTP_KOR_NM MVMN_DE MVMN_RESN   NTFC_DE  \\\n",
       "0  2.648838  21459  2823700025      인천광역시    None      None  20121221   \n",
       "1  0.156212  21384  2823700061      인천광역시    None      None  20121221   \n",
       "2  0.076024  21403  2823700058      인천광역시    None      None  20121221   \n",
       "3  0.527205  21447  2823700035      인천광역시    None      None  20121221   \n",
       "4  0.073898  21421  2823700036      인천광역시    None      None  20121221   \n",
       "\n",
       "  OPERT_DE SIG_CD SIG_KOR_NM    center_x   center_y  \\\n",
       "0     None  28237        부평구  126.742914  37.474121   \n",
       "1     None  28237        부평구  126.708049  37.489905   \n",
       "2     None  28237        부평구  126.732706  37.489535   \n",
       "3     None  28237        부평구  126.694834  37.482046   \n",
       "4     None  28237        부평구  126.737058  37.484080   \n",
       "\n",
       "                                            geometry  \n",
       "0  POLYGON ((126.73590 37.48296, 126.73597 37.482...  \n",
       "1  POLYGON ((126.70977 37.49105, 126.70987 37.491...  \n",
       "2  POLYGON ((126.73383 37.48969, 126.73431 37.489...  \n",
       "3  POLYGON ((126.69892 37.48537, 126.69960 37.485...  \n",
       "4  POLYGON ((126.73785 37.48219, 126.73772 37.482...  "
      ]
     },
     "execution_count": 12,
     "metadata": {},
     "output_type": "execute_result"
    }
   ],
   "source": [
    "basis_area= gpd.read_file('../data/전처리 파일/부평구_기초구역_5181/부평구_기초구역_4326.shp')\n",
    "basis_area.head()"
   ]
  },
  {
   "cell_type": "code",
   "execution_count": 13,
   "id": "316fe32b-bb54-4aa4-8520-54fe81235645",
   "metadata": {
    "execution": {
     "iopub.execute_input": "2021-12-29T05:02:58.291215Z",
     "iopub.status.busy": "2021-12-29T05:02:58.291215Z",
     "iopub.status.idle": "2021-12-29T05:02:58.320518Z",
     "shell.execute_reply": "2021-12-29T05:02:58.320326Z",
     "shell.execute_reply.started": "2021-12-29T05:02:58.291215Z"
    },
    "tags": []
   },
   "outputs": [
    {
     "data": {
      "text/html": [
       "<div>\n",
       "<style scoped>\n",
       "    .dataframe tbody tr th:only-of-type {\n",
       "        vertical-align: middle;\n",
       "    }\n",
       "\n",
       "    .dataframe tbody tr th {\n",
       "        vertical-align: top;\n",
       "    }\n",
       "\n",
       "    .dataframe thead th {\n",
       "        text-align: right;\n",
       "    }\n",
       "</style>\n",
       "<table border=\"1\" class=\"dataframe\">\n",
       "  <thead>\n",
       "    <tr style=\"text-align: right;\">\n",
       "      <th></th>\n",
       "      <th>BAS_ID</th>\n",
       "      <th>geometry</th>\n",
       "    </tr>\n",
       "  </thead>\n",
       "  <tbody>\n",
       "    <tr>\n",
       "      <th>0</th>\n",
       "      <td>21459</td>\n",
       "      <td>POLYGON ((126.73590 37.48296, 126.73597 37.482...</td>\n",
       "    </tr>\n",
       "    <tr>\n",
       "      <th>1</th>\n",
       "      <td>21384</td>\n",
       "      <td>POLYGON ((126.70977 37.49105, 126.70987 37.491...</td>\n",
       "    </tr>\n",
       "    <tr>\n",
       "      <th>2</th>\n",
       "      <td>21403</td>\n",
       "      <td>POLYGON ((126.73383 37.48969, 126.73431 37.489...</td>\n",
       "    </tr>\n",
       "    <tr>\n",
       "      <th>3</th>\n",
       "      <td>21447</td>\n",
       "      <td>POLYGON ((126.69892 37.48537, 126.69960 37.485...</td>\n",
       "    </tr>\n",
       "    <tr>\n",
       "      <th>4</th>\n",
       "      <td>21421</td>\n",
       "      <td>POLYGON ((126.73785 37.48219, 126.73772 37.482...</td>\n",
       "    </tr>\n",
       "  </tbody>\n",
       "</table>\n",
       "</div>"
      ],
      "text/plain": [
       "  BAS_ID                                           geometry\n",
       "0  21459  POLYGON ((126.73590 37.48296, 126.73597 37.482...\n",
       "1  21384  POLYGON ((126.70977 37.49105, 126.70987 37.491...\n",
       "2  21403  POLYGON ((126.73383 37.48969, 126.73431 37.489...\n",
       "3  21447  POLYGON ((126.69892 37.48537, 126.69960 37.485...\n",
       "4  21421  POLYGON ((126.73785 37.48219, 126.73772 37.482..."
      ]
     },
     "execution_count": 13,
     "metadata": {},
     "output_type": "execute_result"
    }
   ],
   "source": [
    "use_basis_area = basis_area[['BAS_ID','geometry']]\n",
    "use_basis_area.head()"
   ]
  },
  {
   "cell_type": "code",
   "execution_count": 14,
   "id": "175618c0-0ef8-4275-8a4e-c91b2f13ba7c",
   "metadata": {
    "execution": {
     "iopub.execute_input": "2021-12-29T05:02:58.321546Z",
     "iopub.status.busy": "2021-12-29T05:02:58.321546Z",
     "iopub.status.idle": "2021-12-29T05:02:58.351644Z",
     "shell.execute_reply": "2021-12-29T05:02:58.351380Z",
     "shell.execute_reply.started": "2021-12-29T05:02:58.321546Z"
    },
    "tags": []
   },
   "outputs": [
    {
     "data": {
      "text/html": [
       "<div>\n",
       "<style scoped>\n",
       "    .dataframe tbody tr th:only-of-type {\n",
       "        vertical-align: middle;\n",
       "    }\n",
       "\n",
       "    .dataframe tbody tr th {\n",
       "        vertical-align: top;\n",
       "    }\n",
       "\n",
       "    .dataframe thead th {\n",
       "        text-align: right;\n",
       "    }\n",
       "</style>\n",
       "<table border=\"1\" class=\"dataframe\">\n",
       "  <thead>\n",
       "    <tr style=\"text-align: right;\">\n",
       "      <th></th>\n",
       "      <th>BAS_ID</th>\n",
       "      <th>BAS_AR</th>\n",
       "      <th>도로길이고려_전체통합도</th>\n",
       "      <th>도로길이고려_국부통합도_R3</th>\n",
       "      <th>기초구역평균_전체통합도</th>\n",
       "      <th>기초구역평균_국부통합도_R3</th>\n",
       "      <th>도로율</th>\n",
       "      <th>평균 도로 길이</th>\n",
       "      <th>아파트시세변화_차분평균</th>\n",
       "      <th>평균영업기간</th>\n",
       "      <th>...</th>\n",
       "      <th>소매업종다양성</th>\n",
       "      <th>상가밀도</th>\n",
       "      <th>주중 / 주말</th>\n",
       "      <th>06 to 18 / 18 to 06</th>\n",
       "      <th>개별공시지가 변화 차분평균</th>\n",
       "      <th>(주거인구+직장인구) / 유동인구</th>\n",
       "      <th>주거인구/직장인구</th>\n",
       "      <th>10_30 / 40_60</th>\n",
       "      <th>점포밀도</th>\n",
       "      <th>geometry</th>\n",
       "    </tr>\n",
       "  </thead>\n",
       "  <tbody>\n",
       "    <tr>\n",
       "      <th>0</th>\n",
       "      <td>21300</td>\n",
       "      <td>0.743330</td>\n",
       "      <td>617.130076</td>\n",
       "      <td>7987.604945</td>\n",
       "      <td>0.060037</td>\n",
       "      <td>0.907932</td>\n",
       "      <td>7.332336</td>\n",
       "      <td>119.253463</td>\n",
       "      <td>0.000</td>\n",
       "      <td>163.106482</td>\n",
       "      <td>...</td>\n",
       "      <td>2.390980</td>\n",
       "      <td>86.099041</td>\n",
       "      <td>2.342449</td>\n",
       "      <td>2.695669</td>\n",
       "      <td>31337.73585</td>\n",
       "      <td>0.268398</td>\n",
       "      <td>0.149563</td>\n",
       "      <td>0.406896</td>\n",
       "      <td>7.046875</td>\n",
       "      <td>POLYGON ((126.69032 37.52345, 126.69084 37.523...</td>\n",
       "    </tr>\n",
       "    <tr>\n",
       "      <th>1</th>\n",
       "      <td>21301</td>\n",
       "      <td>0.121045</td>\n",
       "      <td>221.397046</td>\n",
       "      <td>2876.534944</td>\n",
       "      <td>0.069661</td>\n",
       "      <td>0.938454</td>\n",
       "      <td>30.948119</td>\n",
       "      <td>211.340833</td>\n",
       "      <td>305.909</td>\n",
       "      <td>156.249615</td>\n",
       "      <td>...</td>\n",
       "      <td>1.985080</td>\n",
       "      <td>346.978396</td>\n",
       "      <td>2.315147</td>\n",
       "      <td>2.280277</td>\n",
       "      <td>344640.00000</td>\n",
       "      <td>0.254881</td>\n",
       "      <td>0.667946</td>\n",
       "      <td>0.439757</td>\n",
       "      <td>11.523810</td>\n",
       "      <td>POLYGON ((126.69791 37.52246, 126.69791 37.522...</td>\n",
       "    </tr>\n",
       "    <tr>\n",
       "      <th>2</th>\n",
       "      <td>21302</td>\n",
       "      <td>0.175777</td>\n",
       "      <td>341.252878</td>\n",
       "      <td>4162.583064</td>\n",
       "      <td>0.087372</td>\n",
       "      <td>1.084619</td>\n",
       "      <td>25.546905</td>\n",
       "      <td>214.144187</td>\n",
       "      <td>0.000</td>\n",
       "      <td>111.950730</td>\n",
       "      <td>...</td>\n",
       "      <td>1.314799</td>\n",
       "      <td>876.110071</td>\n",
       "      <td>2.064957</td>\n",
       "      <td>2.339853</td>\n",
       "      <td>174949.46240</td>\n",
       "      <td>0.220317</td>\n",
       "      <td>0.899425</td>\n",
       "      <td>0.508371</td>\n",
       "      <td>143.584416</td>\n",
       "      <td>POLYGON ((126.70466 37.52105, 126.70466 37.521...</td>\n",
       "    </tr>\n",
       "    <tr>\n",
       "      <th>3</th>\n",
       "      <td>21303</td>\n",
       "      <td>0.270679</td>\n",
       "      <td>475.038010</td>\n",
       "      <td>6080.093135</td>\n",
       "      <td>0.084712</td>\n",
       "      <td>1.079401</td>\n",
       "      <td>15.517121</td>\n",
       "      <td>105.011320</td>\n",
       "      <td>912.500</td>\n",
       "      <td>153.728003</td>\n",
       "      <td>...</td>\n",
       "      <td>2.064017</td>\n",
       "      <td>232.748015</td>\n",
       "      <td>2.273528</td>\n",
       "      <td>2.246297</td>\n",
       "      <td>97041.79104</td>\n",
       "      <td>0.108296</td>\n",
       "      <td>6.308614</td>\n",
       "      <td>0.441902</td>\n",
       "      <td>36.111111</td>\n",
       "      <td>POLYGON ((126.70215 37.51767, 126.70204 37.517...</td>\n",
       "    </tr>\n",
       "    <tr>\n",
       "      <th>4</th>\n",
       "      <td>21304</td>\n",
       "      <td>0.073319</td>\n",
       "      <td>273.241567</td>\n",
       "      <td>3575.514233</td>\n",
       "      <td>0.092931</td>\n",
       "      <td>1.107098</td>\n",
       "      <td>32.713927</td>\n",
       "      <td>134.361765</td>\n",
       "      <td>369.231</td>\n",
       "      <td>177.329451</td>\n",
       "      <td>...</td>\n",
       "      <td>2.379112</td>\n",
       "      <td>2495.942389</td>\n",
       "      <td>2.016228</td>\n",
       "      <td>2.004099</td>\n",
       "      <td>166589.33650</td>\n",
       "      <td>0.212989</td>\n",
       "      <td>1.959390</td>\n",
       "      <td>0.479893</td>\n",
       "      <td>113.836066</td>\n",
       "      <td>POLYGON ((126.70466 37.52105, 126.70466 37.521...</td>\n",
       "    </tr>\n",
       "  </tbody>\n",
       "</table>\n",
       "<p>5 rows × 36 columns</p>\n",
       "</div>"
      ],
      "text/plain": [
       "  BAS_ID    BAS_AR  도로길이고려_전체통합도  도로길이고려_국부통합도_R3  기초구역평균_전체통합도  \\\n",
       "0  21300  0.743330    617.130076      7987.604945      0.060037   \n",
       "1  21301  0.121045    221.397046      2876.534944      0.069661   \n",
       "2  21302  0.175777    341.252878      4162.583064      0.087372   \n",
       "3  21303  0.270679    475.038010      6080.093135      0.084712   \n",
       "4  21304  0.073319    273.241567      3575.514233      0.092931   \n",
       "\n",
       "   기초구역평균_국부통합도_R3        도로율    평균 도로 길이  아파트시세변화_차분평균      평균영업기간  ...  \\\n",
       "0         0.907932   7.332336  119.253463         0.000  163.106482  ...   \n",
       "1         0.938454  30.948119  211.340833       305.909  156.249615  ...   \n",
       "2         1.084619  25.546905  214.144187         0.000  111.950730  ...   \n",
       "3         1.079401  15.517121  105.011320       912.500  153.728003  ...   \n",
       "4         1.107098  32.713927  134.361765       369.231  177.329451  ...   \n",
       "\n",
       "    소매업종다양성         상가밀도   주중 / 주말  06 to 18 / 18 to 06  개별공시지가 변화 차분평균  \\\n",
       "0  2.390980    86.099041  2.342449             2.695669     31337.73585   \n",
       "1  1.985080   346.978396  2.315147             2.280277    344640.00000   \n",
       "2  1.314799   876.110071  2.064957             2.339853    174949.46240   \n",
       "3  2.064017   232.748015  2.273528             2.246297     97041.79104   \n",
       "4  2.379112  2495.942389  2.016228             2.004099    166589.33650   \n",
       "\n",
       "   (주거인구+직장인구) / 유동인구  주거인구/직장인구  10_30 / 40_60        점포밀도  \\\n",
       "0            0.268398   0.149563       0.406896    7.046875   \n",
       "1            0.254881   0.667946       0.439757   11.523810   \n",
       "2            0.220317   0.899425       0.508371  143.584416   \n",
       "3            0.108296   6.308614       0.441902   36.111111   \n",
       "4            0.212989   1.959390       0.479893  113.836066   \n",
       "\n",
       "                                            geometry  \n",
       "0  POLYGON ((126.69032 37.52345, 126.69084 37.523...  \n",
       "1  POLYGON ((126.69791 37.52246, 126.69791 37.522...  \n",
       "2  POLYGON ((126.70466 37.52105, 126.70466 37.521...  \n",
       "3  POLYGON ((126.70215 37.51767, 126.70204 37.517...  \n",
       "4  POLYGON ((126.70466 37.52105, 126.70466 37.521...  \n",
       "\n",
       "[5 rows x 36 columns]"
      ]
     },
     "execution_count": 14,
     "metadata": {},
     "output_type": "execute_result"
    }
   ],
   "source": [
    "clean_data['BAS_ID'] = clean_data['BAS_ID'].astype(str) # string 티입으로 변환\n",
    "clean_data = clean_data.merge(use_basis_area,how='left',right_on='BAS_ID',left_on='BAS_ID').sort_values(by='BAS_ID')\n",
    "clean_data.head()"
   ]
  },
  {
   "cell_type": "code",
   "execution_count": 15,
   "id": "a27417f6-7028-4592-9081-3cffa45a4837",
   "metadata": {
    "execution": {
     "iopub.execute_input": "2021-12-29T05:02:58.352884Z",
     "iopub.status.busy": "2021-12-29T05:02:58.352884Z",
     "iopub.status.idle": "2021-12-29T05:02:58.924101Z",
     "shell.execute_reply": "2021-12-29T05:02:58.923108Z",
     "shell.execute_reply.started": "2021-12-29T05:02:58.352884Z"
    },
    "tags": []
   },
   "outputs": [
    {
     "data": {
      "text/html": [
       "<div>\n",
       "<style scoped>\n",
       "    .dataframe tbody tr th:only-of-type {\n",
       "        vertical-align: middle;\n",
       "    }\n",
       "\n",
       "    .dataframe tbody tr th {\n",
       "        vertical-align: top;\n",
       "    }\n",
       "\n",
       "    .dataframe thead th {\n",
       "        text-align: right;\n",
       "    }\n",
       "</style>\n",
       "<table border=\"1\" class=\"dataframe\">\n",
       "  <thead>\n",
       "    <tr style=\"text-align: right;\">\n",
       "      <th></th>\n",
       "      <th>geometry</th>\n",
       "      <th>x</th>\n",
       "      <th>y</th>\n",
       "    </tr>\n",
       "  </thead>\n",
       "  <tbody>\n",
       "    <tr>\n",
       "      <th>0</th>\n",
       "      <td>POLYGON ((126.69032 37.52345, 126.69084 37.523...</td>\n",
       "      <td>126.689135</td>\n",
       "      <td>37.518708</td>\n",
       "    </tr>\n",
       "    <tr>\n",
       "      <th>1</th>\n",
       "      <td>POLYGON ((126.69791 37.52246, 126.69791 37.522...</td>\n",
       "      <td>126.695459</td>\n",
       "      <td>37.522417</td>\n",
       "    </tr>\n",
       "    <tr>\n",
       "      <th>2</th>\n",
       "      <td>POLYGON ((126.70466 37.52105, 126.70466 37.521...</td>\n",
       "      <td>126.701342</td>\n",
       "      <td>37.522339</td>\n",
       "    </tr>\n",
       "    <tr>\n",
       "      <th>3</th>\n",
       "      <td>POLYGON ((126.70215 37.51767, 126.70204 37.517...</td>\n",
       "      <td>126.698730</td>\n",
       "      <td>37.518981</td>\n",
       "    </tr>\n",
       "    <tr>\n",
       "      <th>4</th>\n",
       "      <td>POLYGON ((126.70466 37.52105, 126.70466 37.521...</td>\n",
       "      <td>126.703419</td>\n",
       "      <td>37.519319</td>\n",
       "    </tr>\n",
       "  </tbody>\n",
       "</table>\n",
       "</div>"
      ],
      "text/plain": [
       "                                            geometry           x          y\n",
       "0  POLYGON ((126.69032 37.52345, 126.69084 37.523...  126.689135  37.518708\n",
       "1  POLYGON ((126.69791 37.52246, 126.69791 37.522...  126.695459  37.522417\n",
       "2  POLYGON ((126.70466 37.52105, 126.70466 37.521...  126.701342  37.522339\n",
       "3  POLYGON ((126.70215 37.51767, 126.70204 37.517...  126.698730  37.518981\n",
       "4  POLYGON ((126.70466 37.52105, 126.70466 37.521...  126.703419  37.519319"
      ]
     },
     "execution_count": 15,
     "metadata": {},
     "output_type": "execute_result"
    }
   ],
   "source": [
    "center = gpd.GeoDataFrame(clean_data).centroid\n",
    "\n",
    "clean_data['x'] = center.x\n",
    "clean_data['y'] = center.y\n",
    "\n",
    "clean_data.iloc[:,-3:].head()"
   ]
  },
  {
   "cell_type": "code",
   "execution_count": 16,
   "id": "f8b0a866-6e01-44e2-bcce-837006bbff5c",
   "metadata": {
    "execution": {
     "iopub.execute_input": "2021-12-29T05:02:58.925105Z",
     "iopub.status.busy": "2021-12-29T05:02:58.925105Z",
     "iopub.status.idle": "2021-12-29T05:02:58.939538Z",
     "shell.execute_reply": "2021-12-29T05:02:58.938431Z",
     "shell.execute_reply.started": "2021-12-29T05:02:58.925105Z"
    },
    "tags": []
   },
   "outputs": [
    {
     "data": {
      "text/plain": [
       "Index(['BAS_ID', 'BAS_AR', '도로길이고려_전체통합도', '도로길이고려_국부통합도_R3', '기초구역평균_전체통합도',\n",
       "       '기초구역평균_국부통합도_R3', '도로율', '평균 도로 길이', '아파트시세변화_차분평균', '평균영업기간',\n",
       "       '평균폐업기간', '평균최근접역거리', '평균최근접정류장거리', '건물노후도', '공동주택 비율', '근린생활시설 비율',\n",
       "       '단독주택 비율', '아파트 가구수', '외식업매출월평균변화량', '서비스업매출월평균변화량', '소매업매출월평균변화량',\n",
       "       '외식업매출비율', '서비스업매출비율', '소매업매출비율', '외식업종다양성', '서비스업종다양성', '소매업종다양성',\n",
       "       '상가밀도', '주중 / 주말', '06 to 18 / 18 to 06', '개별공시지가 변화 차분평균',\n",
       "       '(주거인구+직장인구) / 유동인구', '주거인구/직장인구', '10_30 / 40_60', '점포밀도', 'geometry',\n",
       "       'x', 'y'],\n",
       "      dtype='object')"
      ]
     },
     "execution_count": 16,
     "metadata": {},
     "output_type": "execute_result"
    }
   ],
   "source": [
    "clean_data.columns"
   ]
  },
  {
   "cell_type": "code",
   "execution_count": 17,
   "id": "d4ba954a",
   "metadata": {
    "collapsed": false,
    "execution": {
     "iopub.execute_input": "2021-12-29T05:02:58.939538Z",
     "iopub.status.busy": "2021-12-29T05:02:58.939538Z",
     "iopub.status.idle": "2021-12-29T05:02:59.001646Z",
     "shell.execute_reply": "2021-12-29T05:02:59.001374Z",
     "shell.execute_reply.started": "2021-12-29T05:02:58.939538Z"
    },
    "jupyter": {
     "outputs_hidden": false
    },
    "pycharm": {
     "name": "#%%\n"
    },
    "tags": []
   },
   "outputs": [
    {
     "data": {
      "text/html": [
       "<div>\n",
       "<style scoped>\n",
       "    .dataframe tbody tr th:only-of-type {\n",
       "        vertical-align: middle;\n",
       "    }\n",
       "\n",
       "    .dataframe tbody tr th {\n",
       "        vertical-align: top;\n",
       "    }\n",
       "\n",
       "    .dataframe thead th {\n",
       "        text-align: right;\n",
       "    }\n",
       "</style>\n",
       "<table border=\"1\" class=\"dataframe\">\n",
       "  <thead>\n",
       "    <tr style=\"text-align: right;\">\n",
       "      <th></th>\n",
       "      <th>count</th>\n",
       "      <th>mean</th>\n",
       "      <th>std</th>\n",
       "      <th>min</th>\n",
       "      <th>25%</th>\n",
       "      <th>50%</th>\n",
       "      <th>75%</th>\n",
       "      <th>max</th>\n",
       "    </tr>\n",
       "  </thead>\n",
       "  <tbody>\n",
       "    <tr>\n",
       "      <th>BAS_AR</th>\n",
       "      <td>158.0</td>\n",
       "      <td>1.899000e-01</td>\n",
       "      <td>2.579000e-01</td>\n",
       "      <td>3.340000e-02</td>\n",
       "      <td>8.820000e-02</td>\n",
       "      <td>0.1182</td>\n",
       "      <td>0.2089</td>\n",
       "      <td>2.648800e+00</td>\n",
       "    </tr>\n",
       "    <tr>\n",
       "      <th>도로길이고려_전체통합도</th>\n",
       "      <td>158.0</td>\n",
       "      <td>3.460538e+02</td>\n",
       "      <td>1.702782e+02</td>\n",
       "      <td>4.846330e+01</td>\n",
       "      <td>2.232449e+02</td>\n",
       "      <td>304.9494</td>\n",
       "      <td>441.1728</td>\n",
       "      <td>9.384161e+02</td>\n",
       "    </tr>\n",
       "    <tr>\n",
       "      <th>도로길이고려_국부통합도_R3</th>\n",
       "      <td>158.0</td>\n",
       "      <td>4.082227e+03</td>\n",
       "      <td>2.019466e+03</td>\n",
       "      <td>5.015583e+02</td>\n",
       "      <td>2.664545e+03</td>\n",
       "      <td>3754.0121</td>\n",
       "      <td>5150.0262</td>\n",
       "      <td>1.173155e+04</td>\n",
       "    </tr>\n",
       "    <tr>\n",
       "      <th>기초구역평균_전체통합도</th>\n",
       "      <td>158.0</td>\n",
       "      <td>9.470000e-02</td>\n",
       "      <td>1.790000e-02</td>\n",
       "      <td>5.320000e-02</td>\n",
       "      <td>8.480000e-02</td>\n",
       "      <td>0.0953</td>\n",
       "      <td>0.1058</td>\n",
       "      <td>1.795000e-01</td>\n",
       "    </tr>\n",
       "    <tr>\n",
       "      <th>기초구역평균_국부통합도_R3</th>\n",
       "      <td>158.0</td>\n",
       "      <td>1.089200e+00</td>\n",
       "      <td>8.480000e-02</td>\n",
       "      <td>8.628000e-01</td>\n",
       "      <td>1.048900e+00</td>\n",
       "      <td>1.0904</td>\n",
       "      <td>1.1414</td>\n",
       "      <td>1.332400e+00</td>\n",
       "    </tr>\n",
       "    <tr>\n",
       "      <th>도로율</th>\n",
       "      <td>158.0</td>\n",
       "      <td>2.805440e+01</td>\n",
       "      <td>1.296310e+01</td>\n",
       "      <td>1.400000e-02</td>\n",
       "      <td>1.944000e+01</td>\n",
       "      <td>27.6773</td>\n",
       "      <td>36.1936</td>\n",
       "      <td>6.253530e+01</td>\n",
       "    </tr>\n",
       "    <tr>\n",
       "      <th>평균 도로 길이</th>\n",
       "      <td>158.0</td>\n",
       "      <td>1.674987e+02</td>\n",
       "      <td>8.267760e+01</td>\n",
       "      <td>4.905350e+01</td>\n",
       "      <td>1.135915e+02</td>\n",
       "      <td>144.3352</td>\n",
       "      <td>202.4410</td>\n",
       "      <td>5.357467e+02</td>\n",
       "    </tr>\n",
       "    <tr>\n",
       "      <th>아파트시세변화_차분평균</th>\n",
       "      <td>158.0</td>\n",
       "      <td>3.022570e+02</td>\n",
       "      <td>6.622982e+02</td>\n",
       "      <td>-8.800000e+02</td>\n",
       "      <td>0.000000e+00</td>\n",
       "      <td>53.3130</td>\n",
       "      <td>379.8075</td>\n",
       "      <td>3.177330e+03</td>\n",
       "    </tr>\n",
       "    <tr>\n",
       "      <th>평균영업기간</th>\n",
       "      <td>158.0</td>\n",
       "      <td>1.331065e+02</td>\n",
       "      <td>3.174560e+01</td>\n",
       "      <td>4.118140e+01</td>\n",
       "      <td>1.177432e+02</td>\n",
       "      <td>132.4636</td>\n",
       "      <td>151.0212</td>\n",
       "      <td>2.527471e+02</td>\n",
       "    </tr>\n",
       "    <tr>\n",
       "      <th>평균폐업기간</th>\n",
       "      <td>158.0</td>\n",
       "      <td>1.028609e+02</td>\n",
       "      <td>4.568910e+01</td>\n",
       "      <td>0.000000e+00</td>\n",
       "      <td>7.807840e+01</td>\n",
       "      <td>100.6919</td>\n",
       "      <td>126.1925</td>\n",
       "      <td>2.444929e+02</td>\n",
       "    </tr>\n",
       "    <tr>\n",
       "      <th>평균최근접역거리</th>\n",
       "      <td>158.0</td>\n",
       "      <td>7.244000e-01</td>\n",
       "      <td>4.906000e-01</td>\n",
       "      <td>1.039000e-01</td>\n",
       "      <td>3.503000e-01</td>\n",
       "      <td>0.5578</td>\n",
       "      <td>0.9591</td>\n",
       "      <td>1.908900e+00</td>\n",
       "    </tr>\n",
       "    <tr>\n",
       "      <th>평균최근접정류장거리</th>\n",
       "      <td>158.0</td>\n",
       "      <td>8.620000e-02</td>\n",
       "      <td>4.350000e-02</td>\n",
       "      <td>3.350000e-02</td>\n",
       "      <td>6.120000e-02</td>\n",
       "      <td>0.0759</td>\n",
       "      <td>0.0968</td>\n",
       "      <td>3.319000e-01</td>\n",
       "    </tr>\n",
       "    <tr>\n",
       "      <th>건물노후도</th>\n",
       "      <td>158.0</td>\n",
       "      <td>3.029030e+02</td>\n",
       "      <td>7.883370e+01</td>\n",
       "      <td>0.000000e+00</td>\n",
       "      <td>2.709286e+02</td>\n",
       "      <td>312.3816</td>\n",
       "      <td>345.4964</td>\n",
       "      <td>4.730000e+02</td>\n",
       "    </tr>\n",
       "    <tr>\n",
       "      <th>공동주택 비율</th>\n",
       "      <td>158.0</td>\n",
       "      <td>3.923350e+01</td>\n",
       "      <td>2.778070e+01</td>\n",
       "      <td>0.000000e+00</td>\n",
       "      <td>1.907500e+01</td>\n",
       "      <td>38.7000</td>\n",
       "      <td>55.8250</td>\n",
       "      <td>1.000000e+02</td>\n",
       "    </tr>\n",
       "    <tr>\n",
       "      <th>근린생활시설 비율</th>\n",
       "      <td>158.0</td>\n",
       "      <td>2.868860e+01</td>\n",
       "      <td>2.317290e+01</td>\n",
       "      <td>0.000000e+00</td>\n",
       "      <td>1.205000e+01</td>\n",
       "      <td>23.4000</td>\n",
       "      <td>39.0250</td>\n",
       "      <td>1.000000e+02</td>\n",
       "    </tr>\n",
       "    <tr>\n",
       "      <th>단독주택 비율</th>\n",
       "      <td>158.0</td>\n",
       "      <td>1.625570e+01</td>\n",
       "      <td>1.959080e+01</td>\n",
       "      <td>0.000000e+00</td>\n",
       "      <td>1.325000e+00</td>\n",
       "      <td>9.4500</td>\n",
       "      <td>27.0500</td>\n",
       "      <td>1.000000e+02</td>\n",
       "    </tr>\n",
       "    <tr>\n",
       "      <th>아파트 가구수</th>\n",
       "      <td>158.0</td>\n",
       "      <td>6.118481e+02</td>\n",
       "      <td>1.035237e+03</td>\n",
       "      <td>0.000000e+00</td>\n",
       "      <td>0.000000e+00</td>\n",
       "      <td>86.5000</td>\n",
       "      <td>850.7500</td>\n",
       "      <td>5.512000e+03</td>\n",
       "    </tr>\n",
       "    <tr>\n",
       "      <th>외식업매출월평균변화량</th>\n",
       "      <td>158.0</td>\n",
       "      <td>2.463029e+05</td>\n",
       "      <td>4.859609e+06</td>\n",
       "      <td>-1.085855e+07</td>\n",
       "      <td>-1.133612e+06</td>\n",
       "      <td>-128483.3276</td>\n",
       "      <td>379357.5560</td>\n",
       "      <td>4.006098e+07</td>\n",
       "    </tr>\n",
       "    <tr>\n",
       "      <th>서비스업매출월평균변화량</th>\n",
       "      <td>158.0</td>\n",
       "      <td>8.821650e+05</td>\n",
       "      <td>5.004590e+06</td>\n",
       "      <td>-2.931084e+07</td>\n",
       "      <td>-4.534332e+05</td>\n",
       "      <td>38218.8552</td>\n",
       "      <td>974913.6772</td>\n",
       "      <td>2.703984e+07</td>\n",
       "    </tr>\n",
       "    <tr>\n",
       "      <th>소매업매출월평균변화량</th>\n",
       "      <td>158.0</td>\n",
       "      <td>-3.622442e+06</td>\n",
       "      <td>1.432915e+07</td>\n",
       "      <td>-1.088539e+08</td>\n",
       "      <td>-3.605129e+06</td>\n",
       "      <td>-641018.3190</td>\n",
       "      <td>409640.8536</td>\n",
       "      <td>3.276200e+07</td>\n",
       "    </tr>\n",
       "    <tr>\n",
       "      <th>외식업매출비율</th>\n",
       "      <td>158.0</td>\n",
       "      <td>2.729000e-01</td>\n",
       "      <td>1.935000e-01</td>\n",
       "      <td>0.000000e+00</td>\n",
       "      <td>1.190000e-01</td>\n",
       "      <td>0.2502</td>\n",
       "      <td>0.3832</td>\n",
       "      <td>8.715000e-01</td>\n",
       "    </tr>\n",
       "    <tr>\n",
       "      <th>서비스업매출비율</th>\n",
       "      <td>158.0</td>\n",
       "      <td>2.026000e-01</td>\n",
       "      <td>1.541000e-01</td>\n",
       "      <td>0.000000e+00</td>\n",
       "      <td>9.590000e-02</td>\n",
       "      <td>0.1634</td>\n",
       "      <td>0.2683</td>\n",
       "      <td>8.861000e-01</td>\n",
       "    </tr>\n",
       "    <tr>\n",
       "      <th>소매업매출비율</th>\n",
       "      <td>158.0</td>\n",
       "      <td>5.055000e-01</td>\n",
       "      <td>2.547000e-01</td>\n",
       "      <td>0.000000e+00</td>\n",
       "      <td>2.858000e-01</td>\n",
       "      <td>0.4936</td>\n",
       "      <td>0.7187</td>\n",
       "      <td>9.931000e-01</td>\n",
       "    </tr>\n",
       "    <tr>\n",
       "      <th>외식업종다양성</th>\n",
       "      <td>158.0</td>\n",
       "      <td>1.615500e+00</td>\n",
       "      <td>5.267000e-01</td>\n",
       "      <td>0.000000e+00</td>\n",
       "      <td>1.441500e+00</td>\n",
       "      <td>1.7762</td>\n",
       "      <td>1.9613</td>\n",
       "      <td>2.259700e+00</td>\n",
       "    </tr>\n",
       "    <tr>\n",
       "      <th>서비스업종다양성</th>\n",
       "      <td>158.0</td>\n",
       "      <td>2.136100e+00</td>\n",
       "      <td>5.809000e-01</td>\n",
       "      <td>0.000000e+00</td>\n",
       "      <td>2.017800e+00</td>\n",
       "      <td>2.2981</td>\n",
       "      <td>2.4981</td>\n",
       "      <td>2.854300e+00</td>\n",
       "    </tr>\n",
       "    <tr>\n",
       "      <th>소매업종다양성</th>\n",
       "      <td>158.0</td>\n",
       "      <td>2.085900e+00</td>\n",
       "      <td>5.400000e-01</td>\n",
       "      <td>0.000000e+00</td>\n",
       "      <td>1.947500e+00</td>\n",
       "      <td>2.2615</td>\n",
       "      <td>2.4219</td>\n",
       "      <td>2.679600e+00</td>\n",
       "    </tr>\n",
       "    <tr>\n",
       "      <th>상가밀도</th>\n",
       "      <td>158.0</td>\n",
       "      <td>1.410820e+03</td>\n",
       "      <td>1.841430e+03</td>\n",
       "      <td>1.132600e+00</td>\n",
       "      <td>3.502020e+02</td>\n",
       "      <td>872.0921</td>\n",
       "      <td>1881.3337</td>\n",
       "      <td>1.245187e+04</td>\n",
       "    </tr>\n",
       "    <tr>\n",
       "      <th>주중 / 주말</th>\n",
       "      <td>158.0</td>\n",
       "      <td>2.140700e+00</td>\n",
       "      <td>1.453000e-01</td>\n",
       "      <td>1.449400e+00</td>\n",
       "      <td>2.053400e+00</td>\n",
       "      <td>2.1384</td>\n",
       "      <td>2.2175</td>\n",
       "      <td>2.743400e+00</td>\n",
       "    </tr>\n",
       "    <tr>\n",
       "      <th>06 to 18 / 18 to 06</th>\n",
       "      <td>158.0</td>\n",
       "      <td>1.784700e+00</td>\n",
       "      <td>3.597000e-01</td>\n",
       "      <td>1.173300e+00</td>\n",
       "      <td>1.538400e+00</td>\n",
       "      <td>1.7234</td>\n",
       "      <td>1.9332</td>\n",
       "      <td>3.640300e+00</td>\n",
       "    </tr>\n",
       "    <tr>\n",
       "      <th>개별공시지가 변화 차분평균</th>\n",
       "      <td>158.0</td>\n",
       "      <td>1.055687e+05</td>\n",
       "      <td>8.518689e+04</td>\n",
       "      <td>-3.158750e+04</td>\n",
       "      <td>5.274284e+04</td>\n",
       "      <td>72851.5860</td>\n",
       "      <td>111828.6082</td>\n",
       "      <td>4.353741e+05</td>\n",
       "    </tr>\n",
       "    <tr>\n",
       "      <th>(주거인구+직장인구) / 유동인구</th>\n",
       "      <td>158.0</td>\n",
       "      <td>3.576000e-01</td>\n",
       "      <td>2.563000e-01</td>\n",
       "      <td>0.000000e+00</td>\n",
       "      <td>1.746000e-01</td>\n",
       "      <td>0.2774</td>\n",
       "      <td>0.4951</td>\n",
       "      <td>1.304700e+00</td>\n",
       "    </tr>\n",
       "    <tr>\n",
       "      <th>주거인구/직장인구</th>\n",
       "      <td>158.0</td>\n",
       "      <td>1.017190e+01</td>\n",
       "      <td>2.381140e+01</td>\n",
       "      <td>0.000000e+00</td>\n",
       "      <td>2.186900e+00</td>\n",
       "      <td>5.0938</td>\n",
       "      <td>9.6907</td>\n",
       "      <td>2.723628e+02</td>\n",
       "    </tr>\n",
       "    <tr>\n",
       "      <th>10_30 / 40_60</th>\n",
       "      <td>158.0</td>\n",
       "      <td>5.811000e-01</td>\n",
       "      <td>1.082000e-01</td>\n",
       "      <td>3.686000e-01</td>\n",
       "      <td>5.120000e-01</td>\n",
       "      <td>0.5667</td>\n",
       "      <td>0.6348</td>\n",
       "      <td>1.035000e+00</td>\n",
       "    </tr>\n",
       "    <tr>\n",
       "      <th>점포밀도</th>\n",
       "      <td>158.0</td>\n",
       "      <td>7.102790e+01</td>\n",
       "      <td>7.889540e+01</td>\n",
       "      <td>0.000000e+00</td>\n",
       "      <td>3.211000e+01</td>\n",
       "      <td>52.5429</td>\n",
       "      <td>88.4753</td>\n",
       "      <td>6.343569e+02</td>\n",
       "    </tr>\n",
       "  </tbody>\n",
       "</table>\n",
       "</div>"
      ],
      "text/plain": [
       "                     count          mean           std           min  \\\n",
       "BAS_AR               158.0  1.899000e-01  2.579000e-01  3.340000e-02   \n",
       "도로길이고려_전체통합도         158.0  3.460538e+02  1.702782e+02  4.846330e+01   \n",
       "도로길이고려_국부통합도_R3      158.0  4.082227e+03  2.019466e+03  5.015583e+02   \n",
       "기초구역평균_전체통합도         158.0  9.470000e-02  1.790000e-02  5.320000e-02   \n",
       "기초구역평균_국부통합도_R3      158.0  1.089200e+00  8.480000e-02  8.628000e-01   \n",
       "도로율                  158.0  2.805440e+01  1.296310e+01  1.400000e-02   \n",
       "평균 도로 길이             158.0  1.674987e+02  8.267760e+01  4.905350e+01   \n",
       "아파트시세변화_차분평균         158.0  3.022570e+02  6.622982e+02 -8.800000e+02   \n",
       "평균영업기간               158.0  1.331065e+02  3.174560e+01  4.118140e+01   \n",
       "평균폐업기간               158.0  1.028609e+02  4.568910e+01  0.000000e+00   \n",
       "평균최근접역거리             158.0  7.244000e-01  4.906000e-01  1.039000e-01   \n",
       "평균최근접정류장거리           158.0  8.620000e-02  4.350000e-02  3.350000e-02   \n",
       "건물노후도                158.0  3.029030e+02  7.883370e+01  0.000000e+00   \n",
       "공동주택 비율              158.0  3.923350e+01  2.778070e+01  0.000000e+00   \n",
       "근린생활시설 비율            158.0  2.868860e+01  2.317290e+01  0.000000e+00   \n",
       "단독주택 비율              158.0  1.625570e+01  1.959080e+01  0.000000e+00   \n",
       "아파트 가구수              158.0  6.118481e+02  1.035237e+03  0.000000e+00   \n",
       "외식업매출월평균변화량          158.0  2.463029e+05  4.859609e+06 -1.085855e+07   \n",
       "서비스업매출월평균변화량         158.0  8.821650e+05  5.004590e+06 -2.931084e+07   \n",
       "소매업매출월평균변화량          158.0 -3.622442e+06  1.432915e+07 -1.088539e+08   \n",
       "외식업매출비율              158.0  2.729000e-01  1.935000e-01  0.000000e+00   \n",
       "서비스업매출비율             158.0  2.026000e-01  1.541000e-01  0.000000e+00   \n",
       "소매업매출비율              158.0  5.055000e-01  2.547000e-01  0.000000e+00   \n",
       "외식업종다양성              158.0  1.615500e+00  5.267000e-01  0.000000e+00   \n",
       "서비스업종다양성             158.0  2.136100e+00  5.809000e-01  0.000000e+00   \n",
       "소매업종다양성              158.0  2.085900e+00  5.400000e-01  0.000000e+00   \n",
       "상가밀도                 158.0  1.410820e+03  1.841430e+03  1.132600e+00   \n",
       "주중 / 주말              158.0  2.140700e+00  1.453000e-01  1.449400e+00   \n",
       "06 to 18 / 18 to 06  158.0  1.784700e+00  3.597000e-01  1.173300e+00   \n",
       "개별공시지가 변화 차분평균       158.0  1.055687e+05  8.518689e+04 -3.158750e+04   \n",
       "(주거인구+직장인구) / 유동인구   158.0  3.576000e-01  2.563000e-01  0.000000e+00   \n",
       "주거인구/직장인구            158.0  1.017190e+01  2.381140e+01  0.000000e+00   \n",
       "10_30 / 40_60        158.0  5.811000e-01  1.082000e-01  3.686000e-01   \n",
       "점포밀도                 158.0  7.102790e+01  7.889540e+01  0.000000e+00   \n",
       "\n",
       "                              25%          50%          75%           max  \n",
       "BAS_AR               8.820000e-02       0.1182       0.2089  2.648800e+00  \n",
       "도로길이고려_전체통합도         2.232449e+02     304.9494     441.1728  9.384161e+02  \n",
       "도로길이고려_국부통합도_R3      2.664545e+03    3754.0121    5150.0262  1.173155e+04  \n",
       "기초구역평균_전체통합도         8.480000e-02       0.0953       0.1058  1.795000e-01  \n",
       "기초구역평균_국부통합도_R3      1.048900e+00       1.0904       1.1414  1.332400e+00  \n",
       "도로율                  1.944000e+01      27.6773      36.1936  6.253530e+01  \n",
       "평균 도로 길이             1.135915e+02     144.3352     202.4410  5.357467e+02  \n",
       "아파트시세변화_차분평균         0.000000e+00      53.3130     379.8075  3.177330e+03  \n",
       "평균영업기간               1.177432e+02     132.4636     151.0212  2.527471e+02  \n",
       "평균폐업기간               7.807840e+01     100.6919     126.1925  2.444929e+02  \n",
       "평균최근접역거리             3.503000e-01       0.5578       0.9591  1.908900e+00  \n",
       "평균최근접정류장거리           6.120000e-02       0.0759       0.0968  3.319000e-01  \n",
       "건물노후도                2.709286e+02     312.3816     345.4964  4.730000e+02  \n",
       "공동주택 비율              1.907500e+01      38.7000      55.8250  1.000000e+02  \n",
       "근린생활시설 비율            1.205000e+01      23.4000      39.0250  1.000000e+02  \n",
       "단독주택 비율              1.325000e+00       9.4500      27.0500  1.000000e+02  \n",
       "아파트 가구수              0.000000e+00      86.5000     850.7500  5.512000e+03  \n",
       "외식업매출월평균변화량         -1.133612e+06 -128483.3276  379357.5560  4.006098e+07  \n",
       "서비스업매출월평균변화량        -4.534332e+05   38218.8552  974913.6772  2.703984e+07  \n",
       "소매업매출월평균변화량         -3.605129e+06 -641018.3190  409640.8536  3.276200e+07  \n",
       "외식업매출비율              1.190000e-01       0.2502       0.3832  8.715000e-01  \n",
       "서비스업매출비율             9.590000e-02       0.1634       0.2683  8.861000e-01  \n",
       "소매업매출비율              2.858000e-01       0.4936       0.7187  9.931000e-01  \n",
       "외식업종다양성              1.441500e+00       1.7762       1.9613  2.259700e+00  \n",
       "서비스업종다양성             2.017800e+00       2.2981       2.4981  2.854300e+00  \n",
       "소매업종다양성              1.947500e+00       2.2615       2.4219  2.679600e+00  \n",
       "상가밀도                 3.502020e+02     872.0921    1881.3337  1.245187e+04  \n",
       "주중 / 주말              2.053400e+00       2.1384       2.2175  2.743400e+00  \n",
       "06 to 18 / 18 to 06  1.538400e+00       1.7234       1.9332  3.640300e+00  \n",
       "개별공시지가 변화 차분평균       5.274284e+04   72851.5860  111828.6082  4.353741e+05  \n",
       "(주거인구+직장인구) / 유동인구   1.746000e-01       0.2774       0.4951  1.304700e+00  \n",
       "주거인구/직장인구            2.186900e+00       5.0938       9.6907  2.723628e+02  \n",
       "10_30 / 40_60        5.120000e-01       0.5667       0.6348  1.035000e+00  \n",
       "점포밀도                 3.211000e+01      52.5429      88.4753  6.343569e+02  "
      ]
     },
     "execution_count": 17,
     "metadata": {},
     "output_type": "execute_result"
    }
   ],
   "source": [
    "basis_stat = clean_data.iloc[:,1:-3].describe().transpose().apply(lambda x : round(x,4))\n",
    "basis_stat"
   ]
  },
  {
   "cell_type": "code",
   "execution_count": 18,
   "id": "c4515289",
   "metadata": {
    "collapsed": false,
    "execution": {
     "iopub.execute_input": "2021-12-29T05:02:59.002881Z",
     "iopub.status.busy": "2021-12-29T05:02:59.002881Z",
     "iopub.status.idle": "2021-12-29T05:02:59.032763Z",
     "shell.execute_reply": "2021-12-29T05:02:59.032266Z",
     "shell.execute_reply.started": "2021-12-29T05:02:59.002881Z"
    },
    "jupyter": {
     "outputs_hidden": false
    },
    "pycharm": {
     "name": "#%%\n"
    },
    "tags": []
   },
   "outputs": [],
   "source": [
    "basis_stat.drop(['25%','50%','75%'],axis=1).to_csv('../data/전처리 파일/기초통계량.csv',encoding='euc-kr')"
   ]
  },
  {
   "cell_type": "markdown",
   "id": "80a7ab10-2deb-4d76-a88c-6132c12a2979",
   "metadata": {},
   "source": [
    "## 1.3 데이터 분포 확인"
   ]
  },
  {
   "cell_type": "code",
   "execution_count": 19,
   "id": "a03f3430",
   "metadata": {
    "collapsed": false,
    "execution": {
     "iopub.execute_input": "2021-12-29T05:02:59.033766Z",
     "iopub.status.busy": "2021-12-29T05:02:59.033766Z",
     "iopub.status.idle": "2021-12-29T05:02:59.187009Z",
     "shell.execute_reply": "2021-12-29T05:02:59.186938Z",
     "shell.execute_reply.started": "2021-12-29T05:02:59.033766Z"
    },
    "jupyter": {
     "outputs_hidden": false
    },
    "pycharm": {
     "name": "#%%\n"
    },
    "tags": []
   },
   "outputs": [
    {
     "data": {
      "image/png": "[encoded data removed]",
      "text/plain": [
       "<Figure size 640x480 with 1 Axes>"
      ]
     },
     "metadata": {},
     "output_type": "display_data"
    }
   ],
   "source": [
    "sns.distplot(clean_data['평균영업기간'])\n",
    "plt.show()"
   ]
  },
  {
   "cell_type": "code",
   "execution_count": 20,
   "id": "66d90043-db17-4b2c-95da-5ac6507a6cea",
   "metadata": {
    "execution": {
     "iopub.execute_input": "2021-12-29T05:02:59.188022Z",
     "iopub.status.busy": "2021-12-29T05:02:59.188022Z",
     "iopub.status.idle": "2021-12-29T05:02:59.219539Z",
     "shell.execute_reply": "2021-12-29T05:02:59.217296Z",
     "shell.execute_reply.started": "2021-12-29T05:02:59.188022Z"
    },
    "tags": []
   },
   "outputs": [
    {
     "ename": "NameError",
     "evalue": "name 'try_data' is not defined",
     "output_type": "error",
     "traceback": [
      "\u001b[1;31m---------------------------------------------------------------------------\u001b[0m",
      "\u001b[1;31mNameError\u001b[0m                                 Traceback (most recent call last)",
      "\u001b[1;32m<ipython-input-20-dd1e6bcd8e2c>\u001b[0m in \u001b[0;36m<module>\u001b[1;34m\u001b[0m\n\u001b[0;32m      2\u001b[0m \u001b[0mdX\u001b[0m \u001b[1;33m=\u001b[0m \u001b[0mclean_data\u001b[0m\u001b[1;33m.\u001b[0m\u001b[0miloc\u001b[0m\u001b[1;33m[\u001b[0m\u001b[1;33m:\u001b[0m\u001b[1;33m,\u001b[0m\u001b[0mind_var_col\u001b[0m\u001b[1;33m]\u001b[0m\u001b[1;33m\u001b[0m\u001b[1;33m\u001b[0m\u001b[0m\n\u001b[0;32m      3\u001b[0m \u001b[1;33m\u001b[0m\u001b[0m\n\u001b[1;32m----> 4\u001b[1;33m \u001b[0mcol_list\u001b[0m \u001b[1;33m=\u001b[0m \u001b[0mlist\u001b[0m\u001b[1;33m(\u001b[0m\u001b[0mtry_data\u001b[0m\u001b[1;33m)\u001b[0m\u001b[1;33m\u001b[0m\u001b[1;33m\u001b[0m\u001b[0m\n\u001b[0m\u001b[0;32m      5\u001b[0m \u001b[0mnrows\u001b[0m \u001b[1;33m=\u001b[0m \u001b[0mint\u001b[0m\u001b[1;33m(\u001b[0m\u001b[0mlen\u001b[0m\u001b[1;33m(\u001b[0m\u001b[0mcol_list\u001b[0m\u001b[1;33m)\u001b[0m\u001b[1;33m/\u001b[0m\u001b[1;36m3\u001b[0m\u001b[1;33m)\u001b[0m\u001b[1;33m+\u001b[0m\u001b[1;36m1\u001b[0m\u001b[1;33m\u001b[0m\u001b[1;33m\u001b[0m\u001b[0m\n\u001b[0;32m      6\u001b[0m \u001b[0mncols\u001b[0m \u001b[1;33m=\u001b[0m \u001b[1;36m3\u001b[0m\u001b[1;33m\u001b[0m\u001b[1;33m\u001b[0m\u001b[0m\n",
      "\u001b[1;31mNameError\u001b[0m: name 'try_data' is not defined"
     ]
    }
   ],
   "source": [
    "ind_var_col = list(range(1,9)) + list(range(11,35))\n",
    "dX = clean_data.iloc[:,ind_var_col]\n",
    "\n",
    "col_list = list(try_data)\n",
    "nrows = int(len(col_list)/3)+1\n",
    "ncols = 3\n",
    "\n",
    "fig, axes = plt.subplots(nrows=nrows,ncols=ncols,figsize=(15,30),constrained_layout=True)\n",
    "color = ['red','yellow','navy','green','blue','magenta','violet','skyblue']\n",
    "\n",
    "for i in range(nrows):\n",
    "    for j in range(ncols):\n",
    "        if (ncols*i+j) == len(col_list):\n",
    "            break\n",
    "        \n",
    "        sns.distplot(ax=axes[i,j], x=try_data[col_list[(ncols*i+j)]], kde=True,color=color[(ncols*i+j) % len(color)],rug=True)\n",
    "        axes[i,j].set_title(col_list[ncols*i+j])\n",
    "\n",
    "plt.savefig('../data/결과 이미지/기초통계량 분포.jpg')\n",
    "plt.show()"
   ]
  },
  {
   "cell_type": "markdown",
   "id": "eaf4ed58-7b8f-4305-a392-52063a4fc324",
   "metadata": {},
   "source": [
    "## 1.4 다중공선성"
   ]
  },
  {
   "cell_type": "code",
   "execution_count": 21,
   "id": "7c400303-6d82-4aa6-827c-f3f0f92df5c9",
   "metadata": {
    "execution": {
     "iopub.execute_input": "2021-12-29T05:03:21.893403Z",
     "iopub.status.busy": "2021-12-29T05:03:21.892336Z",
     "iopub.status.idle": "2021-12-29T05:03:21.958757Z",
     "shell.execute_reply": "2021-12-29T05:03:21.958262Z",
     "shell.execute_reply.started": "2021-12-29T05:03:21.893403Z"
    },
    "tags": []
   },
   "outputs": [
    {
     "data": {
      "text/html": [
       "<div>\n",
       "<style scoped>\n",
       "    .dataframe tbody tr th:only-of-type {\n",
       "        vertical-align: middle;\n",
       "    }\n",
       "\n",
       "    .dataframe tbody tr th {\n",
       "        vertical-align: top;\n",
       "    }\n",
       "\n",
       "    .dataframe thead th {\n",
       "        text-align: right;\n",
       "    }\n",
       "</style>\n",
       "<table border=\"1\" class=\"dataframe\">\n",
       "  <thead>\n",
       "    <tr style=\"text-align: right;\">\n",
       "      <th></th>\n",
       "      <th>VIF Factor</th>\n",
       "      <th>features</th>\n",
       "    </tr>\n",
       "  </thead>\n",
       "  <tbody>\n",
       "    <tr>\n",
       "      <th>22</th>\n",
       "      <td>40.004254</td>\n",
       "      <td>소매업매출비율</td>\n",
       "    </tr>\n",
       "    <tr>\n",
       "      <th>23</th>\n",
       "      <td>62.069321</td>\n",
       "      <td>서비스업종다양성</td>\n",
       "    </tr>\n",
       "    <tr>\n",
       "      <th>24</th>\n",
       "      <td>68.344982</td>\n",
       "      <td>소매업종다양성</td>\n",
       "    </tr>\n",
       "    <tr>\n",
       "      <th>25</th>\n",
       "      <td>89.393088</td>\n",
       "      <td>06 to 18 / 18 to 06</td>\n",
       "    </tr>\n",
       "    <tr>\n",
       "      <th>26</th>\n",
       "      <td>136.778307</td>\n",
       "      <td>10_30 / 40_60</td>\n",
       "    </tr>\n",
       "    <tr>\n",
       "      <th>27</th>\n",
       "      <td>171.930560</td>\n",
       "      <td>도로길이고려_국부통합도_R3</td>\n",
       "    </tr>\n",
       "    <tr>\n",
       "      <th>28</th>\n",
       "      <td>186.220858</td>\n",
       "      <td>도로길이고려_전체통합도</td>\n",
       "    </tr>\n",
       "    <tr>\n",
       "      <th>29</th>\n",
       "      <td>187.783686</td>\n",
       "      <td>기초구역평균_전체통합도</td>\n",
       "    </tr>\n",
       "    <tr>\n",
       "      <th>30</th>\n",
       "      <td>347.106332</td>\n",
       "      <td>주중 / 주말</td>\n",
       "    </tr>\n",
       "    <tr>\n",
       "      <th>31</th>\n",
       "      <td>451.039756</td>\n",
       "      <td>기초구역평균_국부통합도_R3</td>\n",
       "    </tr>\n",
       "  </tbody>\n",
       "</table>\n",
       "</div>"
      ],
      "text/plain": [
       "    VIF Factor             features\n",
       "22   40.004254              소매업매출비율\n",
       "23   62.069321             서비스업종다양성\n",
       "24   68.344982              소매업종다양성\n",
       "25   89.393088  06 to 18 / 18 to 06\n",
       "26  136.778307        10_30 / 40_60\n",
       "27  171.930560      도로길이고려_국부통합도_R3\n",
       "28  186.220858         도로길이고려_전체통합도\n",
       "29  187.783686         기초구역평균_전체통합도\n",
       "30  347.106332              주중 / 주말\n",
       "31  451.039756      기초구역평균_국부통합도_R3"
      ]
     },
     "execution_count": 21,
     "metadata": {},
     "output_type": "execute_result"
    }
   ],
   "source": [
    "def check_vif(dX):\n",
    "    vif = pd.DataFrame()\n",
    "    vif['VIF Factor'] = [variance_inflation_factor(dX.values,i) for i in range(dX.values.shape[1])] \n",
    "    vif['features'] = dX.columns\n",
    "    vif = vif.sort_values(\"VIF Factor\").reset_index(drop=True)\n",
    "    \n",
    "    return vif\n",
    "\n",
    "result = check_vif(clean_data.iloc[:,ind_var_col])\n",
    "result.iloc[-10:,]"
   ]
  },
  {
   "cell_type": "code",
   "execution_count": 22,
   "id": "cabab9c5-85cd-46d0-a097-acd2b0077c17",
   "metadata": {
    "execution": {
     "iopub.execute_input": "2021-12-29T05:03:22.520896Z",
     "iopub.status.busy": "2021-12-29T05:03:22.520139Z",
     "iopub.status.idle": "2021-12-29T05:03:22.937484Z",
     "shell.execute_reply": "2021-12-29T05:03:22.936987Z",
     "shell.execute_reply.started": "2021-12-29T05:03:22.520896Z"
    },
    "tags": []
   },
   "outputs": [
    {
     "data": {
      "text/plain": [
       "['외식업매출월평균변화량',\n",
       " '소매업매출월평균변화량',\n",
       " '아파트시세변화_차분평균',\n",
       " '서비스업매출월평균변화량',\n",
       " '주거인구/직장인구',\n",
       " '아파트 가구수',\n",
       " 'BAS_AR',\n",
       " '단독주택 비율',\n",
       " '서비스업매출비율',\n",
       " '외식업매출비율',\n",
       " '근린생활시설 비율',\n",
       " '개별공시지가 변화 차분평균',\n",
       " '평균최근접역거리',\n",
       " '공동주택 비율',\n",
       " '(주거인구+직장인구) / 유동인구',\n",
       " '평균 도로 길이',\n",
       " '도로길이고려_국부통합도_R3',\n",
       " '점포밀도',\n",
       " '상가밀도',\n",
       " '평균최근접정류장거리']"
      ]
     },
     "execution_count": 22,
     "metadata": {},
     "output_type": "execute_result"
    }
   ],
   "source": [
    "def RFE(df):\n",
    "    flag = True\n",
    "    next_col = list(df.columns)\n",
    "    \n",
    "    while flag:\n",
    "        local = df.loc[:,next_col]\n",
    "        result = check_vif(local)\n",
    "\n",
    "        if len(result[result['VIF Factor'] > 10]) == 0:\n",
    "            return result # 유일한 탈출 조건\n",
    "        \n",
    "#         display(result[-7:])\n",
    "        next_col = result.iloc[:-1,1].values.tolist()\n",
    "        \n",
    "vif_result = RFE(dX)\n",
    "optimal_feature = vif_result['features'].values.tolist()\n",
    "optimal_feature"
   ]
  },
  {
   "cell_type": "markdown",
   "id": "2c58ea76",
   "metadata": {
    "pycharm": {
     "name": "#%% md\n"
    }
   },
   "source": [
    "# 2 OLS"
   ]
  },
  {
   "cell_type": "markdown",
   "id": "57149a8d-72f8-4ad5-b4b9-f8bb5859e88d",
   "metadata": {},
   "source": [
    "## 2.1 Modeling"
   ]
  },
  {
   "cell_type": "code",
   "execution_count": null,
   "id": "dd2e9952-8562-4eee-a693-f0f65a470796",
   "metadata": {
    "execution": {
     "iopub.status.busy": "2021-12-29T05:02:59.222530Z",
     "iopub.status.idle": "2021-12-29T05:02:59.222530Z",
     "shell.execute_reply": "2021-12-29T05:02:59.222530Z"
    },
    "tags": []
   },
   "outputs": [],
   "source": [
    "import statsmodels.api as sm\n",
    "\n",
    "X = clean_data.iloc[:,ind_var_col]\n",
    "X = sm.add_constant(X)\n",
    "y = clean_data.loc[:,'평균영업기간'].values\n",
    "    \n",
    "ols_model = sm.OLS(y,X)\n",
    "results = ols_model.fit()\n",
    "results.summary()"
   ]
  },
  {
   "cell_type": "markdown",
   "id": "4fc333c9-9ebc-4ef9-8cc4-4209169f62da",
   "metadata": {
    "tags": []
   },
   "source": [
    "## 2.2 변수 특성별 모델링\n",
    "1. 건축물 특성\n",
    "    - 단독주택 연면적 비율\n",
    "    - 공동주택 연면적 비율\n",
    "    - 근린생활시설 연면적 비율\n",
    "    - 건물노후도\n",
    "2. 상권특성\n",
    "    - 점포일도\n",
    "    - 상권면적\n",
    "    - 상가밀도\n",
    "    - 개별공시지가\n",
    "    - 아파트 시세 변화\n",
    "3. 도로특성\n",
    "    - 도로의 평균 길이\n",
    "    - 도로율\n",
    "    - 국부통합도\n",
    "    - 전체통합도\n",
    "4. 인구특성\n",
    "    - 아파트 세대수\n",
    "    - 외부 유입 인구 비율\n",
    "    - 상주/직장 인구 비율\n",
    "    - 방문객 연령\n",
    "    - 주야간 방문 비율\n",
    "    - 평일주말 방문 비율\n",
    "5. 업종특성\n",
    "    - 외식업, 서비스업, 소매업 업종 다양성\n",
    "    - 외식업, 서비스업, 소매업 매출 비율\n",
    "    - 외식업, 서비스업, 소매업 매출 변화율\n",
    "6. 접근성\n",
    "    - 지하철역까지의 거리\n",
    "    - 버스정류장까지의 거리"
   ]
  },
  {
   "cell_type": "code",
   "execution_count": null,
   "id": "96f8180b-7c81-4e70-a13c-9e8023c47f41",
   "metadata": {
    "execution": {
     "iopub.status.busy": "2021-12-29T05:02:59.223526Z",
     "iopub.status.idle": "2021-12-29T05:02:59.223526Z",
     "shell.execute_reply": "2021-12-29T05:02:59.223526Z"
    },
    "tags": []
   },
   "outputs": [],
   "source": [
    "building_col = ['단독주택 비율','공동주택 비율','근린생활시설 비율','건물노후도']\n",
    "market_col = ['점포밀도','BAS_AR','상가밀도','개별공시지가 변화 차분평균','아파트시세변화_차분평균']\n",
    "road_col = ['평균 도로 길이','도로율','기초구역평균_국부통합도_R3','기초구역평균_전체통합도','도로길이고려_전체통합도'\n",
    "            ,'도로길이고려_국부통합도_R3']\n",
    "pop_col = ['아파트 가구수','(주거인구+직장인구) / 유동인구','주거인구/직장인구','06 to 18 / 18 to 06'\n",
    "           ,'10_30 / 40_60','주중 / 주말']\n",
    "kind_col = ['외식업종다양성','서비스업종다양성','소매업종다양성','외식업매출월평균변화량','서비스업매출월평균변화량'\n",
    "            ,'소매업매출월평균변화량','외식업매출비율','서비스업매출비율','소매업매출비율']\n",
    "close_col = ['평균최근접정류장거리','평균최근접역거리']\n",
    "\n",
    "col_list = [building_col, market_col, road_col, pop_col, kind_col, close_col]\n",
    "char_var_list = ['건물 특성','상권 특성','도로 특성','인구 특성','업종 특성','접근성']"
   ]
  },
  {
   "cell_type": "code",
   "execution_count": null,
   "id": "319b0765-1664-45cf-82e9-fbf833043199",
   "metadata": {
    "execution": {
     "iopub.status.busy": "2021-12-29T05:02:59.223526Z",
     "iopub.status.idle": "2021-12-29T05:02:59.224536Z",
     "shell.execute_reply": "2021-12-29T05:02:59.224536Z"
    },
    "tags": []
   },
   "outputs": [],
   "source": [
    "import statsmodels.api as sm"
   ]
  },
  {
   "cell_type": "code",
   "execution_count": null,
   "id": "5cf1d801-a730-46f0-89be-75a41e8291b7",
   "metadata": {
    "execution": {
     "iopub.status.busy": "2021-12-29T05:02:59.224536Z",
     "iopub.status.idle": "2021-12-29T05:02:59.225520Z",
     "shell.execute_reply": "2021-12-29T05:02:59.224536Z"
    },
    "tags": []
   },
   "outputs": [],
   "source": [
    "for col, char in zip(col_list,char_var_list):\n",
    "    X = clean_data.loc[:,col]\n",
    "    X = sm.add_constant(X)\n",
    "    y = clean_data.loc[:,'평균영업기간'].values\n",
    "    \n",
    "    ols_model = sm.OLS(y,X)\n",
    "    results = ols_model.fit()\n",
    "    print('='*30+char+'='*30)\n",
    "    display(results.summary())\n",
    "    print('\\n')"
   ]
  },
  {
   "cell_type": "markdown",
   "id": "dfa18f9d-41a1-47e9-8e9b-dabaf3979782",
   "metadata": {},
   "source": [
    "## 2.3 특성별 다중공선성 제거"
   ]
  },
  {
   "cell_type": "code",
   "execution_count": null,
   "id": "52a8f745-681b-4ebd-ae59-89cd1305ae84",
   "metadata": {
    "execution": {
     "iopub.status.busy": "2021-12-29T05:02:59.225520Z",
     "iopub.status.idle": "2021-12-29T05:02:59.225520Z",
     "shell.execute_reply": "2021-12-29T05:02:59.225520Z"
    },
    "tags": []
   },
   "outputs": [],
   "source": [
    "rm_collinearity = []\n",
    "\n",
    "for col in col_list:\n",
    "    result = RFE(clean_data.loc[:,col])\n",
    "    rm_collinearity.append(result['features'].values)"
   ]
  },
  {
   "cell_type": "code",
   "execution_count": null,
   "id": "74e5968a-a1fb-4cb0-807e-c9501ab9711d",
   "metadata": {
    "execution": {
     "iopub.status.busy": "2021-12-29T05:02:59.226517Z",
     "iopub.status.idle": "2021-12-29T05:02:59.226517Z",
     "shell.execute_reply": "2021-12-29T05:02:59.226517Z"
    },
    "tags": []
   },
   "outputs": [],
   "source": [
    "building_col = ['단독주택 비율','공동주택 비율','근린생활시설 비율','건물노후도']\n",
    "market_col = ['점포밀도','BAS_AR','상가밀도','개별공시지가 변화 차분평균','아파트시세변화_차분평균']\n",
    "road_col = ['평균 도로 길이','도로율','기초구역평균_국부통합도_R3','기초구역평균_전체통합도','도로길이고려_전체통합도'\n",
    "            ,'도로길이고려_국부통합도_R3']\n",
    "pop_col = ['아파트 가구수','(주거인구+직장인구) / 유동인구','주거인구/직장인구','06 to 18 / 18 to 06'\n",
    "           ,'10_30 / 40_60','주중 / 주말']\n",
    "kind_col = ['외식업종다양성','서비스업종다양성','소매업종다양성','외식업매출월평균변화량','서비스업매출월평균변화량'\n",
    "            ,'소매업매출월평균변화량','외식업매출비율','서비스업매출비율','소매업매출비율']\n",
    "close_col = ['평균최근접정류장거리','평균최근접역거리']"
   ]
  },
  {
   "cell_type": "code",
   "execution_count": null,
   "id": "1b0037f0-ddef-4856-b15e-90f2329c64a5",
   "metadata": {
    "execution": {
     "iopub.status.busy": "2021-12-29T05:02:59.227512Z",
     "iopub.status.idle": "2021-12-29T05:02:59.228515Z",
     "shell.execute_reply": "2021-12-29T05:02:59.227512Z"
    },
    "tags": []
   },
   "outputs": [],
   "source": [
    "rm_collinearity"
   ]
  },
  {
   "cell_type": "code",
   "execution_count": null,
   "id": "de6e65fb-84c8-46fa-9276-7514b5eeb7a2",
   "metadata": {
    "execution": {
     "iopub.status.busy": "2021-12-29T05:02:59.229506Z",
     "iopub.status.idle": "2021-12-29T05:02:59.229506Z",
     "shell.execute_reply": "2021-12-29T05:02:59.229506Z"
    }
   },
   "outputs": [],
   "source": [
    "-"
   ]
  },
  {
   "cell_type": "markdown",
   "id": "f4ab9f73-a852-441b-a9f7-aaffe0060444",
   "metadata": {
    "tags": []
   },
   "source": [
    "# 3. 지리가중회귀분석(MGWR)"
   ]
  },
  {
   "cell_type": "markdown",
   "id": "bf74bb0d-487e-4c06-ad43-33fd2cffc6df",
   "metadata": {
    "tags": []
   },
   "source": [
    "## 3.1 독립변수, 종속변수 설정"
   ]
  },
  {
   "cell_type": "code",
   "execution_count": 23,
   "id": "3477afd7",
   "metadata": {
    "collapsed": false,
    "execution": {
     "iopub.execute_input": "2021-12-29T05:03:30.080628Z",
     "iopub.status.busy": "2021-12-29T05:03:30.080628Z",
     "iopub.status.idle": "2021-12-29T05:03:30.090968Z",
     "shell.execute_reply": "2021-12-29T05:03:30.090968Z",
     "shell.execute_reply.started": "2021-12-29T05:03:30.080628Z"
    },
    "jupyter": {
     "outputs_hidden": false
    },
    "pycharm": {
     "name": "#%%\n"
    },
    "tags": []
   },
   "outputs": [],
   "source": [
    "drop_list = [col for col in list(dX) if '변화' in col]\n",
    "drop_list += ['건물노후도','BAS_AR','BAS_ID','x','y','평균폐업기간','평균영업기간','geometry']\n",
    "try_data = clean_data.drop(drop_list,axis=1)"
   ]
  },
  {
   "cell_type": "code",
   "execution_count": 24,
   "id": "ba5da38d",
   "metadata": {
    "collapsed": false,
    "execution": {
     "iopub.execute_input": "2021-12-29T05:03:30.551313Z",
     "iopub.status.busy": "2021-12-29T05:03:30.550248Z",
     "iopub.status.idle": "2021-12-29T05:03:30.590301Z",
     "shell.execute_reply": "2021-12-29T05:03:30.589806Z",
     "shell.execute_reply.started": "2021-12-29T05:03:30.551313Z"
    },
    "jupyter": {
     "outputs_hidden": false
    },
    "pycharm": {
     "name": "#%%\n"
    },
    "tags": []
   },
   "outputs": [
    {
     "data": {
      "text/html": [
       "<div>\n",
       "<style scoped>\n",
       "    .dataframe tbody tr th:only-of-type {\n",
       "        vertical-align: middle;\n",
       "    }\n",
       "\n",
       "    .dataframe tbody tr th {\n",
       "        vertical-align: top;\n",
       "    }\n",
       "\n",
       "    .dataframe thead th {\n",
       "        text-align: right;\n",
       "    }\n",
       "</style>\n",
       "<table border=\"1\" class=\"dataframe\">\n",
       "  <thead>\n",
       "    <tr style=\"text-align: right;\">\n",
       "      <th></th>\n",
       "      <th>도로길이고려_전체통합도</th>\n",
       "      <th>도로길이고려_국부통합도_R3</th>\n",
       "      <th>기초구역평균_전체통합도</th>\n",
       "      <th>기초구역평균_국부통합도_R3</th>\n",
       "      <th>도로율</th>\n",
       "      <th>평균 도로 길이</th>\n",
       "      <th>평균최근접역거리</th>\n",
       "      <th>평균최근접정류장거리</th>\n",
       "      <th>공동주택 비율</th>\n",
       "      <th>근린생활시설 비율</th>\n",
       "      <th>...</th>\n",
       "      <th>외식업종다양성</th>\n",
       "      <th>서비스업종다양성</th>\n",
       "      <th>소매업종다양성</th>\n",
       "      <th>상가밀도</th>\n",
       "      <th>주중 / 주말</th>\n",
       "      <th>06 to 18 / 18 to 06</th>\n",
       "      <th>(주거인구+직장인구) / 유동인구</th>\n",
       "      <th>주거인구/직장인구</th>\n",
       "      <th>10_30 / 40_60</th>\n",
       "      <th>점포밀도</th>\n",
       "    </tr>\n",
       "  </thead>\n",
       "  <tbody>\n",
       "    <tr>\n",
       "      <th>0</th>\n",
       "      <td>617.130076</td>\n",
       "      <td>7987.604945</td>\n",
       "      <td>0.060037</td>\n",
       "      <td>0.907932</td>\n",
       "      <td>7.332336</td>\n",
       "      <td>119.253463</td>\n",
       "      <td>1.172716</td>\n",
       "      <td>0.129807</td>\n",
       "      <td>52.9</td>\n",
       "      <td>42.0</td>\n",
       "      <td>...</td>\n",
       "      <td>0.806505</td>\n",
       "      <td>1.609438</td>\n",
       "      <td>2.390980</td>\n",
       "      <td>86.099041</td>\n",
       "      <td>2.342449</td>\n",
       "      <td>2.695669</td>\n",
       "      <td>0.268398</td>\n",
       "      <td>0.149563</td>\n",
       "      <td>0.406896</td>\n",
       "      <td>7.046875</td>\n",
       "    </tr>\n",
       "    <tr>\n",
       "      <th>1</th>\n",
       "      <td>221.397046</td>\n",
       "      <td>2876.534944</td>\n",
       "      <td>0.069661</td>\n",
       "      <td>0.938454</td>\n",
       "      <td>30.948119</td>\n",
       "      <td>211.340833</td>\n",
       "      <td>1.696683</td>\n",
       "      <td>0.091841</td>\n",
       "      <td>79.4</td>\n",
       "      <td>20.2</td>\n",
       "      <td>...</td>\n",
       "      <td>1.386294</td>\n",
       "      <td>1.127535</td>\n",
       "      <td>1.985080</td>\n",
       "      <td>346.978396</td>\n",
       "      <td>2.315147</td>\n",
       "      <td>2.280277</td>\n",
       "      <td>0.254881</td>\n",
       "      <td>0.667946</td>\n",
       "      <td>0.439757</td>\n",
       "      <td>11.523810</td>\n",
       "    </tr>\n",
       "    <tr>\n",
       "      <th>2</th>\n",
       "      <td>341.252878</td>\n",
       "      <td>4162.583064</td>\n",
       "      <td>0.087372</td>\n",
       "      <td>1.084619</td>\n",
       "      <td>25.546905</td>\n",
       "      <td>214.144187</td>\n",
       "      <td>1.697811</td>\n",
       "      <td>0.040418</td>\n",
       "      <td>32.7</td>\n",
       "      <td>2.2</td>\n",
       "      <td>...</td>\n",
       "      <td>2.063956</td>\n",
       "      <td>2.029155</td>\n",
       "      <td>1.314799</td>\n",
       "      <td>876.110071</td>\n",
       "      <td>2.064957</td>\n",
       "      <td>2.339853</td>\n",
       "      <td>0.220317</td>\n",
       "      <td>0.899425</td>\n",
       "      <td>0.508371</td>\n",
       "      <td>143.584416</td>\n",
       "    </tr>\n",
       "    <tr>\n",
       "      <th>3</th>\n",
       "      <td>475.038010</td>\n",
       "      <td>6080.093135</td>\n",
       "      <td>0.084712</td>\n",
       "      <td>1.079401</td>\n",
       "      <td>15.517121</td>\n",
       "      <td>105.011320</td>\n",
       "      <td>1.802432</td>\n",
       "      <td>0.183461</td>\n",
       "      <td>31.3</td>\n",
       "      <td>55.9</td>\n",
       "      <td>...</td>\n",
       "      <td>1.386294</td>\n",
       "      <td>2.364045</td>\n",
       "      <td>2.064017</td>\n",
       "      <td>232.748015</td>\n",
       "      <td>2.273528</td>\n",
       "      <td>2.246297</td>\n",
       "      <td>0.108296</td>\n",
       "      <td>6.308614</td>\n",
       "      <td>0.441902</td>\n",
       "      <td>36.111111</td>\n",
       "    </tr>\n",
       "    <tr>\n",
       "      <th>4</th>\n",
       "      <td>273.241567</td>\n",
       "      <td>3575.514233</td>\n",
       "      <td>0.092931</td>\n",
       "      <td>1.107098</td>\n",
       "      <td>32.713927</td>\n",
       "      <td>134.361765</td>\n",
       "      <td>1.604301</td>\n",
       "      <td>0.084995</td>\n",
       "      <td>14.7</td>\n",
       "      <td>37.5</td>\n",
       "      <td>...</td>\n",
       "      <td>2.096203</td>\n",
       "      <td>2.289920</td>\n",
       "      <td>2.379112</td>\n",
       "      <td>2495.942389</td>\n",
       "      <td>2.016228</td>\n",
       "      <td>2.004099</td>\n",
       "      <td>0.212989</td>\n",
       "      <td>1.959390</td>\n",
       "      <td>0.479893</td>\n",
       "      <td>113.836066</td>\n",
       "    </tr>\n",
       "    <tr>\n",
       "      <th>...</th>\n",
       "      <td>...</td>\n",
       "      <td>...</td>\n",
       "      <td>...</td>\n",
       "      <td>...</td>\n",
       "      <td>...</td>\n",
       "      <td>...</td>\n",
       "      <td>...</td>\n",
       "      <td>...</td>\n",
       "      <td>...</td>\n",
       "      <td>...</td>\n",
       "      <td>...</td>\n",
       "      <td>...</td>\n",
       "      <td>...</td>\n",
       "      <td>...</td>\n",
       "      <td>...</td>\n",
       "      <td>...</td>\n",
       "      <td>...</td>\n",
       "      <td>...</td>\n",
       "      <td>...</td>\n",
       "      <td>...</td>\n",
       "      <td>...</td>\n",
       "    </tr>\n",
       "    <tr>\n",
       "      <th>153</th>\n",
       "      <td>153.150645</td>\n",
       "      <td>2987.551685</td>\n",
       "      <td>0.053224</td>\n",
       "      <td>1.073527</td>\n",
       "      <td>47.846843</td>\n",
       "      <td>118.568545</td>\n",
       "      <td>0.716142</td>\n",
       "      <td>0.044763</td>\n",
       "      <td>32.5</td>\n",
       "      <td>24.5</td>\n",
       "      <td>...</td>\n",
       "      <td>1.690393</td>\n",
       "      <td>2.395908</td>\n",
       "      <td>2.160130</td>\n",
       "      <td>811.656434</td>\n",
       "      <td>2.089179</td>\n",
       "      <td>2.293935</td>\n",
       "      <td>0.168611</td>\n",
       "      <td>8.118938</td>\n",
       "      <td>0.418639</td>\n",
       "      <td>44.145161</td>\n",
       "    </tr>\n",
       "    <tr>\n",
       "      <th>154</th>\n",
       "      <td>339.514691</td>\n",
       "      <td>2241.934926</td>\n",
       "      <td>0.179476</td>\n",
       "      <td>0.910954</td>\n",
       "      <td>3.660437</td>\n",
       "      <td>184.741846</td>\n",
       "      <td>0.559030</td>\n",
       "      <td>0.245583</td>\n",
       "      <td>0.0</td>\n",
       "      <td>100.0</td>\n",
       "      <td>...</td>\n",
       "      <td>0.636514</td>\n",
       "      <td>0.000000</td>\n",
       "      <td>0.000000</td>\n",
       "      <td>2.983469</td>\n",
       "      <td>1.449448</td>\n",
       "      <td>3.640312</td>\n",
       "      <td>0.027235</td>\n",
       "      <td>0.013054</td>\n",
       "      <td>0.451702</td>\n",
       "      <td>3.000000</td>\n",
       "    </tr>\n",
       "    <tr>\n",
       "      <th>155</th>\n",
       "      <td>546.088235</td>\n",
       "      <td>5760.159505</td>\n",
       "      <td>0.097563</td>\n",
       "      <td>0.969282</td>\n",
       "      <td>21.446923</td>\n",
       "      <td>224.758790</td>\n",
       "      <td>1.370646</td>\n",
       "      <td>0.103238</td>\n",
       "      <td>53.6</td>\n",
       "      <td>37.0</td>\n",
       "      <td>...</td>\n",
       "      <td>1.704551</td>\n",
       "      <td>2.245035</td>\n",
       "      <td>2.397922</td>\n",
       "      <td>186.120614</td>\n",
       "      <td>2.072345</td>\n",
       "      <td>2.291081</td>\n",
       "      <td>0.133531</td>\n",
       "      <td>3.087848</td>\n",
       "      <td>0.535500</td>\n",
       "      <td>7.160000</td>\n",
       "    </tr>\n",
       "    <tr>\n",
       "      <th>156</th>\n",
       "      <td>263.517281</td>\n",
       "      <td>3222.709021</td>\n",
       "      <td>0.084734</td>\n",
       "      <td>1.061010</td>\n",
       "      <td>14.367906</td>\n",
       "      <td>152.046143</td>\n",
       "      <td>0.771214</td>\n",
       "      <td>0.111800</td>\n",
       "      <td>52.8</td>\n",
       "      <td>20.4</td>\n",
       "      <td>...</td>\n",
       "      <td>1.680047</td>\n",
       "      <td>2.293040</td>\n",
       "      <td>1.930021</td>\n",
       "      <td>359.872676</td>\n",
       "      <td>2.105405</td>\n",
       "      <td>1.587592</td>\n",
       "      <td>0.403526</td>\n",
       "      <td>16.585638</td>\n",
       "      <td>0.603346</td>\n",
       "      <td>37.450704</td>\n",
       "    </tr>\n",
       "    <tr>\n",
       "      <th>157</th>\n",
       "      <td>337.993901</td>\n",
       "      <td>3090.876012</td>\n",
       "      <td>0.090934</td>\n",
       "      <td>0.890338</td>\n",
       "      <td>0.013953</td>\n",
       "      <td>49.053500</td>\n",
       "      <td>1.435092</td>\n",
       "      <td>0.281050</td>\n",
       "      <td>0.0</td>\n",
       "      <td>57.9</td>\n",
       "      <td>...</td>\n",
       "      <td>0.000000</td>\n",
       "      <td>0.000000</td>\n",
       "      <td>0.693147</td>\n",
       "      <td>1.132572</td>\n",
       "      <td>1.931703</td>\n",
       "      <td>2.096614</td>\n",
       "      <td>0.000691</td>\n",
       "      <td>0.000000</td>\n",
       "      <td>0.536289</td>\n",
       "      <td>2.666667</td>\n",
       "    </tr>\n",
       "  </tbody>\n",
       "</table>\n",
       "<p>158 rows × 25 columns</p>\n",
       "</div>"
      ],
      "text/plain": [
       "     도로길이고려_전체통합도  도로길이고려_국부통합도_R3  기초구역평균_전체통합도  기초구역평균_국부통합도_R3        도로율  \\\n",
       "0      617.130076      7987.604945      0.060037         0.907932   7.332336   \n",
       "1      221.397046      2876.534944      0.069661         0.938454  30.948119   \n",
       "2      341.252878      4162.583064      0.087372         1.084619  25.546905   \n",
       "3      475.038010      6080.093135      0.084712         1.079401  15.517121   \n",
       "4      273.241567      3575.514233      0.092931         1.107098  32.713927   \n",
       "..            ...              ...           ...              ...        ...   \n",
       "153    153.150645      2987.551685      0.053224         1.073527  47.846843   \n",
       "154    339.514691      2241.934926      0.179476         0.910954   3.660437   \n",
       "155    546.088235      5760.159505      0.097563         0.969282  21.446923   \n",
       "156    263.517281      3222.709021      0.084734         1.061010  14.367906   \n",
       "157    337.993901      3090.876012      0.090934         0.890338   0.013953   \n",
       "\n",
       "       평균 도로 길이  평균최근접역거리  평균최근접정류장거리  공동주택 비율  근린생활시설 비율  ...   외식업종다양성  \\\n",
       "0    119.253463  1.172716    0.129807     52.9       42.0  ...  0.806505   \n",
       "1    211.340833  1.696683    0.091841     79.4       20.2  ...  1.386294   \n",
       "2    214.144187  1.697811    0.040418     32.7        2.2  ...  2.063956   \n",
       "3    105.011320  1.802432    0.183461     31.3       55.9  ...  1.386294   \n",
       "4    134.361765  1.604301    0.084995     14.7       37.5  ...  2.096203   \n",
       "..          ...       ...         ...      ...        ...  ...       ...   \n",
       "153  118.568545  0.716142    0.044763     32.5       24.5  ...  1.690393   \n",
       "154  184.741846  0.559030    0.245583      0.0      100.0  ...  0.636514   \n",
       "155  224.758790  1.370646    0.103238     53.6       37.0  ...  1.704551   \n",
       "156  152.046143  0.771214    0.111800     52.8       20.4  ...  1.680047   \n",
       "157   49.053500  1.435092    0.281050      0.0       57.9  ...  0.000000   \n",
       "\n",
       "     서비스업종다양성   소매업종다양성         상가밀도   주중 / 주말  06 to 18 / 18 to 06  \\\n",
       "0    1.609438  2.390980    86.099041  2.342449             2.695669   \n",
       "1    1.127535  1.985080   346.978396  2.315147             2.280277   \n",
       "2    2.029155  1.314799   876.110071  2.064957             2.339853   \n",
       "3    2.364045  2.064017   232.748015  2.273528             2.246297   \n",
       "4    2.289920  2.379112  2495.942389  2.016228             2.004099   \n",
       "..        ...       ...          ...       ...                  ...   \n",
       "153  2.395908  2.160130   811.656434  2.089179             2.293935   \n",
       "154  0.000000  0.000000     2.983469  1.449448             3.640312   \n",
       "155  2.245035  2.397922   186.120614  2.072345             2.291081   \n",
       "156  2.293040  1.930021   359.872676  2.105405             1.587592   \n",
       "157  0.000000  0.693147     1.132572  1.931703             2.096614   \n",
       "\n",
       "     (주거인구+직장인구) / 유동인구  주거인구/직장인구  10_30 / 40_60        점포밀도  \n",
       "0              0.268398   0.149563       0.406896    7.046875  \n",
       "1              0.254881   0.667946       0.439757   11.523810  \n",
       "2              0.220317   0.899425       0.508371  143.584416  \n",
       "3              0.108296   6.308614       0.441902   36.111111  \n",
       "4              0.212989   1.959390       0.479893  113.836066  \n",
       "..                  ...        ...            ...         ...  \n",
       "153            0.168611   8.118938       0.418639   44.145161  \n",
       "154            0.027235   0.013054       0.451702    3.000000  \n",
       "155            0.133531   3.087848       0.535500    7.160000  \n",
       "156            0.403526  16.585638       0.603346   37.450704  \n",
       "157            0.000691   0.000000       0.536289    2.666667  \n",
       "\n",
       "[158 rows x 25 columns]"
      ]
     },
     "execution_count": 24,
     "metadata": {},
     "output_type": "execute_result"
    }
   ],
   "source": [
    "try_data"
   ]
  },
  {
   "cell_type": "code",
   "execution_count": 25,
   "id": "65595363",
   "metadata": {
    "collapsed": false,
    "execution": {
     "iopub.execute_input": "2021-12-29T05:03:31.077212Z",
     "iopub.status.busy": "2021-12-29T05:03:31.077212Z",
     "iopub.status.idle": "2021-12-29T05:03:31.286949Z",
     "shell.execute_reply": "2021-12-29T05:03:31.286453Z",
     "shell.execute_reply.started": "2021-12-29T05:03:31.077212Z"
    },
    "jupyter": {
     "outputs_hidden": false
    },
    "pycharm": {
     "name": "#%%\n"
    },
    "tags": []
   },
   "outputs": [],
   "source": [
    "remove_vif = RFE(try_data)"
   ]
  },
  {
   "cell_type": "code",
   "execution_count": 26,
   "id": "78d9efd4",
   "metadata": {
    "collapsed": false,
    "execution": {
     "iopub.execute_input": "2021-12-29T05:03:32.068580Z",
     "iopub.status.busy": "2021-12-29T05:03:32.067557Z",
     "iopub.status.idle": "2021-12-29T05:03:32.083586Z",
     "shell.execute_reply": "2021-12-29T05:03:32.083361Z",
     "shell.execute_reply.started": "2021-12-29T05:03:32.068580Z"
    },
    "jupyter": {
     "outputs_hidden": false
    },
    "pycharm": {
     "name": "#%%\n"
    },
    "tags": []
   },
   "outputs": [
    {
     "data": {
      "text/html": [
       "<div>\n",
       "<style scoped>\n",
       "    .dataframe tbody tr th:only-of-type {\n",
       "        vertical-align: middle;\n",
       "    }\n",
       "\n",
       "    .dataframe tbody tr th {\n",
       "        vertical-align: top;\n",
       "    }\n",
       "\n",
       "    .dataframe thead th {\n",
       "        text-align: right;\n",
       "    }\n",
       "</style>\n",
       "<table border=\"1\" class=\"dataframe\">\n",
       "  <thead>\n",
       "    <tr style=\"text-align: right;\">\n",
       "      <th></th>\n",
       "      <th>VIF Factor</th>\n",
       "      <th>features</th>\n",
       "    </tr>\n",
       "  </thead>\n",
       "  <tbody>\n",
       "    <tr>\n",
       "      <th>0</th>\n",
       "      <td>1.635111</td>\n",
       "      <td>주거인구/직장인구</td>\n",
       "    </tr>\n",
       "    <tr>\n",
       "      <th>1</th>\n",
       "      <td>2.230441</td>\n",
       "      <td>아파트 가구수</td>\n",
       "    </tr>\n",
       "    <tr>\n",
       "      <th>2</th>\n",
       "      <td>2.531926</td>\n",
       "      <td>단독주택 비율</td>\n",
       "    </tr>\n",
       "    <tr>\n",
       "      <th>3</th>\n",
       "      <td>2.804942</td>\n",
       "      <td>서비스업매출비율</td>\n",
       "    </tr>\n",
       "    <tr>\n",
       "      <th>4</th>\n",
       "      <td>3.419717</td>\n",
       "      <td>외식업매출비율</td>\n",
       "    </tr>\n",
       "    <tr>\n",
       "      <th>5</th>\n",
       "      <td>3.888754</td>\n",
       "      <td>근린생활시설 비율</td>\n",
       "    </tr>\n",
       "    <tr>\n",
       "      <th>6</th>\n",
       "      <td>4.300183</td>\n",
       "      <td>평균최근접역거리</td>\n",
       "    </tr>\n",
       "    <tr>\n",
       "      <th>7</th>\n",
       "      <td>5.047518</td>\n",
       "      <td>(주거인구+직장인구) / 유동인구</td>\n",
       "    </tr>\n",
       "    <tr>\n",
       "      <th>8</th>\n",
       "      <td>5.534775</td>\n",
       "      <td>공동주택 비율</td>\n",
       "    </tr>\n",
       "    <tr>\n",
       "      <th>9</th>\n",
       "      <td>5.857238</td>\n",
       "      <td>평균 도로 길이</td>\n",
       "    </tr>\n",
       "    <tr>\n",
       "      <th>10</th>\n",
       "      <td>5.991709</td>\n",
       "      <td>도로길이고려_전체통합도</td>\n",
       "    </tr>\n",
       "    <tr>\n",
       "      <th>11</th>\n",
       "      <td>6.579056</td>\n",
       "      <td>평균최근접정류장거리</td>\n",
       "    </tr>\n",
       "    <tr>\n",
       "      <th>12</th>\n",
       "      <td>7.729809</td>\n",
       "      <td>점포밀도</td>\n",
       "    </tr>\n",
       "    <tr>\n",
       "      <th>13</th>\n",
       "      <td>7.936442</td>\n",
       "      <td>도로율</td>\n",
       "    </tr>\n",
       "    <tr>\n",
       "      <th>14</th>\n",
       "      <td>8.331372</td>\n",
       "      <td>상가밀도</td>\n",
       "    </tr>\n",
       "  </tbody>\n",
       "</table>\n",
       "</div>"
      ],
      "text/plain": [
       "    VIF Factor            features\n",
       "0     1.635111           주거인구/직장인구\n",
       "1     2.230441             아파트 가구수\n",
       "2     2.531926             단독주택 비율\n",
       "3     2.804942            서비스업매출비율\n",
       "4     3.419717             외식업매출비율\n",
       "5     3.888754           근린생활시설 비율\n",
       "6     4.300183            평균최근접역거리\n",
       "7     5.047518  (주거인구+직장인구) / 유동인구\n",
       "8     5.534775             공동주택 비율\n",
       "9     5.857238            평균 도로 길이\n",
       "10    5.991709        도로길이고려_전체통합도\n",
       "11    6.579056          평균최근접정류장거리\n",
       "12    7.729809                점포밀도\n",
       "13    7.936442                 도로율\n",
       "14    8.331372                상가밀도"
      ]
     },
     "execution_count": 26,
     "metadata": {},
     "output_type": "execute_result"
    }
   ],
   "source": [
    "remove_vif"
   ]
  },
  {
   "cell_type": "code",
   "execution_count": 37,
   "id": "4c295f7e-58bb-4730-ac64-32c524e999cc",
   "metadata": {
    "execution": {
     "iopub.execute_input": "2021-12-29T05:28:01.471662Z",
     "iopub.status.busy": "2021-12-29T05:28:01.470665Z",
     "iopub.status.idle": "2021-12-29T05:28:01.482361Z",
     "shell.execute_reply": "2021-12-29T05:28:01.481908Z",
     "shell.execute_reply.started": "2021-12-29T05:28:01.471662Z"
    },
    "tags": []
   },
   "outputs": [
    {
     "data": {
      "text/plain": [
       "(158, 12)"
      ]
     },
     "execution_count": 37,
     "metadata": {},
     "output_type": "execute_result"
    }
   ],
   "source": [
    "\n",
    "s_y1 = clean_data['평균영업기간'].values.reshape((-1,1)) # 종속변수1\n",
    "s_y2 = clean_data['평균폐업기간'].values.reshape((-1,1)) # 종속변수2\n",
    "\n",
    "# f1, 120\n",
    "# ['외식업매출비율', '주거인구/직장인구', '상가밀도', '근린생활시설 비율', '서비스업매출비율', '아파트 가구수', '도로율', '평균최근접역거리']\n",
    "\n",
    "# 다중공선성 제거\n",
    "# s_X= clean_data.loc[:,optimal_feature].values\n",
    "# \n",
    "\n",
    "# s_X = try_data.values\n",
    "s_X = try_data.loc[:,remove_vif['features'].values].values\n",
    "\n",
    "# 회귀계수간 공선성 제거\n",
    "# condition number 30을 넘지 않는 상한선\n",
    "# local_mul_col = ['서비스업매출월평균변화량', '외식업매출비율', 'BAS_AR', '상가밀도','근린생활시설 비율','아파트시세변화_차분평균','아파트 가구수',\n",
    "#                  '주거인구/직장인구']\n",
    "#\n",
    "# s_X = clean_data.loc[:,local_mul_col].values\n",
    "\n",
    "# s_X = clean_data.loc[:,corr_columns].values\n",
    "\n",
    "\n",
    "# 회귀계수간 공선성 제거\n",
    "# local_mul_col = ['BAS_AR', '서비스업매출월평균변화량', '아파트시세변화_차분평균', '소매업매출월평균변화량', '외식업매출비율',\n",
    "#        '근린생활시설 비율', '단독주택 비율']+외식업매출월평균변화량\n",
    "# s_X = clean_data.loc[:,local_mul_col].values\n",
    "\n",
    "# Raw Data\n",
    "# s_X = clean_data.iloc[:,ind_var_col].values\n",
    "\n",
    "# 공간적 자기상관성이 있는 column들\n",
    "# auto_col = ['외식업매출월평균변화량', '주거인구/직장인구', '아파트 가구수', 'BAS_AR', '단독주택 비율', '서비스업매출비율'\n",
    "#             , '개별공시지가 변화 차분평균', '평균최근접역거리', '(주거인구+직장인구) / 유동인구', '평균 도로 길이',\n",
    "#              '도로길이고려_국부통합도_R3', '점포밀도', '상가밀도', '평균최근접정류장거리']\n",
    "# s_X= clean_data.loc[:,auto_col].values\n",
    "\n",
    "# 왜도 2이상인 데이터 log변환 후, standard scaling 함\n",
    "# s_X= ss_scaled_dX.values\n",
    "\n",
    "\n",
    "# 왜도 2이상인 데이터 log변환 후, standard scaling, 다중공선성 제거\n",
    "# s_X= ss_scaled_dX.loc[:,optimal_feature].values\n",
    "\n",
    "# s_X = rm_avg_X.values\n",
    "\n",
    "# p-value 0.5 이상 지워보자\n",
    "# drop_col = [0,1,2,9,10,13,15]\n",
    "# drop_col = [optimal_feature[i] for i in range(len(optimal_feature)) if i in drop_col]\n",
    "# s_X= ss_scaled_dX.loc[:,optimal_feature]\n",
    "# s_X = s_X.drop(drop_col,axis=1).values\n",
    "\n",
    "u = clean_data['x'] # 경도\n",
    "v = clean_data['y'] # 위도\n",
    "s_coords = list(zip(u,v))\n",
    "\n",
    "s_X.shape"
   ]
  },
  {
   "cell_type": "markdown",
   "id": "3570f8b2-093e-4b04-9072-78c284d8c970",
   "metadata": {},
   "source": [
    "## 3.2 MODELING"
   ]
  },
  {
   "cell_type": "code",
   "execution_count": 43,
   "id": "8cdd3494",
   "metadata": {
    "collapsed": false,
    "execution": {
     "iopub.execute_input": "2021-12-29T05:31:39.823935Z",
     "iopub.status.busy": "2021-12-29T05:31:39.823935Z",
     "iopub.status.idle": "2021-12-29T05:31:39.831197Z",
     "shell.execute_reply": "2021-12-29T05:31:39.830701Z",
     "shell.execute_reply.started": "2021-12-29T05:31:39.823935Z"
    },
    "jupyter": {
     "outputs_hidden": false
    },
    "pycharm": {
     "name": "#%%\n"
    },
    "tags": []
   },
   "outputs": [],
   "source": [
    "scaler = MinMaxScaler()\n",
    "mm_scaled_dX = pd.DataFrame(scaler.fit_transform(try_data.loc[:,remove_vif['feature'].values]),columns=remove_vif['feature'].values)\n",
    "s_X = mm_scaled_dX.values"
   ]
  },
  {
   "cell_type": "code",
   "execution_count": 44,
   "id": "44407dc8",
   "metadata": {
    "collapsed": false,
    "execution": {
     "iopub.execute_input": "2021-12-29T05:31:43.646474Z",
     "iopub.status.busy": "2021-12-29T05:31:43.646474Z",
     "iopub.status.idle": "2021-12-29T05:32:10.876873Z",
     "shell.execute_reply": "2021-12-29T05:32:10.876377Z",
     "shell.execute_reply.started": "2021-12-29T05:31:43.646474Z"
    },
    "jupyter": {
     "outputs_hidden": false
    },
    "pycharm": {
     "name": "#%%\n"
    },
    "tags": []
   },
   "outputs": [
    {
     "data": {
      "application/vnd.jupyter.widget-view+json": {
       "model_id": "2e05263416bb4ab1af6c131e21be1a33",
       "version_major": 2,
       "version_minor": 0
      },
      "text/plain": [
       "Backfitting:   0%|          | 0/200 [00:00<?, ?it/s]"
      ]
     },
     "metadata": {},
     "output_type": "display_data"
    },
    {
     "name": "stdout",
     "output_type": "stream",
     "text": [
      "[157. 157.  60. 157. 157. 157.  34. 157. 135. 157. 157. 157. 142.]\n"
     ]
    },
    {
     "data": {
      "application/vnd.jupyter.widget-view+json": {
       "model_id": "213d387f3cee4aafa7d62495f10f89e1",
       "version_major": 2,
       "version_minor": 0
      },
      "text/plain": [
       "Inference:   0%|          | 0/1 [00:00<?, ?it/s]"
      ]
     },
     "metadata": {},
     "output_type": "display_data"
    }
   ],
   "source": [
    "#Calibrate MGWR model\n",
    "# 평균영업기간\n",
    "\n",
    "mgwr_selector = Sel_BW(s_coords, s_y1, s_X,multi=True,kernel='f2',spherical=True)\n",
    "mgwr_bw = mgwr_selector.search(criterion='AICc',multi_bw_min=[2])\n",
    "print(mgwr_bw)\n",
    "mgwr_model = MGWR(s_coords, s_y1, s_X, mgwr_selector,kernel='f2',spherical=True,hat_matrix=True)\n",
    "mgwr_results = mgwr_model.fit()"
   ]
  },
  {
   "cell_type": "code",
   "execution_count": 45,
   "id": "31bbe856-d6bc-4e4a-bfb2-718819152592",
   "metadata": {
    "execution": {
     "iopub.execute_input": "2021-12-29T05:32:12.813432Z",
     "iopub.status.busy": "2021-12-29T05:32:12.813432Z",
     "iopub.status.idle": "2021-12-29T05:32:12.837756Z",
     "shell.execute_reply": "2021-12-29T05:32:12.836599Z",
     "shell.execute_reply.started": "2021-12-29T05:32:12.813432Z"
    },
    "tags": []
   },
   "outputs": [
    {
     "name": "stdout",
     "output_type": "stream",
     "text": [
      "===========================================================================\n",
      "Model type                                                         Gaussian\n",
      "Number of observations:                                                 158\n",
      "Number of covariates:                                                    13\n",
      "\n",
      "Global Regression Results\n",
      "---------------------------------------------------------------------------\n",
      "Residual sum of squares:                                         108893.153\n",
      "Log-likelihood:                                                    -740.499\n",
      "AIC:                                                               1506.998\n",
      "AICc:                                                              1511.935\n",
      "BIC:                                                             108159.076\n",
      "R2:                                                                   0.312\n",
      "Adj. R2:                                                              0.255\n",
      "\n",
      "Variable                              Est.         SE  t(Est/SE)    p-value\n",
      "------------------------------- ---------- ---------- ---------- ----------\n",
      "X0                                  92.976     12.758      7.288      0.000\n",
      "X1                                  -3.999     10.525     -0.380      0.704\n",
      "X2                                  72.882     13.785      5.287      0.000\n",
      "X3                                  36.415      9.259      3.933      0.000\n",
      "X4                                  13.319     14.456      0.921      0.357\n",
      "X5                                   3.523     12.426      0.283      0.777\n",
      "X6                                 -32.557     14.749     -2.207      0.027\n",
      "X7                                  47.921     13.028      3.678      0.000\n",
      "X8                                  20.667     19.509      1.059      0.289\n",
      "X9                                  -8.946     14.856     -0.602      0.547\n",
      "X10                                 22.332     12.426      1.797      0.072\n",
      "X11                                -36.951     18.363     -2.012      0.044\n",
      "X12                                -32.245     29.317     -1.100      0.271\n",
      "\n",
      "Multi-Scale Geographically Weighted Regression (MGWR) Results\n",
      "---------------------------------------------------------------------------\n",
      "Spatial kernel:                                                 Adaptive f2\n",
      "Criterion for optimal bandwidth:                                       AICc\n",
      "Score of Change (SOC) type:                                     Smoothing f\n",
      "Termination criterion for MGWR:                                       1e-05\n",
      "\n",
      "MGWR bandwidths\n",
      "---------------------------------------------------------------------------\n",
      "Variable             Bandwidth      ENP_j   Adj t-val(95%)   Adj alpha(95%)\n",
      "X0                     157.000      1.122            2.025            0.045\n",
      "X1                     157.000      1.165            2.041            0.043\n",
      "X2                      60.000      2.924            2.410            0.017\n",
      "X3                     157.000      1.196            2.052            0.042\n",
      "X4                     157.000      1.129            2.028            0.044\n",
      "X5                     157.000      1.130            2.028            0.044\n",
      "X6                      34.000      3.608            2.489            0.014\n",
      "X7                     157.000      1.139            2.032            0.044\n",
      "X8                     135.000      1.166            2.041            0.043\n",
      "X9                     157.000      1.133            2.029            0.044\n",
      "X10                    157.000      1.266            2.076            0.040\n",
      "X11                    157.000      1.223            2.062            0.041\n",
      "X12                    142.000      1.095            2.014            0.046\n",
      "\n",
      "Diagnostic information\n",
      "---------------------------------------------------------------------------\n",
      "Residual sum of squares:                                          92204.391\n",
      "Effective number of parameters (trace(S)):                           19.296\n",
      "Degree of freedom (n - trace(S)):                                   138.704\n",
      "Sigma estimate:                                                      25.783\n",
      "Log-likelihood:                                                    -727.357\n",
      "AIC:                                                               1495.305\n",
      "AICc:                                                              1501.629\n",
      "BIC:                                                               1557.464\n",
      "R2                                                                    0.417\n",
      "Adjusted R2                                                           0.336\n",
      "\n",
      "Summary Statistics For MGWR Parameter Estimates\n",
      "---------------------------------------------------------------------------\n",
      "Variable                   Mean        STD        Min     Median        Max\n",
      "-------------------- ---------- ---------- ---------- ---------- ----------\n",
      "X0                       96.085      0.214     95.707     96.050     96.539\n",
      "X1                       -4.644      0.880     -6.154     -4.836     -2.652\n",
      "X2                       66.642     20.378     28.150     70.967     93.739\n",
      "X3                       32.926      0.396     32.291     32.857     33.758\n",
      "X4                       14.975      0.741     13.312     14.996     16.431\n",
      "X5                        3.030      0.708      1.864      2.918      4.715\n",
      "X6                      -26.023     13.902    -62.501    -22.404     -3.665\n",
      "X7                       40.648      0.524     39.551     40.613     41.824\n",
      "X8                       17.540      1.864     12.581     17.575     20.525\n",
      "X9                       -5.152      0.425     -6.197     -5.205     -4.423\n",
      "X10                      18.198      0.692     17.010     18.157     19.611\n",
      "X11                     -38.012      0.417    -38.553    -38.188    -36.918\n",
      "X12                     -32.996      4.009    -39.075    -33.976    -23.954\n",
      "===========================================================================\n",
      "\n"
     ]
    }
   ],
   "source": [
    "mgwr_results.summary()"
   ]
  },
  {
   "cell_type": "code",
   "execution_count": null,
   "id": "1e43b058-cd2a-40c0-a276-fb9aebd4e8b1",
   "metadata": {
    "execution": {
     "iopub.status.busy": "2021-12-29T05:02:59.238024Z",
     "iopub.status.idle": "2021-12-29T05:02:59.239018Z",
     "shell.execute_reply": "2021-12-29T05:02:59.239018Z"
    },
    "tags": []
   },
   "outputs": [],
   "source": [
    "sns.residplot(x=mgwr_results.y,y=mgwr_results.resid_response, scatter_kws = {'edgecolor':\"white\", \"alpha\":0.7}\n",
    "              , line_kws = {\"color\":\"red\"})\n",
    "plt.show()"
   ]
  },
  {
   "cell_type": "code",
   "execution_count": null,
   "id": "369c68bf",
   "metadata": {
    "collapsed": false,
    "execution": {
     "iopub.status.busy": "2021-12-29T05:02:59.239018Z",
     "iopub.status.idle": "2021-12-29T05:02:59.240015Z",
     "shell.execute_reply": "2021-12-29T05:02:59.239018Z"
    },
    "jupyter": {
     "outputs_hidden": false
    },
    "pycharm": {
     "name": "#%%\n"
    },
    "tags": []
   },
   "outputs": [],
   "source": [
    "sns.residplot(x=s_y1,y=results.resid, scatter_kws = {'edgecolor':\"white\", \"alpha\":0.7}\n",
    "              , line_kws = {\"color\":\"red\"})\n",
    "plt.show()"
   ]
  },
  {
   "cell_type": "markdown",
   "id": "6c4bd774",
   "metadata": {
    "pycharm": {
     "name": "#%% md\n"
    }
   },
   "source": [
    "### 3.2.1 잔차 Moran's I 확인"
   ]
  },
  {
   "cell_type": "code",
   "execution_count": null,
   "id": "997c3812-2108-4bcb-bcf4-ffd85618262e",
   "metadata": {
    "execution": {
     "iopub.status.busy": "2021-12-29T05:02:59.240015Z",
     "iopub.status.idle": "2021-12-29T05:02:59.240015Z",
     "shell.execute_reply": "2021-12-29T05:02:59.240015Z"
    }
   },
   "outputs": [],
   "source": [
    "gdf = pd.DataFrame(clean_data.loc[:,'geometry'],columns=['geometry'])\n",
    "# y = clean_data['평균영업기간'].values\n",
    "\n",
    "y = mgwr_results.resid_response\n",
    "w = Queen.from_dataframe(gdf)\n",
    "\n",
    "moran = Moran(y, w,permutations=999)\n",
    "moran.I"
   ]
  },
  {
   "cell_type": "code",
   "execution_count": null,
   "id": "12fdd896-b41e-4d84-a3b4-4d8e0cb5e805",
   "metadata": {
    "execution": {
     "iopub.status.busy": "2021-12-29T05:02:59.241012Z",
     "iopub.status.idle": "2021-12-29T05:02:59.241012Z",
     "shell.execute_reply": "2021-12-29T05:02:59.241012Z"
    }
   },
   "outputs": [],
   "source": [
    "print('{:.5f}'.format(moran.p_sim))\n",
    "# 귀무가설을 기각할 수 없으므로 공간적으로 상관성이 없다고 말할 수 있다."
   ]
  },
  {
   "cell_type": "code",
   "execution_count": null,
   "id": "43417d20",
   "metadata": {
    "collapsed": false,
    "execution": {
     "iopub.status.busy": "2021-12-29T05:02:59.242009Z",
     "iopub.status.idle": "2021-12-29T05:02:59.242009Z",
     "shell.execute_reply": "2021-12-29T05:02:59.242009Z"
    },
    "jupyter": {
     "outputs_hidden": false
    },
    "pycharm": {
     "name": "#%%\n"
    }
   },
   "outputs": [],
   "source": [
    "import statsmodels.api as sm\n",
    "\n",
    "X = mm_scaled_dX\n",
    "    # clean_data.loc[:,remove_vif['features'].values]\n",
    "X = sm.add_constant(X)\n",
    "y = clean_data.loc[:,'평균영업기간'].values\n",
    "\n",
    "ols_model = sm.OLS(y,X)\n",
    "results = ols_model.fit()\n",
    "results.summary()"
   ]
  },
  {
   "cell_type": "code",
   "execution_count": null,
   "id": "c48a143e",
   "metadata": {
    "collapsed": false,
    "execution": {
     "iopub.status.busy": "2021-12-29T05:02:59.242009Z",
     "iopub.status.idle": "2021-12-29T05:02:59.243004Z",
     "shell.execute_reply": "2021-12-29T05:02:59.243004Z"
    },
    "jupyter": {
     "outputs_hidden": false
    },
    "pycharm": {
     "name": "#%%\n"
    }
   },
   "outputs": [],
   "source": [
    "gdf = pd.DataFrame(clean_data.loc[:,'geometry'],columns=['geometry'])\n",
    "# y = clean_data['평균영업기간'].values\n",
    "\n",
    "y = results.resid\n",
    "w = Queen.from_dataframe(gdf)\n",
    "\n",
    "moran = Moran(y, w,permutations=999)\n",
    "moran.I"
   ]
  },
  {
   "cell_type": "code",
   "execution_count": null,
   "id": "5900a34a",
   "metadata": {
    "collapsed": false,
    "execution": {
     "iopub.status.busy": "2021-12-29T05:02:59.243004Z",
     "iopub.status.idle": "2021-12-29T05:02:59.243004Z",
     "shell.execute_reply": "2021-12-29T05:02:59.243004Z"
    },
    "jupyter": {
     "outputs_hidden": false
    },
    "pycharm": {
     "name": "#%%\n"
    }
   },
   "outputs": [],
   "source": [
    "moran.p_sim"
   ]
  },
  {
   "cell_type": "markdown",
   "id": "3c37e429",
   "metadata": {
    "pycharm": {
     "name": "#%% md\n"
    }
   },
   "source": [
    "### 3.2.2 회귀계수"
   ]
  },
  {
   "cell_type": "code",
   "execution_count": 32,
   "id": "1315634b-e46a-4e55-a022-03d900876613",
   "metadata": {
    "execution": {
     "iopub.execute_input": "2021-12-29T05:05:49.290353Z",
     "iopub.status.busy": "2021-12-29T05:05:49.290353Z",
     "iopub.status.idle": "2021-12-29T05:05:49.303726Z",
     "shell.execute_reply": "2021-12-29T05:05:49.303726Z",
     "shell.execute_reply.started": "2021-12-29T05:05:49.290353Z"
    },
    "tags": []
   },
   "outputs": [],
   "source": [
    "mgwr_coef_df = pd.DataFrame(mgwr_results.params)\n",
    "mgwr_coef_df.columns = ['intercept']+remove_vif['features'].values.tolist()\n",
    "# mgwr_coef_df = mgwr_coef_df[RFE(mgwr_coef_df)]\n",
    "mgwr_coef_df['x'] = u\n",
    "mgwr_coef_df['y'] = v\n",
    "mgwr_coef_df['BAS_ID'] = clean_data['BAS_ID']\n",
    "# mgwr_coef_df.to_csv('../data/전처리 파일/회귀계수/MGWR 회귀계수(평균영업기간,mm,bisquare,data_1222).csv',index=False,encoding='euc-kr')"
   ]
  },
  {
   "cell_type": "code",
   "execution_count": 30,
   "id": "c6a51129-6779-471e-af69-e0843b990f44",
   "metadata": {
    "execution": {
     "iopub.execute_input": "2021-12-29T05:04:56.825765Z",
     "iopub.status.busy": "2021-12-29T05:04:56.825765Z",
     "iopub.status.idle": "2021-12-29T05:04:56.834000Z",
     "shell.execute_reply": "2021-12-29T05:04:56.833502Z",
     "shell.execute_reply.started": "2021-12-29T05:04:56.825765Z"
    },
    "tags": []
   },
   "outputs": [],
   "source": [
    "mgwr_coef_df = pd.DataFrame(mgwr_results.params,index=clean_data.BAS_ID)\n",
    "mgwr_coef_df.columns = ['intercept']+list(remove_vif['features'].values)"
   ]
  },
  {
   "cell_type": "code",
   "execution_count": null,
   "id": "70f0538c",
   "metadata": {
    "collapsed": false,
    "execution": {
     "iopub.status.busy": "2021-12-29T05:02:59.245996Z",
     "iopub.status.idle": "2021-12-29T05:02:59.245996Z",
     "shell.execute_reply": "2021-12-29T05:02:59.245996Z"
    },
    "jupyter": {
     "outputs_hidden": false
    },
    "pycharm": {
     "name": "#%%\n"
    }
   },
   "outputs": [],
   "source": [
    "mgwr_coef_df"
   ]
  },
  {
   "cell_type": "code",
   "execution_count": null,
   "id": "31512d78",
   "metadata": {
    "collapsed": false,
    "execution": {
     "iopub.status.busy": "2021-12-29T05:02:59.245996Z",
     "iopub.status.idle": "2021-12-29T05:02:59.245996Z",
     "shell.execute_reply": "2021-12-29T05:02:59.245996Z"
    },
    "jupyter": {
     "outputs_hidden": false
    },
    "pycharm": {
     "name": "#%%\n"
    }
   },
   "outputs": [],
   "source": [
    "agg_coef = mgwr_coef_df.describe()"
   ]
  },
  {
   "cell_type": "code",
   "execution_count": null,
   "id": "cd469541",
   "metadata": {
    "collapsed": false,
    "execution": {
     "iopub.status.busy": "2021-12-29T05:02:59.246993Z",
     "iopub.status.idle": "2021-12-29T05:02:59.246993Z",
     "shell.execute_reply": "2021-12-29T05:02:59.246993Z"
    },
    "jupyter": {
     "outputs_hidden": false
    },
    "pycharm": {
     "name": "#%%\n"
    }
   },
   "outputs": [],
   "source": [
    "agg_coef_T = agg_coef.loc[['min','max','mean','std'],:].transpose()\n",
    "agg_coef_T\n",
    "agg_coef_T.to_csv('../data/전처리 파일/회귀계수/회귀계수 통계량(평균영업기간).csv',encoding='euc-kr')"
   ]
  },
  {
   "cell_type": "code",
   "execution_count": 33,
   "id": "9249c487-00f0-40b7-9288-8c14fa532953",
   "metadata": {
    "execution": {
     "iopub.execute_input": "2021-12-29T05:05:52.529399Z",
     "iopub.status.busy": "2021-12-29T05:05:52.529399Z",
     "iopub.status.idle": "2021-12-29T05:05:52.562949Z",
     "shell.execute_reply": "2021-12-29T05:05:52.562446Z",
     "shell.execute_reply.started": "2021-12-29T05:05:52.529399Z"
    },
    "tags": []
   },
   "outputs": [
    {
     "data": {
      "text/html": [
       "<div>\n",
       "<style scoped>\n",
       "    .dataframe tbody tr th:only-of-type {\n",
       "        vertical-align: middle;\n",
       "    }\n",
       "\n",
       "    .dataframe tbody tr th {\n",
       "        vertical-align: top;\n",
       "    }\n",
       "\n",
       "    .dataframe thead th {\n",
       "        text-align: right;\n",
       "    }\n",
       "</style>\n",
       "<table border=\"1\" class=\"dataframe\">\n",
       "  <thead>\n",
       "    <tr style=\"text-align: right;\">\n",
       "      <th>BAS_ID</th>\n",
       "      <th>21300</th>\n",
       "      <th>21301</th>\n",
       "      <th>21302</th>\n",
       "      <th>21303</th>\n",
       "      <th>21304</th>\n",
       "      <th>21305</th>\n",
       "      <th>21306</th>\n",
       "      <th>21307</th>\n",
       "      <th>21308</th>\n",
       "      <th>21309</th>\n",
       "      <th>...</th>\n",
       "      <th>21450</th>\n",
       "      <th>21451</th>\n",
       "      <th>21452</th>\n",
       "      <th>21453</th>\n",
       "      <th>21454</th>\n",
       "      <th>21455</th>\n",
       "      <th>21456</th>\n",
       "      <th>21457</th>\n",
       "      <th>21458</th>\n",
       "      <th>21459</th>\n",
       "    </tr>\n",
       "    <tr>\n",
       "      <th>BAS_ID</th>\n",
       "      <th></th>\n",
       "      <th></th>\n",
       "      <th></th>\n",
       "      <th></th>\n",
       "      <th></th>\n",
       "      <th></th>\n",
       "      <th></th>\n",
       "      <th></th>\n",
       "      <th></th>\n",
       "      <th></th>\n",
       "      <th></th>\n",
       "      <th></th>\n",
       "      <th></th>\n",
       "      <th></th>\n",
       "      <th></th>\n",
       "      <th></th>\n",
       "      <th></th>\n",
       "      <th></th>\n",
       "      <th></th>\n",
       "      <th></th>\n",
       "      <th></th>\n",
       "    </tr>\n",
       "  </thead>\n",
       "  <tbody>\n",
       "    <tr>\n",
       "      <th>21300</th>\n",
       "      <td>1.110223e-16</td>\n",
       "      <td>0.002024</td>\n",
       "      <td>0.004462</td>\n",
       "      <td>1.501868e-03</td>\n",
       "      <td>0.003471</td>\n",
       "      <td>0.001531</td>\n",
       "      <td>0.000317</td>\n",
       "      <td>0.000244</td>\n",
       "      <td>0.000453</td>\n",
       "      <td>0.000294</td>\n",
       "      <td>...</td>\n",
       "      <td>0.035038</td>\n",
       "      <td>0.028058</td>\n",
       "      <td>0.025093</td>\n",
       "      <td>0.029432</td>\n",
       "      <td>0.033676</td>\n",
       "      <td>0.041785</td>\n",
       "      <td>7.442456e-03</td>\n",
       "      <td>3.802663e-02</td>\n",
       "      <td>0.024985</td>\n",
       "      <td>3.153283e-02</td>\n",
       "    </tr>\n",
       "    <tr>\n",
       "      <th>21301</th>\n",
       "      <td>2.024474e-03</td>\n",
       "      <td>0.000000</td>\n",
       "      <td>0.000503</td>\n",
       "      <td>1.268196e-04</td>\n",
       "      <td>0.000349</td>\n",
       "      <td>0.000396</td>\n",
       "      <td>0.000978</td>\n",
       "      <td>0.003597</td>\n",
       "      <td>0.004308</td>\n",
       "      <td>0.001361</td>\n",
       "      <td>...</td>\n",
       "      <td>0.048158</td>\n",
       "      <td>0.040150</td>\n",
       "      <td>0.036745</td>\n",
       "      <td>0.041733</td>\n",
       "      <td>0.046556</td>\n",
       "      <td>0.055778</td>\n",
       "      <td>1.445383e-02</td>\n",
       "      <td>4.762931e-02</td>\n",
       "      <td>0.033112</td>\n",
       "      <td>4.106894e-02</td>\n",
       "    </tr>\n",
       "    <tr>\n",
       "      <th>21302</th>\n",
       "      <td>4.461651e-03</td>\n",
       "      <td>0.000503</td>\n",
       "      <td>0.000000</td>\n",
       "      <td>8.416467e-04</td>\n",
       "      <td>0.000157</td>\n",
       "      <td>0.001131</td>\n",
       "      <td>0.002661</td>\n",
       "      <td>0.006625</td>\n",
       "      <td>0.007582</td>\n",
       "      <td>0.003183</td>\n",
       "      <td>...</td>\n",
       "      <td>0.056566</td>\n",
       "      <td>0.048030</td>\n",
       "      <td>0.044412</td>\n",
       "      <td>0.049745</td>\n",
       "      <td>0.054871</td>\n",
       "      <td>0.064643</td>\n",
       "      <td>1.919043e-02</td>\n",
       "      <td>5.240921e-02</td>\n",
       "      <td>0.037554</td>\n",
       "      <td>4.613306e-02</td>\n",
       "    </tr>\n",
       "    <tr>\n",
       "      <th>21303</th>\n",
       "      <td>1.501868e-03</td>\n",
       "      <td>0.000127</td>\n",
       "      <td>0.000842</td>\n",
       "      <td>1.110223e-16</td>\n",
       "      <td>0.000411</td>\n",
       "      <td>0.000083</td>\n",
       "      <td>0.000513</td>\n",
       "      <td>0.002821</td>\n",
       "      <td>0.003472</td>\n",
       "      <td>0.000762</td>\n",
       "      <td>...</td>\n",
       "      <td>0.047608</td>\n",
       "      <td>0.039589</td>\n",
       "      <td>0.036177</td>\n",
       "      <td>0.041191</td>\n",
       "      <td>0.046036</td>\n",
       "      <td>0.055247</td>\n",
       "      <td>1.258665e-02</td>\n",
       "      <td>4.334140e-02</td>\n",
       "      <td>0.029633</td>\n",
       "      <td>3.721773e-02</td>\n",
       "    </tr>\n",
       "    <tr>\n",
       "      <th>21304</th>\n",
       "      <td>3.471427e-03</td>\n",
       "      <td>0.000349</td>\n",
       "      <td>0.000157</td>\n",
       "      <td>4.106405e-04</td>\n",
       "      <td>0.000000</td>\n",
       "      <td>0.000505</td>\n",
       "      <td>0.001799</td>\n",
       "      <td>0.005334</td>\n",
       "      <td>0.006212</td>\n",
       "      <td>0.002174</td>\n",
       "      <td>...</td>\n",
       "      <td>0.055220</td>\n",
       "      <td>0.046699</td>\n",
       "      <td>0.043082</td>\n",
       "      <td>0.048426</td>\n",
       "      <td>0.053561</td>\n",
       "      <td>0.063295</td>\n",
       "      <td>1.660342e-02</td>\n",
       "      <td>4.724883e-02</td>\n",
       "      <td>0.033270</td>\n",
       "      <td>4.140050e-02</td>\n",
       "    </tr>\n",
       "    <tr>\n",
       "      <th>...</th>\n",
       "      <td>...</td>\n",
       "      <td>...</td>\n",
       "      <td>...</td>\n",
       "      <td>...</td>\n",
       "      <td>...</td>\n",
       "      <td>...</td>\n",
       "      <td>...</td>\n",
       "      <td>...</td>\n",
       "      <td>...</td>\n",
       "      <td>...</td>\n",
       "      <td>...</td>\n",
       "      <td>...</td>\n",
       "      <td>...</td>\n",
       "      <td>...</td>\n",
       "      <td>...</td>\n",
       "      <td>...</td>\n",
       "      <td>...</td>\n",
       "      <td>...</td>\n",
       "      <td>...</td>\n",
       "      <td>...</td>\n",
       "      <td>...</td>\n",
       "    </tr>\n",
       "    <tr>\n",
       "      <th>21455</th>\n",
       "      <td>4.178484e-02</td>\n",
       "      <td>0.055778</td>\n",
       "      <td>0.064643</td>\n",
       "      <td>5.524725e-02</td>\n",
       "      <td>0.063295</td>\n",
       "      <td>0.056685</td>\n",
       "      <td>0.048186</td>\n",
       "      <td>0.037696</td>\n",
       "      <td>0.035792</td>\n",
       "      <td>0.047529</td>\n",
       "      <td>...</td>\n",
       "      <td>0.000315</td>\n",
       "      <td>0.001470</td>\n",
       "      <td>0.002371</td>\n",
       "      <td>0.001222</td>\n",
       "      <td>0.000504</td>\n",
       "      <td>0.000000</td>\n",
       "      <td>4.865037e-02</td>\n",
       "      <td>1.055438e-01</td>\n",
       "      <td>0.088089</td>\n",
       "      <td>9.406583e-02</td>\n",
       "    </tr>\n",
       "    <tr>\n",
       "      <th>21456</th>\n",
       "      <td>7.442456e-03</td>\n",
       "      <td>0.014454</td>\n",
       "      <td>0.019190</td>\n",
       "      <td>1.258665e-02</td>\n",
       "      <td>0.016603</td>\n",
       "      <td>0.011782</td>\n",
       "      <td>0.008790</td>\n",
       "      <td>0.006088</td>\n",
       "      <td>0.005859</td>\n",
       "      <td>0.008197</td>\n",
       "      <td>...</td>\n",
       "      <td>0.041492</td>\n",
       "      <td>0.033939</td>\n",
       "      <td>0.030391</td>\n",
       "      <td>0.035163</td>\n",
       "      <td>0.039842</td>\n",
       "      <td>0.048650</td>\n",
       "      <td>1.110223e-16</td>\n",
       "      <td>1.734190e-02</td>\n",
       "      <td>0.008693</td>\n",
       "      <td>1.177637e-02</td>\n",
       "    </tr>\n",
       "    <tr>\n",
       "      <th>21457</th>\n",
       "      <td>3.802663e-02</td>\n",
       "      <td>0.047629</td>\n",
       "      <td>0.052409</td>\n",
       "      <td>4.334140e-02</td>\n",
       "      <td>0.047249</td>\n",
       "      <td>0.040257</td>\n",
       "      <td>0.038121</td>\n",
       "      <td>0.035680</td>\n",
       "      <td>0.035563</td>\n",
       "      <td>0.036454</td>\n",
       "      <td>...</td>\n",
       "      <td>0.096154</td>\n",
       "      <td>0.086119</td>\n",
       "      <td>0.081360</td>\n",
       "      <td>0.088024</td>\n",
       "      <td>0.094384</td>\n",
       "      <td>0.105544</td>\n",
       "      <td>1.734190e-02</td>\n",
       "      <td>1.110223e-16</td>\n",
       "      <td>0.001616</td>\n",
       "      <td>7.183902e-04</td>\n",
       "    </tr>\n",
       "    <tr>\n",
       "      <th>21458</th>\n",
       "      <td>2.498511e-02</td>\n",
       "      <td>0.033112</td>\n",
       "      <td>0.037554</td>\n",
       "      <td>2.963332e-02</td>\n",
       "      <td>0.033270</td>\n",
       "      <td>0.027237</td>\n",
       "      <td>0.025187</td>\n",
       "      <td>0.023194</td>\n",
       "      <td>0.023147</td>\n",
       "      <td>0.023909</td>\n",
       "      <td>...</td>\n",
       "      <td>0.079071</td>\n",
       "      <td>0.069432</td>\n",
       "      <td>0.064867</td>\n",
       "      <td>0.071189</td>\n",
       "      <td>0.077251</td>\n",
       "      <td>0.088089</td>\n",
       "      <td>8.692851e-03</td>\n",
       "      <td>1.616165e-03</td>\n",
       "      <td>0.000000</td>\n",
       "      <td>4.704853e-04</td>\n",
       "    </tr>\n",
       "    <tr>\n",
       "      <th>21459</th>\n",
       "      <td>3.153283e-02</td>\n",
       "      <td>0.041069</td>\n",
       "      <td>0.046133</td>\n",
       "      <td>3.721773e-02</td>\n",
       "      <td>0.041401</td>\n",
       "      <td>0.034578</td>\n",
       "      <td>0.032047</td>\n",
       "      <td>0.029305</td>\n",
       "      <td>0.029134</td>\n",
       "      <td>0.030600</td>\n",
       "      <td>...</td>\n",
       "      <td>0.085022</td>\n",
       "      <td>0.075346</td>\n",
       "      <td>0.070711</td>\n",
       "      <td>0.077083</td>\n",
       "      <td>0.083195</td>\n",
       "      <td>0.094066</td>\n",
       "      <td>1.177637e-02</td>\n",
       "      <td>7.183902e-04</td>\n",
       "      <td>0.000470</td>\n",
       "      <td>1.110223e-16</td>\n",
       "    </tr>\n",
       "  </tbody>\n",
       "</table>\n",
       "<p>158 rows × 158 columns</p>\n",
       "</div>"
      ],
      "text/plain": [
       "BAS_ID         21300     21301     21302         21303     21304     21305  \\\n",
       "BAS_ID                                                                       \n",
       "21300   1.110223e-16  0.002024  0.004462  1.501868e-03  0.003471  0.001531   \n",
       "21301   2.024474e-03  0.000000  0.000503  1.268196e-04  0.000349  0.000396   \n",
       "21302   4.461651e-03  0.000503  0.000000  8.416467e-04  0.000157  0.001131   \n",
       "21303   1.501868e-03  0.000127  0.000842  1.110223e-16  0.000411  0.000083   \n",
       "21304   3.471427e-03  0.000349  0.000157  4.106405e-04  0.000000  0.000505   \n",
       "...              ...       ...       ...           ...       ...       ...   \n",
       "21455   4.178484e-02  0.055778  0.064643  5.524725e-02  0.063295  0.056685   \n",
       "21456   7.442456e-03  0.014454  0.019190  1.258665e-02  0.016603  0.011782   \n",
       "21457   3.802663e-02  0.047629  0.052409  4.334140e-02  0.047249  0.040257   \n",
       "21458   2.498511e-02  0.033112  0.037554  2.963332e-02  0.033270  0.027237   \n",
       "21459   3.153283e-02  0.041069  0.046133  3.721773e-02  0.041401  0.034578   \n",
       "\n",
       "BAS_ID     21306     21307     21308     21309  ...     21450     21451  \\\n",
       "BAS_ID                                          ...                       \n",
       "21300   0.000317  0.000244  0.000453  0.000294  ...  0.035038  0.028058   \n",
       "21301   0.000978  0.003597  0.004308  0.001361  ...  0.048158  0.040150   \n",
       "21302   0.002661  0.006625  0.007582  0.003183  ...  0.056566  0.048030   \n",
       "21303   0.000513  0.002821  0.003472  0.000762  ...  0.047608  0.039589   \n",
       "21304   0.001799  0.005334  0.006212  0.002174  ...  0.055220  0.046699   \n",
       "...          ...       ...       ...       ...  ...       ...       ...   \n",
       "21455   0.048186  0.037696  0.035792  0.047529  ...  0.000315  0.001470   \n",
       "21456   0.008790  0.006088  0.005859  0.008197  ...  0.041492  0.033939   \n",
       "21457   0.038121  0.035680  0.035563  0.036454  ...  0.096154  0.086119   \n",
       "21458   0.025187  0.023194  0.023147  0.023909  ...  0.079071  0.069432   \n",
       "21459   0.032047  0.029305  0.029134  0.030600  ...  0.085022  0.075346   \n",
       "\n",
       "BAS_ID     21452     21453     21454     21455         21456         21457  \\\n",
       "BAS_ID                                                                       \n",
       "21300   0.025093  0.029432  0.033676  0.041785  7.442456e-03  3.802663e-02   \n",
       "21301   0.036745  0.041733  0.046556  0.055778  1.445383e-02  4.762931e-02   \n",
       "21302   0.044412  0.049745  0.054871  0.064643  1.919043e-02  5.240921e-02   \n",
       "21303   0.036177  0.041191  0.046036  0.055247  1.258665e-02  4.334140e-02   \n",
       "21304   0.043082  0.048426  0.053561  0.063295  1.660342e-02  4.724883e-02   \n",
       "...          ...       ...       ...       ...           ...           ...   \n",
       "21455   0.002371  0.001222  0.000504  0.000000  4.865037e-02  1.055438e-01   \n",
       "21456   0.030391  0.035163  0.039842  0.048650  1.110223e-16  1.734190e-02   \n",
       "21457   0.081360  0.088024  0.094384  0.105544  1.734190e-02  1.110223e-16   \n",
       "21458   0.064867  0.071189  0.077251  0.088089  8.692851e-03  1.616165e-03   \n",
       "21459   0.070711  0.077083  0.083195  0.094066  1.177637e-02  7.183902e-04   \n",
       "\n",
       "BAS_ID     21458         21459  \n",
       "BAS_ID                          \n",
       "21300   0.024985  3.153283e-02  \n",
       "21301   0.033112  4.106894e-02  \n",
       "21302   0.037554  4.613306e-02  \n",
       "21303   0.029633  3.721773e-02  \n",
       "21304   0.033270  4.140050e-02  \n",
       "...          ...           ...  \n",
       "21455   0.088089  9.406583e-02  \n",
       "21456   0.008693  1.177637e-02  \n",
       "21457   0.001616  7.183902e-04  \n",
       "21458   0.000000  4.704853e-04  \n",
       "21459   0.000470  1.110223e-16  \n",
       "\n",
       "[158 rows x 158 columns]"
      ]
     },
     "execution_count": 33,
     "metadata": {},
     "output_type": "execute_result"
    }
   ],
   "source": [
    "from scipy.spatial.distance import cdist\n",
    "cos_df = pd.DataFrame(cdist(mgwr_coef_df.iloc[:,:-3], mgwr_coef_df.iloc[:,:-3], metric='cosine'),\n",
    "                      columns = mgwr_coef_df['BAS_ID'],\n",
    "                      index = mgwr_coef_df['BAS_ID'])\n",
    "cos_df"
   ]
  },
  {
   "cell_type": "code",
   "execution_count": 34,
   "id": "c91291aa-4554-4bca-9e88-85cd69b0403f",
   "metadata": {
    "execution": {
     "iopub.execute_input": "2021-12-29T05:05:56.219078Z",
     "iopub.status.busy": "2021-12-29T05:05:56.219078Z",
     "iopub.status.idle": "2021-12-29T05:05:56.242871Z",
     "shell.execute_reply": "2021-12-29T05:05:56.242342Z",
     "shell.execute_reply.started": "2021-12-29T05:05:56.219078Z"
    }
   },
   "outputs": [],
   "source": [
    "cos_sim_df = cos_df.apply(lambda x:1-x)"
   ]
  },
  {
   "cell_type": "code",
   "execution_count": 35,
   "id": "5c7e9c20-2f08-48a4-98e4-2c534a75671c",
   "metadata": {
    "execution": {
     "iopub.execute_input": "2021-12-29T05:05:56.592041Z",
     "iopub.status.busy": "2021-12-29T05:05:56.591043Z",
     "iopub.status.idle": "2021-12-29T05:05:56.801780Z",
     "shell.execute_reply": "2021-12-29T05:05:56.800787Z",
     "shell.execute_reply.started": "2021-12-29T05:05:56.591043Z"
    }
   },
   "outputs": [
    {
     "data": {
      "text/plain": [
       "min     0.843890\n",
       "max     0.948842\n",
       "mean    0.893471\n",
       "Name: min, dtype: float64"
      ]
     },
     "execution_count": 35,
     "metadata": {},
     "output_type": "execute_result"
    }
   ],
   "source": [
    "des_cos_sim_df = cos_sim_df.describe()\n",
    "des_cos_sim_df.loc['min',:].agg(['min','max','mean'])"
   ]
  },
  {
   "cell_type": "code",
   "execution_count": 36,
   "id": "4f109e2f-e5d6-4e54-b5cb-bafbfe47e953",
   "metadata": {
    "execution": {
     "iopub.execute_input": "2021-12-29T05:06:06.785766Z",
     "iopub.status.busy": "2021-12-29T05:06:06.785766Z",
     "iopub.status.idle": "2021-12-29T05:06:06.804941Z",
     "shell.execute_reply": "2021-12-29T05:06:06.804443Z",
     "shell.execute_reply.started": "2021-12-29T05:06:06.785766Z"
    },
    "tags": []
   },
   "outputs": [
    {
     "data": {
      "text/plain": [
       "32.44679711802137"
      ]
     },
     "execution_count": 36,
     "metadata": {},
     "output_type": "execute_result"
    }
   ],
   "source": [
    "import math\n",
    "\n",
    "math.degrees(np.arccos(0.843890))"
   ]
  },
  {
   "cell_type": "markdown",
   "id": "dc75dcf6",
   "metadata": {
    "pycharm": {
     "name": "#%% md\n"
    }
   },
   "source": [
    "### 3.2.3 local collinearity 확인"
   ]
  },
  {
   "cell_type": "code",
   "execution_count": null,
   "id": "e0a16927-56ab-41b8-b299-e613e6235fb8",
   "metadata": {
    "execution": {
     "iopub.status.busy": "2021-12-29T05:02:59.248577Z",
     "iopub.status.idle": "2021-12-29T05:02:59.248577Z",
     "shell.execute_reply": "2021-12-29T05:02:59.248577Z"
    },
    "tags": []
   },
   "outputs": [],
   "source": [
    "vdp = pd.DataFrame(mgwr_results.local_collinearity()[1])\n",
    "vdp.columns = ['Intercept']+list(remove_vif['features'].values)"
   ]
  },
  {
   "cell_type": "code",
   "execution_count": null,
   "id": "c0121cb4",
   "metadata": {
    "collapsed": false,
    "execution": {
     "iopub.status.busy": "2021-12-29T05:02:59.249590Z",
     "iopub.status.idle": "2021-12-29T05:02:59.249590Z",
     "shell.execute_reply": "2021-12-29T05:02:59.249590Z"
    },
    "jupyter": {
     "outputs_hidden": false
    },
    "pycharm": {
     "name": "#%%\n"
    },
    "tags": []
   },
   "outputs": [],
   "source": [
    "vdp = pd.DataFrame(mgwr_results.local_collinearity()[1])\n",
    "vdp"
   ]
  },
  {
   "cell_type": "code",
   "execution_count": null,
   "id": "6dffd095-e668-4f99-8919-28646f11620d",
   "metadata": {
    "execution": {
     "iopub.status.busy": "2021-12-29T05:02:59.250586Z",
     "iopub.status.idle": "2021-12-29T05:02:59.250586Z",
     "shell.execute_reply": "2021-12-29T05:02:59.250586Z"
    },
    "tags": []
   },
   "outputs": [],
   "source": [
    "# vdp_1 = vdp.iloc[:,1]\n",
    "# vdp_1[vdp_1 > 0.5]\n",
    "\n",
    "# for idx, data in vdp.iterrows():\n",
    "#     mul = data[data.apply(lambda x : x >0.5)]\n",
    "#     if len(mul) > 1:\n",
    "#         print('{} : {}'.format(idx,mul[1:]))"
   ]
  },
  {
   "cell_type": "code",
   "execution_count": null,
   "id": "a3d21254-a00b-45aa-b6ab-4e25e7d97fcb",
   "metadata": {
    "execution": {
     "iopub.status.busy": "2021-12-29T05:02:59.251582Z",
     "iopub.status.idle": "2021-12-29T05:02:59.251582Z",
     "shell.execute_reply": "2021-12-29T05:02:59.251582Z"
    }
   },
   "outputs": [],
   "source": [
    "local_con_num = pd.Series(mgwr_results.local_collinearity()[0].flatten())"
   ]
  },
  {
   "cell_type": "code",
   "execution_count": null,
   "id": "4a16ee10-ab70-4255-b5f5-b545cf096d73",
   "metadata": {
    "execution": {
     "iopub.status.busy": "2021-12-29T05:02:59.252579Z",
     "iopub.status.idle": "2021-12-29T05:02:59.252579Z",
     "shell.execute_reply": "2021-12-29T05:02:59.252579Z"
    }
   },
   "outputs": [],
   "source": [
    "local_con_num.sort_values(ascending=False)"
   ]
  },
  {
   "cell_type": "code",
   "execution_count": null,
   "id": "25698693",
   "metadata": {
    "collapsed": false,
    "execution": {
     "iopub.status.busy": "2021-12-29T05:02:59.253577Z",
     "iopub.status.idle": "2021-12-29T05:02:59.253577Z",
     "shell.execute_reply": "2021-12-29T05:02:59.253577Z"
    },
    "jupyter": {
     "outputs_hidden": false
    },
    "pycharm": {
     "name": "#%%\n"
    }
   },
   "outputs": [],
   "source": [
    "a,b = coef_RFE(clean_data.loc[:,local_mul_col])\n",
    "display(a.local_collinearity()[0].max())\n",
    "display(b)"
   ]
  },
  {
   "cell_type": "markdown",
   "id": "a4437870-c855-4ace-ab9f-fa189aba1189",
   "metadata": {
    "tags": []
   },
   "source": [
    "### 3.2.4 Optimal Max Bandwidth"
   ]
  },
  {
   "cell_type": "code",
   "execution_count": null,
   "id": "61e06af1-103a-43e7-91da-a1f948e8bd5a",
   "metadata": {
    "execution": {
     "iopub.status.busy": "2021-12-29T05:02:59.254574Z",
     "iopub.status.idle": "2021-12-29T05:02:59.254574Z",
     "shell.execute_reply": "2021-12-29T05:02:59.254574Z"
    }
   },
   "outputs": [],
   "source": [
    "store_path = '../data/전처리 파일/가중치행렬(mgwr,f3,120)'\n",
    "bandwidth = []\n",
    "aicc = []\n",
    "r2 = []\n",
    "ll = []\n",
    "start = 80\n",
    "end = 120\n",
    "step = 2\n",
    "\n",
    "for bw in range(start,end,step):\n",
    "    gwr_bw = bw\n",
    "    gwr_model = GWR(s_coords, s_y1, s_X, gwr_bw,kernel='f1',spherical=True)\n",
    "    gwr_results = gwr_model.fit()\n",
    "    print('='*30+' RESULT '+'='*30)\n",
    "    print('Bandwidth : {}, R2 : {:3f}, Log-Likelihood : {:3f}, AICc : {:.3f}'.format(bw,gwr_results.R2,\n",
    "                                                                              gwr_results.llf,gwr_results.aicc))\n",
    "    bandwidth.append(bw)\n",
    "    aicc.append(gwr_results.aicc)\n",
    "    r2.append(gwr_results.R2)\n",
    "    ll.append(gwr_results.llf)\n",
    "#     p_val = spatial_variability(gwr_model,bw,n_iters=1000)\n",
    "#     print('유의 확률 30% : {}'.format(len(p_val[p_val < 0.3])))\n",
    "    \n",
    "#     gwr_coef_df = pd.DataFrame(gwr_results.params)\n",
    "#     gwr_coef_df.columns = ['intercept']+list(clean_data.iloc[:,ind_var_col].columns)\n",
    "#     gwr_coef_df['x'] = u\n",
    "#     gwr_coef_df['y'] = v\n",
    "#     gwr_coef_df['BAS_ID'] = clean_data['BAS_ID']\n",
    "#     gwr_coef_df.to_csv('../data/전처리 파일/회귀계수/BW별 회귀계수(AICc)/GWR 회귀계수(평균영업기간,bw_'+str(bw)+',1111).csv',index=False,encoding='euc-kr')\n",
    "#     weight = pd.DataFrame(mgwr_results.W[2],columns=clean_data['BAS_ID'],index=clean_data['BAS_ID'])\n",
    "#     weight.to_csv(os.path.join(store_path,'weight('+str(bw)+',f3).csv'),encoding='euc-kr')\n",
    "\n",
    "aicc_by_bw = pd.DataFrame({'band width':bandwidth,'R2':r2,'Log-Likelihood':ll,'AICc':aicc})"
   ]
  },
  {
   "cell_type": "code",
   "execution_count": null,
   "id": "6ebbe2cc-3687-4c65-83cb-1e3856c412fc",
   "metadata": {
    "execution": {
     "iopub.status.busy": "2021-12-29T05:02:59.255568Z",
     "iopub.status.idle": "2021-12-29T05:02:59.255568Z",
     "shell.execute_reply": "2021-12-29T05:02:59.255568Z"
    }
   },
   "outputs": [],
   "source": [
    "# Band width에 따른 AICc 그래프\n",
    "sns.scatterplot(x=aicc_by_bw['band width'],y=aicc_by_bw['AICc'],color='magenta')\n",
    "plt.show()"
   ]
  },
  {
   "cell_type": "code",
   "execution_count": null,
   "id": "b746a963-5196-4b6c-a320-0f742f31318e",
   "metadata": {
    "execution": {
     "iopub.status.busy": "2021-12-29T05:02:59.256566Z",
     "iopub.status.idle": "2021-12-29T05:02:59.256566Z",
     "shell.execute_reply": "2021-12-29T05:02:59.256566Z"
    }
   },
   "outputs": [],
   "source": [
    "diff_aicc = pd.DataFrame({'Interval':range(0,len(aicc_by_bw['AICc'])-1),'diff':abs(np.diff(aicc_by_bw['AICc']))})"
   ]
  },
  {
   "cell_type": "code",
   "execution_count": null,
   "id": "b5122b55-05f0-431f-90dc-2f95aa0c673e",
   "metadata": {
    "execution": {
     "iopub.status.busy": "2021-12-29T05:02:59.257564Z",
     "iopub.status.idle": "2021-12-29T05:02:59.257564Z",
     "shell.execute_reply": "2021-12-29T05:02:59.257564Z"
    }
   },
   "outputs": [],
   "source": [
    "# AICc 감소폭 그래프\n",
    "\n",
    "sns.scatterplot(x=diff_aicc['Interval'],y=diff_aicc['diff'],color='violet')\n",
    "plt.show()"
   ]
  },
  {
   "cell_type": "markdown",
   "id": "63d4dc4c-412e-4bfc-8aff-3f34946015f5",
   "metadata": {},
   "source": [
    "### 3.2.5 Column별 회귀계수 분포"
   ]
  },
  {
   "cell_type": "code",
   "execution_count": null,
   "id": "55cd7046",
   "metadata": {
    "collapsed": false,
    "execution": {
     "iopub.status.busy": "2021-12-29T05:02:59.257564Z",
     "iopub.status.idle": "2021-12-29T05:02:59.258560Z",
     "shell.execute_reply": "2021-12-29T05:02:59.257564Z"
    },
    "jupyter": {
     "outputs_hidden": false
    },
    "pycharm": {
     "name": "#%%\n"
    }
   },
   "outputs": [],
   "source": [
    "coef_ols = pd.DataFrame({'columns':['const']+list(remove_vif.features.values)\n",
    "                            ,'coef':results.params})"
   ]
  },
  {
   "cell_type": "code",
   "execution_count": null,
   "id": "02ece8c4",
   "metadata": {
    "collapsed": false,
    "execution": {
     "iopub.status.busy": "2021-12-29T05:02:59.258560Z",
     "iopub.status.idle": "2021-12-29T05:02:59.258560Z",
     "shell.execute_reply": "2021-12-29T05:02:59.258560Z"
    },
    "jupyter": {
     "outputs_hidden": false
    },
    "pycharm": {
     "name": "#%%\n"
    }
   },
   "outputs": [],
   "source": [
    "fig, ax = plt.subplots(nrows=1,ncols=1,figsize=(10,7))\n",
    "\n",
    "sns.boxplot(data=mgwr_coef_df.iloc[:,1:],ax=ax)\n",
    "sns.scatterplot(x='columns',y='coef',data=coef_ols.iloc[1:,:],color='magenta',ax=ax)\n",
    "ax.set_xticklabels(mgwr_coef_df.columns[1:], rotation=45, ha='right')\n",
    "ax.hlines(y=0,color='red',xmin=0,xmax=14)\n",
    "\n",
    "plt.savefig('../data/결과 이미지/회귀계수 boxplot(평균폐업기간).jpg')\n",
    "plt.show()"
   ]
  },
  {
   "cell_type": "code",
   "execution_count": null,
   "id": "fd5729a5-0768-4185-a11a-f985fdfbffe2",
   "metadata": {
    "execution": {
     "iopub.status.busy": "2021-12-29T05:02:59.259556Z",
     "iopub.status.idle": "2021-12-29T05:02:59.259556Z",
     "shell.execute_reply": "2021-12-29T05:02:59.259556Z"
    }
   },
   "outputs": [],
   "source": [
    "coef_df_list = [] # bw별 회귀계수 data frame list, tuple로 저장할것(bandwidth, coef_df)\n",
    "coef_df_by_col_list = [] # column별 회귀계수 dataframe list\n",
    "start = 80\n",
    "end = 130\n",
    "step = 2\n",
    "\n",
    "# bw별로 회귀계수 dataframe 생성\n",
    "for bw in range(start,end,step):\n",
    "    mgwr_selector = Sel_BW(s_coords, s_y1, s_X,multi=True,kernel='bisquare',spherical=True)\n",
    "    mgwr_bw = mgwr_selector.search(multi_bw_min=[2],multi_bw_max=[bw])\n",
    "    mgwr_model = MGWR(s_coords, s_y1, s_X, mgwr_bw_selector,kernel='bisquare',spherical=True)\n",
    "    mgwr_results = mgwr_model.fit()\n",
    "    \n",
    "    mgwr_coef_df = pd.DataFrame(mgwr_results.params)\n",
    "    mgwr_coef_df.columns = ['intercept']+list(clean_data.iloc[:,ind_var_col].columns)\n",
    "    mgwr_coef_df['BAS_ID'] = clean_data['BAS_ID']\n",
    "    coef_df_list.append(tuple((bw,mgwr_coef_df)))\n",
    "\n",
    "# column별 회귀계수 dataframe list 생성\n",
    "for i in range(32): \n",
    "    coef_df_by_col_list.append(pd.DataFrame(columns=range(start,end,step),index=clean_data['BAS_ID']))\n",
    "\n",
    "# loop 돌면서 각 컬럼별, bw별 dataframe을 생성\n",
    "for bw,coef_df in coef_df_list:\n",
    "    for i in range(32):\n",
    "        coef_df_by_col_list[i].loc[:,bw] = coef_df.iloc[:,i].values"
   ]
  },
  {
   "cell_type": "code",
   "execution_count": null,
   "id": "2207e617-047d-4bfb-94e8-a744dfe55255",
   "metadata": {
    "execution": {
     "iopub.status.busy": "2021-12-29T05:02:59.260553Z",
     "iopub.status.idle": "2021-12-29T05:02:59.260553Z",
     "shell.execute_reply": "2021-12-29T05:02:59.260553Z"
    }
   },
   "outputs": [],
   "source": [
    "# 개별공시지가 회귀계수의 분포를 살펴보자\n",
    "col_name = '개별공시지가 변화 차분평균'\n",
    "col_idx = clean_data.columns.values.tolist().index(col_name)\n",
    "target = coef_df_by_col_list[col_idx]\n",
    "bas_id = '21300'\n",
    "# target.loc[bas_id].describe()\n",
    "sns.distplot(x=target.loc[bas_id])\n",
    "plt.show()"
   ]
  },
  {
   "cell_type": "code",
   "execution_count": null,
   "id": "39e9d553-310f-45da-bf04-a39a33250ac4",
   "metadata": {
    "execution": {
     "iopub.status.busy": "2021-12-29T05:02:59.261549Z",
     "iopub.status.idle": "2021-12-29T05:02:59.261549Z",
     "shell.execute_reply": "2021-12-29T05:02:59.261549Z"
    }
   },
   "outputs": [],
   "source": [
    "bas_id_list = list(clean_data['BAS_ID'])\n",
    "store_path = '../data/전처리 파일/회귀계수/Column별'\n",
    "\n",
    "for col in tqdm(list(dX)): \n",
    "    if '/' in col:\n",
    "        col_path = col.replace('/',',')\n",
    "    else:\n",
    "        col_path = col\n",
    "        \n",
    "    if not os.path.isdir(os.path.join(store_path,col_path)):\n",
    "        os.mkdir(os.path.join(store_path,col_path))\n",
    "    \n",
    "    col_idx = dX.columns.values.tolist().index(col)+1\n",
    "    target = coef_df_by_col_list[col_idx]\n",
    "    \n",
    "    for bas_id in bas_id_list:\n",
    "        # min값과 max값의 부호가 다른 경우에만 그래프 저장 실행\n",
    "        if (target.loc[bas_id].min()*target.loc[bas_id].max()) > 0:\n",
    "            continue\n",
    "            \n",
    "        sns.histplot(x=target.loc[bas_id], kde=True,color='violet')\n",
    "        plt.title(bas_id)\n",
    "        plt.savefig(os.path.join(store_path,col_path,bas_id+'.png'))\n",
    "        plt.cla()"
   ]
  },
  {
   "cell_type": "code",
   "execution_count": null,
   "id": "e5ed2013-b501-4cb8-824b-248e0f848419",
   "metadata": {
    "execution": {
     "iopub.status.busy": "2021-12-29T05:02:59.262546Z",
     "iopub.status.idle": "2021-12-29T05:02:59.262546Z",
     "shell.execute_reply": "2021-12-29T05:02:59.262546Z"
    }
   },
   "outputs": [],
   "source": [
    "dir_list = os.listdir(store_path)\n",
    "count = []\n",
    "for dir_name in dir_list:\n",
    "    file_num = len(os.listdir(os.path.join(store_path,dir_name)))\n",
    "    count.append(file_num)\n",
    "#     print('{} : {}'.format(dir_name,file_num))\n",
    "    \n",
    "count_df = pd.Series(count,index=dir_list)\n",
    "count_df.sort_values(ascending=False)"
   ]
  },
  {
   "cell_type": "markdown",
   "id": "eec53f27-fed8-44a8-9ede-3458b5993a03",
   "metadata": {
    "tags": []
   },
   "source": [
    "### 3.2.6 Restriction Distance"
   ]
  },
  {
   "cell_type": "code",
   "execution_count": null,
   "id": "cacee425-ffbd-4fa3-bf9c-7f216b673e3b",
   "metadata": {
    "execution": {
     "iopub.status.busy": "2021-12-29T05:02:59.263594Z",
     "iopub.status.idle": "2021-12-29T05:02:59.263594Z",
     "shell.execute_reply": "2021-12-29T05:02:59.263594Z"
    }
   },
   "outputs": [],
   "source": [
    "def local_cdist(coords_i, coords, spherical):\n",
    "    \"\"\"\n",
    "    Compute Haversine (spherical=True) or Euclidean (spherical=False) distance for a local kernel.\n",
    "    \"\"\"\n",
    "    if spherical:\n",
    "        dLat = np.radians(coords[:, 1] - coords_i[1])\n",
    "        dLon = np.radians(coords[:, 0] - coords_i[0])\n",
    "        lat1 = np.radians(coords[:, 1])\n",
    "        lat2 = np.radians(coords_i[1])\n",
    "        a = np.sin(\n",
    "            dLat / 2)**2 + np.cos(lat1) * np.cos(lat2) * np.sin(dLon / 2)**2\n",
    "        c = 2 * np.arcsin(np.sqrt(a))\n",
    "        R = 6371.0\n",
    "        return R * c\n",
    "    else:\n",
    "        return np.sqrt(np.sum((coords_i - coords)**2, axis=1))"
   ]
  },
  {
   "cell_type": "code",
   "execution_count": null,
   "id": "929728fc-9314-4245-9406-d87b81e8d12a",
   "metadata": {
    "execution": {
     "iopub.status.busy": "2021-12-29T05:02:59.264750Z",
     "iopub.status.idle": "2021-12-29T05:02:59.265755Z",
     "shell.execute_reply": "2021-12-29T05:02:59.264750Z"
    }
   },
   "outputs": [],
   "source": [
    "bw_list = range(10,158,10)\n",
    "pos_count = 158\n",
    "coords = np.array(s_coords)\n",
    "eps = 1.0000001\n",
    "\n",
    "df = pd.DataFrame({'BAS_ID':clean_data['BAS_ID']})\n",
    "\n",
    "for bw in bw_list:\n",
    "    max_dis_list = []\n",
    "    for i in range(pos_count): \n",
    "        dis_list = local_cdist(coords[i],coords,True)\n",
    "        max_dis = np.partition(dis_list,int(bw) - 1)[int(bw) - 1] * eps  #partial sort in O(n) Time\n",
    "#         print(max_dis)\n",
    "        max_dis_list.append(max_dis)\n",
    "    \n",
    "    df[str(bw)] = max_dis_list\n",
    "\n",
    "df.head()"
   ]
  },
  {
   "cell_type": "code",
   "execution_count": null,
   "id": "30023312-e5e8-4411-b11f-056e5b7a2d10",
   "metadata": {
    "execution": {
     "iopub.status.busy": "2021-12-29T05:02:59.266752Z",
     "iopub.status.idle": "2021-12-29T05:02:59.266752Z",
     "shell.execute_reply": "2021-12-29T05:02:59.266752Z"
    }
   },
   "outputs": [],
   "source": [
    "df.describe()"
   ]
  },
  {
   "cell_type": "code",
   "execution_count": null,
   "id": "035618a6-08a9-4b8d-b912-c35a550542a7",
   "metadata": {
    "execution": {
     "iopub.status.busy": "2021-12-29T05:02:59.266752Z",
     "iopub.status.idle": "2021-12-29T05:02:59.267746Z",
     "shell.execute_reply": "2021-12-29T05:02:59.266752Z"
    }
   },
   "outputs": [],
   "source": [
    "sns.boxplot(data=df.loc[:,'90':])\n",
    "plt.savefig('../data/결과 이미지/restrict_bw(평균영업기간).jpg')\n",
    "plt.show()"
   ]
  },
  {
   "cell_type": "code",
   "execution_count": null,
   "id": "a0513eb1-546f-4a47-b0b3-fb8827659d1b",
   "metadata": {
    "execution": {
     "iopub.status.busy": "2021-12-29T05:02:59.268743Z",
     "iopub.status.idle": "2021-12-29T05:02:59.268743Z",
     "shell.execute_reply": "2021-12-29T05:02:59.268743Z"
    }
   },
   "outputs": [],
   "source": [
    "dist_Q3 = dict(df.describe().loc['75%'])\n",
    "max_dist_dict = dist_Q3\n",
    "max_dist_dict['158'] = 6.400214\n",
    "max_dist_dict"
   ]
  },
  {
   "cell_type": "code",
   "execution_count": null,
   "id": "5940d38a-1768-4350-bd43-c6b132259415",
   "metadata": {
    "execution": {
     "iopub.status.busy": "2021-12-29T05:02:59.269740Z",
     "iopub.status.idle": "2021-12-29T05:02:59.269740Z",
     "shell.execute_reply": "2021-12-29T05:02:59.269740Z"
    }
   },
   "outputs": [],
   "source": [
    "temp_bw = []\n",
    "\n",
    "for bw in range(10,159):\n",
    "    start_bw = int(bw / 10)*10\n",
    "    start_dist = max_dist_dict[str(int(start_bw))]\n",
    "    \n",
    "    if start_bw != 150:\n",
    "        temp_bw.append(start_dist+(max_dist_dict[str(int(start_bw)+10)]-start_dist)/10*(bw-start_bw))\n",
    "    else:\n",
    "        temp_bw.append(start_dist+(max_dist_dict[str(int(start_bw)+8)]-start_dist)/8*(bw-start_bw))\n",
    "    \n",
    "distance_by_bw = pd.DataFrame({'bw':range(10,159),'distance':temp_bw})"
   ]
  },
  {
   "cell_type": "code",
   "execution_count": null,
   "id": "655a743b-c292-4b5d-befd-edda0c39fdd6",
   "metadata": {
    "execution": {
     "iopub.status.busy": "2021-12-29T05:02:59.270737Z",
     "iopub.status.idle": "2021-12-29T05:02:59.271733Z",
     "shell.execute_reply": "2021-12-29T05:02:59.270737Z"
    }
   },
   "outputs": [],
   "source": [
    "sns.scatterplot(x=distance_by_bw['bw'],y=distance_by_bw['distance'])\n",
    "plt.savefig('../data/결과 이미지/restrict_bw_smooth_graph(평균영업기간).jpg')\n",
    "plt.show()"
   ]
  },
  {
   "cell_type": "markdown",
   "id": "856eb91c-7adb-4a8a-b6db-da6ff573ee39",
   "metadata": {},
   "source": [
    "### 3.2.7 Recursive Local Multicollinearity Elimination "
   ]
  },
  {
   "cell_type": "code",
   "execution_count": null,
   "id": "c2a5a129-d182-4b49-8346-a87c8d86a5bd",
   "metadata": {
    "execution": {
     "iopub.status.busy": "2021-12-29T05:02:59.271733Z",
     "iopub.status.idle": "2021-12-29T05:02:59.271733Z",
     "shell.execute_reply": "2021-12-29T05:02:59.271733Z"
    }
   },
   "outputs": [],
   "source": [
    "def coef_RFE(df):\n",
    "    flag = True\n",
    "    next_col = list(df.columns)\n",
    "    \n",
    "    while flag:\n",
    "        \n",
    "        temp_X = df.loc[:,next_col].values\n",
    "    \n",
    "        mgwr_selector = Sel_BW(s_coords, s_y1, temp_X,multi=True,kernel='f1',spherical=True)\n",
    "        mgwr_bw = mgwr_selector.search(multi_bw_min=[2])\n",
    "        print(mgwr_bw)\n",
    "        mgwr_model = MGWR(s_coords, s_y1, temp_X, mgwr_selector,kernel='f1',spherical=True,hat_matrix=True)\n",
    "        mgwr_results = mgwr_model.fit()\n",
    "    \n",
    "        mgwr_coef_df = pd.DataFrame(mgwr_results.params)\n",
    "        mgwr_coef_df.columns = ['intercept']+next_col\n",
    "    \n",
    "        result = check_vif(mgwr_coef_df.iloc[:,1:])\n",
    "        display(result.iloc[-3:,:])\n",
    "\n",
    "        if len(result[result['VIF Factor'] > 10]) == 0:\n",
    "            return mgwr_results, result\n",
    "            # 유일한 탈출 조건\n",
    "        \n",
    "        next_col = result.iloc[:-1,1].values.tolist()\n",
    "        \n",
    "result, last_feature = coef_RFE(try_data.loc[:,remove_vif['features'].values])\n",
    "display(last_feature)\n",
    "display(result.summary())"
   ]
  },
  {
   "cell_type": "code",
   "execution_count": null,
   "id": "71f8eb78",
   "metadata": {
    "collapsed": false,
    "execution": {
     "iopub.status.busy": "2021-12-29T05:02:59.272731Z",
     "iopub.status.idle": "2021-12-29T05:02:59.272731Z",
     "shell.execute_reply": "2021-12-29T05:02:59.272731Z"
    },
    "jupyter": {
     "outputs_hidden": false
    },
    "pycharm": {
     "name": "#%%\n"
    }
   },
   "outputs": [],
   "source": [
    "last_feature.to_csv('../data/결과 데이터/회귀계수 간의 다중공선성(평균영업기간).csv',encoding='euc-kr')"
   ]
  },
  {
   "cell_type": "code",
   "execution_count": null,
   "id": "fbb2ae04-4155-4325-bcc8-623c891c5968",
   "metadata": {
    "execution": {
     "iopub.status.busy": "2021-12-29T05:02:59.273726Z",
     "iopub.status.idle": "2021-12-29T05:02:59.273726Z",
     "shell.execute_reply": "2021-12-29T05:02:59.273726Z"
    }
   },
   "outputs": [],
   "source": [
    "list(last_feature['features'].values)"
   ]
  },
  {
   "cell_type": "code",
   "execution_count": null,
   "id": "1dc6cca8-56e0-4da6-9b7d-18b2fc948a56",
   "metadata": {
    "execution": {
     "iopub.status.busy": "2021-12-29T05:02:59.274723Z",
     "iopub.status.idle": "2021-12-29T05:02:59.274723Z",
     "shell.execute_reply": "2021-12-29T05:02:59.274723Z"
    }
   },
   "outputs": [],
   "source": [
    "cc = pd.Series(result.local_collinearity()[0].flatten(),index=clean_data.loc[:,'BAS_ID'])\n",
    "cc.max()"
   ]
  },
  {
   "cell_type": "markdown",
   "id": "6053df46-3634-41ac-889d-4f0bb8af44a2",
   "metadata": {},
   "source": [
    "## 3.3 Kernel별 GWR Modeling\n",
    "- bisquare, f1, gaussian\n",
    "- max bandwidth : 120, 거리제한 O\n",
    "- 대역폭은 고정되어 있고, 커널별 가중치 자료가 필요한 것이기 때문에 굳이 시간이 오래걸리는 MGWR모델이 아닌 GWR 모델을 생성하여 가중치 자료를 생성"
   ]
  },
  {
   "cell_type": "code",
   "execution_count": null,
   "id": "3d60f381-97f8-4f12-84eb-4515d552d5e0",
   "metadata": {
    "execution": {
     "iopub.status.busy": "2021-12-29T05:02:59.274723Z",
     "iopub.status.idle": "2021-12-29T05:02:59.275720Z",
     "shell.execute_reply": "2021-12-29T05:02:59.275720Z"
    }
   },
   "outputs": [],
   "source": [
    "# 1. Raw Data\n",
    "rd_X = clean_data.iloc[:,ind_var_col]\n",
    "\n",
    "ind_dataset = [rd_X]\n",
    "# [rd_X,remove_high_vif_X,scaled_X,remove_high_vif_scaled_X]\n",
    "kernel = ['bisquare']\n",
    "# ,'bisquare']\n",
    "# ,'f2','f3','gaussian','exponential','bisquare']\n",
    "max_multi_bw = [120]\n",
    "# [90,100,110,120]\n",
    "\n",
    "aicc = []\n",
    "mbw = []\n",
    "r2 = []\n",
    "adj_r2 = []\n",
    "ker = []\n",
    "dataset_idx = []\n",
    "count = 0\n",
    "start_time = time.time()\n",
    "\n",
    "for func in kernel:\n",
    "    for bw in max_multi_bw:\n",
    "        for i,s_X in enumerate(ind_dataset):\n",
    "            s_X = s_X.values\n",
    "            # 모델 생성\n",
    "\n",
    "#             gwr_selector = Sel_BW(s_coords, s_y1, s_X,kernel=func,spherical=True)\n",
    "#             gwr_bw = gwr_selector.search(bw_min=[2],multi_bw_max=[bw])\n",
    "#             print(mgwr_bw)\n",
    "            gwr_model = GWR(s_coords, s_y1, s_X, bw ,kernel=func,spherical=True)\n",
    "            gwr_results = gwr_model.fit()\n",
    "    \n",
    "            # 평가 지표\n",
    "            aicc.append(gwr_results.aicc)\n",
    "            mbw.append(bw)\n",
    "            r2.append(gwr_results.R2)\n",
    "            adj_r2.append(gwr_results.adj_R2)\n",
    "            ker.append(func)\n",
    "            dataset_idx.append(i)\n",
    "            weight = pd.DataFrame(gwr_results.W,columns=clean_data['BAS_ID'],index=clean_data['BAS_ID'])\n",
    "            weight.to_csv('../data/전처리 파일/가중치행렬/weight('+str(bw)+',renew f1,1122).csv',encoding='euc-kr')\n",
    "            \n",
    "            print('========================= RESULT =========================')\n",
    "            print('KERNEL : {}'.format(func))\n",
    "            print('DATASET NUMBER : {}'.format(i))\n",
    "            print('R2 : {:.8f}'.format(gwr_results.R2))\n",
    "            print('Adj. R2 : {:.8f}'.format(gwr_results.adj_R2))\n",
    "            print('AICc : {:.8f}'.format(gwr_results.aicc))\n",
    "            print('MAX BANDWIDTH : {:.8f}'.format(bw))\n",
    "    \n",
    "            count += 1\n",
    "            print('진행률 : {0:.2f}%, 소요시간 : {1:.2f}분'.format(count/(len(kernel)*len(ind_dataset)*len(max_multi_bw))*100,(time.time()-start_time)/60))\n",
    "\n",
    "valid_result = pd.DataFrame({'Data Number':dataset_idx,'Kernel':ker,'R2':r2,'Adj. R2':adj_r2\n",
    "                             ,'AICc':aicc,'Max Bandwidth':mbw})"
   ]
  },
  {
   "cell_type": "markdown",
   "id": "87c39282-3514-40de-bf02-0f7bb0d88c74",
   "metadata": {},
   "source": [
    "## 3.4 거리제한에 따른 회귀계수의 비교"
   ]
  },
  {
   "cell_type": "code",
   "execution_count": null,
   "id": "808312e7-741e-4de3-a390-d40572331ac4",
   "metadata": {
    "execution": {
     "iopub.status.busy": "2021-12-29T05:02:59.275720Z",
     "iopub.status.idle": "2021-12-29T05:02:59.276717Z",
     "shell.execute_reply": "2021-12-29T05:02:59.275720Z"
    }
   },
   "outputs": [],
   "source": [
    "coef_dir = os.listdir('../data/전처리 파일/회귀계수')\n",
    "coef_dir"
   ]
  },
  {
   "cell_type": "code",
   "execution_count": null,
   "id": "9e64d20e-e959-4431-807b-b568e2cf3f0b",
   "metadata": {
    "execution": {
     "iopub.status.busy": "2021-12-29T05:02:59.276717Z",
     "iopub.status.idle": "2021-12-29T05:02:59.276717Z",
     "shell.execute_reply": "2021-12-29T05:02:59.276717Z"
    }
   },
   "outputs": [],
   "source": [
    "not_restrict = pd.read_csv('../data/전처리 파일/회귀계수/MGWR 회귀계수(평균영업기간,max_bw_120,거리제한 X,renew f1,1118).csv',encoding='euc-kr')\n",
    "restrict = pd.read_csv('../data/전처리 파일/회귀계수/MGWR 회귀계수(평균영업기간,max_bw_120,renew f1,1118).csv',encoding='euc-kr')"
   ]
  },
  {
   "cell_type": "code",
   "execution_count": null,
   "id": "7ff0930d-9238-48e0-bc19-261efec4b23f",
   "metadata": {
    "execution": {
     "iopub.status.busy": "2021-12-29T05:02:59.277713Z",
     "iopub.status.idle": "2021-12-29T05:02:59.278763Z",
     "shell.execute_reply": "2021-12-29T05:02:59.278711Z"
    }
   },
   "outputs": [],
   "source": [
    "not_restrict = not_restrict.drop(['x','y'],axis=1)\n",
    "restrict = restrict.drop(['x','y'],axis=1)\n",
    "display(not_restrict.head())\n",
    "display(restrict.head())"
   ]
  },
  {
   "cell_type": "code",
   "execution_count": null,
   "id": "512b557a-5a2d-4a18-aa21-e3ed68d5d8ef",
   "metadata": {
    "execution": {
     "iopub.status.busy": "2021-12-29T05:02:59.278763Z",
     "iopub.status.idle": "2021-12-29T05:02:59.278763Z",
     "shell.execute_reply": "2021-12-29T05:02:59.278763Z"
    }
   },
   "outputs": [],
   "source": [
    "pd.set_option('display.max_rows',10)"
   ]
  },
  {
   "cell_type": "code",
   "execution_count": null,
   "id": "225a225f-fbdf-49e6-9942-b171baa834cd",
   "metadata": {
    "execution": {
     "iopub.status.busy": "2021-12-29T05:02:59.280093Z",
     "iopub.status.idle": "2021-12-29T05:02:59.280093Z",
     "shell.execute_reply": "2021-12-29T05:02:59.280093Z"
    }
   },
   "outputs": [],
   "source": [
    "coef_vif_result = RFE(restrict.iloc[:,:-1])\n",
    "col = coef_vif_result.features.values.tolist()+['BAS_ID','x','y']\n",
    "remove_vif = restrict.loc[:,col]\n",
    "remove_vif.to_csv('../data/전처리 파일/회귀계수/MGWR 회귀계수(평균영업기간,max_bw_120, renew f1,다중공선성 제거,1119).csv',index=False,encoding='euc-kr')"
   ]
  },
  {
   "cell_type": "code",
   "execution_count": null,
   "id": "7ddb97ab-b2d3-4363-8410-f5c46b663f5b",
   "metadata": {
    "execution": {
     "iopub.status.busy": "2021-12-29T05:02:59.281089Z",
     "iopub.status.idle": "2021-12-29T05:02:59.281089Z",
     "shell.execute_reply": "2021-12-29T05:02:59.281089Z"
    }
   },
   "outputs": [],
   "source": [
    "path = '../data/군집화 결과/renew_f1(영업기간,maxbw120,1118).csv'\n",
    "cluster_data = pd.read_csv(path,encoding='euc-kr')\n",
    "cluster_data.head()"
   ]
  },
  {
   "cell_type": "code",
   "execution_count": null,
   "id": "ed65d8fc-2677-4a06-a022-f03becdde4d8",
   "metadata": {
    "execution": {
     "iopub.status.busy": "2021-12-29T05:02:59.282090Z",
     "iopub.status.idle": "2021-12-29T05:02:59.282090Z",
     "shell.execute_reply": "2021-12-29T05:02:59.282090Z"
    }
   },
   "outputs": [],
   "source": [
    "merge_restrict = pd.concat([restrict,cluster_data['open_11cluster']],axis=1)\n",
    "merge_not_restrict = pd.concat([not_restrict,cluster_data['open_11cluster']],axis=1)"
   ]
  },
  {
   "cell_type": "code",
   "execution_count": null,
   "id": "03c5c0a7-e197-44d7-a078-1b95528245d7",
   "metadata": {
    "execution": {
     "iopub.status.busy": "2021-12-29T05:02:59.283082Z",
     "iopub.status.idle": "2021-12-29T05:02:59.283082Z",
     "shell.execute_reply": "2021-12-29T05:02:59.283082Z"
    }
   },
   "outputs": [],
   "source": [
    "sorted(cluster_data['open_11cluster'].unique())"
   ]
  },
  {
   "cell_type": "code",
   "execution_count": null,
   "id": "dad1092a-1e46-4d28-8fa6-b82e5f420ee2",
   "metadata": {
    "execution": {
     "iopub.status.busy": "2021-12-29T05:02:59.283082Z",
     "iopub.status.idle": "2021-12-29T05:02:59.283082Z",
     "shell.execute_reply": "2021-12-29T05:02:59.283082Z"
    }
   },
   "outputs": [],
   "source": [
    "merge_not_restrict['open_11cluster'].unique()"
   ]
  },
  {
   "cell_type": "code",
   "execution_count": null,
   "id": "e5f05d54-6ee6-44d2-8151-e23b0e82d48b",
   "metadata": {
    "execution": {
     "iopub.status.busy": "2021-12-29T05:02:59.284081Z",
     "iopub.status.idle": "2021-12-29T05:02:59.284081Z",
     "shell.execute_reply": "2021-12-29T05:02:59.284081Z"
    }
   },
   "outputs": [],
   "source": [
    "# 중간 위치의 기초구역 리스트\n",
    "# 21314, 21315, 21334, 21363, 21376\n",
    "# 해당 기초구역들만 다른 색으로 표시해보자\n",
    "store_path = '../data/전처리 파일/회귀계수/거리제한 전후 회귀계수 비교'\n",
    "# inter_area = [21314, 21315, 21334, 21363, 21376]\n",
    "# idx = restrict[restrict['BAS_ID'].isin(inter_area)].index\n",
    "\n",
    "if not os.path.exists(store_path):\n",
    "    os.mkdir(store_path)\n",
    "\n",
    "for i,col in enumerate(restrict.columns[:-1]):\n",
    "    if '/' in col:\n",
    "        col_path = col.replace('/',',')\n",
    "    else:\n",
    "        col_path = col\n",
    "        \n",
    "    fig, axes = plt.subplots(nrows=1,ncols=2,figsize=(20,7),sharey=True)\n",
    "    \n",
    "    sns.scatterplot(x='BAS_ID',y=col,data = merge_not_restrict,hue='open_11cluster',ax=axes[0],palette=\"Paired\")\n",
    "    sns.scatterplot(x='BAS_ID',y=col,data = merge_restrict,hue='open_11cluster',ax=axes[1],palette=\"Paired\")\n",
    "    axes[0].set_title('NOT RESTRICT')\n",
    "    axes[1].set_title('RESTRICT')\n",
    "    plt.savefig(os.path.join(store_path,col_path))"
   ]
  },
  {
   "cell_type": "code",
   "execution_count": null,
   "id": "7c5096e5-5ea9-44c7-a83e-511a82952a2e",
   "metadata": {
    "execution": {
     "iopub.status.busy": "2021-12-29T05:02:59.284081Z",
     "iopub.status.idle": "2021-12-29T05:02:59.285076Z",
     "shell.execute_reply": "2021-12-29T05:02:59.284081Z"
    }
   },
   "outputs": [],
   "source": [
    "path = '../data/전처리 파일/가중치행렬/가중치행렬(bw별, 거리제한 O)'\n",
    "weight_name = os.listdir(path)\n",
    "weight = pd.read_csv(os.path.join(path,weight_name[2]),encoding='euc-kr')"
   ]
  },
  {
   "cell_type": "code",
   "execution_count": null,
   "id": "6d92ce0d-85db-4969-a356-ac9c010f3baf",
   "metadata": {
    "execution": {
     "iopub.status.busy": "2021-12-29T05:02:59.286072Z",
     "iopub.status.idle": "2021-12-29T05:02:59.286072Z",
     "shell.execute_reply": "2021-12-29T05:02:59.286072Z"
    }
   },
   "outputs": [],
   "source": [
    "use_weight = weight[weight > 0].count()\n",
    "len(use_weight[use_weight < 80])"
   ]
  },
  {
   "cell_type": "code",
   "execution_count": null,
   "id": "74740cf4-7145-4dd0-9fb4-01b589418312",
   "metadata": {
    "execution": {
     "iopub.status.busy": "2021-12-29T05:02:59.287070Z",
     "iopub.status.idle": "2021-12-29T05:02:59.287070Z",
     "shell.execute_reply": "2021-12-29T05:02:59.287070Z"
    }
   },
   "outputs": [],
   "source": [
    "scatter_data = pd.concat([clean_data[['BAS_ID','평균영업기간','평균폐업기간']],cluster_data['open_11cluster']],axis=1)\n",
    "scatter_data.head()"
   ]
  },
  {
   "cell_type": "code",
   "execution_count": null,
   "id": "8af3434c-5cbd-4422-89aa-b3fa999fea4a",
   "metadata": {
    "execution": {
     "iopub.status.busy": "2021-12-29T05:02:59.287070Z",
     "iopub.status.idle": "2021-12-29T05:02:59.288078Z",
     "shell.execute_reply": "2021-12-29T05:02:59.288078Z"
    }
   },
   "outputs": [],
   "source": [
    "cluster_num = 11\n",
    "col_num = 3\n",
    "\n",
    "fig, axes = plt.subplots(nrows=int(cluster_num / col_num)+1,ncols=col_num,figsize=(20,20))\n",
    "\n",
    "for i, num in enumerate(sorted(cluster_data['open_11cluster'].unique())):\n",
    "    temp_df = scatter_data.loc[scatter_data['open_11cluster']==num]\n",
    "    sns.scatterplot(data=temp_df,x='평균폐업기간',y='평균영업기간',color='magenta',palette='deep',ax=axes[int(i/col_num),i % col_num])\n",
    "    axes[int(i/col_num),i % col_num].set_title('CLUSTER '+str(num))\n",
    "    axes[int(i/col_num),i % col_num].hlines(temp_df['평균영업기간'].mean(),0,temp_df['평균폐업기간'].max(),color='blue')\n",
    "    axes[int(i/col_num),i % col_num].vlines(temp_df['평균폐업기간'].mean(),0,temp_df['평균영업기간'].max(),color='blue')\n",
    "    \n",
    "plt.show()"
   ]
  }
 ],
 "metadata": {
  "kernelspec": {
   "display_name": "Python 3",
   "language": "python",
   "name": "python3"
  },
  "language_info": {
   "codemirror_mode": {
    "name": "ipython",
    "version": 3
   },
   "file_extension": ".py",
   "mimetype": "text/x-python",
   "name": "python",
   "nbconvert_exporter": "python",
   "pygments_lexer": "ipython3",
   "version": "3.8.11"
  },
  "toc-autonumbering": false,
  "toc-showcode": false,
  "toc-showmarkdowntxt": false,
  "toc-showtags": false
 },
 "nbformat": 4,
 "nbformat_minor": 5
}

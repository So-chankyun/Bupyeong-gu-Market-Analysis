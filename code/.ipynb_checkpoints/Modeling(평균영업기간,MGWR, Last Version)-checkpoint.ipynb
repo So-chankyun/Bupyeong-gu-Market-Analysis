{
 "cells": [
  {
   "cell_type": "code",
   "execution_count": 1,
   "id": "65a24150-8f81-4ff3-b1e6-4938501ef26a",
   "metadata": {
    "execution": {
     "iopub.execute_input": "2021-12-28T08:37:12.918103Z",
     "iopub.status.busy": "2021-12-28T08:37:12.918103Z",
     "iopub.status.idle": "2021-12-28T08:37:16.247829Z",
     "shell.execute_reply": "2021-12-28T08:37:16.247333Z",
     "shell.execute_reply.started": "2021-12-28T08:37:12.918103Z"
    }
   },
   "outputs": [],
   "source": [
    "import numpy as np\n",
    "import libpysal as ps\n",
    "from mgwr.gwr import GWR, MGWR\n",
    "from mgwr.sel_bw import Sel_BW\n",
    "import geopandas as gp\n",
    "import matplotlib.pyplot as plt\n",
    "import matplotlib as mpl\n",
    "import pandas as pd\n",
    "import geopandas as gpd\n",
    "from sklearn.model_selection import train_test_split\n",
    "from sklearn.preprocessing import StandardScaler\n",
    "from sklearn.preprocessing import MinMaxScaler\n",
    "from sklearn.preprocessing import RobustScaler\n",
    "from sklearn.metrics import mean_squared_error\n",
    "import matplotlib.font_manager as fm\n",
    "from matplotlib import font_manager, rc\n",
    "import seaborn as sns\n",
    "import warnings\n",
    "from statsmodels.stats.outliers_influence import variance_inflation_factor\n",
    "from sklearn.decomposition import PCA\n",
    "from numpy import dot \n",
    "from numpy.linalg import norm\n",
    "from libpysal.weights.contiguity import Queen\n",
    "import splot\n",
    "from esda.moran import Moran\n",
    "from splot.esda import moran_scatterplot\n",
    "from tqdm.notebook import tqdm\n",
    "from sklearn.model_selection import KFold, StratifiedKFold\n",
    "from scipy import stats\n",
    "from scipy.stats import kurtosis\n",
    "import os\n",
    "import copy\n",
    "import time\n",
    "\n",
    "mpl.rcParams['axes.unicode_minus'] = False\n",
    "warnings.simplefilter('ignore')\n",
    "\n",
    "font_path = r'C:/Users/user/NanumFontSetup_TTF_ALL/NanumGothic.ttf'\n",
    "font_name = font_manager.FontProperties(fname=font_path, size=18).get_name()\n",
    "rc('font',family=font_name)"
   ]
  },
  {
   "cell_type": "markdown",
   "id": "6faff5be-63df-4ced-81dc-37cd9b0b435a",
   "metadata": {},
   "source": [
    "# 1. Data Load"
   ]
  },
  {
   "cell_type": "code",
   "execution_count": 2,
   "id": "5d8ff1b5-0430-414e-9a90-8cea104d11d2",
   "metadata": {
    "execution": {
     "iopub.execute_input": "2021-12-28T08:37:16.249916Z",
     "iopub.status.busy": "2021-12-28T08:37:16.249916Z",
     "iopub.status.idle": "2021-12-28T08:37:16.263593Z",
     "shell.execute_reply": "2021-12-28T08:37:16.263030Z",
     "shell.execute_reply.started": "2021-12-28T08:37:16.249916Z"
    }
   },
   "outputs": [
    {
     "data": {
      "text/plain": [
       "['fixed_dataset(매출건수).csv',\n",
       " 'fixed_dataset(자동차유지,10퍼센트절사평균).csv',\n",
       " 'fixed_dataset(자동차제거,null유지).csv',\n",
       " 'fixed_dataset(자동차제거,매출log,null유지).csv',\n",
       " 'fixed_dataset(자동차제거,매출log,null유지,절사평균).csv',\n",
       " 'fixed_dataset(자동차제거,매출raw,null유지).csv',\n",
       " 'fixed_dataset(자동차제거,매출raw,null유지,1126).csv',\n",
       " 'fixed_dataset(자동차제거,매출raw,null유지,1201).csv',\n",
       " 'fixed_dataset(자동차제거,매출raw,null유지,원래연면적,1201).csv',\n",
       " 'fixed_dataset(자동차제거,매출raw,null유지,원래연면적,버퍼점포밀도,1202).csv',\n",
       " 'fixed_dataset.csv',\n",
       " 'fixed_dataset_1105.csv',\n",
       " 'fixed_dataset_1214.csv']"
      ]
     },
     "execution_count": 2,
     "metadata": {},
     "output_type": "execute_result"
    }
   ],
   "source": [
    "data_path = '../data/Dataset' \n",
    "os.listdir(data_path)"
   ]
  },
  {
   "cell_type": "code",
   "execution_count": 3,
   "id": "014dba82-eace-4977-9bbe-a48386e4330d",
   "metadata": {
    "execution": {
     "iopub.execute_input": "2021-12-28T08:37:16.264597Z",
     "iopub.status.busy": "2021-12-28T08:37:16.264597Z",
     "iopub.status.idle": "2021-12-28T08:37:16.310160Z",
     "shell.execute_reply": "2021-12-28T08:37:16.309634Z",
     "shell.execute_reply.started": "2021-12-28T08:37:16.264597Z"
    }
   },
   "outputs": [
    {
     "data": {
      "text/html": [
       "<div>\n",
       "<style scoped>\n",
       "    .dataframe tbody tr th:only-of-type {\n",
       "        vertical-align: middle;\n",
       "    }\n",
       "\n",
       "    .dataframe tbody tr th {\n",
       "        vertical-align: top;\n",
       "    }\n",
       "\n",
       "    .dataframe thead th {\n",
       "        text-align: right;\n",
       "    }\n",
       "</style>\n",
       "<table border=\"1\" class=\"dataframe\">\n",
       "  <thead>\n",
       "    <tr style=\"text-align: right;\">\n",
       "      <th></th>\n",
       "      <th>BAS_ID</th>\n",
       "      <th>BAS_AR</th>\n",
       "      <th>도로길이고려_전체통합도</th>\n",
       "      <th>도로길이고려_국부통합도_R3</th>\n",
       "      <th>기초구역평균_전체통합도</th>\n",
       "      <th>기초구역평균_국부통합도_R3</th>\n",
       "      <th>도로율</th>\n",
       "      <th>평균 도로 길이</th>\n",
       "      <th>아파트시세변화_차분평균</th>\n",
       "      <th>평균영업기간</th>\n",
       "      <th>...</th>\n",
       "      <th>서비스업종다양성</th>\n",
       "      <th>소매업종다양성</th>\n",
       "      <th>상가밀도</th>\n",
       "      <th>주중 / 주말</th>\n",
       "      <th>06 to 18 / 18 to 06</th>\n",
       "      <th>개별공시지가 변화 차분평균</th>\n",
       "      <th>(주거인구+직장인구) / 유동인구</th>\n",
       "      <th>주거인구/직장인구</th>\n",
       "      <th>10_30 / 40_60</th>\n",
       "      <th>점포밀도</th>\n",
       "    </tr>\n",
       "  </thead>\n",
       "  <tbody>\n",
       "    <tr>\n",
       "      <th>0</th>\n",
       "      <td>21300</td>\n",
       "      <td>0.743330</td>\n",
       "      <td>617.130076</td>\n",
       "      <td>7987.604945</td>\n",
       "      <td>0.060037</td>\n",
       "      <td>0.907932</td>\n",
       "      <td>7.332336</td>\n",
       "      <td>119.253463</td>\n",
       "      <td>0.000</td>\n",
       "      <td>163.106482</td>\n",
       "      <td>...</td>\n",
       "      <td>1.609438</td>\n",
       "      <td>2.390980</td>\n",
       "      <td>86.099041</td>\n",
       "      <td>2.342449</td>\n",
       "      <td>2.695669</td>\n",
       "      <td>31337.73585</td>\n",
       "      <td>0.268398</td>\n",
       "      <td>0.149563</td>\n",
       "      <td>0.406896</td>\n",
       "      <td>7.046875</td>\n",
       "    </tr>\n",
       "    <tr>\n",
       "      <th>1</th>\n",
       "      <td>21301</td>\n",
       "      <td>0.121045</td>\n",
       "      <td>221.397046</td>\n",
       "      <td>2876.534944</td>\n",
       "      <td>0.069661</td>\n",
       "      <td>0.938454</td>\n",
       "      <td>30.948119</td>\n",
       "      <td>211.340833</td>\n",
       "      <td>305.909</td>\n",
       "      <td>156.249615</td>\n",
       "      <td>...</td>\n",
       "      <td>1.127535</td>\n",
       "      <td>1.985080</td>\n",
       "      <td>346.978396</td>\n",
       "      <td>2.315147</td>\n",
       "      <td>2.280277</td>\n",
       "      <td>344640.00000</td>\n",
       "      <td>0.254881</td>\n",
       "      <td>0.667946</td>\n",
       "      <td>0.439757</td>\n",
       "      <td>11.523810</td>\n",
       "    </tr>\n",
       "    <tr>\n",
       "      <th>2</th>\n",
       "      <td>21302</td>\n",
       "      <td>0.175777</td>\n",
       "      <td>341.252878</td>\n",
       "      <td>4162.583064</td>\n",
       "      <td>0.087372</td>\n",
       "      <td>1.084619</td>\n",
       "      <td>25.546905</td>\n",
       "      <td>214.144187</td>\n",
       "      <td>0.000</td>\n",
       "      <td>111.950730</td>\n",
       "      <td>...</td>\n",
       "      <td>2.029155</td>\n",
       "      <td>1.314799</td>\n",
       "      <td>876.110071</td>\n",
       "      <td>2.064957</td>\n",
       "      <td>2.339853</td>\n",
       "      <td>174949.46240</td>\n",
       "      <td>0.220317</td>\n",
       "      <td>0.899425</td>\n",
       "      <td>0.508371</td>\n",
       "      <td>143.584416</td>\n",
       "    </tr>\n",
       "    <tr>\n",
       "      <th>3</th>\n",
       "      <td>21303</td>\n",
       "      <td>0.270679</td>\n",
       "      <td>475.038010</td>\n",
       "      <td>6080.093135</td>\n",
       "      <td>0.084712</td>\n",
       "      <td>1.079401</td>\n",
       "      <td>15.517121</td>\n",
       "      <td>105.011320</td>\n",
       "      <td>912.500</td>\n",
       "      <td>153.728003</td>\n",
       "      <td>...</td>\n",
       "      <td>2.364045</td>\n",
       "      <td>2.064017</td>\n",
       "      <td>232.748015</td>\n",
       "      <td>2.273528</td>\n",
       "      <td>2.246297</td>\n",
       "      <td>97041.79104</td>\n",
       "      <td>0.108296</td>\n",
       "      <td>6.308614</td>\n",
       "      <td>0.441902</td>\n",
       "      <td>36.111111</td>\n",
       "    </tr>\n",
       "    <tr>\n",
       "      <th>4</th>\n",
       "      <td>21304</td>\n",
       "      <td>0.073319</td>\n",
       "      <td>273.241567</td>\n",
       "      <td>3575.514233</td>\n",
       "      <td>0.092931</td>\n",
       "      <td>1.107098</td>\n",
       "      <td>32.713927</td>\n",
       "      <td>134.361765</td>\n",
       "      <td>369.231</td>\n",
       "      <td>177.329451</td>\n",
       "      <td>...</td>\n",
       "      <td>2.289920</td>\n",
       "      <td>2.379112</td>\n",
       "      <td>2495.942389</td>\n",
       "      <td>2.016228</td>\n",
       "      <td>2.004099</td>\n",
       "      <td>166589.33650</td>\n",
       "      <td>0.212989</td>\n",
       "      <td>1.959390</td>\n",
       "      <td>0.479893</td>\n",
       "      <td>113.836066</td>\n",
       "    </tr>\n",
       "  </tbody>\n",
       "</table>\n",
       "<p>5 rows × 35 columns</p>\n",
       "</div>"
      ],
      "text/plain": [
       "   BAS_ID    BAS_AR  도로길이고려_전체통합도  도로길이고려_국부통합도_R3  기초구역평균_전체통합도  \\\n",
       "0   21300  0.743330    617.130076      7987.604945      0.060037   \n",
       "1   21301  0.121045    221.397046      2876.534944      0.069661   \n",
       "2   21302  0.175777    341.252878      4162.583064      0.087372   \n",
       "3   21303  0.270679    475.038010      6080.093135      0.084712   \n",
       "4   21304  0.073319    273.241567      3575.514233      0.092931   \n",
       "\n",
       "   기초구역평균_국부통합도_R3        도로율    평균 도로 길이  아파트시세변화_차분평균      평균영업기간  ...  \\\n",
       "0         0.907932   7.332336  119.253463         0.000  163.106482  ...   \n",
       "1         0.938454  30.948119  211.340833       305.909  156.249615  ...   \n",
       "2         1.084619  25.546905  214.144187         0.000  111.950730  ...   \n",
       "3         1.079401  15.517121  105.011320       912.500  153.728003  ...   \n",
       "4         1.107098  32.713927  134.361765       369.231  177.329451  ...   \n",
       "\n",
       "   서비스업종다양성   소매업종다양성         상가밀도   주중 / 주말  06 to 18 / 18 to 06  \\\n",
       "0  1.609438  2.390980    86.099041  2.342449             2.695669   \n",
       "1  1.127535  1.985080   346.978396  2.315147             2.280277   \n",
       "2  2.029155  1.314799   876.110071  2.064957             2.339853   \n",
       "3  2.364045  2.064017   232.748015  2.273528             2.246297   \n",
       "4  2.289920  2.379112  2495.942389  2.016228             2.004099   \n",
       "\n",
       "   개별공시지가 변화 차분평균  (주거인구+직장인구) / 유동인구  주거인구/직장인구  10_30 / 40_60        점포밀도  \n",
       "0     31337.73585            0.268398   0.149563       0.406896    7.046875  \n",
       "1    344640.00000            0.254881   0.667946       0.439757   11.523810  \n",
       "2    174949.46240            0.220317   0.899425       0.508371  143.584416  \n",
       "3     97041.79104            0.108296   6.308614       0.441902   36.111111  \n",
       "4    166589.33650            0.212989   1.959390       0.479893  113.836066  \n",
       "\n",
       "[5 rows x 35 columns]"
      ]
     },
     "execution_count": 3,
     "metadata": {},
     "output_type": "execute_result"
    }
   ],
   "source": [
    "# 1. 매출 log, null 유지\n",
    "data = pd.read_csv(os.path.join(data_path,'fixed_dataset_1214.csv'),encoding='euc-kr')\n",
    "\n",
    "# 2. 자동차제거,매출log,null유지,절사평균\n",
    "# data = pd.read_csv(os.path.join(data_path,'fixed_dataset(자동차제거,매출log,null유지,절사평균).csv'),encoding='euc-kr')\n",
    "data.head()"
   ]
  },
  {
   "cell_type": "code",
   "execution_count": 4,
   "id": "33eb1fe6-e931-40c9-bb22-85d028d8ad2b",
   "metadata": {
    "execution": {
     "iopub.execute_input": "2021-12-28T08:37:21.451352Z",
     "iopub.status.busy": "2021-12-28T08:37:21.451352Z",
     "iopub.status.idle": "2021-12-28T08:37:21.472758Z",
     "shell.execute_reply": "2021-12-28T08:37:21.472257Z",
     "shell.execute_reply.started": "2021-12-28T08:37:21.451352Z"
    }
   },
   "outputs": [
    {
     "name": "stdout",
     "output_type": "stream",
     "text": [
      "<class 'pandas.core.frame.DataFrame'>\n",
      "RangeIndex: 161 entries, 0 to 160\n",
      "Data columns (total 35 columns):\n",
      " #   Column               Non-Null Count  Dtype  \n",
      "---  ------               --------------  -----  \n",
      " 0   BAS_ID               161 non-null    int64  \n",
      " 1   BAS_AR               161 non-null    float64\n",
      " 2   도로길이고려_전체통합도         161 non-null    float64\n",
      " 3   도로길이고려_국부통합도_R3      161 non-null    float64\n",
      " 4   기초구역평균_전체통합도         161 non-null    float64\n",
      " 5   기초구역평균_국부통합도_R3      161 non-null    float64\n",
      " 6   도로율                  161 non-null    float64\n",
      " 7   평균 도로 길이             161 non-null    float64\n",
      " 8   아파트시세변화_차분평균         161 non-null    float64\n",
      " 9   평균영업기간               158 non-null    float64\n",
      " 10  평균폐업기간               151 non-null    float64\n",
      " 11  평균최근접역거리             160 non-null    float64\n",
      " 12  평균최근접정류장거리           160 non-null    float64\n",
      " 13  건물노후도                161 non-null    float64\n",
      " 14  공동주택 비율              161 non-null    float64\n",
      " 15  근린생활시설 비율            161 non-null    float64\n",
      " 16  단독주택 비율              161 non-null    float64\n",
      " 17  아파트 가구수              161 non-null    int64  \n",
      " 18  외식업매출월평균변화량          157 non-null    float64\n",
      " 19  서비스업매출월평균변화량         158 non-null    float64\n",
      " 20  소매업매출월평균변화량          156 non-null    float64\n",
      " 21  외식업매출비율              153 non-null    float64\n",
      " 22  서비스업매출비율             156 non-null    float64\n",
      " 23  소매업매출비율              156 non-null    float64\n",
      " 24  외식업종다양성              160 non-null    float64\n",
      " 25  서비스업종다양성             160 non-null    float64\n",
      " 26  소매업종다양성              160 non-null    float64\n",
      " 27  상가밀도                 160 non-null    float64\n",
      " 28  주중 / 주말              161 non-null    float64\n",
      " 29  06 to 18 / 18 to 06  161 non-null    float64\n",
      " 30  개별공시지가 변화 차분평균       161 non-null    float64\n",
      " 31  (주거인구+직장인구) / 유동인구   161 non-null    float64\n",
      " 32  주거인구/직장인구            161 non-null    float64\n",
      " 33  10_30 / 40_60        161 non-null    float64\n",
      " 34  점포밀도                 160 non-null    float64\n",
      "dtypes: float64(33), int64(2)\n",
      "memory usage: 44.1 KB\n"
     ]
    }
   ],
   "source": [
    "data.info()"
   ]
  },
  {
   "cell_type": "markdown",
   "id": "705a8325-b3e3-41f9-ba14-787454f2780d",
   "metadata": {},
   "source": [
    "## 1.1 결측치 확인"
   ]
  },
  {
   "cell_type": "code",
   "execution_count": 5,
   "id": "5877e252-cdac-4253-87ca-1f5820f58619",
   "metadata": {
    "execution": {
     "iopub.execute_input": "2021-12-28T08:37:25.995255Z",
     "iopub.status.busy": "2021-12-28T08:37:25.995255Z",
     "iopub.status.idle": "2021-12-28T08:37:26.012300Z",
     "shell.execute_reply": "2021-12-28T08:37:26.011743Z",
     "shell.execute_reply.started": "2021-12-28T08:37:25.995255Z"
    }
   },
   "outputs": [
    {
     "data": {
      "text/plain": [
       "BAS_ID                  0\n",
       "BAS_AR                  0\n",
       "도로길이고려_전체통합도            0\n",
       "도로길이고려_국부통합도_R3         0\n",
       "기초구역평균_전체통합도            0\n",
       "기초구역평균_국부통합도_R3         0\n",
       "도로율                     0\n",
       "평균 도로 길이                0\n",
       "아파트시세변화_차분평균            0\n",
       "평균영업기간                  3\n",
       "평균폐업기간                 10\n",
       "평균최근접역거리                1\n",
       "평균최근접정류장거리              1\n",
       "건물노후도                   0\n",
       "공동주택 비율                 0\n",
       "근린생활시설 비율               0\n",
       "단독주택 비율                 0\n",
       "아파트 가구수                 0\n",
       "외식업매출월평균변화량             4\n",
       "서비스업매출월평균변화량            3\n",
       "소매업매출월평균변화량             5\n",
       "외식업매출비율                 8\n",
       "서비스업매출비율                5\n",
       "소매업매출비율                 5\n",
       "외식업종다양성                 1\n",
       "서비스업종다양성                1\n",
       "소매업종다양성                 1\n",
       "상가밀도                    1\n",
       "주중 / 주말                 0\n",
       "06 to 18 / 18 to 06     0\n",
       "개별공시지가 변화 차분평균          0\n",
       "(주거인구+직장인구) / 유동인구      0\n",
       "주거인구/직장인구               0\n",
       "10_30 / 40_60           0\n",
       "점포밀도                    1\n",
       "dtype: int64"
      ]
     },
     "execution_count": 5,
     "metadata": {},
     "output_type": "execute_result"
    }
   ],
   "source": [
    "data.isnull().sum()"
   ]
  },
  {
   "cell_type": "markdown",
   "id": "39e277b6-b0bd-4636-8c6d-b0f002b8e625",
   "metadata": {
    "tags": []
   },
   "source": [
    "### 1.1.1 평균운영기간, 평균폐업기간\n",
    "- 영업기간, 폐업기간 둘 다 없을 경우 제거\n",
    "- 영업기간은 있지만 폐업기간이 없을 경우 영업기간으로 대체\n",
    "- 점포밀도가 무한대인 row 제거"
   ]
  },
  {
   "cell_type": "code",
   "execution_count": 6,
   "id": "9bbc9641-c876-42ba-a213-4797b6be1cff",
   "metadata": {
    "execution": {
     "iopub.execute_input": "2021-12-28T08:37:26.362442Z",
     "iopub.status.busy": "2021-12-28T08:37:26.362442Z",
     "iopub.status.idle": "2021-12-28T08:37:26.383988Z",
     "shell.execute_reply": "2021-12-28T08:37:26.383492Z",
     "shell.execute_reply.started": "2021-12-28T08:37:26.362442Z"
    }
   },
   "outputs": [
    {
     "data": {
      "text/html": [
       "<div>\n",
       "<style scoped>\n",
       "    .dataframe tbody tr th:only-of-type {\n",
       "        vertical-align: middle;\n",
       "    }\n",
       "\n",
       "    .dataframe tbody tr th {\n",
       "        vertical-align: top;\n",
       "    }\n",
       "\n",
       "    .dataframe thead th {\n",
       "        text-align: right;\n",
       "    }\n",
       "</style>\n",
       "<table border=\"1\" class=\"dataframe\">\n",
       "  <thead>\n",
       "    <tr style=\"text-align: right;\">\n",
       "      <th></th>\n",
       "      <th>BAS_ID</th>\n",
       "      <th>평균영업기간</th>\n",
       "      <th>평균폐업기간</th>\n",
       "      <th>점포밀도</th>\n",
       "    </tr>\n",
       "  </thead>\n",
       "  <tbody>\n",
       "    <tr>\n",
       "      <th>22</th>\n",
       "      <td>21322</td>\n",
       "      <td>201.466149</td>\n",
       "      <td>NaN</td>\n",
       "      <td>2.666667</td>\n",
       "    </tr>\n",
       "    <tr>\n",
       "      <th>27</th>\n",
       "      <td>21327</td>\n",
       "      <td>89.858108</td>\n",
       "      <td>NaN</td>\n",
       "      <td>12.000000</td>\n",
       "    </tr>\n",
       "    <tr>\n",
       "      <th>39</th>\n",
       "      <td>21339</td>\n",
       "      <td>82.104355</td>\n",
       "      <td>NaN</td>\n",
       "      <td>0.000000</td>\n",
       "    </tr>\n",
       "    <tr>\n",
       "      <th>72</th>\n",
       "      <td>21372</td>\n",
       "      <td>NaN</td>\n",
       "      <td>NaN</td>\n",
       "      <td>28.500000</td>\n",
       "    </tr>\n",
       "    <tr>\n",
       "      <th>73</th>\n",
       "      <td>21373</td>\n",
       "      <td>252.747147</td>\n",
       "      <td>NaN</td>\n",
       "      <td>26.633333</td>\n",
       "    </tr>\n",
       "    <tr>\n",
       "      <th>75</th>\n",
       "      <td>21375</td>\n",
       "      <td>NaN</td>\n",
       "      <td>NaN</td>\n",
       "      <td>2.000000</td>\n",
       "    </tr>\n",
       "    <tr>\n",
       "      <th>81</th>\n",
       "      <td>21381</td>\n",
       "      <td>183.029083</td>\n",
       "      <td>NaN</td>\n",
       "      <td>16.920000</td>\n",
       "    </tr>\n",
       "    <tr>\n",
       "      <th>86</th>\n",
       "      <td>21386</td>\n",
       "      <td>132.306618</td>\n",
       "      <td>NaN</td>\n",
       "      <td>10.750000</td>\n",
       "    </tr>\n",
       "    <tr>\n",
       "      <th>159</th>\n",
       "      <td>21459</td>\n",
       "      <td>165.177930</td>\n",
       "      <td>NaN</td>\n",
       "      <td>2.666667</td>\n",
       "    </tr>\n",
       "    <tr>\n",
       "      <th>160</th>\n",
       "      <td>21460</td>\n",
       "      <td>NaN</td>\n",
       "      <td>NaN</td>\n",
       "      <td>NaN</td>\n",
       "    </tr>\n",
       "  </tbody>\n",
       "</table>\n",
       "</div>"
      ],
      "text/plain": [
       "     BAS_ID      평균영업기간  평균폐업기간       점포밀도\n",
       "22    21322  201.466149     NaN   2.666667\n",
       "27    21327   89.858108     NaN  12.000000\n",
       "39    21339   82.104355     NaN   0.000000\n",
       "72    21372         NaN     NaN  28.500000\n",
       "73    21373  252.747147     NaN  26.633333\n",
       "75    21375         NaN     NaN   2.000000\n",
       "81    21381  183.029083     NaN  16.920000\n",
       "86    21386  132.306618     NaN  10.750000\n",
       "159   21459  165.177930     NaN   2.666667\n",
       "160   21460         NaN     NaN        NaN"
      ]
     },
     "execution_count": 6,
     "metadata": {},
     "output_type": "execute_result"
    }
   ],
   "source": [
    "data[data['평균폐업기간'].isnull()][['BAS_ID','평균영업기간','평균폐업기간','점포밀도']]"
   ]
  },
  {
   "cell_type": "code",
   "execution_count": 7,
   "id": "d2d368ec-739d-4e1a-861f-46a80a436830",
   "metadata": {
    "execution": {
     "iopub.execute_input": "2021-12-28T08:37:26.569571Z",
     "iopub.status.busy": "2021-12-28T08:37:26.569571Z",
     "iopub.status.idle": "2021-12-28T08:37:26.587272Z",
     "shell.execute_reply": "2021-12-28T08:37:26.586765Z",
     "shell.execute_reply.started": "2021-12-28T08:37:26.569571Z"
    }
   },
   "outputs": [],
   "source": [
    "# 제거할 row 정의 및 제거\n",
    "\n",
    "drop_index = list(data[data['평균영업기간'].isnull()].index)\n",
    "\n",
    "clean_data = data.drop(drop_index,axis=0).reset_index(drop=True)"
   ]
  },
  {
   "cell_type": "code",
   "execution_count": 8,
   "id": "49402a30-9e27-49b8-a7f7-7b58a206cdbf",
   "metadata": {
    "execution": {
     "iopub.execute_input": "2021-12-28T08:37:26.820493Z",
     "iopub.status.busy": "2021-12-28T08:37:26.820493Z",
     "iopub.status.idle": "2021-12-28T08:37:26.836842Z",
     "shell.execute_reply": "2021-12-28T08:37:26.835764Z",
     "shell.execute_reply.started": "2021-12-28T08:37:26.820493Z"
    }
   },
   "outputs": [
    {
     "name": "stdout",
     "output_type": "stream",
     "text": [
      "<class 'pandas.core.frame.DataFrame'>\n",
      "RangeIndex: 158 entries, 0 to 157\n",
      "Data columns (total 35 columns):\n",
      " #   Column               Non-Null Count  Dtype  \n",
      "---  ------               --------------  -----  \n",
      " 0   BAS_ID               158 non-null    int64  \n",
      " 1   BAS_AR               158 non-null    float64\n",
      " 2   도로길이고려_전체통합도         158 non-null    float64\n",
      " 3   도로길이고려_국부통합도_R3      158 non-null    float64\n",
      " 4   기초구역평균_전체통합도         158 non-null    float64\n",
      " 5   기초구역평균_국부통합도_R3      158 non-null    float64\n",
      " 6   도로율                  158 non-null    float64\n",
      " 7   평균 도로 길이             158 non-null    float64\n",
      " 8   아파트시세변화_차분평균         158 non-null    float64\n",
      " 9   평균영업기간               158 non-null    float64\n",
      " 10  평균폐업기간               151 non-null    float64\n",
      " 11  평균최근접역거리             158 non-null    float64\n",
      " 12  평균최근접정류장거리           158 non-null    float64\n",
      " 13  건물노후도                158 non-null    float64\n",
      " 14  공동주택 비율              158 non-null    float64\n",
      " 15  근린생활시설 비율            158 non-null    float64\n",
      " 16  단독주택 비율              158 non-null    float64\n",
      " 17  아파트 가구수              158 non-null    int64  \n",
      " 18  외식업매출월평균변화량          156 non-null    float64\n",
      " 19  서비스업매출월평균변화량         156 non-null    float64\n",
      " 20  소매업매출월평균변화량          155 non-null    float64\n",
      " 21  외식업매출비율              153 non-null    float64\n",
      " 22  서비스업매출비율             155 non-null    float64\n",
      " 23  소매업매출비율              155 non-null    float64\n",
      " 24  외식업종다양성              158 non-null    float64\n",
      " 25  서비스업종다양성             158 non-null    float64\n",
      " 26  소매업종다양성              158 non-null    float64\n",
      " 27  상가밀도                 158 non-null    float64\n",
      " 28  주중 / 주말              158 non-null    float64\n",
      " 29  06 to 18 / 18 to 06  158 non-null    float64\n",
      " 30  개별공시지가 변화 차분평균       158 non-null    float64\n",
      " 31  (주거인구+직장인구) / 유동인구   158 non-null    float64\n",
      " 32  주거인구/직장인구            158 non-null    float64\n",
      " 33  10_30 / 40_60        158 non-null    float64\n",
      " 34  점포밀도                 158 non-null    float64\n",
      "dtypes: float64(33), int64(2)\n",
      "memory usage: 43.3 KB\n"
     ]
    }
   ],
   "source": [
    "clean_data.info()"
   ]
  },
  {
   "cell_type": "code",
   "execution_count": 9,
   "id": "57d7eb87-0dd8-4b0b-a169-f94016bfd90f",
   "metadata": {
    "execution": {
     "iopub.execute_input": "2021-12-28T08:37:27.745630Z",
     "iopub.status.busy": "2021-12-28T08:37:27.745630Z",
     "iopub.status.idle": "2021-12-28T08:37:27.771014Z",
     "shell.execute_reply": "2021-12-28T08:37:27.771014Z",
     "shell.execute_reply.started": "2021-12-28T08:37:27.745630Z"
    }
   },
   "outputs": [
    {
     "data": {
      "text/html": [
       "<div>\n",
       "<style scoped>\n",
       "    .dataframe tbody tr th:only-of-type {\n",
       "        vertical-align: middle;\n",
       "    }\n",
       "\n",
       "    .dataframe tbody tr th {\n",
       "        vertical-align: top;\n",
       "    }\n",
       "\n",
       "    .dataframe thead th {\n",
       "        text-align: right;\n",
       "    }\n",
       "</style>\n",
       "<table border=\"1\" class=\"dataframe\">\n",
       "  <thead>\n",
       "    <tr style=\"text-align: right;\">\n",
       "      <th></th>\n",
       "      <th>BAS_ID</th>\n",
       "      <th>외식업매출월평균변화량</th>\n",
       "      <th>서비스업매출월평균변화량</th>\n",
       "      <th>소매업매출월평균변화량</th>\n",
       "    </tr>\n",
       "  </thead>\n",
       "  <tbody>\n",
       "    <tr>\n",
       "      <th>27</th>\n",
       "      <td>21327</td>\n",
       "      <td>-34481.37931</td>\n",
       "      <td>NaN</td>\n",
       "      <td>NaN</td>\n",
       "    </tr>\n",
       "    <tr>\n",
       "      <th>39</th>\n",
       "      <td>21339</td>\n",
       "      <td>-63057.75862</td>\n",
       "      <td>-2.931084e+07</td>\n",
       "      <td>NaN</td>\n",
       "    </tr>\n",
       "    <tr>\n",
       "      <th>72</th>\n",
       "      <td>21373</td>\n",
       "      <td>NaN</td>\n",
       "      <td>1.759062e+05</td>\n",
       "      <td>276226.6034</td>\n",
       "    </tr>\n",
       "    <tr>\n",
       "      <th>84</th>\n",
       "      <td>21386</td>\n",
       "      <td>-633171.81030</td>\n",
       "      <td>NaN</td>\n",
       "      <td>NaN</td>\n",
       "    </tr>\n",
       "    <tr>\n",
       "      <th>109</th>\n",
       "      <td>21411</td>\n",
       "      <td>NaN</td>\n",
       "      <td>-2.047334e+04</td>\n",
       "      <td>-423603.6429</td>\n",
       "    </tr>\n",
       "  </tbody>\n",
       "</table>\n",
       "</div>"
      ],
      "text/plain": [
       "     BAS_ID   외식업매출월평균변화량  서비스업매출월평균변화량  소매업매출월평균변화량\n",
       "27    21327  -34481.37931           NaN          NaN\n",
       "39    21339  -63057.75862 -2.931084e+07          NaN\n",
       "72    21373           NaN  1.759062e+05  276226.6034\n",
       "84    21386 -633171.81030           NaN          NaN\n",
       "109   21411           NaN -2.047334e+04 -423603.6429"
      ]
     },
     "execution_count": 9,
     "metadata": {},
     "output_type": "execute_result"
    }
   ],
   "source": [
    "condition = clean_data['외식업매출월평균변화량'].isnull() | clean_data['소매업매출월평균변화량'].isnull() \n",
    "clean_data[condition].loc[:,['BAS_ID','외식업매출월평균변화량','서비스업매출월평균변화량','소매업매출월평균변화량']]"
   ]
  },
  {
   "cell_type": "code",
   "execution_count": 10,
   "id": "0391ce6c-0260-422b-ab7c-93f5b7ebb067",
   "metadata": {
    "execution": {
     "iopub.execute_input": "2021-12-28T08:37:27.964433Z",
     "iopub.status.busy": "2021-12-28T08:37:27.963435Z",
     "iopub.status.idle": "2021-12-28T08:37:27.971810Z",
     "shell.execute_reply": "2021-12-28T08:37:27.971293Z",
     "shell.execute_reply.started": "2021-12-28T08:37:27.964433Z"
    }
   },
   "outputs": [],
   "source": [
    "clean_data.fillna(0,inplace=True)"
   ]
  },
  {
   "cell_type": "code",
   "execution_count": 11,
   "id": "2675e907-907a-4a88-9971-d4bb28353f75",
   "metadata": {
    "execution": {
     "iopub.execute_input": "2021-12-28T08:37:34.529319Z",
     "iopub.status.busy": "2021-12-28T08:37:34.529319Z",
     "iopub.status.idle": "2021-12-28T08:37:34.547494Z",
     "shell.execute_reply": "2021-12-28T08:37:34.546597Z",
     "shell.execute_reply.started": "2021-12-28T08:37:34.529319Z"
    }
   },
   "outputs": [
    {
     "data": {
      "text/plain": [
       "BAS_ID                 0\n",
       "BAS_AR                 0\n",
       "도로길이고려_전체통합도           0\n",
       "도로길이고려_국부통합도_R3        0\n",
       "기초구역평균_전체통합도           0\n",
       "기초구역평균_국부통합도_R3        0\n",
       "도로율                    0\n",
       "평균 도로 길이               0\n",
       "아파트시세변화_차분평균           0\n",
       "평균영업기간                 0\n",
       "평균폐업기간                 0\n",
       "평균최근접역거리               0\n",
       "평균최근접정류장거리             0\n",
       "건물노후도                  0\n",
       "공동주택 비율                0\n",
       "근린생활시설 비율              0\n",
       "단독주택 비율                0\n",
       "아파트 가구수                0\n",
       "외식업매출월평균변화량            0\n",
       "서비스업매출월평균변화량           0\n",
       "소매업매출월평균변화량            0\n",
       "외식업매출비율                0\n",
       "서비스업매출비율               0\n",
       "소매업매출비율                0\n",
       "외식업종다양성                0\n",
       "서비스업종다양성               0\n",
       "소매업종다양성                0\n",
       "상가밀도                   0\n",
       "주중 / 주말                0\n",
       "06 to 18 / 18 to 06    0\n",
       "개별공시지가 변화 차분평균         0\n",
       "(주거인구+직장인구) / 유동인구     0\n",
       "주거인구/직장인구              0\n",
       "10_30 / 40_60          0\n",
       "점포밀도                   0\n",
       "dtype: int64"
      ]
     },
     "execution_count": 11,
     "metadata": {},
     "output_type": "execute_result"
    }
   ],
   "source": [
    "# null값은 없다.\n",
    "clean_data.isnull().sum()"
   ]
  },
  {
   "cell_type": "markdown",
   "id": "630c1220-f26d-462e-9314-c8ef87f9e767",
   "metadata": {},
   "source": [
    "## 1.2 geometry 정보 로딩"
   ]
  },
  {
   "cell_type": "code",
   "execution_count": 12,
   "id": "b1785128-e75a-4e2a-a1f8-5fe7ac115c0d",
   "metadata": {
    "execution": {
     "iopub.execute_input": "2021-12-28T08:37:34.889299Z",
     "iopub.status.busy": "2021-12-28T08:37:34.889299Z",
     "iopub.status.idle": "2021-12-28T08:37:34.980313Z",
     "shell.execute_reply": "2021-12-28T08:37:34.980313Z",
     "shell.execute_reply.started": "2021-12-28T08:37:34.889299Z"
    }
   },
   "outputs": [
    {
     "data": {
      "text/html": [
       "<div>\n",
       "<style scoped>\n",
       "    .dataframe tbody tr th:only-of-type {\n",
       "        vertical-align: middle;\n",
       "    }\n",
       "\n",
       "    .dataframe tbody tr th {\n",
       "        vertical-align: top;\n",
       "    }\n",
       "\n",
       "    .dataframe thead th {\n",
       "        text-align: right;\n",
       "    }\n",
       "</style>\n",
       "<table border=\"1\" class=\"dataframe\">\n",
       "  <thead>\n",
       "    <tr style=\"text-align: right;\">\n",
       "      <th></th>\n",
       "      <th>BAS_AR</th>\n",
       "      <th>BAS_ID</th>\n",
       "      <th>BAS_MGT_SN</th>\n",
       "      <th>CTP_KOR_NM</th>\n",
       "      <th>MVMN_DE</th>\n",
       "      <th>MVMN_RESN</th>\n",
       "      <th>NTFC_DE</th>\n",
       "      <th>OPERT_DE</th>\n",
       "      <th>SIG_CD</th>\n",
       "      <th>SIG_KOR_NM</th>\n",
       "      <th>center_x</th>\n",
       "      <th>center_y</th>\n",
       "      <th>geometry</th>\n",
       "    </tr>\n",
       "  </thead>\n",
       "  <tbody>\n",
       "    <tr>\n",
       "      <th>0</th>\n",
       "      <td>2.648838</td>\n",
       "      <td>21459</td>\n",
       "      <td>2823700025</td>\n",
       "      <td>인천광역시</td>\n",
       "      <td>None</td>\n",
       "      <td>None</td>\n",
       "      <td>20121221</td>\n",
       "      <td>None</td>\n",
       "      <td>28237</td>\n",
       "      <td>부평구</td>\n",
       "      <td>126.742914</td>\n",
       "      <td>37.474121</td>\n",
       "      <td>POLYGON ((126.73590 37.48296, 126.73597 37.482...</td>\n",
       "    </tr>\n",
       "    <tr>\n",
       "      <th>1</th>\n",
       "      <td>0.156212</td>\n",
       "      <td>21384</td>\n",
       "      <td>2823700061</td>\n",
       "      <td>인천광역시</td>\n",
       "      <td>None</td>\n",
       "      <td>None</td>\n",
       "      <td>20121221</td>\n",
       "      <td>None</td>\n",
       "      <td>28237</td>\n",
       "      <td>부평구</td>\n",
       "      <td>126.708049</td>\n",
       "      <td>37.489905</td>\n",
       "      <td>POLYGON ((126.70977 37.49105, 126.70987 37.491...</td>\n",
       "    </tr>\n",
       "    <tr>\n",
       "      <th>2</th>\n",
       "      <td>0.076024</td>\n",
       "      <td>21403</td>\n",
       "      <td>2823700058</td>\n",
       "      <td>인천광역시</td>\n",
       "      <td>None</td>\n",
       "      <td>None</td>\n",
       "      <td>20121221</td>\n",
       "      <td>None</td>\n",
       "      <td>28237</td>\n",
       "      <td>부평구</td>\n",
       "      <td>126.732706</td>\n",
       "      <td>37.489535</td>\n",
       "      <td>POLYGON ((126.73383 37.48969, 126.73431 37.489...</td>\n",
       "    </tr>\n",
       "    <tr>\n",
       "      <th>3</th>\n",
       "      <td>0.527205</td>\n",
       "      <td>21447</td>\n",
       "      <td>2823700035</td>\n",
       "      <td>인천광역시</td>\n",
       "      <td>None</td>\n",
       "      <td>None</td>\n",
       "      <td>20121221</td>\n",
       "      <td>None</td>\n",
       "      <td>28237</td>\n",
       "      <td>부평구</td>\n",
       "      <td>126.694834</td>\n",
       "      <td>37.482046</td>\n",
       "      <td>POLYGON ((126.69892 37.48537, 126.69960 37.485...</td>\n",
       "    </tr>\n",
       "    <tr>\n",
       "      <th>4</th>\n",
       "      <td>0.073898</td>\n",
       "      <td>21421</td>\n",
       "      <td>2823700036</td>\n",
       "      <td>인천광역시</td>\n",
       "      <td>None</td>\n",
       "      <td>None</td>\n",
       "      <td>20121221</td>\n",
       "      <td>None</td>\n",
       "      <td>28237</td>\n",
       "      <td>부평구</td>\n",
       "      <td>126.737058</td>\n",
       "      <td>37.484080</td>\n",
       "      <td>POLYGON ((126.73785 37.48219, 126.73772 37.482...</td>\n",
       "    </tr>\n",
       "  </tbody>\n",
       "</table>\n",
       "</div>"
      ],
      "text/plain": [
       "     BAS_AR BAS_ID  BAS_MGT_SN CTP_KOR_NM MVMN_DE MVMN_RESN   NTFC_DE  \\\n",
       "0  2.648838  21459  2823700025      인천광역시    None      None  20121221   \n",
       "1  0.156212  21384  2823700061      인천광역시    None      None  20121221   \n",
       "2  0.076024  21403  2823700058      인천광역시    None      None  20121221   \n",
       "3  0.527205  21447  2823700035      인천광역시    None      None  20121221   \n",
       "4  0.073898  21421  2823700036      인천광역시    None      None  20121221   \n",
       "\n",
       "  OPERT_DE SIG_CD SIG_KOR_NM    center_x   center_y  \\\n",
       "0     None  28237        부평구  126.742914  37.474121   \n",
       "1     None  28237        부평구  126.708049  37.489905   \n",
       "2     None  28237        부평구  126.732706  37.489535   \n",
       "3     None  28237        부평구  126.694834  37.482046   \n",
       "4     None  28237        부평구  126.737058  37.484080   \n",
       "\n",
       "                                            geometry  \n",
       "0  POLYGON ((126.73590 37.48296, 126.73597 37.482...  \n",
       "1  POLYGON ((126.70977 37.49105, 126.70987 37.491...  \n",
       "2  POLYGON ((126.73383 37.48969, 126.73431 37.489...  \n",
       "3  POLYGON ((126.69892 37.48537, 126.69960 37.485...  \n",
       "4  POLYGON ((126.73785 37.48219, 126.73772 37.482...  "
      ]
     },
     "execution_count": 12,
     "metadata": {},
     "output_type": "execute_result"
    }
   ],
   "source": [
    "basis_area= gpd.read_file('../data/전처리 파일/부평구_기초구역_5181/부평구_기초구역_4326.shp')\n",
    "basis_area.head()"
   ]
  },
  {
   "cell_type": "code",
   "execution_count": 13,
   "id": "316fe32b-bb54-4aa4-8520-54fe81235645",
   "metadata": {
    "execution": {
     "iopub.execute_input": "2021-12-28T08:37:35.078128Z",
     "iopub.status.busy": "2021-12-28T08:37:35.077133Z",
     "iopub.status.idle": "2021-12-28T08:37:35.104950Z",
     "shell.execute_reply": "2021-12-28T08:37:35.104367Z",
     "shell.execute_reply.started": "2021-12-28T08:37:35.078128Z"
    }
   },
   "outputs": [
    {
     "data": {
      "text/html": [
       "<div>\n",
       "<style scoped>\n",
       "    .dataframe tbody tr th:only-of-type {\n",
       "        vertical-align: middle;\n",
       "    }\n",
       "\n",
       "    .dataframe tbody tr th {\n",
       "        vertical-align: top;\n",
       "    }\n",
       "\n",
       "    .dataframe thead th {\n",
       "        text-align: right;\n",
       "    }\n",
       "</style>\n",
       "<table border=\"1\" class=\"dataframe\">\n",
       "  <thead>\n",
       "    <tr style=\"text-align: right;\">\n",
       "      <th></th>\n",
       "      <th>BAS_ID</th>\n",
       "      <th>geometry</th>\n",
       "    </tr>\n",
       "  </thead>\n",
       "  <tbody>\n",
       "    <tr>\n",
       "      <th>0</th>\n",
       "      <td>21459</td>\n",
       "      <td>POLYGON ((126.73590 37.48296, 126.73597 37.482...</td>\n",
       "    </tr>\n",
       "    <tr>\n",
       "      <th>1</th>\n",
       "      <td>21384</td>\n",
       "      <td>POLYGON ((126.70977 37.49105, 126.70987 37.491...</td>\n",
       "    </tr>\n",
       "    <tr>\n",
       "      <th>2</th>\n",
       "      <td>21403</td>\n",
       "      <td>POLYGON ((126.73383 37.48969, 126.73431 37.489...</td>\n",
       "    </tr>\n",
       "    <tr>\n",
       "      <th>3</th>\n",
       "      <td>21447</td>\n",
       "      <td>POLYGON ((126.69892 37.48537, 126.69960 37.485...</td>\n",
       "    </tr>\n",
       "    <tr>\n",
       "      <th>4</th>\n",
       "      <td>21421</td>\n",
       "      <td>POLYGON ((126.73785 37.48219, 126.73772 37.482...</td>\n",
       "    </tr>\n",
       "  </tbody>\n",
       "</table>\n",
       "</div>"
      ],
      "text/plain": [
       "  BAS_ID                                           geometry\n",
       "0  21459  POLYGON ((126.73590 37.48296, 126.73597 37.482...\n",
       "1  21384  POLYGON ((126.70977 37.49105, 126.70987 37.491...\n",
       "2  21403  POLYGON ((126.73383 37.48969, 126.73431 37.489...\n",
       "3  21447  POLYGON ((126.69892 37.48537, 126.69960 37.485...\n",
       "4  21421  POLYGON ((126.73785 37.48219, 126.73772 37.482..."
      ]
     },
     "execution_count": 13,
     "metadata": {},
     "output_type": "execute_result"
    }
   ],
   "source": [
    "use_basis_area = basis_area[['BAS_ID','geometry']]\n",
    "use_basis_area.head()"
   ]
  },
  {
   "cell_type": "code",
   "execution_count": 14,
   "id": "175618c0-0ef8-4275-8a4e-c91b2f13ba7c",
   "metadata": {
    "execution": {
     "iopub.execute_input": "2021-12-28T08:37:35.230364Z",
     "iopub.status.busy": "2021-12-28T08:37:35.230364Z",
     "iopub.status.idle": "2021-12-28T08:37:35.274980Z",
     "shell.execute_reply": "2021-12-28T08:37:35.274980Z",
     "shell.execute_reply.started": "2021-12-28T08:37:35.230364Z"
    }
   },
   "outputs": [
    {
     "data": {
      "text/html": [
       "<div>\n",
       "<style scoped>\n",
       "    .dataframe tbody tr th:only-of-type {\n",
       "        vertical-align: middle;\n",
       "    }\n",
       "\n",
       "    .dataframe tbody tr th {\n",
       "        vertical-align: top;\n",
       "    }\n",
       "\n",
       "    .dataframe thead th {\n",
       "        text-align: right;\n",
       "    }\n",
       "</style>\n",
       "<table border=\"1\" class=\"dataframe\">\n",
       "  <thead>\n",
       "    <tr style=\"text-align: right;\">\n",
       "      <th></th>\n",
       "      <th>BAS_ID</th>\n",
       "      <th>BAS_AR</th>\n",
       "      <th>도로길이고려_전체통합도</th>\n",
       "      <th>도로길이고려_국부통합도_R3</th>\n",
       "      <th>기초구역평균_전체통합도</th>\n",
       "      <th>기초구역평균_국부통합도_R3</th>\n",
       "      <th>도로율</th>\n",
       "      <th>평균 도로 길이</th>\n",
       "      <th>아파트시세변화_차분평균</th>\n",
       "      <th>평균영업기간</th>\n",
       "      <th>...</th>\n",
       "      <th>소매업종다양성</th>\n",
       "      <th>상가밀도</th>\n",
       "      <th>주중 / 주말</th>\n",
       "      <th>06 to 18 / 18 to 06</th>\n",
       "      <th>개별공시지가 변화 차분평균</th>\n",
       "      <th>(주거인구+직장인구) / 유동인구</th>\n",
       "      <th>주거인구/직장인구</th>\n",
       "      <th>10_30 / 40_60</th>\n",
       "      <th>점포밀도</th>\n",
       "      <th>geometry</th>\n",
       "    </tr>\n",
       "  </thead>\n",
       "  <tbody>\n",
       "    <tr>\n",
       "      <th>0</th>\n",
       "      <td>21300</td>\n",
       "      <td>0.743330</td>\n",
       "      <td>617.130076</td>\n",
       "      <td>7987.604945</td>\n",
       "      <td>0.060037</td>\n",
       "      <td>0.907932</td>\n",
       "      <td>7.332336</td>\n",
       "      <td>119.253463</td>\n",
       "      <td>0.000</td>\n",
       "      <td>163.106482</td>\n",
       "      <td>...</td>\n",
       "      <td>2.390980</td>\n",
       "      <td>86.099041</td>\n",
       "      <td>2.342449</td>\n",
       "      <td>2.695669</td>\n",
       "      <td>31337.73585</td>\n",
       "      <td>0.268398</td>\n",
       "      <td>0.149563</td>\n",
       "      <td>0.406896</td>\n",
       "      <td>7.046875</td>\n",
       "      <td>POLYGON ((126.69032 37.52345, 126.69084 37.523...</td>\n",
       "    </tr>\n",
       "    <tr>\n",
       "      <th>1</th>\n",
       "      <td>21301</td>\n",
       "      <td>0.121045</td>\n",
       "      <td>221.397046</td>\n",
       "      <td>2876.534944</td>\n",
       "      <td>0.069661</td>\n",
       "      <td>0.938454</td>\n",
       "      <td>30.948119</td>\n",
       "      <td>211.340833</td>\n",
       "      <td>305.909</td>\n",
       "      <td>156.249615</td>\n",
       "      <td>...</td>\n",
       "      <td>1.985080</td>\n",
       "      <td>346.978396</td>\n",
       "      <td>2.315147</td>\n",
       "      <td>2.280277</td>\n",
       "      <td>344640.00000</td>\n",
       "      <td>0.254881</td>\n",
       "      <td>0.667946</td>\n",
       "      <td>0.439757</td>\n",
       "      <td>11.523810</td>\n",
       "      <td>POLYGON ((126.69791 37.52246, 126.69791 37.522...</td>\n",
       "    </tr>\n",
       "    <tr>\n",
       "      <th>2</th>\n",
       "      <td>21302</td>\n",
       "      <td>0.175777</td>\n",
       "      <td>341.252878</td>\n",
       "      <td>4162.583064</td>\n",
       "      <td>0.087372</td>\n",
       "      <td>1.084619</td>\n",
       "      <td>25.546905</td>\n",
       "      <td>214.144187</td>\n",
       "      <td>0.000</td>\n",
       "      <td>111.950730</td>\n",
       "      <td>...</td>\n",
       "      <td>1.314799</td>\n",
       "      <td>876.110071</td>\n",
       "      <td>2.064957</td>\n",
       "      <td>2.339853</td>\n",
       "      <td>174949.46240</td>\n",
       "      <td>0.220317</td>\n",
       "      <td>0.899425</td>\n",
       "      <td>0.508371</td>\n",
       "      <td>143.584416</td>\n",
       "      <td>POLYGON ((126.70466 37.52105, 126.70466 37.521...</td>\n",
       "    </tr>\n",
       "    <tr>\n",
       "      <th>3</th>\n",
       "      <td>21303</td>\n",
       "      <td>0.270679</td>\n",
       "      <td>475.038010</td>\n",
       "      <td>6080.093135</td>\n",
       "      <td>0.084712</td>\n",
       "      <td>1.079401</td>\n",
       "      <td>15.517121</td>\n",
       "      <td>105.011320</td>\n",
       "      <td>912.500</td>\n",
       "      <td>153.728003</td>\n",
       "      <td>...</td>\n",
       "      <td>2.064017</td>\n",
       "      <td>232.748015</td>\n",
       "      <td>2.273528</td>\n",
       "      <td>2.246297</td>\n",
       "      <td>97041.79104</td>\n",
       "      <td>0.108296</td>\n",
       "      <td>6.308614</td>\n",
       "      <td>0.441902</td>\n",
       "      <td>36.111111</td>\n",
       "      <td>POLYGON ((126.70215 37.51767, 126.70204 37.517...</td>\n",
       "    </tr>\n",
       "    <tr>\n",
       "      <th>4</th>\n",
       "      <td>21304</td>\n",
       "      <td>0.073319</td>\n",
       "      <td>273.241567</td>\n",
       "      <td>3575.514233</td>\n",
       "      <td>0.092931</td>\n",
       "      <td>1.107098</td>\n",
       "      <td>32.713927</td>\n",
       "      <td>134.361765</td>\n",
       "      <td>369.231</td>\n",
       "      <td>177.329451</td>\n",
       "      <td>...</td>\n",
       "      <td>2.379112</td>\n",
       "      <td>2495.942389</td>\n",
       "      <td>2.016228</td>\n",
       "      <td>2.004099</td>\n",
       "      <td>166589.33650</td>\n",
       "      <td>0.212989</td>\n",
       "      <td>1.959390</td>\n",
       "      <td>0.479893</td>\n",
       "      <td>113.836066</td>\n",
       "      <td>POLYGON ((126.70466 37.52105, 126.70466 37.521...</td>\n",
       "    </tr>\n",
       "  </tbody>\n",
       "</table>\n",
       "<p>5 rows × 36 columns</p>\n",
       "</div>"
      ],
      "text/plain": [
       "  BAS_ID    BAS_AR  도로길이고려_전체통합도  도로길이고려_국부통합도_R3  기초구역평균_전체통합도  \\\n",
       "0  21300  0.743330    617.130076      7987.604945      0.060037   \n",
       "1  21301  0.121045    221.397046      2876.534944      0.069661   \n",
       "2  21302  0.175777    341.252878      4162.583064      0.087372   \n",
       "3  21303  0.270679    475.038010      6080.093135      0.084712   \n",
       "4  21304  0.073319    273.241567      3575.514233      0.092931   \n",
       "\n",
       "   기초구역평균_국부통합도_R3        도로율    평균 도로 길이  아파트시세변화_차분평균      평균영업기간  ...  \\\n",
       "0         0.907932   7.332336  119.253463         0.000  163.106482  ...   \n",
       "1         0.938454  30.948119  211.340833       305.909  156.249615  ...   \n",
       "2         1.084619  25.546905  214.144187         0.000  111.950730  ...   \n",
       "3         1.079401  15.517121  105.011320       912.500  153.728003  ...   \n",
       "4         1.107098  32.713927  134.361765       369.231  177.329451  ...   \n",
       "\n",
       "    소매업종다양성         상가밀도   주중 / 주말  06 to 18 / 18 to 06  개별공시지가 변화 차분평균  \\\n",
       "0  2.390980    86.099041  2.342449             2.695669     31337.73585   \n",
       "1  1.985080   346.978396  2.315147             2.280277    344640.00000   \n",
       "2  1.314799   876.110071  2.064957             2.339853    174949.46240   \n",
       "3  2.064017   232.748015  2.273528             2.246297     97041.79104   \n",
       "4  2.379112  2495.942389  2.016228             2.004099    166589.33650   \n",
       "\n",
       "   (주거인구+직장인구) / 유동인구  주거인구/직장인구  10_30 / 40_60        점포밀도  \\\n",
       "0            0.268398   0.149563       0.406896    7.046875   \n",
       "1            0.254881   0.667946       0.439757   11.523810   \n",
       "2            0.220317   0.899425       0.508371  143.584416   \n",
       "3            0.108296   6.308614       0.441902   36.111111   \n",
       "4            0.212989   1.959390       0.479893  113.836066   \n",
       "\n",
       "                                            geometry  \n",
       "0  POLYGON ((126.69032 37.52345, 126.69084 37.523...  \n",
       "1  POLYGON ((126.69791 37.52246, 126.69791 37.522...  \n",
       "2  POLYGON ((126.70466 37.52105, 126.70466 37.521...  \n",
       "3  POLYGON ((126.70215 37.51767, 126.70204 37.517...  \n",
       "4  POLYGON ((126.70466 37.52105, 126.70466 37.521...  \n",
       "\n",
       "[5 rows x 36 columns]"
      ]
     },
     "execution_count": 14,
     "metadata": {},
     "output_type": "execute_result"
    }
   ],
   "source": [
    "clean_data['BAS_ID'] = clean_data['BAS_ID'].astype(str) # string 티입으로 변환\n",
    "clean_data = clean_data.merge(use_basis_area,how='left',right_on='BAS_ID',left_on='BAS_ID').sort_values(by='BAS_ID')\n",
    "clean_data.head()"
   ]
  },
  {
   "cell_type": "code",
   "execution_count": 15,
   "id": "a27417f6-7028-4592-9081-3cffa45a4837",
   "metadata": {
    "execution": {
     "iopub.execute_input": "2021-12-28T08:37:35.429146Z",
     "iopub.status.busy": "2021-12-28T08:37:35.429146Z",
     "iopub.status.idle": "2021-12-28T08:37:36.205660Z",
     "shell.execute_reply": "2021-12-28T08:37:36.205163Z",
     "shell.execute_reply.started": "2021-12-28T08:37:35.429146Z"
    }
   },
   "outputs": [
    {
     "data": {
      "text/html": [
       "<div>\n",
       "<style scoped>\n",
       "    .dataframe tbody tr th:only-of-type {\n",
       "        vertical-align: middle;\n",
       "    }\n",
       "\n",
       "    .dataframe tbody tr th {\n",
       "        vertical-align: top;\n",
       "    }\n",
       "\n",
       "    .dataframe thead th {\n",
       "        text-align: right;\n",
       "    }\n",
       "</style>\n",
       "<table border=\"1\" class=\"dataframe\">\n",
       "  <thead>\n",
       "    <tr style=\"text-align: right;\">\n",
       "      <th></th>\n",
       "      <th>geometry</th>\n",
       "      <th>x</th>\n",
       "      <th>y</th>\n",
       "    </tr>\n",
       "  </thead>\n",
       "  <tbody>\n",
       "    <tr>\n",
       "      <th>0</th>\n",
       "      <td>POLYGON ((126.69032 37.52345, 126.69084 37.523...</td>\n",
       "      <td>126.689135</td>\n",
       "      <td>37.518708</td>\n",
       "    </tr>\n",
       "    <tr>\n",
       "      <th>1</th>\n",
       "      <td>POLYGON ((126.69791 37.52246, 126.69791 37.522...</td>\n",
       "      <td>126.695459</td>\n",
       "      <td>37.522417</td>\n",
       "    </tr>\n",
       "    <tr>\n",
       "      <th>2</th>\n",
       "      <td>POLYGON ((126.70466 37.52105, 126.70466 37.521...</td>\n",
       "      <td>126.701342</td>\n",
       "      <td>37.522339</td>\n",
       "    </tr>\n",
       "    <tr>\n",
       "      <th>3</th>\n",
       "      <td>POLYGON ((126.70215 37.51767, 126.70204 37.517...</td>\n",
       "      <td>126.698730</td>\n",
       "      <td>37.518981</td>\n",
       "    </tr>\n",
       "    <tr>\n",
       "      <th>4</th>\n",
       "      <td>POLYGON ((126.70466 37.52105, 126.70466 37.521...</td>\n",
       "      <td>126.703419</td>\n",
       "      <td>37.519319</td>\n",
       "    </tr>\n",
       "  </tbody>\n",
       "</table>\n",
       "</div>"
      ],
      "text/plain": [
       "                                            geometry           x          y\n",
       "0  POLYGON ((126.69032 37.52345, 126.69084 37.523...  126.689135  37.518708\n",
       "1  POLYGON ((126.69791 37.52246, 126.69791 37.522...  126.695459  37.522417\n",
       "2  POLYGON ((126.70466 37.52105, 126.70466 37.521...  126.701342  37.522339\n",
       "3  POLYGON ((126.70215 37.51767, 126.70204 37.517...  126.698730  37.518981\n",
       "4  POLYGON ((126.70466 37.52105, 126.70466 37.521...  126.703419  37.519319"
      ]
     },
     "execution_count": 15,
     "metadata": {},
     "output_type": "execute_result"
    }
   ],
   "source": [
    "center = gpd.GeoDataFrame(clean_data).centroid\n",
    "\n",
    "clean_data['x'] = center.x\n",
    "clean_data['y'] = center.y\n",
    "\n",
    "clean_data.iloc[:,-3:].head()"
   ]
  },
  {
   "cell_type": "code",
   "execution_count": 16,
   "id": "f8b0a866-6e01-44e2-bcce-837006bbff5c",
   "metadata": {
    "execution": {
     "iopub.execute_input": "2021-12-28T08:37:36.206663Z",
     "iopub.status.busy": "2021-12-28T08:37:36.206663Z",
     "iopub.status.idle": "2021-12-28T08:37:36.221239Z",
     "shell.execute_reply": "2021-12-28T08:37:36.220740Z",
     "shell.execute_reply.started": "2021-12-28T08:37:36.206663Z"
    }
   },
   "outputs": [
    {
     "data": {
      "text/plain": [
       "Index(['BAS_ID', 'BAS_AR', '도로길이고려_전체통합도', '도로길이고려_국부통합도_R3', '기초구역평균_전체통합도',\n",
       "       '기초구역평균_국부통합도_R3', '도로율', '평균 도로 길이', '아파트시세변화_차분평균', '평균영업기간',\n",
       "       '평균폐업기간', '평균최근접역거리', '평균최근접정류장거리', '건물노후도', '공동주택 비율', '근린생활시설 비율',\n",
       "       '단독주택 비율', '아파트 가구수', '외식업매출월평균변화량', '서비스업매출월평균변화량', '소매업매출월평균변화량',\n",
       "       '외식업매출비율', '서비스업매출비율', '소매업매출비율', '외식업종다양성', '서비스업종다양성', '소매업종다양성',\n",
       "       '상가밀도', '주중 / 주말', '06 to 18 / 18 to 06', '개별공시지가 변화 차분평균',\n",
       "       '(주거인구+직장인구) / 유동인구', '주거인구/직장인구', '10_30 / 40_60', '점포밀도', 'geometry',\n",
       "       'x', 'y'],\n",
       "      dtype='object')"
      ]
     },
     "execution_count": 16,
     "metadata": {},
     "output_type": "execute_result"
    }
   ],
   "source": [
    "clean_data.columns"
   ]
  },
  {
   "cell_type": "code",
   "execution_count": 17,
   "id": "d4ba954a",
   "metadata": {
    "collapsed": false,
    "execution": {
     "iopub.execute_input": "2021-12-28T08:37:36.222326Z",
     "iopub.status.busy": "2021-12-28T08:37:36.222326Z",
     "iopub.status.idle": "2021-12-28T08:37:36.328427Z",
     "shell.execute_reply": "2021-12-28T08:37:36.328427Z",
     "shell.execute_reply.started": "2021-12-28T08:37:36.222326Z"
    },
    "jupyter": {
     "outputs_hidden": false
    },
    "pycharm": {
     "name": "#%%\n"
    }
   },
   "outputs": [
    {
     "data": {
      "text/html": [
       "<div>\n",
       "<style scoped>\n",
       "    .dataframe tbody tr th:only-of-type {\n",
       "        vertical-align: middle;\n",
       "    }\n",
       "\n",
       "    .dataframe tbody tr th {\n",
       "        vertical-align: top;\n",
       "    }\n",
       "\n",
       "    .dataframe thead th {\n",
       "        text-align: right;\n",
       "    }\n",
       "</style>\n",
       "<table border=\"1\" class=\"dataframe\">\n",
       "  <thead>\n",
       "    <tr style=\"text-align: right;\">\n",
       "      <th></th>\n",
       "      <th>count</th>\n",
       "      <th>mean</th>\n",
       "      <th>std</th>\n",
       "      <th>min</th>\n",
       "      <th>25%</th>\n",
       "      <th>50%</th>\n",
       "      <th>75%</th>\n",
       "      <th>max</th>\n",
       "    </tr>\n",
       "  </thead>\n",
       "  <tbody>\n",
       "    <tr>\n",
       "      <th>BAS_AR</th>\n",
       "      <td>158.0</td>\n",
       "      <td>1.899000e-01</td>\n",
       "      <td>2.579000e-01</td>\n",
       "      <td>3.340000e-02</td>\n",
       "      <td>8.820000e-02</td>\n",
       "      <td>0.1182</td>\n",
       "      <td>0.2089</td>\n",
       "      <td>2.648800e+00</td>\n",
       "    </tr>\n",
       "    <tr>\n",
       "      <th>도로길이고려_전체통합도</th>\n",
       "      <td>158.0</td>\n",
       "      <td>3.460538e+02</td>\n",
       "      <td>1.702782e+02</td>\n",
       "      <td>4.846330e+01</td>\n",
       "      <td>2.232449e+02</td>\n",
       "      <td>304.9494</td>\n",
       "      <td>441.1728</td>\n",
       "      <td>9.384161e+02</td>\n",
       "    </tr>\n",
       "    <tr>\n",
       "      <th>도로길이고려_국부통합도_R3</th>\n",
       "      <td>158.0</td>\n",
       "      <td>4.082227e+03</td>\n",
       "      <td>2.019466e+03</td>\n",
       "      <td>5.015583e+02</td>\n",
       "      <td>2.664545e+03</td>\n",
       "      <td>3754.0121</td>\n",
       "      <td>5150.0262</td>\n",
       "      <td>1.173155e+04</td>\n",
       "    </tr>\n",
       "    <tr>\n",
       "      <th>기초구역평균_전체통합도</th>\n",
       "      <td>158.0</td>\n",
       "      <td>9.470000e-02</td>\n",
       "      <td>1.790000e-02</td>\n",
       "      <td>5.320000e-02</td>\n",
       "      <td>8.480000e-02</td>\n",
       "      <td>0.0953</td>\n",
       "      <td>0.1058</td>\n",
       "      <td>1.795000e-01</td>\n",
       "    </tr>\n",
       "    <tr>\n",
       "      <th>기초구역평균_국부통합도_R3</th>\n",
       "      <td>158.0</td>\n",
       "      <td>1.089200e+00</td>\n",
       "      <td>8.480000e-02</td>\n",
       "      <td>8.628000e-01</td>\n",
       "      <td>1.048900e+00</td>\n",
       "      <td>1.0904</td>\n",
       "      <td>1.1414</td>\n",
       "      <td>1.332400e+00</td>\n",
       "    </tr>\n",
       "    <tr>\n",
       "      <th>도로율</th>\n",
       "      <td>158.0</td>\n",
       "      <td>2.805440e+01</td>\n",
       "      <td>1.296310e+01</td>\n",
       "      <td>1.400000e-02</td>\n",
       "      <td>1.944000e+01</td>\n",
       "      <td>27.6773</td>\n",
       "      <td>36.1936</td>\n",
       "      <td>6.253530e+01</td>\n",
       "    </tr>\n",
       "    <tr>\n",
       "      <th>평균 도로 길이</th>\n",
       "      <td>158.0</td>\n",
       "      <td>1.674987e+02</td>\n",
       "      <td>8.267760e+01</td>\n",
       "      <td>4.905350e+01</td>\n",
       "      <td>1.135915e+02</td>\n",
       "      <td>144.3352</td>\n",
       "      <td>202.4410</td>\n",
       "      <td>5.357467e+02</td>\n",
       "    </tr>\n",
       "    <tr>\n",
       "      <th>아파트시세변화_차분평균</th>\n",
       "      <td>158.0</td>\n",
       "      <td>3.022570e+02</td>\n",
       "      <td>6.622982e+02</td>\n",
       "      <td>-8.800000e+02</td>\n",
       "      <td>0.000000e+00</td>\n",
       "      <td>53.3130</td>\n",
       "      <td>379.8075</td>\n",
       "      <td>3.177330e+03</td>\n",
       "    </tr>\n",
       "    <tr>\n",
       "      <th>평균영업기간</th>\n",
       "      <td>158.0</td>\n",
       "      <td>1.331065e+02</td>\n",
       "      <td>3.174560e+01</td>\n",
       "      <td>4.118140e+01</td>\n",
       "      <td>1.177432e+02</td>\n",
       "      <td>132.4636</td>\n",
       "      <td>151.0212</td>\n",
       "      <td>2.527471e+02</td>\n",
       "    </tr>\n",
       "    <tr>\n",
       "      <th>평균폐업기간</th>\n",
       "      <td>158.0</td>\n",
       "      <td>1.028609e+02</td>\n",
       "      <td>4.568910e+01</td>\n",
       "      <td>0.000000e+00</td>\n",
       "      <td>7.807840e+01</td>\n",
       "      <td>100.6919</td>\n",
       "      <td>126.1925</td>\n",
       "      <td>2.444929e+02</td>\n",
       "    </tr>\n",
       "    <tr>\n",
       "      <th>평균최근접역거리</th>\n",
       "      <td>158.0</td>\n",
       "      <td>7.244000e-01</td>\n",
       "      <td>4.906000e-01</td>\n",
       "      <td>1.039000e-01</td>\n",
       "      <td>3.503000e-01</td>\n",
       "      <td>0.5578</td>\n",
       "      <td>0.9591</td>\n",
       "      <td>1.908900e+00</td>\n",
       "    </tr>\n",
       "    <tr>\n",
       "      <th>평균최근접정류장거리</th>\n",
       "      <td>158.0</td>\n",
       "      <td>8.620000e-02</td>\n",
       "      <td>4.350000e-02</td>\n",
       "      <td>3.350000e-02</td>\n",
       "      <td>6.120000e-02</td>\n",
       "      <td>0.0759</td>\n",
       "      <td>0.0968</td>\n",
       "      <td>3.319000e-01</td>\n",
       "    </tr>\n",
       "    <tr>\n",
       "      <th>건물노후도</th>\n",
       "      <td>158.0</td>\n",
       "      <td>3.029030e+02</td>\n",
       "      <td>7.883370e+01</td>\n",
       "      <td>0.000000e+00</td>\n",
       "      <td>2.709286e+02</td>\n",
       "      <td>312.3816</td>\n",
       "      <td>345.4964</td>\n",
       "      <td>4.730000e+02</td>\n",
       "    </tr>\n",
       "    <tr>\n",
       "      <th>공동주택 비율</th>\n",
       "      <td>158.0</td>\n",
       "      <td>3.923350e+01</td>\n",
       "      <td>2.778070e+01</td>\n",
       "      <td>0.000000e+00</td>\n",
       "      <td>1.907500e+01</td>\n",
       "      <td>38.7000</td>\n",
       "      <td>55.8250</td>\n",
       "      <td>1.000000e+02</td>\n",
       "    </tr>\n",
       "    <tr>\n",
       "      <th>근린생활시설 비율</th>\n",
       "      <td>158.0</td>\n",
       "      <td>2.868860e+01</td>\n",
       "      <td>2.317290e+01</td>\n",
       "      <td>0.000000e+00</td>\n",
       "      <td>1.205000e+01</td>\n",
       "      <td>23.4000</td>\n",
       "      <td>39.0250</td>\n",
       "      <td>1.000000e+02</td>\n",
       "    </tr>\n",
       "    <tr>\n",
       "      <th>단독주택 비율</th>\n",
       "      <td>158.0</td>\n",
       "      <td>1.625570e+01</td>\n",
       "      <td>1.959080e+01</td>\n",
       "      <td>0.000000e+00</td>\n",
       "      <td>1.325000e+00</td>\n",
       "      <td>9.4500</td>\n",
       "      <td>27.0500</td>\n",
       "      <td>1.000000e+02</td>\n",
       "    </tr>\n",
       "    <tr>\n",
       "      <th>아파트 가구수</th>\n",
       "      <td>158.0</td>\n",
       "      <td>6.118481e+02</td>\n",
       "      <td>1.035237e+03</td>\n",
       "      <td>0.000000e+00</td>\n",
       "      <td>0.000000e+00</td>\n",
       "      <td>86.5000</td>\n",
       "      <td>850.7500</td>\n",
       "      <td>5.512000e+03</td>\n",
       "    </tr>\n",
       "    <tr>\n",
       "      <th>외식업매출월평균변화량</th>\n",
       "      <td>158.0</td>\n",
       "      <td>2.463029e+05</td>\n",
       "      <td>4.859609e+06</td>\n",
       "      <td>-1.085855e+07</td>\n",
       "      <td>-1.133612e+06</td>\n",
       "      <td>-128483.3276</td>\n",
       "      <td>379357.5560</td>\n",
       "      <td>4.006098e+07</td>\n",
       "    </tr>\n",
       "    <tr>\n",
       "      <th>서비스업매출월평균변화량</th>\n",
       "      <td>158.0</td>\n",
       "      <td>8.821650e+05</td>\n",
       "      <td>5.004590e+06</td>\n",
       "      <td>-2.931084e+07</td>\n",
       "      <td>-4.534332e+05</td>\n",
       "      <td>38218.8552</td>\n",
       "      <td>974913.6772</td>\n",
       "      <td>2.703984e+07</td>\n",
       "    </tr>\n",
       "    <tr>\n",
       "      <th>소매업매출월평균변화량</th>\n",
       "      <td>158.0</td>\n",
       "      <td>-3.622442e+06</td>\n",
       "      <td>1.432915e+07</td>\n",
       "      <td>-1.088539e+08</td>\n",
       "      <td>-3.605129e+06</td>\n",
       "      <td>-641018.3190</td>\n",
       "      <td>409640.8536</td>\n",
       "      <td>3.276200e+07</td>\n",
       "    </tr>\n",
       "    <tr>\n",
       "      <th>외식업매출비율</th>\n",
       "      <td>158.0</td>\n",
       "      <td>2.729000e-01</td>\n",
       "      <td>1.935000e-01</td>\n",
       "      <td>0.000000e+00</td>\n",
       "      <td>1.190000e-01</td>\n",
       "      <td>0.2502</td>\n",
       "      <td>0.3832</td>\n",
       "      <td>8.715000e-01</td>\n",
       "    </tr>\n",
       "    <tr>\n",
       "      <th>서비스업매출비율</th>\n",
       "      <td>158.0</td>\n",
       "      <td>2.026000e-01</td>\n",
       "      <td>1.541000e-01</td>\n",
       "      <td>0.000000e+00</td>\n",
       "      <td>9.590000e-02</td>\n",
       "      <td>0.1634</td>\n",
       "      <td>0.2683</td>\n",
       "      <td>8.861000e-01</td>\n",
       "    </tr>\n",
       "    <tr>\n",
       "      <th>소매업매출비율</th>\n",
       "      <td>158.0</td>\n",
       "      <td>5.055000e-01</td>\n",
       "      <td>2.547000e-01</td>\n",
       "      <td>0.000000e+00</td>\n",
       "      <td>2.858000e-01</td>\n",
       "      <td>0.4936</td>\n",
       "      <td>0.7187</td>\n",
       "      <td>9.931000e-01</td>\n",
       "    </tr>\n",
       "    <tr>\n",
       "      <th>외식업종다양성</th>\n",
       "      <td>158.0</td>\n",
       "      <td>1.615500e+00</td>\n",
       "      <td>5.267000e-01</td>\n",
       "      <td>0.000000e+00</td>\n",
       "      <td>1.441500e+00</td>\n",
       "      <td>1.7762</td>\n",
       "      <td>1.9613</td>\n",
       "      <td>2.259700e+00</td>\n",
       "    </tr>\n",
       "    <tr>\n",
       "      <th>서비스업종다양성</th>\n",
       "      <td>158.0</td>\n",
       "      <td>2.136100e+00</td>\n",
       "      <td>5.809000e-01</td>\n",
       "      <td>0.000000e+00</td>\n",
       "      <td>2.017800e+00</td>\n",
       "      <td>2.2981</td>\n",
       "      <td>2.4981</td>\n",
       "      <td>2.854300e+00</td>\n",
       "    </tr>\n",
       "    <tr>\n",
       "      <th>소매업종다양성</th>\n",
       "      <td>158.0</td>\n",
       "      <td>2.085900e+00</td>\n",
       "      <td>5.400000e-01</td>\n",
       "      <td>0.000000e+00</td>\n",
       "      <td>1.947500e+00</td>\n",
       "      <td>2.2615</td>\n",
       "      <td>2.4219</td>\n",
       "      <td>2.679600e+00</td>\n",
       "    </tr>\n",
       "    <tr>\n",
       "      <th>상가밀도</th>\n",
       "      <td>158.0</td>\n",
       "      <td>1.410820e+03</td>\n",
       "      <td>1.841430e+03</td>\n",
       "      <td>1.132600e+00</td>\n",
       "      <td>3.502020e+02</td>\n",
       "      <td>872.0921</td>\n",
       "      <td>1881.3337</td>\n",
       "      <td>1.245187e+04</td>\n",
       "    </tr>\n",
       "    <tr>\n",
       "      <th>주중 / 주말</th>\n",
       "      <td>158.0</td>\n",
       "      <td>2.140700e+00</td>\n",
       "      <td>1.453000e-01</td>\n",
       "      <td>1.449400e+00</td>\n",
       "      <td>2.053400e+00</td>\n",
       "      <td>2.1384</td>\n",
       "      <td>2.2175</td>\n",
       "      <td>2.743400e+00</td>\n",
       "    </tr>\n",
       "    <tr>\n",
       "      <th>06 to 18 / 18 to 06</th>\n",
       "      <td>158.0</td>\n",
       "      <td>1.784700e+00</td>\n",
       "      <td>3.597000e-01</td>\n",
       "      <td>1.173300e+00</td>\n",
       "      <td>1.538400e+00</td>\n",
       "      <td>1.7234</td>\n",
       "      <td>1.9332</td>\n",
       "      <td>3.640300e+00</td>\n",
       "    </tr>\n",
       "    <tr>\n",
       "      <th>개별공시지가 변화 차분평균</th>\n",
       "      <td>158.0</td>\n",
       "      <td>1.055687e+05</td>\n",
       "      <td>8.518689e+04</td>\n",
       "      <td>-3.158750e+04</td>\n",
       "      <td>5.274284e+04</td>\n",
       "      <td>72851.5860</td>\n",
       "      <td>111828.6082</td>\n",
       "      <td>4.353741e+05</td>\n",
       "    </tr>\n",
       "    <tr>\n",
       "      <th>(주거인구+직장인구) / 유동인구</th>\n",
       "      <td>158.0</td>\n",
       "      <td>3.576000e-01</td>\n",
       "      <td>2.563000e-01</td>\n",
       "      <td>0.000000e+00</td>\n",
       "      <td>1.746000e-01</td>\n",
       "      <td>0.2774</td>\n",
       "      <td>0.4951</td>\n",
       "      <td>1.304700e+00</td>\n",
       "    </tr>\n",
       "    <tr>\n",
       "      <th>주거인구/직장인구</th>\n",
       "      <td>158.0</td>\n",
       "      <td>1.017190e+01</td>\n",
       "      <td>2.381140e+01</td>\n",
       "      <td>0.000000e+00</td>\n",
       "      <td>2.186900e+00</td>\n",
       "      <td>5.0938</td>\n",
       "      <td>9.6907</td>\n",
       "      <td>2.723628e+02</td>\n",
       "    </tr>\n",
       "    <tr>\n",
       "      <th>10_30 / 40_60</th>\n",
       "      <td>158.0</td>\n",
       "      <td>5.811000e-01</td>\n",
       "      <td>1.082000e-01</td>\n",
       "      <td>3.686000e-01</td>\n",
       "      <td>5.120000e-01</td>\n",
       "      <td>0.5667</td>\n",
       "      <td>0.6348</td>\n",
       "      <td>1.035000e+00</td>\n",
       "    </tr>\n",
       "    <tr>\n",
       "      <th>점포밀도</th>\n",
       "      <td>158.0</td>\n",
       "      <td>7.102790e+01</td>\n",
       "      <td>7.889540e+01</td>\n",
       "      <td>0.000000e+00</td>\n",
       "      <td>3.211000e+01</td>\n",
       "      <td>52.5429</td>\n",
       "      <td>88.4753</td>\n",
       "      <td>6.343569e+02</td>\n",
       "    </tr>\n",
       "  </tbody>\n",
       "</table>\n",
       "</div>"
      ],
      "text/plain": [
       "                     count          mean           std           min  \\\n",
       "BAS_AR               158.0  1.899000e-01  2.579000e-01  3.340000e-02   \n",
       "도로길이고려_전체통합도         158.0  3.460538e+02  1.702782e+02  4.846330e+01   \n",
       "도로길이고려_국부통합도_R3      158.0  4.082227e+03  2.019466e+03  5.015583e+02   \n",
       "기초구역평균_전체통합도         158.0  9.470000e-02  1.790000e-02  5.320000e-02   \n",
       "기초구역평균_국부통합도_R3      158.0  1.089200e+00  8.480000e-02  8.628000e-01   \n",
       "도로율                  158.0  2.805440e+01  1.296310e+01  1.400000e-02   \n",
       "평균 도로 길이             158.0  1.674987e+02  8.267760e+01  4.905350e+01   \n",
       "아파트시세변화_차분평균         158.0  3.022570e+02  6.622982e+02 -8.800000e+02   \n",
       "평균영업기간               158.0  1.331065e+02  3.174560e+01  4.118140e+01   \n",
       "평균폐업기간               158.0  1.028609e+02  4.568910e+01  0.000000e+00   \n",
       "평균최근접역거리             158.0  7.244000e-01  4.906000e-01  1.039000e-01   \n",
       "평균최근접정류장거리           158.0  8.620000e-02  4.350000e-02  3.350000e-02   \n",
       "건물노후도                158.0  3.029030e+02  7.883370e+01  0.000000e+00   \n",
       "공동주택 비율              158.0  3.923350e+01  2.778070e+01  0.000000e+00   \n",
       "근린생활시설 비율            158.0  2.868860e+01  2.317290e+01  0.000000e+00   \n",
       "단독주택 비율              158.0  1.625570e+01  1.959080e+01  0.000000e+00   \n",
       "아파트 가구수              158.0  6.118481e+02  1.035237e+03  0.000000e+00   \n",
       "외식업매출월평균변화량          158.0  2.463029e+05  4.859609e+06 -1.085855e+07   \n",
       "서비스업매출월평균변화량         158.0  8.821650e+05  5.004590e+06 -2.931084e+07   \n",
       "소매업매출월평균변화량          158.0 -3.622442e+06  1.432915e+07 -1.088539e+08   \n",
       "외식업매출비율              158.0  2.729000e-01  1.935000e-01  0.000000e+00   \n",
       "서비스업매출비율             158.0  2.026000e-01  1.541000e-01  0.000000e+00   \n",
       "소매업매출비율              158.0  5.055000e-01  2.547000e-01  0.000000e+00   \n",
       "외식업종다양성              158.0  1.615500e+00  5.267000e-01  0.000000e+00   \n",
       "서비스업종다양성             158.0  2.136100e+00  5.809000e-01  0.000000e+00   \n",
       "소매업종다양성              158.0  2.085900e+00  5.400000e-01  0.000000e+00   \n",
       "상가밀도                 158.0  1.410820e+03  1.841430e+03  1.132600e+00   \n",
       "주중 / 주말              158.0  2.140700e+00  1.453000e-01  1.449400e+00   \n",
       "06 to 18 / 18 to 06  158.0  1.784700e+00  3.597000e-01  1.173300e+00   \n",
       "개별공시지가 변화 차분평균       158.0  1.055687e+05  8.518689e+04 -3.158750e+04   \n",
       "(주거인구+직장인구) / 유동인구   158.0  3.576000e-01  2.563000e-01  0.000000e+00   \n",
       "주거인구/직장인구            158.0  1.017190e+01  2.381140e+01  0.000000e+00   \n",
       "10_30 / 40_60        158.0  5.811000e-01  1.082000e-01  3.686000e-01   \n",
       "점포밀도                 158.0  7.102790e+01  7.889540e+01  0.000000e+00   \n",
       "\n",
       "                              25%          50%          75%           max  \n",
       "BAS_AR               8.820000e-02       0.1182       0.2089  2.648800e+00  \n",
       "도로길이고려_전체통합도         2.232449e+02     304.9494     441.1728  9.384161e+02  \n",
       "도로길이고려_국부통합도_R3      2.664545e+03    3754.0121    5150.0262  1.173155e+04  \n",
       "기초구역평균_전체통합도         8.480000e-02       0.0953       0.1058  1.795000e-01  \n",
       "기초구역평균_국부통합도_R3      1.048900e+00       1.0904       1.1414  1.332400e+00  \n",
       "도로율                  1.944000e+01      27.6773      36.1936  6.253530e+01  \n",
       "평균 도로 길이             1.135915e+02     144.3352     202.4410  5.357467e+02  \n",
       "아파트시세변화_차분평균         0.000000e+00      53.3130     379.8075  3.177330e+03  \n",
       "평균영업기간               1.177432e+02     132.4636     151.0212  2.527471e+02  \n",
       "평균폐업기간               7.807840e+01     100.6919     126.1925  2.444929e+02  \n",
       "평균최근접역거리             3.503000e-01       0.5578       0.9591  1.908900e+00  \n",
       "평균최근접정류장거리           6.120000e-02       0.0759       0.0968  3.319000e-01  \n",
       "건물노후도                2.709286e+02     312.3816     345.4964  4.730000e+02  \n",
       "공동주택 비율              1.907500e+01      38.7000      55.8250  1.000000e+02  \n",
       "근린생활시설 비율            1.205000e+01      23.4000      39.0250  1.000000e+02  \n",
       "단독주택 비율              1.325000e+00       9.4500      27.0500  1.000000e+02  \n",
       "아파트 가구수              0.000000e+00      86.5000     850.7500  5.512000e+03  \n",
       "외식업매출월평균변화량         -1.133612e+06 -128483.3276  379357.5560  4.006098e+07  \n",
       "서비스업매출월평균변화량        -4.534332e+05   38218.8552  974913.6772  2.703984e+07  \n",
       "소매업매출월평균변화량         -3.605129e+06 -641018.3190  409640.8536  3.276200e+07  \n",
       "외식업매출비율              1.190000e-01       0.2502       0.3832  8.715000e-01  \n",
       "서비스업매출비율             9.590000e-02       0.1634       0.2683  8.861000e-01  \n",
       "소매업매출비율              2.858000e-01       0.4936       0.7187  9.931000e-01  \n",
       "외식업종다양성              1.441500e+00       1.7762       1.9613  2.259700e+00  \n",
       "서비스업종다양성             2.017800e+00       2.2981       2.4981  2.854300e+00  \n",
       "소매업종다양성              1.947500e+00       2.2615       2.4219  2.679600e+00  \n",
       "상가밀도                 3.502020e+02     872.0921    1881.3337  1.245187e+04  \n",
       "주중 / 주말              2.053400e+00       2.1384       2.2175  2.743400e+00  \n",
       "06 to 18 / 18 to 06  1.538400e+00       1.7234       1.9332  3.640300e+00  \n",
       "개별공시지가 변화 차분평균       5.274284e+04   72851.5860  111828.6082  4.353741e+05  \n",
       "(주거인구+직장인구) / 유동인구   1.746000e-01       0.2774       0.4951  1.304700e+00  \n",
       "주거인구/직장인구            2.186900e+00       5.0938       9.6907  2.723628e+02  \n",
       "10_30 / 40_60        5.120000e-01       0.5667       0.6348  1.035000e+00  \n",
       "점포밀도                 3.211000e+01      52.5429      88.4753  6.343569e+02  "
      ]
     },
     "execution_count": 17,
     "metadata": {},
     "output_type": "execute_result"
    }
   ],
   "source": [
    "basis_stat = clean_data.iloc[:,1:-3].describe().transpose().apply(lambda x : round(x,4))\n",
    "basis_stat"
   ]
  },
  {
   "cell_type": "code",
   "execution_count": 18,
   "id": "c4515289",
   "metadata": {
    "collapsed": false,
    "execution": {
     "iopub.execute_input": "2021-12-28T08:37:36.329753Z",
     "iopub.status.busy": "2021-12-28T08:37:36.329753Z",
     "iopub.status.idle": "2021-12-28T08:37:36.344907Z",
     "shell.execute_reply": "2021-12-28T08:37:36.344272Z",
     "shell.execute_reply.started": "2021-12-28T08:37:36.329753Z"
    },
    "jupyter": {
     "outputs_hidden": false
    },
    "pycharm": {
     "name": "#%%\n"
    }
   },
   "outputs": [],
   "source": [
    "basis_stat.drop(['25%','50%','75%'],axis=1).to_csv('../data/전처리 파일/기초통계량.csv',encoding='euc-kr')"
   ]
  },
  {
   "cell_type": "markdown",
   "id": "80a7ab10-2deb-4d76-a88c-6132c12a2979",
   "metadata": {},
   "source": [
    "## 1.3 데이터 분포 확인"
   ]
  },
  {
   "cell_type": "code",
   "execution_count": 19,
   "id": "a03f3430",
   "metadata": {
    "collapsed": false,
    "execution": {
     "iopub.execute_input": "2021-12-28T08:37:36.347992Z",
     "iopub.status.busy": "2021-12-28T08:37:36.346984Z",
     "iopub.status.idle": "2021-12-28T08:37:36.575578Z",
     "shell.execute_reply": "2021-12-28T08:37:36.574979Z",
     "shell.execute_reply.started": "2021-12-28T08:37:36.347992Z"
    },
    "jupyter": {
     "outputs_hidden": false
    },
    "pycharm": {
     "name": "#%%\n"
    }
   },
   "outputs": [
    {
     "data": {
      "image/png": "[encoded data removed]",
      "text/plain": [
       "<Figure size 640x480 with 1 Axes>"
      ]
     },
     "metadata": {},
     "output_type": "display_data"
    }
   ],
   "source": [
    "sns.distplot(clean_data['평균영업기간'])\n",
    "plt.show()"
   ]
  },
  {
   "cell_type": "code",
   "execution_count": 20,
   "id": "66d90043-db17-4b2c-95da-5ac6507a6cea",
   "metadata": {
    "execution": {
     "iopub.execute_input": "2021-12-28T08:37:36.577657Z",
     "iopub.status.busy": "2021-12-28T08:37:36.576582Z",
     "iopub.status.idle": "2021-12-28T08:37:36.623119Z",
     "shell.execute_reply": "2021-12-28T08:37:36.621896Z",
     "shell.execute_reply.started": "2021-12-28T08:37:36.577657Z"
    }
   },
   "outputs": [
    {
     "ename": "NameError",
     "evalue": "name 'try_data' is not defined",
     "output_type": "error",
     "traceback": [
      "\u001b[1;31m---------------------------------------------------------------------------\u001b[0m",
      "\u001b[1;31mNameError\u001b[0m                                 Traceback (most recent call last)",
      "\u001b[1;32m<ipython-input-20-dd1e6bcd8e2c>\u001b[0m in \u001b[0;36m<module>\u001b[1;34m\u001b[0m\n\u001b[0;32m      2\u001b[0m \u001b[0mdX\u001b[0m \u001b[1;33m=\u001b[0m \u001b[0mclean_data\u001b[0m\u001b[1;33m.\u001b[0m\u001b[0miloc\u001b[0m\u001b[1;33m[\u001b[0m\u001b[1;33m:\u001b[0m\u001b[1;33m,\u001b[0m\u001b[0mind_var_col\u001b[0m\u001b[1;33m]\u001b[0m\u001b[1;33m\u001b[0m\u001b[1;33m\u001b[0m\u001b[0m\n\u001b[0;32m      3\u001b[0m \u001b[1;33m\u001b[0m\u001b[0m\n\u001b[1;32m----> 4\u001b[1;33m \u001b[0mcol_list\u001b[0m \u001b[1;33m=\u001b[0m \u001b[0mlist\u001b[0m\u001b[1;33m(\u001b[0m\u001b[0mtry_data\u001b[0m\u001b[1;33m)\u001b[0m\u001b[1;33m\u001b[0m\u001b[1;33m\u001b[0m\u001b[0m\n\u001b[0m\u001b[0;32m      5\u001b[0m \u001b[0mnrows\u001b[0m \u001b[1;33m=\u001b[0m \u001b[0mint\u001b[0m\u001b[1;33m(\u001b[0m\u001b[0mlen\u001b[0m\u001b[1;33m(\u001b[0m\u001b[0mcol_list\u001b[0m\u001b[1;33m)\u001b[0m\u001b[1;33m/\u001b[0m\u001b[1;36m3\u001b[0m\u001b[1;33m)\u001b[0m\u001b[1;33m+\u001b[0m\u001b[1;36m1\u001b[0m\u001b[1;33m\u001b[0m\u001b[1;33m\u001b[0m\u001b[0m\n\u001b[0;32m      6\u001b[0m \u001b[0mncols\u001b[0m \u001b[1;33m=\u001b[0m \u001b[1;36m3\u001b[0m\u001b[1;33m\u001b[0m\u001b[1;33m\u001b[0m\u001b[0m\n",
      "\u001b[1;31mNameError\u001b[0m: name 'try_data' is not defined"
     ]
    }
   ],
   "source": [
    "ind_var_col = list(range(1,9)) + list(range(11,35))\n",
    "dX = clean_data.iloc[:,ind_var_col]\n",
    "\n",
    "col_list = list(try_data)\n",
    "nrows = int(len(col_list)/3)+1\n",
    "ncols = 3\n",
    "\n",
    "fig, axes = plt.subplots(nrows=nrows,ncols=ncols,figsize=(15,30),constrained_layout=True)\n",
    "color = ['red','yellow','navy','green','blue','magenta','violet','skyblue']\n",
    "\n",
    "for i in range(nrows):\n",
    "    for j in range(ncols):\n",
    "        if (ncols*i+j) == len(col_list):\n",
    "            break\n",
    "        \n",
    "        sns.distplot(ax=axes[i,j], x=try_data[col_list[(ncols*i+j)]], kde=True,color=color[(ncols*i+j) % len(color)],rug=True)\n",
    "        axes[i,j].set_title(col_list[ncols*i+j])\n",
    "\n",
    "plt.savefig('../data/결과 이미지/기초통계량 분포.jpg')\n",
    "plt.show()"
   ]
  },
  {
   "cell_type": "markdown",
   "id": "eaf4ed58-7b8f-4305-a392-52063a4fc324",
   "metadata": {},
   "source": [
    "## 1.4 다중공선성"
   ]
  },
  {
   "cell_type": "code",
   "execution_count": 21,
   "id": "7c400303-6d82-4aa6-827c-f3f0f92df5c9",
   "metadata": {
    "execution": {
     "iopub.execute_input": "2021-12-28T08:37:36.926930Z",
     "iopub.status.busy": "2021-12-28T08:37:36.926930Z",
     "iopub.status.idle": "2021-12-28T08:37:36.994978Z",
     "shell.execute_reply": "2021-12-28T08:37:36.994483Z",
     "shell.execute_reply.started": "2021-12-28T08:37:36.926930Z"
    }
   },
   "outputs": [
    {
     "data": {
      "text/html": [
       "<div>\n",
       "<style scoped>\n",
       "    .dataframe tbody tr th:only-of-type {\n",
       "        vertical-align: middle;\n",
       "    }\n",
       "\n",
       "    .dataframe tbody tr th {\n",
       "        vertical-align: top;\n",
       "    }\n",
       "\n",
       "    .dataframe thead th {\n",
       "        text-align: right;\n",
       "    }\n",
       "</style>\n",
       "<table border=\"1\" class=\"dataframe\">\n",
       "  <thead>\n",
       "    <tr style=\"text-align: right;\">\n",
       "      <th></th>\n",
       "      <th>VIF Factor</th>\n",
       "      <th>features</th>\n",
       "    </tr>\n",
       "  </thead>\n",
       "  <tbody>\n",
       "    <tr>\n",
       "      <th>22</th>\n",
       "      <td>40.004254</td>\n",
       "      <td>소매업매출비율</td>\n",
       "    </tr>\n",
       "    <tr>\n",
       "      <th>23</th>\n",
       "      <td>62.069321</td>\n",
       "      <td>서비스업종다양성</td>\n",
       "    </tr>\n",
       "    <tr>\n",
       "      <th>24</th>\n",
       "      <td>68.344982</td>\n",
       "      <td>소매업종다양성</td>\n",
       "    </tr>\n",
       "    <tr>\n",
       "      <th>25</th>\n",
       "      <td>89.393088</td>\n",
       "      <td>06 to 18 / 18 to 06</td>\n",
       "    </tr>\n",
       "    <tr>\n",
       "      <th>26</th>\n",
       "      <td>136.778307</td>\n",
       "      <td>10_30 / 40_60</td>\n",
       "    </tr>\n",
       "    <tr>\n",
       "      <th>27</th>\n",
       "      <td>171.930560</td>\n",
       "      <td>도로길이고려_국부통합도_R3</td>\n",
       "    </tr>\n",
       "    <tr>\n",
       "      <th>28</th>\n",
       "      <td>186.220858</td>\n",
       "      <td>도로길이고려_전체통합도</td>\n",
       "    </tr>\n",
       "    <tr>\n",
       "      <th>29</th>\n",
       "      <td>187.783686</td>\n",
       "      <td>기초구역평균_전체통합도</td>\n",
       "    </tr>\n",
       "    <tr>\n",
       "      <th>30</th>\n",
       "      <td>347.106332</td>\n",
       "      <td>주중 / 주말</td>\n",
       "    </tr>\n",
       "    <tr>\n",
       "      <th>31</th>\n",
       "      <td>451.039756</td>\n",
       "      <td>기초구역평균_국부통합도_R3</td>\n",
       "    </tr>\n",
       "  </tbody>\n",
       "</table>\n",
       "</div>"
      ],
      "text/plain": [
       "    VIF Factor             features\n",
       "22   40.004254              소매업매출비율\n",
       "23   62.069321             서비스업종다양성\n",
       "24   68.344982              소매업종다양성\n",
       "25   89.393088  06 to 18 / 18 to 06\n",
       "26  136.778307        10_30 / 40_60\n",
       "27  171.930560      도로길이고려_국부통합도_R3\n",
       "28  186.220858         도로길이고려_전체통합도\n",
       "29  187.783686         기초구역평균_전체통합도\n",
       "30  347.106332              주중 / 주말\n",
       "31  451.039756      기초구역평균_국부통합도_R3"
      ]
     },
     "execution_count": 21,
     "metadata": {},
     "output_type": "execute_result"
    }
   ],
   "source": [
    "def check_vif(dX):\n",
    "    vif = pd.DataFrame()\n",
    "    vif['VIF Factor'] = [variance_inflation_factor(dX.values,i) for i in range(dX.values.shape[1])] \n",
    "    vif['features'] = dX.columns\n",
    "    vif = vif.sort_values(\"VIF Factor\").reset_index(drop=True)\n",
    "    \n",
    "    return vif\n",
    "\n",
    "result = check_vif(clean_data.iloc[:,ind_var_col])\n",
    "result.iloc[-10:,]"
   ]
  },
  {
   "cell_type": "code",
   "execution_count": 22,
   "id": "cabab9c5-85cd-46d0-a097-acd2b0077c17",
   "metadata": {
    "execution": {
     "iopub.execute_input": "2021-12-28T08:37:37.124717Z",
     "iopub.status.busy": "2021-12-28T08:37:37.124717Z",
     "iopub.status.idle": "2021-12-28T08:37:37.556896Z",
     "shell.execute_reply": "2021-12-28T08:37:37.556276Z",
     "shell.execute_reply.started": "2021-12-28T08:37:37.124717Z"
    }
   },
   "outputs": [
    {
     "data": {
      "text/plain": [
       "['외식업매출월평균변화량',\n",
       " '소매업매출월평균변화량',\n",
       " '아파트시세변화_차분평균',\n",
       " '서비스업매출월평균변화량',\n",
       " '주거인구/직장인구',\n",
       " '아파트 가구수',\n",
       " 'BAS_AR',\n",
       " '단독주택 비율',\n",
       " '서비스업매출비율',\n",
       " '외식업매출비율',\n",
       " '근린생활시설 비율',\n",
       " '개별공시지가 변화 차분평균',\n",
       " '평균최근접역거리',\n",
       " '공동주택 비율',\n",
       " '(주거인구+직장인구) / 유동인구',\n",
       " '평균 도로 길이',\n",
       " '도로길이고려_국부통합도_R3',\n",
       " '점포밀도',\n",
       " '상가밀도',\n",
       " '평균최근접정류장거리']"
      ]
     },
     "execution_count": 22,
     "metadata": {},
     "output_type": "execute_result"
    }
   ],
   "source": [
    "def RFE(df):\n",
    "    flag = True\n",
    "    next_col = list(df.columns)\n",
    "    \n",
    "    while flag:\n",
    "        local = df.loc[:,next_col]\n",
    "        result = check_vif(local)\n",
    "\n",
    "        if len(result[result['VIF Factor'] > 10]) == 0:\n",
    "            return result # 유일한 탈출 조건\n",
    "        \n",
    "#         display(result[-7:])\n",
    "        next_col = result.iloc[:-1,1].values.tolist()\n",
    "        \n",
    "vif_result = RFE(dX)\n",
    "optimal_feature = vif_result['features'].values.tolist()\n",
    "optimal_feature"
   ]
  },
  {
   "cell_type": "markdown",
   "id": "b761ffc6-8c02-4469-b781-38561c37dc0f",
   "metadata": {
    "tags": []
   },
   "source": []
  },
  {
   "cell_type": "markdown",
   "id": "2c58ea76",
   "metadata": {
    "pycharm": {
     "name": "#%% md\n"
    }
   },
   "source": [
    "# 2 OLS"
   ]
  },
  {
   "cell_type": "markdown",
   "id": "57149a8d-72f8-4ad5-b4b9-f8bb5859e88d",
   "metadata": {},
   "source": [
    "## 2.1 Modeling"
   ]
  },
  {
   "cell_type": "code",
   "execution_count": 23,
   "id": "dd2e9952-8562-4eee-a693-f0f65a470796",
   "metadata": {
    "execution": {
     "iopub.execute_input": "2021-12-28T08:37:40.041839Z",
     "iopub.status.busy": "2021-12-28T08:37:40.041839Z",
     "iopub.status.idle": "2021-12-28T08:37:40.589544Z",
     "shell.execute_reply": "2021-12-28T08:37:40.588924Z",
     "shell.execute_reply.started": "2021-12-28T08:37:40.041839Z"
    }
   },
   "outputs": [
    {
     "data": {
      "text/html": [
       "<table class=\"simpletable\">\n",
       "<caption>OLS Regression Results</caption>\n",
       "<tr>\n",
       "  <th>Dep. Variable:</th>            <td>y</td>        <th>  R-squared:         </th> <td>   0.464</td>\n",
       "</tr>\n",
       "<tr>\n",
       "  <th>Model:</th>                   <td>OLS</td>       <th>  Adj. R-squared:    </th> <td>   0.326</td>\n",
       "</tr>\n",
       "<tr>\n",
       "  <th>Method:</th>             <td>Least Squares</td>  <th>  F-statistic:       </th> <td>   3.378</td>\n",
       "</tr>\n",
       "<tr>\n",
       "  <th>Date:</th>             <td>Tue, 28 Dec 2021</td> <th>  Prob (F-statistic):</th> <td>6.45e-07</td>\n",
       "</tr>\n",
       "<tr>\n",
       "  <th>Time:</th>                 <td>17:37:40</td>     <th>  Log-Likelihood:    </th> <td> -720.79</td>\n",
       "</tr>\n",
       "<tr>\n",
       "  <th>No. Observations:</th>      <td>   158</td>      <th>  AIC:               </th> <td>   1508.</td>\n",
       "</tr>\n",
       "<tr>\n",
       "  <th>Df Residuals:</th>          <td>   125</td>      <th>  BIC:               </th> <td>   1609.</td>\n",
       "</tr>\n",
       "<tr>\n",
       "  <th>Df Model:</th>              <td>    32</td>      <th>                     </th>     <td> </td>   \n",
       "</tr>\n",
       "<tr>\n",
       "  <th>Covariance Type:</th>      <td>nonrobust</td>    <th>                     </th>     <td> </td>   \n",
       "</tr>\n",
       "</table>\n",
       "<table class=\"simpletable\">\n",
       "<tr>\n",
       "           <td></td>              <th>coef</th>     <th>std err</th>      <th>t</th>      <th>P>|t|</th>  <th>[0.025</th>    <th>0.975]</th>  \n",
       "</tr>\n",
       "<tr>\n",
       "  <th>const</th>               <td>  184.1176</td> <td>   63.006</td> <td>    2.922</td> <td> 0.004</td> <td>   59.421</td> <td>  308.814</td>\n",
       "</tr>\n",
       "<tr>\n",
       "  <th>BAS_AR</th>              <td>    3.5966</td> <td>   13.935</td> <td>    0.258</td> <td> 0.797</td> <td>  -23.983</td> <td>   31.176</td>\n",
       "</tr>\n",
       "<tr>\n",
       "  <th>도로길이고려_전체통합도</th>        <td>   -0.0023</td> <td>    0.074</td> <td>   -0.031</td> <td> 0.976</td> <td>   -0.148</td> <td>    0.144</td>\n",
       "</tr>\n",
       "<tr>\n",
       "  <th>도로길이고려_국부통합도_R3</th>     <td>-9.269e-05</td> <td>    0.006</td> <td>   -0.016</td> <td> 0.988</td> <td>   -0.012</td> <td>    0.012</td>\n",
       "</tr>\n",
       "<tr>\n",
       "  <th>기초구역평균_전체통합도</th>        <td>  -64.1980</td> <td>  302.651</td> <td>   -0.212</td> <td> 0.832</td> <td> -663.183</td> <td>  534.787</td>\n",
       "</tr>\n",
       "<tr>\n",
       "  <th>기초구역평균_국부통합도_R3</th>     <td>  -54.0665</td> <td>   44.459</td> <td>   -1.216</td> <td> 0.226</td> <td> -142.056</td> <td>   33.923</td>\n",
       "</tr>\n",
       "<tr>\n",
       "  <th>도로율</th>                 <td>   -0.1871</td> <td>    0.273</td> <td>   -0.684</td> <td> 0.495</td> <td>   -0.728</td> <td>    0.354</td>\n",
       "</tr>\n",
       "<tr>\n",
       "  <th>평균 도로 길이</th>            <td>   -0.0331</td> <td>    0.039</td> <td>   -0.842</td> <td> 0.401</td> <td>   -0.111</td> <td>    0.045</td>\n",
       "</tr>\n",
       "<tr>\n",
       "  <th>아파트시세변화_차분평균</th>        <td>   -0.0070</td> <td>    0.004</td> <td>   -1.952</td> <td> 0.053</td> <td>   -0.014</td> <td> 9.58e-05</td>\n",
       "</tr>\n",
       "<tr>\n",
       "  <th>평균최근접역거리</th>            <td>   12.8082</td> <td>    6.555</td> <td>    1.954</td> <td> 0.053</td> <td>   -0.165</td> <td>   25.782</td>\n",
       "</tr>\n",
       "<tr>\n",
       "  <th>평균최근접정류장거리</th>          <td> -133.5415</td> <td>   72.452</td> <td>   -1.843</td> <td> 0.068</td> <td> -276.933</td> <td>    9.850</td>\n",
       "</tr>\n",
       "<tr>\n",
       "  <th>건물노후도</th>               <td>    0.1226</td> <td>    0.039</td> <td>    3.115</td> <td> 0.002</td> <td>    0.045</td> <td>    0.200</td>\n",
       "</tr>\n",
       "<tr>\n",
       "  <th>공동주택 비율</th>             <td>    0.4399</td> <td>    0.145</td> <td>    3.038</td> <td> 0.003</td> <td>    0.153</td> <td>    0.727</td>\n",
       "</tr>\n",
       "<tr>\n",
       "  <th>근린생활시설 비율</th>           <td>    0.2706</td> <td>    0.137</td> <td>    1.971</td> <td> 0.051</td> <td>   -0.001</td> <td>    0.542</td>\n",
       "</tr>\n",
       "<tr>\n",
       "  <th>단독주택 비율</th>             <td>    0.5512</td> <td>    0.175</td> <td>    3.157</td> <td> 0.002</td> <td>    0.206</td> <td>    0.897</td>\n",
       "</tr>\n",
       "<tr>\n",
       "  <th>아파트 가구수</th>             <td>   -0.0044</td> <td>    0.003</td> <td>   -1.414</td> <td> 0.160</td> <td>   -0.011</td> <td>    0.002</td>\n",
       "</tr>\n",
       "<tr>\n",
       "  <th>외식업매출월평균변화량</th>         <td> 6.087e-08</td> <td> 4.97e-07</td> <td>    0.123</td> <td> 0.903</td> <td>-9.22e-07</td> <td> 1.04e-06</td>\n",
       "</tr>\n",
       "<tr>\n",
       "  <th>서비스업매출월평균변화량</th>        <td> 4.337e-07</td> <td> 5.19e-07</td> <td>    0.835</td> <td> 0.405</td> <td>-5.94e-07</td> <td> 1.46e-06</td>\n",
       "</tr>\n",
       "<tr>\n",
       "  <th>소매업매출월평균변화량</th>         <td> -3.85e-08</td> <td> 1.72e-07</td> <td>   -0.224</td> <td> 0.823</td> <td>-3.79e-07</td> <td> 3.02e-07</td>\n",
       "</tr>\n",
       "<tr>\n",
       "  <th>외식업매출비율</th>             <td>  -38.1855</td> <td>   26.539</td> <td>   -1.439</td> <td> 0.153</td> <td>  -90.710</td> <td>   14.339</td>\n",
       "</tr>\n",
       "<tr>\n",
       "  <th>서비스업매출비율</th>            <td>  -24.4486</td> <td>   27.484</td> <td>   -0.890</td> <td> 0.375</td> <td>  -78.843</td> <td>   29.946</td>\n",
       "</tr>\n",
       "<tr>\n",
       "  <th>소매업매출비율</th>             <td>  -32.5628</td> <td>   23.188</td> <td>   -1.404</td> <td> 0.163</td> <td>  -78.455</td> <td>   13.329</td>\n",
       "</tr>\n",
       "<tr>\n",
       "  <th>외식업종다양성</th>             <td>   -8.6345</td> <td>    6.670</td> <td>   -1.295</td> <td> 0.198</td> <td>  -21.835</td> <td>    4.566</td>\n",
       "</tr>\n",
       "<tr>\n",
       "  <th>서비스업종다양성</th>            <td>    7.5117</td> <td>    7.378</td> <td>    1.018</td> <td> 0.311</td> <td>   -7.091</td> <td>   22.114</td>\n",
       "</tr>\n",
       "<tr>\n",
       "  <th>소매업종다양성</th>             <td>    2.5173</td> <td>    8.001</td> <td>    0.315</td> <td> 0.754</td> <td>  -13.319</td> <td>   18.353</td>\n",
       "</tr>\n",
       "<tr>\n",
       "  <th>상가밀도</th>                <td>    0.0015</td> <td>    0.003</td> <td>    0.506</td> <td> 0.614</td> <td>   -0.004</td> <td>    0.007</td>\n",
       "</tr>\n",
       "<tr>\n",
       "  <th>주중 / 주말</th>             <td>    6.1634</td> <td>   21.354</td> <td>    0.289</td> <td> 0.773</td> <td>  -36.098</td> <td>   48.425</td>\n",
       "</tr>\n",
       "<tr>\n",
       "  <th>06 to 18 / 18 to 06</th> <td>   -3.0039</td> <td>   11.033</td> <td>   -0.272</td> <td> 0.786</td> <td>  -24.840</td> <td>   18.832</td>\n",
       "</tr>\n",
       "<tr>\n",
       "  <th>개별공시지가 변화 차분평균</th>      <td> 2.485e-05</td> <td>  4.2e-05</td> <td>    0.591</td> <td> 0.555</td> <td>-5.83e-05</td> <td>    0.000</td>\n",
       "</tr>\n",
       "<tr>\n",
       "  <th>(주거인구+직장인구) / 유동인구</th>  <td>    7.6650</td> <td>   12.030</td> <td>    0.637</td> <td> 0.525</td> <td>  -16.143</td> <td>   31.473</td>\n",
       "</tr>\n",
       "<tr>\n",
       "  <th>주거인구/직장인구</th>           <td>   -0.0867</td> <td>    0.110</td> <td>   -0.791</td> <td> 0.430</td> <td>   -0.304</td> <td>    0.130</td>\n",
       "</tr>\n",
       "<tr>\n",
       "  <th>10_30 / 40_60</th>       <td>  -51.8880</td> <td>   43.097</td> <td>   -1.204</td> <td> 0.231</td> <td> -137.182</td> <td>   33.406</td>\n",
       "</tr>\n",
       "<tr>\n",
       "  <th>점포밀도</th>                <td>    0.0120</td> <td>    0.063</td> <td>    0.190</td> <td> 0.850</td> <td>   -0.113</td> <td>    0.137</td>\n",
       "</tr>\n",
       "</table>\n",
       "<table class=\"simpletable\">\n",
       "<tr>\n",
       "  <th>Omnibus:</th>       <td>19.114</td> <th>  Durbin-Watson:     </th> <td>   1.946</td>\n",
       "</tr>\n",
       "<tr>\n",
       "  <th>Prob(Omnibus):</th> <td> 0.000</td> <th>  Jarque-Bera (JB):  </th> <td>  39.568</td>\n",
       "</tr>\n",
       "<tr>\n",
       "  <th>Skew:</th>          <td> 0.526</td> <th>  Prob(JB):          </th> <td>2.56e-09</td>\n",
       "</tr>\n",
       "<tr>\n",
       "  <th>Kurtosis:</th>      <td> 5.215</td> <th>  Cond. No.          </th> <td>2.16e+09</td>\n",
       "</tr>\n",
       "</table><br/><br/>Notes:<br/>[1] Standard Errors assume that the covariance matrix of the errors is correctly specified.<br/>[2] The condition number is large, 2.16e+09. This might indicate that there are<br/>strong multicollinearity or other numerical problems."
      ],
      "text/plain": [
       "<class 'statsmodels.iolib.summary.Summary'>\n",
       "\"\"\"\n",
       "                            OLS Regression Results                            \n",
       "==============================================================================\n",
       "Dep. Variable:                      y   R-squared:                       0.464\n",
       "Model:                            OLS   Adj. R-squared:                  0.326\n",
       "Method:                 Least Squares   F-statistic:                     3.378\n",
       "Date:                Tue, 28 Dec 2021   Prob (F-statistic):           6.45e-07\n",
       "Time:                        17:37:40   Log-Likelihood:                -720.79\n",
       "No. Observations:                 158   AIC:                             1508.\n",
       "Df Residuals:                     125   BIC:                             1609.\n",
       "Df Model:                          32                                         \n",
       "Covariance Type:            nonrobust                                         \n",
       "=======================================================================================\n",
       "                          coef    std err          t      P>|t|      [0.025      0.975]\n",
       "---------------------------------------------------------------------------------------\n",
       "const                 184.1176     63.006      2.922      0.004      59.421     308.814\n",
       "BAS_AR                  3.5966     13.935      0.258      0.797     -23.983      31.176\n",
       "도로길이고려_전체통합도           -0.0023      0.074     -0.031      0.976      -0.148       0.144\n",
       "도로길이고려_국부통합도_R3     -9.269e-05      0.006     -0.016      0.988      -0.012       0.012\n",
       "기초구역평균_전체통합도          -64.1980    302.651     -0.212      0.832    -663.183     534.787\n",
       "기초구역평균_국부통합도_R3       -54.0665     44.459     -1.216      0.226    -142.056      33.923\n",
       "도로율                    -0.1871      0.273     -0.684      0.495      -0.728       0.354\n",
       "평균 도로 길이               -0.0331      0.039     -0.842      0.401      -0.111       0.045\n",
       "아파트시세변화_차분평균           -0.0070      0.004     -1.952      0.053      -0.014    9.58e-05\n",
       "평균최근접역거리               12.8082      6.555      1.954      0.053      -0.165      25.782\n",
       "평균최근접정류장거리           -133.5415     72.452     -1.843      0.068    -276.933       9.850\n",
       "건물노후도                   0.1226      0.039      3.115      0.002       0.045       0.200\n",
       "공동주택 비율                 0.4399      0.145      3.038      0.003       0.153       0.727\n",
       "근린생활시설 비율               0.2706      0.137      1.971      0.051      -0.001       0.542\n",
       "단독주택 비율                 0.5512      0.175      3.157      0.002       0.206       0.897\n",
       "아파트 가구수                -0.0044      0.003     -1.414      0.160      -0.011       0.002\n",
       "외식업매출월평균변화량          6.087e-08   4.97e-07      0.123      0.903   -9.22e-07    1.04e-06\n",
       "서비스업매출월평균변화량         4.337e-07   5.19e-07      0.835      0.405   -5.94e-07    1.46e-06\n",
       "소매업매출월평균변화량          -3.85e-08   1.72e-07     -0.224      0.823   -3.79e-07    3.02e-07\n",
       "외식업매출비율               -38.1855     26.539     -1.439      0.153     -90.710      14.339\n",
       "서비스업매출비율              -24.4486     27.484     -0.890      0.375     -78.843      29.946\n",
       "소매업매출비율               -32.5628     23.188     -1.404      0.163     -78.455      13.329\n",
       "외식업종다양성                -8.6345      6.670     -1.295      0.198     -21.835       4.566\n",
       "서비스업종다양성                7.5117      7.378      1.018      0.311      -7.091      22.114\n",
       "소매업종다양성                 2.5173      8.001      0.315      0.754     -13.319      18.353\n",
       "상가밀도                    0.0015      0.003      0.506      0.614      -0.004       0.007\n",
       "주중 / 주말                 6.1634     21.354      0.289      0.773     -36.098      48.425\n",
       "06 to 18 / 18 to 06    -3.0039     11.033     -0.272      0.786     -24.840      18.832\n",
       "개별공시지가 변화 차분평균       2.485e-05    4.2e-05      0.591      0.555   -5.83e-05       0.000\n",
       "(주거인구+직장인구) / 유동인구      7.6650     12.030      0.637      0.525     -16.143      31.473\n",
       "주거인구/직장인구              -0.0867      0.110     -0.791      0.430      -0.304       0.130\n",
       "10_30 / 40_60         -51.8880     43.097     -1.204      0.231    -137.182      33.406\n",
       "점포밀도                    0.0120      0.063      0.190      0.850      -0.113       0.137\n",
       "==============================================================================\n",
       "Omnibus:                       19.114   Durbin-Watson:                   1.946\n",
       "Prob(Omnibus):                  0.000   Jarque-Bera (JB):               39.568\n",
       "Skew:                           0.526   Prob(JB):                     2.56e-09\n",
       "Kurtosis:                       5.215   Cond. No.                     2.16e+09\n",
       "==============================================================================\n",
       "\n",
       "Notes:\n",
       "[1] Standard Errors assume that the covariance matrix of the errors is correctly specified.\n",
       "[2] The condition number is large, 2.16e+09. This might indicate that there are\n",
       "strong multicollinearity or other numerical problems.\n",
       "\"\"\""
      ]
     },
     "execution_count": 23,
     "metadata": {},
     "output_type": "execute_result"
    }
   ],
   "source": [
    "import statsmodels.api as sm\n",
    "\n",
    "X = clean_data.iloc[:,ind_var_col]\n",
    "X = sm.add_constant(X)\n",
    "y = clean_data.loc[:,'평균영업기간'].values\n",
    "    \n",
    "ols_model = sm.OLS(y,X)\n",
    "results = ols_model.fit()\n",
    "results.summary()"
   ]
  },
  {
   "cell_type": "markdown",
   "id": "4fc333c9-9ebc-4ef9-8cc4-4209169f62da",
   "metadata": {
    "tags": []
   },
   "source": [
    "## 2.2 변수 특성별 모델링\n",
    "1. 건축물 특성\n",
    "    - 단독주택 연면적 비율\n",
    "    - 공동주택 연면적 비율\n",
    "    - 근린생활시설 연면적 비율\n",
    "    - 건물노후도\n",
    "2. 상권특성\n",
    "    - 점포일도\n",
    "    - 상권면적\n",
    "    - 상가밀도\n",
    "    - 개별공시지가\n",
    "    - 아파트 시세 변화\n",
    "3. 도로특성\n",
    "    - 도로의 평균 길이\n",
    "    - 도로율\n",
    "    - 국부통합도\n",
    "    - 전체통합도\n",
    "4. 인구특성\n",
    "    - 아파트 세대수\n",
    "    - 외부 유입 인구 비율\n",
    "    - 상주/직장 인구 비율\n",
    "    - 방문객 연령\n",
    "    - 주야간 방문 비율\n",
    "    - 평일주말 방문 비율\n",
    "5. 업종특성\n",
    "    - 외식업, 서비스업, 소매업 업종 다양성\n",
    "    - 외식업, 서비스업, 소매업 매출 비율\n",
    "    - 외식업, 서비스업, 소매업 매출 변화율\n",
    "6. 접근성\n",
    "    - 지하철역까지의 거리\n",
    "    - 버스정류장까지의 거리"
   ]
  },
  {
   "cell_type": "code",
   "execution_count": 24,
   "id": "96f8180b-7c81-4e70-a13c-9e8023c47f41",
   "metadata": {
    "execution": {
     "iopub.execute_input": "2021-12-28T08:37:42.265331Z",
     "iopub.status.busy": "2021-12-28T08:37:42.264334Z",
     "iopub.status.idle": "2021-12-28T08:37:42.283843Z",
     "shell.execute_reply": "2021-12-28T08:37:42.283843Z",
     "shell.execute_reply.started": "2021-12-28T08:37:42.265331Z"
    }
   },
   "outputs": [],
   "source": [
    "building_col = ['단독주택 비율','공동주택 비율','근린생활시설 비율','건물노후도']\n",
    "market_col = ['점포밀도','BAS_AR','상가밀도','개별공시지가 변화 차분평균','아파트시세변화_차분평균']\n",
    "road_col = ['평균 도로 길이','도로율','기초구역평균_국부통합도_R3','기초구역평균_전체통합도','도로길이고려_전체통합도'\n",
    "            ,'도로길이고려_국부통합도_R3']\n",
    "pop_col = ['아파트 가구수','(주거인구+직장인구) / 유동인구','주거인구/직장인구','06 to 18 / 18 to 06'\n",
    "           ,'10_30 / 40_60','주중 / 주말']\n",
    "kind_col = ['외식업종다양성','서비스업종다양성','소매업종다양성','외식업매출월평균변화량','서비스업매출월평균변화량'\n",
    "            ,'소매업매출월평균변화량','외식업매출비율','서비스업매출비율','소매업매출비율']\n",
    "close_col = ['평균최근접정류장거리','평균최근접역거리']\n",
    "\n",
    "col_list = [building_col, market_col, road_col, pop_col, kind_col, close_col]\n",
    "char_var_list = ['건물 특성','상권 특성','도로 특성','인구 특성','업종 특성','접근성']"
   ]
  },
  {
   "cell_type": "code",
   "execution_count": 25,
   "id": "319b0765-1664-45cf-82e9-fbf833043199",
   "metadata": {
    "execution": {
     "iopub.execute_input": "2021-12-28T08:37:43.872498Z",
     "iopub.status.busy": "2021-12-28T08:37:43.872498Z",
     "iopub.status.idle": "2021-12-28T08:37:43.887572Z",
     "shell.execute_reply": "2021-12-28T08:37:43.887414Z",
     "shell.execute_reply.started": "2021-12-28T08:37:43.872498Z"
    }
   },
   "outputs": [],
   "source": [
    "import statsmodels.api as sm"
   ]
  },
  {
   "cell_type": "code",
   "execution_count": 26,
   "id": "5cf1d801-a730-46f0-89be-75a41e8291b7",
   "metadata": {
    "execution": {
     "iopub.execute_input": "2021-12-28T08:37:44.140459Z",
     "iopub.status.busy": "2021-12-28T08:37:44.140459Z",
     "iopub.status.idle": "2021-12-28T08:37:44.277721Z",
     "shell.execute_reply": "2021-12-28T08:37:44.277226Z",
     "shell.execute_reply.started": "2021-12-28T08:37:44.140459Z"
    }
   },
   "outputs": [
    {
     "name": "stdout",
     "output_type": "stream",
     "text": [
      "==============================건물 특성==============================\n"
     ]
    },
    {
     "data": {
      "text/html": [
       "<table class=\"simpletable\">\n",
       "<caption>OLS Regression Results</caption>\n",
       "<tr>\n",
       "  <th>Dep. Variable:</th>            <td>y</td>        <th>  R-squared:         </th> <td>   0.292</td>\n",
       "</tr>\n",
       "<tr>\n",
       "  <th>Model:</th>                   <td>OLS</td>       <th>  Adj. R-squared:    </th> <td>   0.273</td>\n",
       "</tr>\n",
       "<tr>\n",
       "  <th>Method:</th>             <td>Least Squares</td>  <th>  F-statistic:       </th> <td>   15.77</td>\n",
       "</tr>\n",
       "<tr>\n",
       "  <th>Date:</th>             <td>Tue, 28 Dec 2021</td> <th>  Prob (F-statistic):</th> <td>7.88e-11</td>\n",
       "</tr>\n",
       "<tr>\n",
       "  <th>Time:</th>                 <td>17:37:44</td>     <th>  Log-Likelihood:    </th> <td> -742.74</td>\n",
       "</tr>\n",
       "<tr>\n",
       "  <th>No. Observations:</th>      <td>   158</td>      <th>  AIC:               </th> <td>   1495.</td>\n",
       "</tr>\n",
       "<tr>\n",
       "  <th>Df Residuals:</th>          <td>   153</td>      <th>  BIC:               </th> <td>   1511.</td>\n",
       "</tr>\n",
       "<tr>\n",
       "  <th>Df Model:</th>              <td>     4</td>      <th>                     </th>     <td> </td>   \n",
       "</tr>\n",
       "<tr>\n",
       "  <th>Covariance Type:</th>      <td>nonrobust</td>    <th>                     </th>     <td> </td>   \n",
       "</tr>\n",
       "</table>\n",
       "<table class=\"simpletable\">\n",
       "<tr>\n",
       "      <td></td>         <th>coef</th>     <th>std err</th>      <th>t</th>      <th>P>|t|</th>  <th>[0.025</th>    <th>0.975]</th>  \n",
       "</tr>\n",
       "<tr>\n",
       "  <th>const</th>     <td>   62.9990</td> <td>   10.960</td> <td>    5.748</td> <td> 0.000</td> <td>   41.346</td> <td>   84.652</td>\n",
       "</tr>\n",
       "<tr>\n",
       "  <th>단독주택 비율</th>   <td>    0.5381</td> <td>    0.136</td> <td>    3.956</td> <td> 0.000</td> <td>    0.269</td> <td>    0.807</td>\n",
       "</tr>\n",
       "<tr>\n",
       "  <th>공동주택 비율</th>   <td>    0.3448</td> <td>    0.103</td> <td>    3.353</td> <td> 0.001</td> <td>    0.142</td> <td>    0.548</td>\n",
       "</tr>\n",
       "<tr>\n",
       "  <th>근린생활시설 비율</th> <td>    0.2031</td> <td>    0.117</td> <td>    1.744</td> <td> 0.083</td> <td>   -0.027</td> <td>    0.433</td>\n",
       "</tr>\n",
       "<tr>\n",
       "  <th>건물노후도</th>     <td>    0.1387</td> <td>    0.030</td> <td>    4.652</td> <td> 0.000</td> <td>    0.080</td> <td>    0.198</td>\n",
       "</tr>\n",
       "</table>\n",
       "<table class=\"simpletable\">\n",
       "<tr>\n",
       "  <th>Omnibus:</th>       <td>22.199</td> <th>  Durbin-Watson:     </th> <td>   1.862</td>\n",
       "</tr>\n",
       "<tr>\n",
       "  <th>Prob(Omnibus):</th> <td> 0.000</td> <th>  Jarque-Bera (JB):  </th> <td>  59.176</td>\n",
       "</tr>\n",
       "<tr>\n",
       "  <th>Skew:</th>          <td> 0.518</td> <th>  Prob(JB):          </th> <td>1.41e-13</td>\n",
       "</tr>\n",
       "<tr>\n",
       "  <th>Kurtosis:</th>      <td> 5.813</td> <th>  Cond. No.          </th> <td>1.61e+03</td>\n",
       "</tr>\n",
       "</table><br/><br/>Notes:<br/>[1] Standard Errors assume that the covariance matrix of the errors is correctly specified.<br/>[2] The condition number is large, 1.61e+03. This might indicate that there are<br/>strong multicollinearity or other numerical problems."
      ],
      "text/plain": [
       "<class 'statsmodels.iolib.summary.Summary'>\n",
       "\"\"\"\n",
       "                            OLS Regression Results                            \n",
       "==============================================================================\n",
       "Dep. Variable:                      y   R-squared:                       0.292\n",
       "Model:                            OLS   Adj. R-squared:                  0.273\n",
       "Method:                 Least Squares   F-statistic:                     15.77\n",
       "Date:                Tue, 28 Dec 2021   Prob (F-statistic):           7.88e-11\n",
       "Time:                        17:37:44   Log-Likelihood:                -742.74\n",
       "No. Observations:                 158   AIC:                             1495.\n",
       "Df Residuals:                     153   BIC:                             1511.\n",
       "Df Model:                           4                                         \n",
       "Covariance Type:            nonrobust                                         \n",
       "==============================================================================\n",
       "                 coef    std err          t      P>|t|      [0.025      0.975]\n",
       "------------------------------------------------------------------------------\n",
       "const         62.9990     10.960      5.748      0.000      41.346      84.652\n",
       "단독주택 비율        0.5381      0.136      3.956      0.000       0.269       0.807\n",
       "공동주택 비율        0.3448      0.103      3.353      0.001       0.142       0.548\n",
       "근린생활시설 비율      0.2031      0.117      1.744      0.083      -0.027       0.433\n",
       "건물노후도          0.1387      0.030      4.652      0.000       0.080       0.198\n",
       "==============================================================================\n",
       "Omnibus:                       22.199   Durbin-Watson:                   1.862\n",
       "Prob(Omnibus):                  0.000   Jarque-Bera (JB):               59.176\n",
       "Skew:                           0.518   Prob(JB):                     1.41e-13\n",
       "Kurtosis:                       5.813   Cond. No.                     1.61e+03\n",
       "==============================================================================\n",
       "\n",
       "Notes:\n",
       "[1] Standard Errors assume that the covariance matrix of the errors is correctly specified.\n",
       "[2] The condition number is large, 1.61e+03. This might indicate that there are\n",
       "strong multicollinearity or other numerical problems.\n",
       "\"\"\""
      ]
     },
     "metadata": {},
     "output_type": "display_data"
    },
    {
     "name": "stdout",
     "output_type": "stream",
     "text": [
      "\n",
      "\n",
      "==============================상권 특성==============================\n"
     ]
    },
    {
     "data": {
      "text/html": [
       "<table class=\"simpletable\">\n",
       "<caption>OLS Regression Results</caption>\n",
       "<tr>\n",
       "  <th>Dep. Variable:</th>            <td>y</td>        <th>  R-squared:         </th> <td>   0.044</td>\n",
       "</tr>\n",
       "<tr>\n",
       "  <th>Model:</th>                   <td>OLS</td>       <th>  Adj. R-squared:    </th> <td>   0.013</td>\n",
       "</tr>\n",
       "<tr>\n",
       "  <th>Method:</th>             <td>Least Squares</td>  <th>  F-statistic:       </th> <td>   1.411</td>\n",
       "</tr>\n",
       "<tr>\n",
       "  <th>Date:</th>             <td>Tue, 28 Dec 2021</td> <th>  Prob (F-statistic):</th>  <td> 0.223</td> \n",
       "</tr>\n",
       "<tr>\n",
       "  <th>Time:</th>                 <td>17:37:44</td>     <th>  Log-Likelihood:    </th> <td> -766.43</td>\n",
       "</tr>\n",
       "<tr>\n",
       "  <th>No. Observations:</th>      <td>   158</td>      <th>  AIC:               </th> <td>   1545.</td>\n",
       "</tr>\n",
       "<tr>\n",
       "  <th>Df Residuals:</th>          <td>   152</td>      <th>  BIC:               </th> <td>   1563.</td>\n",
       "</tr>\n",
       "<tr>\n",
       "  <th>Df Model:</th>              <td>     5</td>      <th>                     </th>     <td> </td>   \n",
       "</tr>\n",
       "<tr>\n",
       "  <th>Covariance Type:</th>      <td>nonrobust</td>    <th>                     </th>     <td> </td>   \n",
       "</tr>\n",
       "</table>\n",
       "<table class=\"simpletable\">\n",
       "<tr>\n",
       "         <td></td>           <th>coef</th>     <th>std err</th>      <th>t</th>      <th>P>|t|</th>  <th>[0.025</th>    <th>0.975]</th>  \n",
       "</tr>\n",
       "<tr>\n",
       "  <th>const</th>          <td>  142.4400</td> <td>    4.869</td> <td>   29.254</td> <td> 0.000</td> <td>  132.820</td> <td>  152.060</td>\n",
       "</tr>\n",
       "<tr>\n",
       "  <th>점포밀도</th>           <td>   -0.0608</td> <td>    0.063</td> <td>   -0.967</td> <td> 0.335</td> <td>   -0.185</td> <td>    0.063</td>\n",
       "</tr>\n",
       "<tr>\n",
       "  <th>BAS_AR</th>         <td>   -0.1033</td> <td>   10.149</td> <td>   -0.010</td> <td> 0.992</td> <td>  -20.155</td> <td>   19.949</td>\n",
       "</tr>\n",
       "<tr>\n",
       "  <th>상가밀도</th>           <td>    0.0013</td> <td>    0.003</td> <td>    0.447</td> <td> 0.656</td> <td>   -0.004</td> <td>    0.007</td>\n",
       "</tr>\n",
       "<tr>\n",
       "  <th>개별공시지가 변화 차분평균</th> <td>  -4.9e-05</td> <td> 3.49e-05</td> <td>   -1.405</td> <td> 0.162</td> <td>   -0.000</td> <td> 1.99e-05</td>\n",
       "</tr>\n",
       "<tr>\n",
       "  <th>아파트시세변화_차분평균</th>   <td>   -0.0053</td> <td>    0.004</td> <td>   -1.357</td> <td> 0.177</td> <td>   -0.013</td> <td>    0.002</td>\n",
       "</tr>\n",
       "</table>\n",
       "<table class=\"simpletable\">\n",
       "<tr>\n",
       "  <th>Omnibus:</th>       <td> 6.888</td> <th>  Durbin-Watson:     </th> <td>   1.681</td>\n",
       "</tr>\n",
       "<tr>\n",
       "  <th>Prob(Omnibus):</th> <td> 0.032</td> <th>  Jarque-Bera (JB):  </th> <td>  10.404</td>\n",
       "</tr>\n",
       "<tr>\n",
       "  <th>Skew:</th>          <td> 0.176</td> <th>  Prob(JB):          </th> <td> 0.00550</td>\n",
       "</tr>\n",
       "<tr>\n",
       "  <th>Kurtosis:</th>      <td> 4.207</td> <th>  Cond. No.          </th> <td>5.62e+05</td>\n",
       "</tr>\n",
       "</table><br/><br/>Notes:<br/>[1] Standard Errors assume that the covariance matrix of the errors is correctly specified.<br/>[2] The condition number is large, 5.62e+05. This might indicate that there are<br/>strong multicollinearity or other numerical problems."
      ],
      "text/plain": [
       "<class 'statsmodels.iolib.summary.Summary'>\n",
       "\"\"\"\n",
       "                            OLS Regression Results                            \n",
       "==============================================================================\n",
       "Dep. Variable:                      y   R-squared:                       0.044\n",
       "Model:                            OLS   Adj. R-squared:                  0.013\n",
       "Method:                 Least Squares   F-statistic:                     1.411\n",
       "Date:                Tue, 28 Dec 2021   Prob (F-statistic):              0.223\n",
       "Time:                        17:37:44   Log-Likelihood:                -766.43\n",
       "No. Observations:                 158   AIC:                             1545.\n",
       "Df Residuals:                     152   BIC:                             1563.\n",
       "Df Model:                           5                                         \n",
       "Covariance Type:            nonrobust                                         \n",
       "==================================================================================\n",
       "                     coef    std err          t      P>|t|      [0.025      0.975]\n",
       "----------------------------------------------------------------------------------\n",
       "const            142.4400      4.869     29.254      0.000     132.820     152.060\n",
       "점포밀도              -0.0608      0.063     -0.967      0.335      -0.185       0.063\n",
       "BAS_AR            -0.1033     10.149     -0.010      0.992     -20.155      19.949\n",
       "상가밀도               0.0013      0.003      0.447      0.656      -0.004       0.007\n",
       "개별공시지가 변화 차분평균   -4.9e-05   3.49e-05     -1.405      0.162      -0.000    1.99e-05\n",
       "아파트시세변화_차분평균      -0.0053      0.004     -1.357      0.177      -0.013       0.002\n",
       "==============================================================================\n",
       "Omnibus:                        6.888   Durbin-Watson:                   1.681\n",
       "Prob(Omnibus):                  0.032   Jarque-Bera (JB):               10.404\n",
       "Skew:                           0.176   Prob(JB):                      0.00550\n",
       "Kurtosis:                       4.207   Cond. No.                     5.62e+05\n",
       "==============================================================================\n",
       "\n",
       "Notes:\n",
       "[1] Standard Errors assume that the covariance matrix of the errors is correctly specified.\n",
       "[2] The condition number is large, 5.62e+05. This might indicate that there are\n",
       "strong multicollinearity or other numerical problems.\n",
       "\"\"\""
      ]
     },
     "metadata": {},
     "output_type": "display_data"
    },
    {
     "name": "stdout",
     "output_type": "stream",
     "text": [
      "\n",
      "\n",
      "==============================도로 특성==============================\n"
     ]
    },
    {
     "data": {
      "text/html": [
       "<table class=\"simpletable\">\n",
       "<caption>OLS Regression Results</caption>\n",
       "<tr>\n",
       "  <th>Dep. Variable:</th>            <td>y</td>        <th>  R-squared:         </th> <td>   0.185</td>\n",
       "</tr>\n",
       "<tr>\n",
       "  <th>Model:</th>                   <td>OLS</td>       <th>  Adj. R-squared:    </th> <td>   0.152</td>\n",
       "</tr>\n",
       "<tr>\n",
       "  <th>Method:</th>             <td>Least Squares</td>  <th>  F-statistic:       </th> <td>   5.705</td>\n",
       "</tr>\n",
       "<tr>\n",
       "  <th>Date:</th>             <td>Tue, 28 Dec 2021</td> <th>  Prob (F-statistic):</th> <td>2.27e-05</td>\n",
       "</tr>\n",
       "<tr>\n",
       "  <th>Time:</th>                 <td>17:37:44</td>     <th>  Log-Likelihood:    </th> <td> -753.87</td>\n",
       "</tr>\n",
       "<tr>\n",
       "  <th>No. Observations:</th>      <td>   158</td>      <th>  AIC:               </th> <td>   1522.</td>\n",
       "</tr>\n",
       "<tr>\n",
       "  <th>Df Residuals:</th>          <td>   151</td>      <th>  BIC:               </th> <td>   1543.</td>\n",
       "</tr>\n",
       "<tr>\n",
       "  <th>Df Model:</th>              <td>     6</td>      <th>                     </th>     <td> </td>   \n",
       "</tr>\n",
       "<tr>\n",
       "  <th>Covariance Type:</th>      <td>nonrobust</td>    <th>                     </th>     <td> </td>   \n",
       "</tr>\n",
       "</table>\n",
       "<table class=\"simpletable\">\n",
       "<tr>\n",
       "         <td></td>            <th>coef</th>     <th>std err</th>      <th>t</th>      <th>P>|t|</th>  <th>[0.025</th>    <th>0.975]</th>  \n",
       "</tr>\n",
       "<tr>\n",
       "  <th>const</th>           <td>  243.0112</td> <td>   35.329</td> <td>    6.879</td> <td> 0.000</td> <td>  173.208</td> <td>  312.814</td>\n",
       "</tr>\n",
       "<tr>\n",
       "  <th>평균 도로 길이</th>        <td>   -0.0842</td> <td>    0.030</td> <td>   -2.843</td> <td> 0.005</td> <td>   -0.143</td> <td>   -0.026</td>\n",
       "</tr>\n",
       "<tr>\n",
       "  <th>도로율</th>             <td>   -0.0589</td> <td>    0.215</td> <td>   -0.274</td> <td> 0.785</td> <td>   -0.484</td> <td>    0.366</td>\n",
       "</tr>\n",
       "<tr>\n",
       "  <th>기초구역평균_국부통합도_R3</th> <td>  -59.5751</td> <td>   39.835</td> <td>   -1.496</td> <td> 0.137</td> <td> -138.281</td> <td>   19.130</td>\n",
       "</tr>\n",
       "<tr>\n",
       "  <th>기초구역평균_전체통합도</th>    <td> -419.9132</td> <td>  261.423</td> <td>   -1.606</td> <td> 0.110</td> <td> -936.432</td> <td>   96.606</td>\n",
       "</tr>\n",
       "<tr>\n",
       "  <th>도로길이고려_전체통합도</th>    <td>   -0.0045</td> <td>    0.067</td> <td>   -0.067</td> <td> 0.947</td> <td>   -0.137</td> <td>    0.128</td>\n",
       "</tr>\n",
       "<tr>\n",
       "  <th>도로길이고려_국부통합도_R3</th> <td>    0.0030</td> <td>    0.006</td> <td>    0.520</td> <td> 0.604</td> <td>   -0.008</td> <td>    0.014</td>\n",
       "</tr>\n",
       "</table>\n",
       "<table class=\"simpletable\">\n",
       "<tr>\n",
       "  <th>Omnibus:</th>       <td>13.642</td> <th>  Durbin-Watson:     </th> <td>   1.736</td>\n",
       "</tr>\n",
       "<tr>\n",
       "  <th>Prob(Omnibus):</th> <td> 0.001</td> <th>  Jarque-Bera (JB):  </th> <td>  28.094</td>\n",
       "</tr>\n",
       "<tr>\n",
       "  <th>Skew:</th>          <td> 0.340</td> <th>  Prob(JB):          </th> <td>7.93e-07</td>\n",
       "</tr>\n",
       "<tr>\n",
       "  <th>Kurtosis:</th>      <td> 4.951</td> <th>  Cond. No.          </th> <td>5.15e+05</td>\n",
       "</tr>\n",
       "</table><br/><br/>Notes:<br/>[1] Standard Errors assume that the covariance matrix of the errors is correctly specified.<br/>[2] The condition number is large, 5.15e+05. This might indicate that there are<br/>strong multicollinearity or other numerical problems."
      ],
      "text/plain": [
       "<class 'statsmodels.iolib.summary.Summary'>\n",
       "\"\"\"\n",
       "                            OLS Regression Results                            \n",
       "==============================================================================\n",
       "Dep. Variable:                      y   R-squared:                       0.185\n",
       "Model:                            OLS   Adj. R-squared:                  0.152\n",
       "Method:                 Least Squares   F-statistic:                     5.705\n",
       "Date:                Tue, 28 Dec 2021   Prob (F-statistic):           2.27e-05\n",
       "Time:                        17:37:44   Log-Likelihood:                -753.87\n",
       "No. Observations:                 158   AIC:                             1522.\n",
       "Df Residuals:                     151   BIC:                             1543.\n",
       "Df Model:                           6                                         \n",
       "Covariance Type:            nonrobust                                         \n",
       "===================================================================================\n",
       "                      coef    std err          t      P>|t|      [0.025      0.975]\n",
       "-----------------------------------------------------------------------------------\n",
       "const             243.0112     35.329      6.879      0.000     173.208     312.814\n",
       "평균 도로 길이           -0.0842      0.030     -2.843      0.005      -0.143      -0.026\n",
       "도로율                -0.0589      0.215     -0.274      0.785      -0.484       0.366\n",
       "기초구역평균_국부통합도_R3   -59.5751     39.835     -1.496      0.137    -138.281      19.130\n",
       "기초구역평균_전체통합도     -419.9132    261.423     -1.606      0.110    -936.432      96.606\n",
       "도로길이고려_전체통합도       -0.0045      0.067     -0.067      0.947      -0.137       0.128\n",
       "도로길이고려_국부통합도_R3     0.0030      0.006      0.520      0.604      -0.008       0.014\n",
       "==============================================================================\n",
       "Omnibus:                       13.642   Durbin-Watson:                   1.736\n",
       "Prob(Omnibus):                  0.001   Jarque-Bera (JB):               28.094\n",
       "Skew:                           0.340   Prob(JB):                     7.93e-07\n",
       "Kurtosis:                       4.951   Cond. No.                     5.15e+05\n",
       "==============================================================================\n",
       "\n",
       "Notes:\n",
       "[1] Standard Errors assume that the covariance matrix of the errors is correctly specified.\n",
       "[2] The condition number is large, 5.15e+05. This might indicate that there are\n",
       "strong multicollinearity or other numerical problems.\n",
       "\"\"\""
      ]
     },
     "metadata": {},
     "output_type": "display_data"
    },
    {
     "name": "stdout",
     "output_type": "stream",
     "text": [
      "\n",
      "\n",
      "==============================인구 특성==============================\n"
     ]
    },
    {
     "data": {
      "text/html": [
       "<table class=\"simpletable\">\n",
       "<caption>OLS Regression Results</caption>\n",
       "<tr>\n",
       "  <th>Dep. Variable:</th>            <td>y</td>        <th>  R-squared:         </th> <td>   0.113</td>\n",
       "</tr>\n",
       "<tr>\n",
       "  <th>Model:</th>                   <td>OLS</td>       <th>  Adj. R-squared:    </th> <td>   0.078</td>\n",
       "</tr>\n",
       "<tr>\n",
       "  <th>Method:</th>             <td>Least Squares</td>  <th>  F-statistic:       </th> <td>   3.201</td>\n",
       "</tr>\n",
       "<tr>\n",
       "  <th>Date:</th>             <td>Tue, 28 Dec 2021</td> <th>  Prob (F-statistic):</th>  <td>0.00549</td>\n",
       "</tr>\n",
       "<tr>\n",
       "  <th>Time:</th>                 <td>17:37:44</td>     <th>  Log-Likelihood:    </th> <td> -760.56</td>\n",
       "</tr>\n",
       "<tr>\n",
       "  <th>No. Observations:</th>      <td>   158</td>      <th>  AIC:               </th> <td>   1535.</td>\n",
       "</tr>\n",
       "<tr>\n",
       "  <th>Df Residuals:</th>          <td>   151</td>      <th>  BIC:               </th> <td>   1557.</td>\n",
       "</tr>\n",
       "<tr>\n",
       "  <th>Df Model:</th>              <td>     6</td>      <th>                     </th>     <td> </td>   \n",
       "</tr>\n",
       "<tr>\n",
       "  <th>Covariance Type:</th>      <td>nonrobust</td>    <th>                     </th>     <td> </td>   \n",
       "</tr>\n",
       "</table>\n",
       "<table class=\"simpletable\">\n",
       "<tr>\n",
       "           <td></td>              <th>coef</th>     <th>std err</th>      <th>t</th>      <th>P>|t|</th>  <th>[0.025</th>    <th>0.975]</th>  \n",
       "</tr>\n",
       "<tr>\n",
       "  <th>const</th>               <td>  174.8425</td> <td>   43.014</td> <td>    4.065</td> <td> 0.000</td> <td>   89.856</td> <td>  259.829</td>\n",
       "</tr>\n",
       "<tr>\n",
       "  <th>아파트 가구수</th>             <td>   -0.0042</td> <td>    0.003</td> <td>   -1.604</td> <td> 0.111</td> <td>   -0.009</td> <td>    0.001</td>\n",
       "</tr>\n",
       "<tr>\n",
       "  <th>(주거인구+직장인구) / 유동인구</th>  <td>   20.8322</td> <td>   11.533</td> <td>    1.806</td> <td> 0.073</td> <td>   -1.955</td> <td>   43.619</td>\n",
       "</tr>\n",
       "<tr>\n",
       "  <th>주거인구/직장인구</th>           <td>   -0.1184</td> <td>    0.113</td> <td>   -1.046</td> <td> 0.297</td> <td>   -0.342</td> <td>    0.105</td>\n",
       "</tr>\n",
       "<tr>\n",
       "  <th>06 to 18 / 18 to 06</th> <td>   -9.9061</td> <td>    8.749</td> <td>   -1.132</td> <td> 0.259</td> <td>  -27.193</td> <td>    7.380</td>\n",
       "</tr>\n",
       "<tr>\n",
       "  <th>10_30 / 40_60</th>       <td>  -87.0700</td> <td>   27.205</td> <td>   -3.200</td> <td> 0.002</td> <td> -140.822</td> <td>  -33.318</td>\n",
       "</tr>\n",
       "<tr>\n",
       "  <th>주중 / 주말</th>             <td>   10.6922</td> <td>   17.494</td> <td>    0.611</td> <td> 0.542</td> <td>  -23.872</td> <td>   45.257</td>\n",
       "</tr>\n",
       "</table>\n",
       "<table class=\"simpletable\">\n",
       "<tr>\n",
       "  <th>Omnibus:</th>       <td> 7.928</td> <th>  Durbin-Watson:     </th> <td>   1.750</td>\n",
       "</tr>\n",
       "<tr>\n",
       "  <th>Prob(Omnibus):</th> <td> 0.019</td> <th>  Jarque-Bera (JB):  </th> <td>  14.948</td>\n",
       "</tr>\n",
       "<tr>\n",
       "  <th>Skew:</th>          <td> 0.066</td> <th>  Prob(JB):          </th> <td>0.000568</td>\n",
       "</tr>\n",
       "<tr>\n",
       "  <th>Kurtosis:</th>      <td> 4.501</td> <th>  Cond. No.          </th> <td>2.35e+04</td>\n",
       "</tr>\n",
       "</table><br/><br/>Notes:<br/>[1] Standard Errors assume that the covariance matrix of the errors is correctly specified.<br/>[2] The condition number is large, 2.35e+04. This might indicate that there are<br/>strong multicollinearity or other numerical problems."
      ],
      "text/plain": [
       "<class 'statsmodels.iolib.summary.Summary'>\n",
       "\"\"\"\n",
       "                            OLS Regression Results                            \n",
       "==============================================================================\n",
       "Dep. Variable:                      y   R-squared:                       0.113\n",
       "Model:                            OLS   Adj. R-squared:                  0.078\n",
       "Method:                 Least Squares   F-statistic:                     3.201\n",
       "Date:                Tue, 28 Dec 2021   Prob (F-statistic):            0.00549\n",
       "Time:                        17:37:44   Log-Likelihood:                -760.56\n",
       "No. Observations:                 158   AIC:                             1535.\n",
       "Df Residuals:                     151   BIC:                             1557.\n",
       "Df Model:                           6                                         \n",
       "Covariance Type:            nonrobust                                         \n",
       "=======================================================================================\n",
       "                          coef    std err          t      P>|t|      [0.025      0.975]\n",
       "---------------------------------------------------------------------------------------\n",
       "const                 174.8425     43.014      4.065      0.000      89.856     259.829\n",
       "아파트 가구수                -0.0042      0.003     -1.604      0.111      -0.009       0.001\n",
       "(주거인구+직장인구) / 유동인구     20.8322     11.533      1.806      0.073      -1.955      43.619\n",
       "주거인구/직장인구              -0.1184      0.113     -1.046      0.297      -0.342       0.105\n",
       "06 to 18 / 18 to 06    -9.9061      8.749     -1.132      0.259     -27.193       7.380\n",
       "10_30 / 40_60         -87.0700     27.205     -3.200      0.002    -140.822     -33.318\n",
       "주중 / 주말                10.6922     17.494      0.611      0.542     -23.872      45.257\n",
       "==============================================================================\n",
       "Omnibus:                        7.928   Durbin-Watson:                   1.750\n",
       "Prob(Omnibus):                  0.019   Jarque-Bera (JB):               14.948\n",
       "Skew:                           0.066   Prob(JB):                     0.000568\n",
       "Kurtosis:                       4.501   Cond. No.                     2.35e+04\n",
       "==============================================================================\n",
       "\n",
       "Notes:\n",
       "[1] Standard Errors assume that the covariance matrix of the errors is correctly specified.\n",
       "[2] The condition number is large, 2.35e+04. This might indicate that there are\n",
       "strong multicollinearity or other numerical problems.\n",
       "\"\"\""
      ]
     },
     "metadata": {},
     "output_type": "display_data"
    },
    {
     "name": "stdout",
     "output_type": "stream",
     "text": [
      "\n",
      "\n",
      "==============================업종 특성==============================\n"
     ]
    },
    {
     "data": {
      "text/html": [
       "<table class=\"simpletable\">\n",
       "<caption>OLS Regression Results</caption>\n",
       "<tr>\n",
       "  <th>Dep. Variable:</th>            <td>y</td>        <th>  R-squared:         </th> <td>   0.080</td>\n",
       "</tr>\n",
       "<tr>\n",
       "  <th>Model:</th>                   <td>OLS</td>       <th>  Adj. R-squared:    </th> <td>   0.024</td>\n",
       "</tr>\n",
       "<tr>\n",
       "  <th>Method:</th>             <td>Least Squares</td>  <th>  F-statistic:       </th> <td>   1.436</td>\n",
       "</tr>\n",
       "<tr>\n",
       "  <th>Date:</th>             <td>Tue, 28 Dec 2021</td> <th>  Prob (F-statistic):</th>  <td> 0.177</td> \n",
       "</tr>\n",
       "<tr>\n",
       "  <th>Time:</th>                 <td>17:37:44</td>     <th>  Log-Likelihood:    </th> <td> -763.40</td>\n",
       "</tr>\n",
       "<tr>\n",
       "  <th>No. Observations:</th>      <td>   158</td>      <th>  AIC:               </th> <td>   1547.</td>\n",
       "</tr>\n",
       "<tr>\n",
       "  <th>Df Residuals:</th>          <td>   148</td>      <th>  BIC:               </th> <td>   1577.</td>\n",
       "</tr>\n",
       "<tr>\n",
       "  <th>Df Model:</th>              <td>     9</td>      <th>                     </th>     <td> </td>   \n",
       "</tr>\n",
       "<tr>\n",
       "  <th>Covariance Type:</th>      <td>nonrobust</td>    <th>                     </th>     <td> </td>   \n",
       "</tr>\n",
       "</table>\n",
       "<table class=\"simpletable\">\n",
       "<tr>\n",
       "        <td></td>          <th>coef</th>     <th>std err</th>      <th>t</th>      <th>P>|t|</th>  <th>[0.025</th>    <th>0.975]</th>  \n",
       "</tr>\n",
       "<tr>\n",
       "  <th>const</th>        <td>  109.0060</td> <td>   19.252</td> <td>    5.662</td> <td> 0.000</td> <td>   70.961</td> <td>  147.051</td>\n",
       "</tr>\n",
       "<tr>\n",
       "  <th>외식업종다양성</th>      <td>  -13.4878</td> <td>    6.579</td> <td>   -2.050</td> <td> 0.042</td> <td>  -26.489</td> <td>   -0.486</td>\n",
       "</tr>\n",
       "<tr>\n",
       "  <th>서비스업종다양성</th>     <td>   -3.8717</td> <td>    7.078</td> <td>   -0.547</td> <td> 0.585</td> <td>  -17.859</td> <td>   10.116</td>\n",
       "</tr>\n",
       "<tr>\n",
       "  <th>소매업종다양성</th>      <td>   20.2283</td> <td>    7.998</td> <td>    2.529</td> <td> 0.012</td> <td>    4.424</td> <td>   36.033</td>\n",
       "</tr>\n",
       "<tr>\n",
       "  <th>외식업매출월평균변화량</th>  <td> 7.302e-08</td> <td> 5.33e-07</td> <td>    0.137</td> <td> 0.891</td> <td> -9.8e-07</td> <td> 1.13e-06</td>\n",
       "</tr>\n",
       "<tr>\n",
       "  <th>서비스업매출월평균변화량</th> <td> 1.624e-07</td> <td> 5.56e-07</td> <td>    0.292</td> <td> 0.771</td> <td>-9.36e-07</td> <td> 1.26e-06</td>\n",
       "</tr>\n",
       "<tr>\n",
       "  <th>소매업매출월평균변화량</th>  <td> 1.448e-07</td> <td> 1.84e-07</td> <td>    0.789</td> <td> 0.431</td> <td>-2.18e-07</td> <td> 5.07e-07</td>\n",
       "</tr>\n",
       "<tr>\n",
       "  <th>외식업매출비율</th>      <td>    9.8157</td> <td>   24.971</td> <td>    0.393</td> <td> 0.695</td> <td>  -39.531</td> <td>   59.162</td>\n",
       "</tr>\n",
       "<tr>\n",
       "  <th>서비스업매출비율</th>     <td>    1.4598</td> <td>   27.971</td> <td>    0.052</td> <td> 0.958</td> <td>  -53.815</td> <td>   56.735</td>\n",
       "</tr>\n",
       "<tr>\n",
       "  <th>소매업매출비율</th>      <td>   18.5070</td> <td>   22.951</td> <td>    0.806</td> <td> 0.421</td> <td>  -26.847</td> <td>   63.861</td>\n",
       "</tr>\n",
       "</table>\n",
       "<table class=\"simpletable\">\n",
       "<tr>\n",
       "  <th>Omnibus:</th>       <td>10.301</td> <th>  Durbin-Watson:     </th> <td>   1.765</td>\n",
       "</tr>\n",
       "<tr>\n",
       "  <th>Prob(Omnibus):</th> <td> 0.006</td> <th>  Jarque-Bera (JB):  </th> <td>  22.540</td>\n",
       "</tr>\n",
       "<tr>\n",
       "  <th>Skew:</th>          <td> 0.136</td> <th>  Prob(JB):          </th> <td>1.28e-05</td>\n",
       "</tr>\n",
       "<tr>\n",
       "  <th>Kurtosis:</th>      <td> 4.830</td> <th>  Cond. No.          </th> <td>2.56e+08</td>\n",
       "</tr>\n",
       "</table><br/><br/>Notes:<br/>[1] Standard Errors assume that the covariance matrix of the errors is correctly specified.<br/>[2] The condition number is large, 2.56e+08. This might indicate that there are<br/>strong multicollinearity or other numerical problems."
      ],
      "text/plain": [
       "<class 'statsmodels.iolib.summary.Summary'>\n",
       "\"\"\"\n",
       "                            OLS Regression Results                            \n",
       "==============================================================================\n",
       "Dep. Variable:                      y   R-squared:                       0.080\n",
       "Model:                            OLS   Adj. R-squared:                  0.024\n",
       "Method:                 Least Squares   F-statistic:                     1.436\n",
       "Date:                Tue, 28 Dec 2021   Prob (F-statistic):              0.177\n",
       "Time:                        17:37:44   Log-Likelihood:                -763.40\n",
       "No. Observations:                 158   AIC:                             1547.\n",
       "Df Residuals:                     148   BIC:                             1577.\n",
       "Df Model:                           9                                         \n",
       "Covariance Type:            nonrobust                                         \n",
       "================================================================================\n",
       "                   coef    std err          t      P>|t|      [0.025      0.975]\n",
       "--------------------------------------------------------------------------------\n",
       "const          109.0060     19.252      5.662      0.000      70.961     147.051\n",
       "외식업종다양성        -13.4878      6.579     -2.050      0.042     -26.489      -0.486\n",
       "서비스업종다양성        -3.8717      7.078     -0.547      0.585     -17.859      10.116\n",
       "소매업종다양성         20.2283      7.998      2.529      0.012       4.424      36.033\n",
       "외식업매출월평균변화량   7.302e-08   5.33e-07      0.137      0.891    -9.8e-07    1.13e-06\n",
       "서비스업매출월평균변화량  1.624e-07   5.56e-07      0.292      0.771   -9.36e-07    1.26e-06\n",
       "소매업매출월평균변화량   1.448e-07   1.84e-07      0.789      0.431   -2.18e-07    5.07e-07\n",
       "외식업매출비율          9.8157     24.971      0.393      0.695     -39.531      59.162\n",
       "서비스업매출비율         1.4598     27.971      0.052      0.958     -53.815      56.735\n",
       "소매업매출비율         18.5070     22.951      0.806      0.421     -26.847      63.861\n",
       "==============================================================================\n",
       "Omnibus:                       10.301   Durbin-Watson:                   1.765\n",
       "Prob(Omnibus):                  0.006   Jarque-Bera (JB):               22.540\n",
       "Skew:                           0.136   Prob(JB):                     1.28e-05\n",
       "Kurtosis:                       4.830   Cond. No.                     2.56e+08\n",
       "==============================================================================\n",
       "\n",
       "Notes:\n",
       "[1] Standard Errors assume that the covariance matrix of the errors is correctly specified.\n",
       "[2] The condition number is large, 2.56e+08. This might indicate that there are\n",
       "strong multicollinearity or other numerical problems.\n",
       "\"\"\""
      ]
     },
     "metadata": {},
     "output_type": "display_data"
    },
    {
     "name": "stdout",
     "output_type": "stream",
     "text": [
      "\n",
      "\n",
      "==============================접근성==============================\n"
     ]
    },
    {
     "data": {
      "text/html": [
       "<table class=\"simpletable\">\n",
       "<caption>OLS Regression Results</caption>\n",
       "<tr>\n",
       "  <th>Dep. Variable:</th>            <td>y</td>        <th>  R-squared:         </th> <td>   0.103</td>\n",
       "</tr>\n",
       "<tr>\n",
       "  <th>Model:</th>                   <td>OLS</td>       <th>  Adj. R-squared:    </th> <td>   0.092</td>\n",
       "</tr>\n",
       "<tr>\n",
       "  <th>Method:</th>             <td>Least Squares</td>  <th>  F-statistic:       </th> <td>   8.944</td>\n",
       "</tr>\n",
       "<tr>\n",
       "  <th>Date:</th>             <td>Tue, 28 Dec 2021</td> <th>  Prob (F-statistic):</th> <td>0.000211</td>\n",
       "</tr>\n",
       "<tr>\n",
       "  <th>Time:</th>                 <td>17:37:44</td>     <th>  Log-Likelihood:    </th> <td> -761.39</td>\n",
       "</tr>\n",
       "<tr>\n",
       "  <th>No. Observations:</th>      <td>   158</td>      <th>  AIC:               </th> <td>   1529.</td>\n",
       "</tr>\n",
       "<tr>\n",
       "  <th>Df Residuals:</th>          <td>   155</td>      <th>  BIC:               </th> <td>   1538.</td>\n",
       "</tr>\n",
       "<tr>\n",
       "  <th>Df Model:</th>              <td>     2</td>      <th>                     </th>     <td> </td>   \n",
       "</tr>\n",
       "<tr>\n",
       "  <th>Covariance Type:</th>      <td>nonrobust</td>    <th>                     </th>     <td> </td>   \n",
       "</tr>\n",
       "</table>\n",
       "<table class=\"simpletable\">\n",
       "<tr>\n",
       "       <td></td>         <th>coef</th>     <th>std err</th>      <th>t</th>      <th>P>|t|</th>  <th>[0.025</th>    <th>0.975]</th>  \n",
       "</tr>\n",
       "<tr>\n",
       "  <th>const</th>      <td>  122.9545</td> <td>    5.913</td> <td>   20.795</td> <td> 0.000</td> <td>  111.274</td> <td>  134.635</td>\n",
       "</tr>\n",
       "<tr>\n",
       "  <th>평균최근접정류장거리</th> <td>  -62.1004</td> <td>   57.061</td> <td>   -1.088</td> <td> 0.278</td> <td> -174.819</td> <td>   50.618</td>\n",
       "</tr>\n",
       "<tr>\n",
       "  <th>평균최근접역거리</th>   <td>   21.4037</td> <td>    5.062</td> <td>    4.228</td> <td> 0.000</td> <td>   11.404</td> <td>   31.403</td>\n",
       "</tr>\n",
       "</table>\n",
       "<table class=\"simpletable\">\n",
       "<tr>\n",
       "  <th>Omnibus:</th>       <td> 5.328</td> <th>  Durbin-Watson:     </th> <td>   1.751</td>\n",
       "</tr>\n",
       "<tr>\n",
       "  <th>Prob(Omnibus):</th> <td> 0.070</td> <th>  Jarque-Bera (JB):  </th> <td>   6.906</td>\n",
       "</tr>\n",
       "<tr>\n",
       "  <th>Skew:</th>          <td> 0.162</td> <th>  Prob(JB):          </th> <td>  0.0317</td>\n",
       "</tr>\n",
       "<tr>\n",
       "  <th>Kurtosis:</th>      <td> 3.972</td> <th>  Cond. No.          </th> <td>    30.3</td>\n",
       "</tr>\n",
       "</table><br/><br/>Notes:<br/>[1] Standard Errors assume that the covariance matrix of the errors is correctly specified."
      ],
      "text/plain": [
       "<class 'statsmodels.iolib.summary.Summary'>\n",
       "\"\"\"\n",
       "                            OLS Regression Results                            \n",
       "==============================================================================\n",
       "Dep. Variable:                      y   R-squared:                       0.103\n",
       "Model:                            OLS   Adj. R-squared:                  0.092\n",
       "Method:                 Least Squares   F-statistic:                     8.944\n",
       "Date:                Tue, 28 Dec 2021   Prob (F-statistic):           0.000211\n",
       "Time:                        17:37:44   Log-Likelihood:                -761.39\n",
       "No. Observations:                 158   AIC:                             1529.\n",
       "Df Residuals:                     155   BIC:                             1538.\n",
       "Df Model:                           2                                         \n",
       "Covariance Type:            nonrobust                                         \n",
       "==============================================================================\n",
       "                 coef    std err          t      P>|t|      [0.025      0.975]\n",
       "------------------------------------------------------------------------------\n",
       "const        122.9545      5.913     20.795      0.000     111.274     134.635\n",
       "평균최근접정류장거리   -62.1004     57.061     -1.088      0.278    -174.819      50.618\n",
       "평균최근접역거리      21.4037      5.062      4.228      0.000      11.404      31.403\n",
       "==============================================================================\n",
       "Omnibus:                        5.328   Durbin-Watson:                   1.751\n",
       "Prob(Omnibus):                  0.070   Jarque-Bera (JB):                6.906\n",
       "Skew:                           0.162   Prob(JB):                       0.0317\n",
       "Kurtosis:                       3.972   Cond. No.                         30.3\n",
       "==============================================================================\n",
       "\n",
       "Notes:\n",
       "[1] Standard Errors assume that the covariance matrix of the errors is correctly specified.\n",
       "\"\"\""
      ]
     },
     "metadata": {},
     "output_type": "display_data"
    },
    {
     "name": "stdout",
     "output_type": "stream",
     "text": [
      "\n",
      "\n"
     ]
    }
   ],
   "source": [
    "for col, char in zip(col_list,char_var_list):\n",
    "    X = clean_data.loc[:,col]\n",
    "    X = sm.add_constant(X)\n",
    "    y = clean_data.loc[:,'평균영업기간'].values\n",
    "    \n",
    "    ols_model = sm.OLS(y,X)\n",
    "    results = ols_model.fit()\n",
    "    print('='*30+char+'='*30)\n",
    "    display(results.summary())\n",
    "    print('\\n')"
   ]
  },
  {
   "cell_type": "markdown",
   "id": "dfa18f9d-41a1-47e9-8e9b-dabaf3979782",
   "metadata": {},
   "source": [
    "## 2.3 특성별 다중공선성 제거"
   ]
  },
  {
   "cell_type": "code",
   "execution_count": 27,
   "id": "52a8f745-681b-4ebd-ae59-89cd1305ae84",
   "metadata": {
    "execution": {
     "iopub.execute_input": "2021-12-28T08:37:46.874814Z",
     "iopub.status.busy": "2021-12-28T08:37:46.874814Z",
     "iopub.status.idle": "2021-12-28T08:37:47.000132Z",
     "shell.execute_reply": "2021-12-28T08:37:46.999140Z",
     "shell.execute_reply.started": "2021-12-28T08:37:46.874814Z"
    }
   },
   "outputs": [],
   "source": [
    "rm_collinearity = []\n",
    "\n",
    "for col in col_list:\n",
    "    result = RFE(clean_data.loc[:,col])\n",
    "    rm_collinearity.append(result['features'].values)"
   ]
  },
  {
   "cell_type": "code",
   "execution_count": 28,
   "id": "74e5968a-a1fb-4cb0-807e-c9501ab9711d",
   "metadata": {
    "execution": {
     "iopub.execute_input": "2021-12-28T08:37:47.969298Z",
     "iopub.status.busy": "2021-12-28T08:37:47.968301Z",
     "iopub.status.idle": "2021-12-28T08:37:47.983196Z",
     "shell.execute_reply": "2021-12-28T08:37:47.983196Z",
     "shell.execute_reply.started": "2021-12-28T08:37:47.969298Z"
    }
   },
   "outputs": [],
   "source": [
    "building_col = ['단독주택 비율','공동주택 비율','근린생활시설 비율','건물노후도']\n",
    "market_col = ['점포밀도','BAS_AR','상가밀도','개별공시지가 변화 차분평균','아파트시세변화_차분평균']\n",
    "road_col = ['평균 도로 길이','도로율','기초구역평균_국부통합도_R3','기초구역평균_전체통합도','도로길이고려_전체통합도'\n",
    "            ,'도로길이고려_국부통합도_R3']\n",
    "pop_col = ['아파트 가구수','(주거인구+직장인구) / 유동인구','주거인구/직장인구','06 to 18 / 18 to 06'\n",
    "           ,'10_30 / 40_60','주중 / 주말']\n",
    "kind_col = ['외식업종다양성','서비스업종다양성','소매업종다양성','외식업매출월평균변화량','서비스업매출월평균변화량'\n",
    "            ,'소매업매출월평균변화량','외식업매출비율','서비스업매출비율','소매업매출비율']\n",
    "close_col = ['평균최근접정류장거리','평균최근접역거리']"
   ]
  },
  {
   "cell_type": "code",
   "execution_count": 29,
   "id": "1b0037f0-ddef-4856-b15e-90f2329c64a5",
   "metadata": {
    "execution": {
     "iopub.execute_input": "2021-12-28T08:37:48.616947Z",
     "iopub.status.busy": "2021-12-28T08:37:48.616947Z",
     "iopub.status.idle": "2021-12-28T08:37:48.637977Z",
     "shell.execute_reply": "2021-12-28T08:37:48.637977Z",
     "shell.execute_reply.started": "2021-12-28T08:37:48.616947Z"
    }
   },
   "outputs": [
    {
     "data": {
      "text/plain": [
       "[array(['단독주택 비율', '공동주택 비율', '근린생활시설 비율'], dtype=object),\n",
       " array(['아파트시세변화_차분평균', 'BAS_AR', '개별공시지가 변화 차분평균', '상가밀도', '점포밀도'],\n",
       "       dtype=object),\n",
       " array(['평균 도로 길이', '도로길이고려_국부통합도_R3', '도로율'], dtype=object),\n",
       " array(['주거인구/직장인구', '아파트 가구수', '06 to 18 / 18 to 06',\n",
       "        '(주거인구+직장인구) / 유동인구'], dtype=object),\n",
       " array(['외식업매출월평균변화량', '서비스업매출월평균변화량', '소매업매출월평균변화량', '소매업매출비율', '외식업매출비율',\n",
       "        '서비스업매출비율'], dtype=object),\n",
       " array(['평균최근접정류장거리', '평균최근접역거리'], dtype=object)]"
      ]
     },
     "execution_count": 29,
     "metadata": {},
     "output_type": "execute_result"
    }
   ],
   "source": [
    "rm_collinearity"
   ]
  },
  {
   "cell_type": "markdown",
   "id": "f4ab9f73-a852-441b-a9f7-aaffe0060444",
   "metadata": {
    "tags": []
   },
   "source": [
    "# 3. 지리가중회귀분석(MGWR)"
   ]
  },
  {
   "cell_type": "markdown",
   "id": "bf74bb0d-487e-4c06-ad43-33fd2cffc6df",
   "metadata": {
    "tags": []
   },
   "source": [
    "## 3.1 독립변수, 종속변수 설정"
   ]
  },
  {
   "cell_type": "code",
   "execution_count": 30,
   "id": "3477afd7",
   "metadata": {
    "collapsed": false,
    "execution": {
     "iopub.execute_input": "2021-12-28T08:37:50.552947Z",
     "iopub.status.busy": "2021-12-28T08:37:50.552947Z",
     "iopub.status.idle": "2021-12-28T08:37:50.565572Z",
     "shell.execute_reply": "2021-12-28T08:37:50.565075Z",
     "shell.execute_reply.started": "2021-12-28T08:37:50.552947Z"
    },
    "jupyter": {
     "outputs_hidden": false
    },
    "pycharm": {
     "name": "#%%\n"
    }
   },
   "outputs": [],
   "source": [
    "drop_list = [col for col in list(dX) if '변화' in col]\n",
    "drop_list += ['건물노후도','BAS_AR','BAS_ID','x','y','평균폐업기간','평균영업기간','geometry']\n",
    "try_data = clean_data.drop(drop_list,axis=1)"
   ]
  },
  {
   "cell_type": "code",
   "execution_count": 31,
   "id": "ba5da38d",
   "metadata": {
    "collapsed": false,
    "execution": {
     "iopub.execute_input": "2021-12-28T08:37:51.923157Z",
     "iopub.status.busy": "2021-12-28T08:37:51.923157Z",
     "iopub.status.idle": "2021-12-28T08:37:51.965474Z",
     "shell.execute_reply": "2021-12-28T08:37:51.965474Z",
     "shell.execute_reply.started": "2021-12-28T08:37:51.923157Z"
    },
    "jupyter": {
     "outputs_hidden": false
    },
    "pycharm": {
     "name": "#%%\n"
    }
   },
   "outputs": [
    {
     "data": {
      "text/html": [
       "<div>\n",
       "<style scoped>\n",
       "    .dataframe tbody tr th:only-of-type {\n",
       "        vertical-align: middle;\n",
       "    }\n",
       "\n",
       "    .dataframe tbody tr th {\n",
       "        vertical-align: top;\n",
       "    }\n",
       "\n",
       "    .dataframe thead th {\n",
       "        text-align: right;\n",
       "    }\n",
       "</style>\n",
       "<table border=\"1\" class=\"dataframe\">\n",
       "  <thead>\n",
       "    <tr style=\"text-align: right;\">\n",
       "      <th></th>\n",
       "      <th>도로길이고려_전체통합도</th>\n",
       "      <th>도로길이고려_국부통합도_R3</th>\n",
       "      <th>기초구역평균_전체통합도</th>\n",
       "      <th>기초구역평균_국부통합도_R3</th>\n",
       "      <th>도로율</th>\n",
       "      <th>평균 도로 길이</th>\n",
       "      <th>평균최근접역거리</th>\n",
       "      <th>평균최근접정류장거리</th>\n",
       "      <th>공동주택 비율</th>\n",
       "      <th>근린생활시설 비율</th>\n",
       "      <th>...</th>\n",
       "      <th>외식업종다양성</th>\n",
       "      <th>서비스업종다양성</th>\n",
       "      <th>소매업종다양성</th>\n",
       "      <th>상가밀도</th>\n",
       "      <th>주중 / 주말</th>\n",
       "      <th>06 to 18 / 18 to 06</th>\n",
       "      <th>(주거인구+직장인구) / 유동인구</th>\n",
       "      <th>주거인구/직장인구</th>\n",
       "      <th>10_30 / 40_60</th>\n",
       "      <th>점포밀도</th>\n",
       "    </tr>\n",
       "  </thead>\n",
       "  <tbody>\n",
       "    <tr>\n",
       "      <th>0</th>\n",
       "      <td>617.130076</td>\n",
       "      <td>7987.604945</td>\n",
       "      <td>0.060037</td>\n",
       "      <td>0.907932</td>\n",
       "      <td>7.332336</td>\n",
       "      <td>119.253463</td>\n",
       "      <td>1.172716</td>\n",
       "      <td>0.129807</td>\n",
       "      <td>52.9</td>\n",
       "      <td>42.0</td>\n",
       "      <td>...</td>\n",
       "      <td>0.806505</td>\n",
       "      <td>1.609438</td>\n",
       "      <td>2.390980</td>\n",
       "      <td>86.099041</td>\n",
       "      <td>2.342449</td>\n",
       "      <td>2.695669</td>\n",
       "      <td>0.268398</td>\n",
       "      <td>0.149563</td>\n",
       "      <td>0.406896</td>\n",
       "      <td>7.046875</td>\n",
       "    </tr>\n",
       "    <tr>\n",
       "      <th>1</th>\n",
       "      <td>221.397046</td>\n",
       "      <td>2876.534944</td>\n",
       "      <td>0.069661</td>\n",
       "      <td>0.938454</td>\n",
       "      <td>30.948119</td>\n",
       "      <td>211.340833</td>\n",
       "      <td>1.696683</td>\n",
       "      <td>0.091841</td>\n",
       "      <td>79.4</td>\n",
       "      <td>20.2</td>\n",
       "      <td>...</td>\n",
       "      <td>1.386294</td>\n",
       "      <td>1.127535</td>\n",
       "      <td>1.985080</td>\n",
       "      <td>346.978396</td>\n",
       "      <td>2.315147</td>\n",
       "      <td>2.280277</td>\n",
       "      <td>0.254881</td>\n",
       "      <td>0.667946</td>\n",
       "      <td>0.439757</td>\n",
       "      <td>11.523810</td>\n",
       "    </tr>\n",
       "    <tr>\n",
       "      <th>2</th>\n",
       "      <td>341.252878</td>\n",
       "      <td>4162.583064</td>\n",
       "      <td>0.087372</td>\n",
       "      <td>1.084619</td>\n",
       "      <td>25.546905</td>\n",
       "      <td>214.144187</td>\n",
       "      <td>1.697811</td>\n",
       "      <td>0.040418</td>\n",
       "      <td>32.7</td>\n",
       "      <td>2.2</td>\n",
       "      <td>...</td>\n",
       "      <td>2.063956</td>\n",
       "      <td>2.029155</td>\n",
       "      <td>1.314799</td>\n",
       "      <td>876.110071</td>\n",
       "      <td>2.064957</td>\n",
       "      <td>2.339853</td>\n",
       "      <td>0.220317</td>\n",
       "      <td>0.899425</td>\n",
       "      <td>0.508371</td>\n",
       "      <td>143.584416</td>\n",
       "    </tr>\n",
       "    <tr>\n",
       "      <th>3</th>\n",
       "      <td>475.038010</td>\n",
       "      <td>6080.093135</td>\n",
       "      <td>0.084712</td>\n",
       "      <td>1.079401</td>\n",
       "      <td>15.517121</td>\n",
       "      <td>105.011320</td>\n",
       "      <td>1.802432</td>\n",
       "      <td>0.183461</td>\n",
       "      <td>31.3</td>\n",
       "      <td>55.9</td>\n",
       "      <td>...</td>\n",
       "      <td>1.386294</td>\n",
       "      <td>2.364045</td>\n",
       "      <td>2.064017</td>\n",
       "      <td>232.748015</td>\n",
       "      <td>2.273528</td>\n",
       "      <td>2.246297</td>\n",
       "      <td>0.108296</td>\n",
       "      <td>6.308614</td>\n",
       "      <td>0.441902</td>\n",
       "      <td>36.111111</td>\n",
       "    </tr>\n",
       "    <tr>\n",
       "      <th>4</th>\n",
       "      <td>273.241567</td>\n",
       "      <td>3575.514233</td>\n",
       "      <td>0.092931</td>\n",
       "      <td>1.107098</td>\n",
       "      <td>32.713927</td>\n",
       "      <td>134.361765</td>\n",
       "      <td>1.604301</td>\n",
       "      <td>0.084995</td>\n",
       "      <td>14.7</td>\n",
       "      <td>37.5</td>\n",
       "      <td>...</td>\n",
       "      <td>2.096203</td>\n",
       "      <td>2.289920</td>\n",
       "      <td>2.379112</td>\n",
       "      <td>2495.942389</td>\n",
       "      <td>2.016228</td>\n",
       "      <td>2.004099</td>\n",
       "      <td>0.212989</td>\n",
       "      <td>1.959390</td>\n",
       "      <td>0.479893</td>\n",
       "      <td>113.836066</td>\n",
       "    </tr>\n",
       "    <tr>\n",
       "      <th>...</th>\n",
       "      <td>...</td>\n",
       "      <td>...</td>\n",
       "      <td>...</td>\n",
       "      <td>...</td>\n",
       "      <td>...</td>\n",
       "      <td>...</td>\n",
       "      <td>...</td>\n",
       "      <td>...</td>\n",
       "      <td>...</td>\n",
       "      <td>...</td>\n",
       "      <td>...</td>\n",
       "      <td>...</td>\n",
       "      <td>...</td>\n",
       "      <td>...</td>\n",
       "      <td>...</td>\n",
       "      <td>...</td>\n",
       "      <td>...</td>\n",
       "      <td>...</td>\n",
       "      <td>...</td>\n",
       "      <td>...</td>\n",
       "      <td>...</td>\n",
       "    </tr>\n",
       "    <tr>\n",
       "      <th>153</th>\n",
       "      <td>153.150645</td>\n",
       "      <td>2987.551685</td>\n",
       "      <td>0.053224</td>\n",
       "      <td>1.073527</td>\n",
       "      <td>47.846843</td>\n",
       "      <td>118.568545</td>\n",
       "      <td>0.716142</td>\n",
       "      <td>0.044763</td>\n",
       "      <td>32.5</td>\n",
       "      <td>24.5</td>\n",
       "      <td>...</td>\n",
       "      <td>1.690393</td>\n",
       "      <td>2.395908</td>\n",
       "      <td>2.160130</td>\n",
       "      <td>811.656434</td>\n",
       "      <td>2.089179</td>\n",
       "      <td>2.293935</td>\n",
       "      <td>0.168611</td>\n",
       "      <td>8.118938</td>\n",
       "      <td>0.418639</td>\n",
       "      <td>44.145161</td>\n",
       "    </tr>\n",
       "    <tr>\n",
       "      <th>154</th>\n",
       "      <td>339.514691</td>\n",
       "      <td>2241.934926</td>\n",
       "      <td>0.179476</td>\n",
       "      <td>0.910954</td>\n",
       "      <td>3.660437</td>\n",
       "      <td>184.741846</td>\n",
       "      <td>0.559030</td>\n",
       "      <td>0.245583</td>\n",
       "      <td>0.0</td>\n",
       "      <td>100.0</td>\n",
       "      <td>...</td>\n",
       "      <td>0.636514</td>\n",
       "      <td>0.000000</td>\n",
       "      <td>0.000000</td>\n",
       "      <td>2.983469</td>\n",
       "      <td>1.449448</td>\n",
       "      <td>3.640312</td>\n",
       "      <td>0.027235</td>\n",
       "      <td>0.013054</td>\n",
       "      <td>0.451702</td>\n",
       "      <td>3.000000</td>\n",
       "    </tr>\n",
       "    <tr>\n",
       "      <th>155</th>\n",
       "      <td>546.088235</td>\n",
       "      <td>5760.159505</td>\n",
       "      <td>0.097563</td>\n",
       "      <td>0.969282</td>\n",
       "      <td>21.446923</td>\n",
       "      <td>224.758790</td>\n",
       "      <td>1.370646</td>\n",
       "      <td>0.103238</td>\n",
       "      <td>53.6</td>\n",
       "      <td>37.0</td>\n",
       "      <td>...</td>\n",
       "      <td>1.704551</td>\n",
       "      <td>2.245035</td>\n",
       "      <td>2.397922</td>\n",
       "      <td>186.120614</td>\n",
       "      <td>2.072345</td>\n",
       "      <td>2.291081</td>\n",
       "      <td>0.133531</td>\n",
       "      <td>3.087848</td>\n",
       "      <td>0.535500</td>\n",
       "      <td>7.160000</td>\n",
       "    </tr>\n",
       "    <tr>\n",
       "      <th>156</th>\n",
       "      <td>263.517281</td>\n",
       "      <td>3222.709021</td>\n",
       "      <td>0.084734</td>\n",
       "      <td>1.061010</td>\n",
       "      <td>14.367906</td>\n",
       "      <td>152.046143</td>\n",
       "      <td>0.771214</td>\n",
       "      <td>0.111800</td>\n",
       "      <td>52.8</td>\n",
       "      <td>20.4</td>\n",
       "      <td>...</td>\n",
       "      <td>1.680047</td>\n",
       "      <td>2.293040</td>\n",
       "      <td>1.930021</td>\n",
       "      <td>359.872676</td>\n",
       "      <td>2.105405</td>\n",
       "      <td>1.587592</td>\n",
       "      <td>0.403526</td>\n",
       "      <td>16.585638</td>\n",
       "      <td>0.603346</td>\n",
       "      <td>37.450704</td>\n",
       "    </tr>\n",
       "    <tr>\n",
       "      <th>157</th>\n",
       "      <td>337.993901</td>\n",
       "      <td>3090.876012</td>\n",
       "      <td>0.090934</td>\n",
       "      <td>0.890338</td>\n",
       "      <td>0.013953</td>\n",
       "      <td>49.053500</td>\n",
       "      <td>1.435092</td>\n",
       "      <td>0.281050</td>\n",
       "      <td>0.0</td>\n",
       "      <td>57.9</td>\n",
       "      <td>...</td>\n",
       "      <td>0.000000</td>\n",
       "      <td>0.000000</td>\n",
       "      <td>0.693147</td>\n",
       "      <td>1.132572</td>\n",
       "      <td>1.931703</td>\n",
       "      <td>2.096614</td>\n",
       "      <td>0.000691</td>\n",
       "      <td>0.000000</td>\n",
       "      <td>0.536289</td>\n",
       "      <td>2.666667</td>\n",
       "    </tr>\n",
       "  </tbody>\n",
       "</table>\n",
       "<p>158 rows × 25 columns</p>\n",
       "</div>"
      ],
      "text/plain": [
       "     도로길이고려_전체통합도  도로길이고려_국부통합도_R3  기초구역평균_전체통합도  기초구역평균_국부통합도_R3        도로율  \\\n",
       "0      617.130076      7987.604945      0.060037         0.907932   7.332336   \n",
       "1      221.397046      2876.534944      0.069661         0.938454  30.948119   \n",
       "2      341.252878      4162.583064      0.087372         1.084619  25.546905   \n",
       "3      475.038010      6080.093135      0.084712         1.079401  15.517121   \n",
       "4      273.241567      3575.514233      0.092931         1.107098  32.713927   \n",
       "..            ...              ...           ...              ...        ...   \n",
       "153    153.150645      2987.551685      0.053224         1.073527  47.846843   \n",
       "154    339.514691      2241.934926      0.179476         0.910954   3.660437   \n",
       "155    546.088235      5760.159505      0.097563         0.969282  21.446923   \n",
       "156    263.517281      3222.709021      0.084734         1.061010  14.367906   \n",
       "157    337.993901      3090.876012      0.090934         0.890338   0.013953   \n",
       "\n",
       "       평균 도로 길이  평균최근접역거리  평균최근접정류장거리  공동주택 비율  근린생활시설 비율  ...   외식업종다양성  \\\n",
       "0    119.253463  1.172716    0.129807     52.9       42.0  ...  0.806505   \n",
       "1    211.340833  1.696683    0.091841     79.4       20.2  ...  1.386294   \n",
       "2    214.144187  1.697811    0.040418     32.7        2.2  ...  2.063956   \n",
       "3    105.011320  1.802432    0.183461     31.3       55.9  ...  1.386294   \n",
       "4    134.361765  1.604301    0.084995     14.7       37.5  ...  2.096203   \n",
       "..          ...       ...         ...      ...        ...  ...       ...   \n",
       "153  118.568545  0.716142    0.044763     32.5       24.5  ...  1.690393   \n",
       "154  184.741846  0.559030    0.245583      0.0      100.0  ...  0.636514   \n",
       "155  224.758790  1.370646    0.103238     53.6       37.0  ...  1.704551   \n",
       "156  152.046143  0.771214    0.111800     52.8       20.4  ...  1.680047   \n",
       "157   49.053500  1.435092    0.281050      0.0       57.9  ...  0.000000   \n",
       "\n",
       "     서비스업종다양성   소매업종다양성         상가밀도   주중 / 주말  06 to 18 / 18 to 06  \\\n",
       "0    1.609438  2.390980    86.099041  2.342449             2.695669   \n",
       "1    1.127535  1.985080   346.978396  2.315147             2.280277   \n",
       "2    2.029155  1.314799   876.110071  2.064957             2.339853   \n",
       "3    2.364045  2.064017   232.748015  2.273528             2.246297   \n",
       "4    2.289920  2.379112  2495.942389  2.016228             2.004099   \n",
       "..        ...       ...          ...       ...                  ...   \n",
       "153  2.395908  2.160130   811.656434  2.089179             2.293935   \n",
       "154  0.000000  0.000000     2.983469  1.449448             3.640312   \n",
       "155  2.245035  2.397922   186.120614  2.072345             2.291081   \n",
       "156  2.293040  1.930021   359.872676  2.105405             1.587592   \n",
       "157  0.000000  0.693147     1.132572  1.931703             2.096614   \n",
       "\n",
       "     (주거인구+직장인구) / 유동인구  주거인구/직장인구  10_30 / 40_60        점포밀도  \n",
       "0              0.268398   0.149563       0.406896    7.046875  \n",
       "1              0.254881   0.667946       0.439757   11.523810  \n",
       "2              0.220317   0.899425       0.508371  143.584416  \n",
       "3              0.108296   6.308614       0.441902   36.111111  \n",
       "4              0.212989   1.959390       0.479893  113.836066  \n",
       "..                  ...        ...            ...         ...  \n",
       "153            0.168611   8.118938       0.418639   44.145161  \n",
       "154            0.027235   0.013054       0.451702    3.000000  \n",
       "155            0.133531   3.087848       0.535500    7.160000  \n",
       "156            0.403526  16.585638       0.603346   37.450704  \n",
       "157            0.000691   0.000000       0.536289    2.666667  \n",
       "\n",
       "[158 rows x 25 columns]"
      ]
     },
     "execution_count": 31,
     "metadata": {},
     "output_type": "execute_result"
    }
   ],
   "source": [
    "try_data"
   ]
  },
  {
   "cell_type": "code",
   "execution_count": 32,
   "id": "65595363",
   "metadata": {
    "collapsed": false,
    "execution": {
     "iopub.execute_input": "2021-12-28T08:37:52.729621Z",
     "iopub.status.busy": "2021-12-28T08:37:52.729621Z",
     "iopub.status.idle": "2021-12-28T08:37:52.976728Z",
     "shell.execute_reply": "2021-12-28T08:37:52.976234Z",
     "shell.execute_reply.started": "2021-12-28T08:37:52.729621Z"
    },
    "jupyter": {
     "outputs_hidden": false
    },
    "pycharm": {
     "name": "#%%\n"
    }
   },
   "outputs": [],
   "source": [
    "remove_vif = RFE(try_data)"
   ]
  },
  {
   "cell_type": "code",
   "execution_count": 33,
   "id": "78d9efd4",
   "metadata": {
    "collapsed": false,
    "execution": {
     "iopub.execute_input": "2021-12-28T08:37:53.531720Z",
     "iopub.status.busy": "2021-12-28T08:37:53.531720Z",
     "iopub.status.idle": "2021-12-28T08:37:53.551169Z",
     "shell.execute_reply": "2021-12-28T08:37:53.550647Z",
     "shell.execute_reply.started": "2021-12-28T08:37:53.531720Z"
    },
    "jupyter": {
     "outputs_hidden": false
    },
    "pycharm": {
     "name": "#%%\n"
    }
   },
   "outputs": [
    {
     "data": {
      "text/html": [
       "<div>\n",
       "<style scoped>\n",
       "    .dataframe tbody tr th:only-of-type {\n",
       "        vertical-align: middle;\n",
       "    }\n",
       "\n",
       "    .dataframe tbody tr th {\n",
       "        vertical-align: top;\n",
       "    }\n",
       "\n",
       "    .dataframe thead th {\n",
       "        text-align: right;\n",
       "    }\n",
       "</style>\n",
       "<table border=\"1\" class=\"dataframe\">\n",
       "  <thead>\n",
       "    <tr style=\"text-align: right;\">\n",
       "      <th></th>\n",
       "      <th>VIF Factor</th>\n",
       "      <th>features</th>\n",
       "    </tr>\n",
       "  </thead>\n",
       "  <tbody>\n",
       "    <tr>\n",
       "      <th>0</th>\n",
       "      <td>1.635111</td>\n",
       "      <td>주거인구/직장인구</td>\n",
       "    </tr>\n",
       "    <tr>\n",
       "      <th>1</th>\n",
       "      <td>2.230441</td>\n",
       "      <td>아파트 가구수</td>\n",
       "    </tr>\n",
       "    <tr>\n",
       "      <th>2</th>\n",
       "      <td>2.531926</td>\n",
       "      <td>단독주택 비율</td>\n",
       "    </tr>\n",
       "    <tr>\n",
       "      <th>3</th>\n",
       "      <td>2.804942</td>\n",
       "      <td>서비스업매출비율</td>\n",
       "    </tr>\n",
       "    <tr>\n",
       "      <th>4</th>\n",
       "      <td>3.419717</td>\n",
       "      <td>외식업매출비율</td>\n",
       "    </tr>\n",
       "    <tr>\n",
       "      <th>5</th>\n",
       "      <td>3.888754</td>\n",
       "      <td>근린생활시설 비율</td>\n",
       "    </tr>\n",
       "    <tr>\n",
       "      <th>6</th>\n",
       "      <td>4.300183</td>\n",
       "      <td>평균최근접역거리</td>\n",
       "    </tr>\n",
       "    <tr>\n",
       "      <th>7</th>\n",
       "      <td>5.047518</td>\n",
       "      <td>(주거인구+직장인구) / 유동인구</td>\n",
       "    </tr>\n",
       "    <tr>\n",
       "      <th>8</th>\n",
       "      <td>5.534775</td>\n",
       "      <td>공동주택 비율</td>\n",
       "    </tr>\n",
       "    <tr>\n",
       "      <th>9</th>\n",
       "      <td>5.857238</td>\n",
       "      <td>평균 도로 길이</td>\n",
       "    </tr>\n",
       "    <tr>\n",
       "      <th>10</th>\n",
       "      <td>5.991709</td>\n",
       "      <td>도로길이고려_전체통합도</td>\n",
       "    </tr>\n",
       "    <tr>\n",
       "      <th>11</th>\n",
       "      <td>6.579056</td>\n",
       "      <td>평균최근접정류장거리</td>\n",
       "    </tr>\n",
       "    <tr>\n",
       "      <th>12</th>\n",
       "      <td>7.729809</td>\n",
       "      <td>점포밀도</td>\n",
       "    </tr>\n",
       "    <tr>\n",
       "      <th>13</th>\n",
       "      <td>7.936442</td>\n",
       "      <td>도로율</td>\n",
       "    </tr>\n",
       "    <tr>\n",
       "      <th>14</th>\n",
       "      <td>8.331372</td>\n",
       "      <td>상가밀도</td>\n",
       "    </tr>\n",
       "  </tbody>\n",
       "</table>\n",
       "</div>"
      ],
      "text/plain": [
       "    VIF Factor            features\n",
       "0     1.635111           주거인구/직장인구\n",
       "1     2.230441             아파트 가구수\n",
       "2     2.531926             단독주택 비율\n",
       "3     2.804942            서비스업매출비율\n",
       "4     3.419717             외식업매출비율\n",
       "5     3.888754           근린생활시설 비율\n",
       "6     4.300183            평균최근접역거리\n",
       "7     5.047518  (주거인구+직장인구) / 유동인구\n",
       "8     5.534775             공동주택 비율\n",
       "9     5.857238            평균 도로 길이\n",
       "10    5.991709        도로길이고려_전체통합도\n",
       "11    6.579056          평균최근접정류장거리\n",
       "12    7.729809                점포밀도\n",
       "13    7.936442                 도로율\n",
       "14    8.331372                상가밀도"
      ]
     },
     "execution_count": 33,
     "metadata": {},
     "output_type": "execute_result"
    }
   ],
   "source": [
    "remove_vif"
   ]
  },
  {
   "cell_type": "code",
   "execution_count": 34,
   "id": "4c295f7e-58bb-4730-ac64-32c524e999cc",
   "metadata": {
    "execution": {
     "iopub.execute_input": "2021-12-28T08:37:54.169746Z",
     "iopub.status.busy": "2021-12-28T08:37:54.168749Z",
     "iopub.status.idle": "2021-12-28T08:37:54.190883Z",
     "shell.execute_reply": "2021-12-28T08:37:54.189760Z",
     "shell.execute_reply.started": "2021-12-28T08:37:54.169746Z"
    }
   },
   "outputs": [
    {
     "data": {
      "text/plain": [
       "(158, 15)"
      ]
     },
     "execution_count": 34,
     "metadata": {},
     "output_type": "execute_result"
    }
   ],
   "source": [
    "\n",
    "s_y1 = clean_data['평균영업기간'].values.reshape((-1,1)) # 종속변수1\n",
    "s_y2 = clean_data['평균폐업기간'].values.reshape((-1,1)) # 종속변수2\n",
    "\n",
    "# f1, 120\n",
    "# ['외식업매출비율', '주거인구/직장인구', '상가밀도', '근린생활시설 비율', '서비스업매출비율', '아파트 가구수', '도로율', '평균최근접역거리']\n",
    "\n",
    "# 다중공선성 제거\n",
    "# s_X= clean_data.loc[:,optimal_feature].values\n",
    "# \n",
    "\n",
    "# s_X = try_data.values\n",
    "s_X = try_data.loc[:,remove_vif['features'].values].values\n",
    "\n",
    "# 회귀계수간 공선성 제거\n",
    "# condition number 30을 넘지 않는 상한선\n",
    "# local_mul_col = ['서비스업매출월평균변화량', '외식업매출비율', 'BAS_AR', '상가밀도','근린생활시설 비율','아파트시세변화_차분평균','아파트 가구수',\n",
    "#                  '주거인구/직장인구']\n",
    "#\n",
    "# s_X = clean_data.loc[:,local_mul_col].values\n",
    "\n",
    "# s_X = clean_data.loc[:,corr_columns].values\n",
    "\n",
    "\n",
    "# 회귀계수간 공선성 제거\n",
    "# local_mul_col = ['BAS_AR', '서비스업매출월평균변화량', '아파트시세변화_차분평균', '소매업매출월평균변화량', '외식업매출비율',\n",
    "#        '근린생활시설 비율', '단독주택 비율']+외식업매출월평균변화량\n",
    "# s_X = clean_data.loc[:,local_mul_col].values\n",
    "\n",
    "# Raw Data\n",
    "# s_X = clean_data.iloc[:,ind_var_col].values\n",
    "\n",
    "# 공간적 자기상관성이 있는 column들\n",
    "# auto_col = ['외식업매출월평균변화량', '주거인구/직장인구', '아파트 가구수', 'BAS_AR', '단독주택 비율', '서비스업매출비율'\n",
    "#             , '개별공시지가 변화 차분평균', '평균최근접역거리', '(주거인구+직장인구) / 유동인구', '평균 도로 길이',\n",
    "#              '도로길이고려_국부통합도_R3', '점포밀도', '상가밀도', '평균최근접정류장거리']\n",
    "# s_X= clean_data.loc[:,auto_col].values\n",
    "\n",
    "# 왜도 2이상인 데이터 log변환 후, standard scaling 함\n",
    "# s_X= ss_scaled_dX.values\n",
    "\n",
    "\n",
    "# 왜도 2이상인 데이터 log변환 후, standard scaling, 다중공선성 제거\n",
    "# s_X= ss_scaled_dX.loc[:,optimal_feature].values\n",
    "\n",
    "# s_X = rm_avg_X.values\n",
    "\n",
    "# p-value 0.5 이상 지워보자\n",
    "# drop_col = [0,1,2,9,10,13,15]\n",
    "# drop_col = [optimal_feature[i] for i in range(len(optimal_feature)) if i in drop_col]\n",
    "# s_X= ss_scaled_dX.loc[:,optimal_feature]\n",
    "# s_X = s_X.drop(drop_col,axis=1).values\n",
    "\n",
    "u = clean_data['x'] # 경도\n",
    "v = clean_data['y'] # 위도\n",
    "s_coords = list(zip(u,v))\n",
    "\n",
    "s_X.shape"
   ]
  },
  {
   "cell_type": "markdown",
   "id": "3570f8b2-093e-4b04-9072-78c284d8c970",
   "metadata": {},
   "source": [
    "## 3.2 MODELING"
   ]
  },
  {
   "cell_type": "code",
   "execution_count": 35,
   "id": "19a74b02-6172-4a90-a64a-1958f2e07439",
   "metadata": {
    "execution": {
     "iopub.execute_input": "2021-12-28T08:38:00.748729Z",
     "iopub.status.busy": "2021-12-28T08:38:00.747733Z",
     "iopub.status.idle": "2021-12-28T08:38:51.354713Z",
     "shell.execute_reply": "2021-12-28T08:38:51.354216Z",
     "shell.execute_reply.started": "2021-12-28T08:38:00.748729Z"
    }
   },
   "outputs": [
    {
     "data": {
      "application/vnd.jupyter.widget-view+json": {
       "model_id": "b7640dd74a3f4477affacf3b780f4cd2",
       "version_major": 2,
       "version_minor": 0
      },
      "text/plain": [
       "Backfitting:   0%|          | 0/200 [00:00<?, ?it/s]"
      ]
     },
     "metadata": {},
     "output_type": "display_data"
    },
    {
     "name": "stdout",
     "output_type": "stream",
     "text": [
      "[157.  64.  32.  75. 157. 157. 157. 157. 157. 157. 157. 157. 157. 157.\n",
      " 157. 135.]\n"
     ]
    },
    {
     "data": {
      "application/vnd.jupyter.widget-view+json": {
       "model_id": "9d2b84c2b7434e1b98aa8f215571cb83",
       "version_major": 2,
       "version_minor": 0
      },
      "text/plain": [
       "Inference:   0%|          | 0/1 [00:00<?, ?it/s]"
      ]
     },
     "metadata": {},
     "output_type": "display_data"
    }
   ],
   "source": [
    "#Calibrate MGWR model\n",
    "# 평균영업기간\n",
    "\n",
    "mgwr_selector = Sel_BW(s_coords, s_y1, s_X,multi=True,kernel='f2',spherical=True)\n",
    "mgwr_bw = mgwr_selector.search(criterion='AICc',multi_bw_min=[2])\n",
    "print(mgwr_bw)\n",
    "mgwr_model = MGWR(s_coords, s_y1, s_X, mgwr_selector,kernel='f2',spherical=True,hat_matrix=True)\n",
    "mgwr_results = mgwr_model.fit()"
   ]
  },
  {
   "cell_type": "code",
   "execution_count": 36,
   "id": "1e43b058-cd2a-40c0-a276-fb9aebd4e8b1",
   "metadata": {
    "execution": {
     "iopub.execute_input": "2021-12-28T08:38:58.870813Z",
     "iopub.status.busy": "2021-12-28T08:38:58.870813Z",
     "iopub.status.idle": "2021-12-28T08:38:59.022946Z",
     "shell.execute_reply": "2021-12-28T08:38:59.021953Z",
     "shell.execute_reply.started": "2021-12-28T08:38:58.870813Z"
    }
   },
   "outputs": [
    {
     "data": {
      "image/png": "[encoded data removed]",
      "text/plain": [
       "<Figure size 640x480 with 1 Axes>"
      ]
     },
     "metadata": {},
     "output_type": "display_data"
    }
   ],
   "source": [
    "sns.residplot(x=mgwr_results.y,y=mgwr_results.resid_response, scatter_kws = {'edgecolor':\"white\", \"alpha\":0.7}\n",
    "              , line_kws = {\"color\":\"red\"})\n",
    "plt.show()"
   ]
  },
  {
   "cell_type": "code",
   "execution_count": 37,
   "id": "369c68bf",
   "metadata": {
    "collapsed": false,
    "execution": {
     "iopub.execute_input": "2021-12-28T08:39:02.696735Z",
     "iopub.status.busy": "2021-12-28T08:39:02.696735Z",
     "iopub.status.idle": "2021-12-28T08:39:02.820676Z",
     "shell.execute_reply": "2021-12-28T08:39:02.820180Z",
     "shell.execute_reply.started": "2021-12-28T08:39:02.696735Z"
    },
    "jupyter": {
     "outputs_hidden": false
    },
    "pycharm": {
     "name": "#%%\n"
    }
   },
   "outputs": [
    {
     "data": {
      "image/png": "[encoded data removed]",
      "text/plain": [
       "<Figure size 640x480 with 1 Axes>"
      ]
     },
     "metadata": {},
     "output_type": "display_data"
    }
   ],
   "source": [
    "sns.residplot(x=s_y1,y=results.resid, scatter_kws = {'edgecolor':\"white\", \"alpha\":0.7}\n",
    "              , line_kws = {\"color\":\"red\"})\n",
    "plt.show()"
   ]
  },
  {
   "cell_type": "code",
   "execution_count": 38,
   "id": "23673f5f",
   "metadata": {
    "collapsed": false,
    "execution": {
     "iopub.execute_input": "2021-12-28T08:39:16.343442Z",
     "iopub.status.busy": "2021-12-28T08:39:16.342946Z",
     "iopub.status.idle": "2021-12-28T08:39:16.361510Z",
     "shell.execute_reply": "2021-12-28T08:39:16.361014Z",
     "shell.execute_reply.started": "2021-12-28T08:39:16.343442Z"
    },
    "jupyter": {
     "outputs_hidden": false
    },
    "pycharm": {
     "name": "#%%\n"
    }
   },
   "outputs": [
    {
     "data": {
      "text/plain": [
       "0              주거인구/직장인구\n",
       "1                아파트 가구수\n",
       "2                단독주택 비율\n",
       "3               서비스업매출비율\n",
       "4                외식업매출비율\n",
       "5              근린생활시설 비율\n",
       "6               평균최근접역거리\n",
       "7     (주거인구+직장인구) / 유동인구\n",
       "8                공동주택 비율\n",
       "9               평균 도로 길이\n",
       "10          도로길이고려_전체통합도\n",
       "11            평균최근접정류장거리\n",
       "12                  점포밀도\n",
       "13                   도로율\n",
       "14                  상가밀도\n",
       "Name: features, dtype: object"
      ]
     },
     "execution_count": 38,
     "metadata": {},
     "output_type": "execute_result"
    }
   ],
   "source": [
    "remove_vif.features"
   ]
  },
  {
   "cell_type": "code",
   "execution_count": 39,
   "id": "31bbe856-d6bc-4e4a-bfb2-718819152592",
   "metadata": {
    "execution": {
     "iopub.execute_input": "2021-12-28T08:39:19.183657Z",
     "iopub.status.busy": "2021-12-28T08:39:19.183657Z",
     "iopub.status.idle": "2021-12-28T08:39:19.212089Z",
     "shell.execute_reply": "2021-12-28T08:39:19.211592Z",
     "shell.execute_reply.started": "2021-12-28T08:39:19.183657Z"
    }
   },
   "outputs": [
    {
     "name": "stdout",
     "output_type": "stream",
     "text": [
      "===========================================================================\n",
      "Model type                                                         Gaussian\n",
      "Number of observations:                                                 158\n",
      "Number of covariates:                                                    16\n",
      "\n",
      "Global Regression Results\n",
      "---------------------------------------------------------------------------\n",
      "Residual sum of squares:                                         104826.347\n",
      "Log-likelihood:                                                    -737.492\n",
      "AIC:                                                               1506.984\n",
      "AICc:                                                              1513.356\n",
      "BIC:                                                             104107.459\n",
      "R2:                                                                   0.337\n",
      "Adj. R2:                                                              0.267\n",
      "\n",
      "Variable                              Est.         SE  t(Est/SE)    p-value\n",
      "------------------------------- ---------- ---------- ---------- ----------\n",
      "X0                                 107.969     17.021      6.343      0.000\n",
      "X1                                  -0.097      0.107     -0.901      0.368\n",
      "X2                                  -0.005      0.003     -1.870      0.062\n",
      "X3                                   0.598      0.149      4.003      0.000\n",
      "X4                                  13.974     15.040      0.929      0.353\n",
      "X5                                  -7.131     12.026     -0.593      0.553\n",
      "X6                                   0.257      0.126      2.047      0.041\n",
      "X7                                  21.795      5.223      4.173      0.000\n",
      "X8                                  11.230     11.051      1.016      0.310\n",
      "X9                                   0.430      0.133      3.227      0.001\n",
      "X10                                 -0.069      0.032     -2.163      0.031\n",
      "X11                                  0.001      0.014      0.073      0.942\n",
      "X12                               -120.045     62.112     -1.933      0.053\n",
      "X13                                 -0.035      0.057     -0.618      0.537\n",
      "X14                                 -0.172      0.241     -0.716      0.474\n",
      "X15                                  0.002      0.003      0.893      0.372\n",
      "\n",
      "Multi-Scale Geographically Weighted Regression (MGWR) Results\n",
      "---------------------------------------------------------------------------\n",
      "Spatial kernel:                                                 Adaptive f2\n",
      "Criterion for optimal bandwidth:                                       AICc\n",
      "Score of Change (SOC) type:                                     Smoothing f\n",
      "Termination criterion for MGWR:                                       1e-05\n",
      "\n",
      "MGWR bandwidths\n",
      "---------------------------------------------------------------------------\n",
      "Variable             Bandwidth      ENP_j   Adj t-val(95%)   Adj alpha(95%)\n",
      "X0                     157.000      1.108            2.020            0.045\n",
      "X1                      64.000      1.532            2.155            0.033\n",
      "X2                      32.000      3.753            2.503            0.013\n",
      "X3                      75.000      2.397            2.334            0.021\n",
      "X4                     157.000      1.130            2.028            0.044\n",
      "X5                     157.000      1.158            2.038            0.043\n",
      "X6                     157.000      1.247            2.070            0.040\n",
      "X7                     157.000      1.174            2.044            0.043\n",
      "X8                     157.000      1.121            2.024            0.045\n",
      "X9                     157.000      1.125            2.026            0.044\n",
      "X10                    157.000      1.155            2.037            0.043\n",
      "X11                    157.000      1.121            2.025            0.045\n",
      "X12                    157.000      1.167            2.042            0.043\n",
      "X13                    157.000      1.064            2.002            0.047\n",
      "X14                    157.000      1.124            2.026            0.044\n",
      "X15                    135.000      1.153            2.037            0.043\n",
      "\n",
      "Diagnostic information\n",
      "---------------------------------------------------------------------------\n",
      "Residual sum of squares:                                          89526.707\n",
      "Effective number of parameters (trace(S)):                           22.527\n",
      "Degree of freedom (n - trace(S)):                                   135.473\n",
      "Sigma estimate:                                                      25.707\n",
      "Log-likelihood:                                                    -725.028\n",
      "AIC:                                                               1497.111\n",
      "AICc:                                                              1505.758\n",
      "BIC:                                                               1569.166\n",
      "R2                                                                    0.434\n",
      "Adjusted R2                                                           0.339\n",
      "\n",
      "Summary Statistics For MGWR Parameter Estimates\n",
      "---------------------------------------------------------------------------\n",
      "Variable                   Mean        STD        Min     Median        Max\n",
      "-------------------- ---------- ---------- ---------- ---------- ----------\n",
      "X0                      105.455      0.199    105.167    105.438    105.941\n",
      "X1                       -0.084      0.073     -0.175     -0.116      0.099\n",
      "X2                       -0.004      0.002     -0.010     -0.004      0.000\n",
      "X3                        0.582      0.154      0.283      0.604      0.817\n",
      "X4                       13.991      0.864     12.747     13.811     15.859\n",
      "X5                       -7.683      0.930     -9.122     -8.044     -5.586\n",
      "X6                        0.223      0.009      0.208      0.222      0.242\n",
      "X7                       19.205      0.149     18.925     19.184     19.517\n",
      "X8                       12.329      0.532     11.151     12.292     13.418\n",
      "X9                        0.392      0.005      0.382      0.391      0.403\n",
      "X10                      -0.052      0.001     -0.054     -0.053     -0.050\n",
      "X11                       0.002      0.001      0.001      0.002      0.004\n",
      "X12                    -117.011      0.619   -118.410   -116.969   -115.918\n",
      "X13                      -0.031      0.002     -0.035     -0.030     -0.028\n",
      "X14                      -0.108      0.006     -0.122     -0.109     -0.095\n",
      "X15                       0.002      0.000      0.002      0.002      0.003\n",
      "===========================================================================\n",
      "\n"
     ]
    }
   ],
   "source": [
    "mgwr_results.summary()"
   ]
  },
  {
   "cell_type": "code",
   "execution_count": 61,
   "id": "8cdd3494",
   "metadata": {
    "collapsed": false,
    "jupyter": {
     "outputs_hidden": false
    },
    "pycharm": {
     "name": "#%%\n"
    }
   },
   "outputs": [],
   "source": [
    "scaler = MinMaxScaler()\n",
    "mm_scaled_dX = pd.DataFrame(scaler.fit_transform(try_data.loc[:,remove_vif['features'].values])\n",
    "                            ,columns=remove_vif['features'].values)\n",
    "s_X = mm_scaled_dX.values"
   ]
  },
  {
   "cell_type": "code",
   "execution_count": 62,
   "id": "44407dc8",
   "metadata": {
    "collapsed": false,
    "jupyter": {
     "outputs_hidden": false
    },
    "pycharm": {
     "name": "#%%\n"
    }
   },
   "outputs": [
    {
     "data": {
      "application/vnd.jupyter.widget-view+json": {
       "model_id": "9855edbb7044496eaae7442d114f4cab",
       "version_major": 2,
       "version_minor": 0
      },
      "text/plain": [
       "Backfitting:   0%|          | 0/200 [00:00<?, ?it/s]"
      ]
     },
     "metadata": {},
     "output_type": "display_data"
    },
    {
     "name": "stdout",
     "output_type": "stream",
     "text": [
      "[157.  64.  32.  75. 157. 157. 157. 157. 157. 157. 157. 157. 157. 157.\n",
      " 157. 135.]\n"
     ]
    },
    {
     "data": {
      "application/vnd.jupyter.widget-view+json": {
       "model_id": "9f68e8de29bb414485de4361de5846de",
       "version_major": 2,
       "version_minor": 0
      },
      "text/plain": [
       "Inference:   0%|          | 0/1 [00:00<?, ?it/s]"
      ]
     },
     "metadata": {},
     "output_type": "display_data"
    }
   ],
   "source": [
    "#Calibrate MGWR model\n",
    "# 평균영업기간\n",
    "\n",
    "mgwr_selector = Sel_BW(s_coords, s_y1, s_X,multi=True,kernel='f2',spherical=True)\n",
    "mgwr_bw = mgwr_selector.search(criterion='AICc',multi_bw_min=[2])\n",
    "print(mgwr_bw)\n",
    "mgwr_model = MGWR(s_coords, s_y1, s_X, mgwr_selector,kernel='f2',spherical=True,hat_matrix=True)\n",
    "mgwr_results = mgwr_model.fit()"
   ]
  },
  {
   "cell_type": "code",
   "execution_count": 63,
   "id": "f14a8278",
   "metadata": {
    "collapsed": false,
    "jupyter": {
     "outputs_hidden": false
    },
    "pycharm": {
     "name": "#%%\n"
    }
   },
   "outputs": [
    {
     "name": "stdout",
     "output_type": "stream",
     "text": [
      "===========================================================================\n",
      "Model type                                                         Gaussian\n",
      "Number of observations:                                                 158\n",
      "Number of covariates:                                                    16\n",
      "\n",
      "Global Regression Results\n",
      "---------------------------------------------------------------------------\n",
      "Residual sum of squares:                                         104826.347\n",
      "Log-likelihood:                                                    -737.492\n",
      "AIC:                                                               1506.984\n",
      "AICc:                                                              1513.356\n",
      "BIC:                                                             104107.459\n",
      "R2:                                                                   0.337\n",
      "Adj. R2:                                                              0.267\n",
      "\n",
      "Variable                              Est.         SE  t(Est/SE)    p-value\n",
      "------------------------------- ---------- ---------- ---------- ----------\n",
      "X0                                 102.897     15.406      6.679      0.000\n",
      "X1                                 -26.298     29.191     -0.901      0.368\n",
      "X2                                 -27.877     14.910     -1.870      0.062\n",
      "X3                                  59.750     14.925      4.003      0.000\n",
      "X4                                  12.382     13.327      0.929      0.353\n",
      "X5                                  -6.215     10.481     -0.593      0.553\n",
      "X6                                  25.734     12.572      2.047      0.041\n",
      "X7                                  39.338      9.427      4.173      0.000\n",
      "X8                                  14.652     14.418      1.016      0.310\n",
      "X9                                  42.986     13.321      3.227      0.001\n",
      "X10                                -33.443     15.461     -2.163      0.031\n",
      "X11                                  0.904     12.405      0.073      0.942\n",
      "X12                                -35.832     18.540     -1.933      0.053\n",
      "X13                                -22.493     36.395     -0.618      0.537\n",
      "X14                                -10.783     15.060     -0.716      0.474\n",
      "X15                                 30.231     33.842      0.893      0.372\n",
      "\n",
      "Multi-Scale Geographically Weighted Regression (MGWR) Results\n",
      "---------------------------------------------------------------------------\n",
      "Spatial kernel:                                                 Adaptive f2\n",
      "Criterion for optimal bandwidth:                                       AICc\n",
      "Score of Change (SOC) type:                                     Smoothing f\n",
      "Termination criterion for MGWR:                                       1e-05\n",
      "\n",
      "MGWR bandwidths\n",
      "---------------------------------------------------------------------------\n",
      "Variable             Bandwidth      ENP_j   Adj t-val(95%)   Adj alpha(95%)\n",
      "X0                     157.000      1.110            2.020            0.045\n",
      "X1                      64.000      1.535            2.156            0.033\n",
      "X2                      32.000      3.752            2.503            0.013\n",
      "X3                      75.000      2.398            2.334            0.021\n",
      "X4                     157.000      1.130            2.028            0.044\n",
      "X5                     157.000      1.158            2.039            0.043\n",
      "X6                     157.000      1.247            2.070            0.040\n",
      "X7                     157.000      1.183            2.048            0.042\n",
      "X8                     157.000      1.121            2.025            0.045\n",
      "X9                     157.000      1.126            2.026            0.044\n",
      "X10                    157.000      1.178            2.046            0.042\n",
      "X11                    157.000      1.127            2.027            0.044\n",
      "X12                    157.000      1.215            2.059            0.041\n",
      "X13                    157.000      1.065            2.002            0.047\n",
      "X14                    157.000      1.125            2.026            0.044\n",
      "X15                    135.000      1.154            2.037            0.043\n",
      "\n",
      "Diagnostic information\n",
      "---------------------------------------------------------------------------\n",
      "Residual sum of squares:                                          89469.591\n",
      "Effective number of parameters (trace(S)):                           22.624\n",
      "Degree of freedom (n - trace(S)):                                   135.376\n",
      "Sigma estimate:                                                      25.708\n",
      "Log-likelihood:                                                    -724.978\n",
      "AIC:                                                               1497.204\n",
      "AICc:                                                              1505.926\n",
      "BIC:                                                               1569.554\n",
      "R2                                                                    0.435\n",
      "Adjusted R2                                                           0.339\n",
      "\n",
      "Summary Statistics For MGWR Parameter Estimates\n",
      "---------------------------------------------------------------------------\n",
      "Variable                   Mean        STD        Min     Median        Max\n",
      "-------------------- ---------- ---------- ---------- ---------- ----------\n",
      "X0                      101.125      0.204    100.829    101.106    101.621\n",
      "X1                      -23.031     19.924    -47.757    -31.803     26.875\n",
      "X2                      -24.818     13.252    -55.532    -22.776      0.787\n",
      "X3                       58.270     15.462     28.325     60.377     81.745\n",
      "X4                       12.342      0.774     11.227     12.183     14.015\n",
      "X5                       -6.677      0.816     -7.942     -6.997     -4.842\n",
      "X6                       22.287      0.923     20.821     22.177     24.159\n",
      "X7                       34.775      0.288     34.213     34.739     35.362\n",
      "X8                       16.250      0.711     14.679     16.206     17.711\n",
      "X9                       39.180      0.527     38.207     39.087     40.324\n",
      "X10                     -25.537      0.849    -26.768    -25.641    -23.855\n",
      "X11                       1.544      0.751      0.307      1.505      3.311\n",
      "X12                     -35.281      0.257    -35.660    -35.292    -34.399\n",
      "X13                     -19.542      1.083    -22.220    -19.510    -17.689\n",
      "X14                      -6.840      0.411     -7.738     -6.930     -6.035\n",
      "X15                      28.618      1.877     23.678     28.711     31.709\n",
      "===========================================================================\n",
      "\n"
     ]
    }
   ],
   "source": [
    "mgwr_results.summary()"
   ]
  },
  {
   "cell_type": "markdown",
   "id": "6c4bd774",
   "metadata": {
    "pycharm": {
     "name": "#%% md\n"
    }
   },
   "source": [
    "#### 잔차 Moran's I 확인"
   ]
  },
  {
   "cell_type": "code",
   "execution_count": 84,
   "id": "997c3812-2108-4bcb-bcf4-ffd85618262e",
   "metadata": {},
   "outputs": [
    {
     "data": {
      "text/plain": [
       "0.037515859239694915"
      ]
     },
     "execution_count": 84,
     "metadata": {},
     "output_type": "execute_result"
    }
   ],
   "source": [
    "gdf = pd.DataFrame(clean_data.loc[:,'geometry'],columns=['geometry'])\n",
    "# y = clean_data['평균영업기간'].values\n",
    "\n",
    "y = mgwr_results.resid_response\n",
    "w = Queen.from_dataframe(gdf)\n",
    "\n",
    "moran = Moran(y, w,permutations=999)\n",
    "moran.I"
   ]
  },
  {
   "cell_type": "code",
   "execution_count": 85,
   "id": "12fdd896-b41e-4d84-a3b4-4d8e0cb5e805",
   "metadata": {},
   "outputs": [
    {
     "name": "stdout",
     "output_type": "stream",
     "text": [
      "0.18100\n"
     ]
    }
   ],
   "source": [
    "print('{:.5f}'.format(moran.p_sim))\n",
    "# 귀무가설을 기각할 수 없으므로 공간적으로 상관성이 없다고 말할 수 있다."
   ]
  },
  {
   "cell_type": "code",
   "execution_count": null,
   "id": "952149f6",
   "metadata": {
    "collapsed": false,
    "jupyter": {
     "outputs_hidden": false
    },
    "pycharm": {
     "name": "#%%\n"
    }
   },
   "outputs": [],
   "source": [
    "check_vif(try_data.loc[:,remove_vif['features'].values])"
   ]
  },
  {
   "cell_type": "code",
   "execution_count": 76,
   "id": "43417d20",
   "metadata": {
    "collapsed": false,
    "jupyter": {
     "outputs_hidden": false
    },
    "pycharm": {
     "name": "#%%\n"
    }
   },
   "outputs": [
    {
     "data": {
      "text/html": [
       "<table class=\"simpletable\">\n",
       "<caption>OLS Regression Results</caption>\n",
       "<tr>\n",
       "  <th>Dep. Variable:</th>            <td>y</td>        <th>  R-squared:         </th> <td>   0.337</td>\n",
       "</tr>\n",
       "<tr>\n",
       "  <th>Model:</th>                   <td>OLS</td>       <th>  Adj. R-squared:    </th> <td>   0.267</td>\n",
       "</tr>\n",
       "<tr>\n",
       "  <th>Method:</th>             <td>Least Squares</td>  <th>  F-statistic:       </th> <td>   4.822</td>\n",
       "</tr>\n",
       "<tr>\n",
       "  <th>Date:</th>             <td>Wed, 22 Dec 2021</td> <th>  Prob (F-statistic):</th> <td>1.68e-07</td>\n",
       "</tr>\n",
       "<tr>\n",
       "  <th>Time:</th>                 <td>15:19:23</td>     <th>  Log-Likelihood:    </th> <td> -737.49</td>\n",
       "</tr>\n",
       "<tr>\n",
       "  <th>No. Observations:</th>      <td>   158</td>      <th>  AIC:               </th> <td>   1507.</td>\n",
       "</tr>\n",
       "<tr>\n",
       "  <th>Df Residuals:</th>          <td>   142</td>      <th>  BIC:               </th> <td>   1556.</td>\n",
       "</tr>\n",
       "<tr>\n",
       "  <th>Df Model:</th>              <td>    15</td>      <th>                     </th>     <td> </td>   \n",
       "</tr>\n",
       "<tr>\n",
       "  <th>Covariance Type:</th>      <td>nonrobust</td>    <th>                     </th>     <td> </td>   \n",
       "</tr>\n",
       "</table>\n",
       "<table class=\"simpletable\">\n",
       "<tr>\n",
       "           <td></td>             <th>coef</th>     <th>std err</th>      <th>t</th>      <th>P>|t|</th>  <th>[0.025</th>    <th>0.975]</th>  \n",
       "</tr>\n",
       "<tr>\n",
       "  <th>const</th>              <td>  102.8975</td> <td>   15.406</td> <td>    6.679</td> <td> 0.000</td> <td>   72.443</td> <td>  133.352</td>\n",
       "</tr>\n",
       "<tr>\n",
       "  <th>주거인구/직장인구</th>          <td>  -26.2978</td> <td>   29.191</td> <td>   -0.901</td> <td> 0.369</td> <td>  -84.003</td> <td>   31.408</td>\n",
       "</tr>\n",
       "<tr>\n",
       "  <th>아파트 가구수</th>            <td>  -27.8773</td> <td>   14.910</td> <td>   -1.870</td> <td> 0.064</td> <td>  -57.352</td> <td>    1.597</td>\n",
       "</tr>\n",
       "<tr>\n",
       "  <th>단독주택 비율</th>            <td>   59.7504</td> <td>   14.925</td> <td>    4.003</td> <td> 0.000</td> <td>   30.246</td> <td>   89.255</td>\n",
       "</tr>\n",
       "<tr>\n",
       "  <th>서비스업매출비율</th>           <td>   12.3824</td> <td>   13.327</td> <td>    0.929</td> <td> 0.354</td> <td>  -13.962</td> <td>   38.727</td>\n",
       "</tr>\n",
       "<tr>\n",
       "  <th>외식업매출비율</th>            <td>   -6.2146</td> <td>   10.481</td> <td>   -0.593</td> <td> 0.554</td> <td>  -26.933</td> <td>   14.503</td>\n",
       "</tr>\n",
       "<tr>\n",
       "  <th>근린생활시설 비율</th>          <td>   25.7340</td> <td>   12.572</td> <td>    2.047</td> <td> 0.043</td> <td>    0.881</td> <td>   50.587</td>\n",
       "</tr>\n",
       "<tr>\n",
       "  <th>평균최근접역거리</th>           <td>   39.3385</td> <td>    9.427</td> <td>    4.173</td> <td> 0.000</td> <td>   20.704</td> <td>   57.973</td>\n",
       "</tr>\n",
       "<tr>\n",
       "  <th>(주거인구+직장인구) / 유동인구</th> <td>   14.6521</td> <td>   14.418</td> <td>    1.016</td> <td> 0.311</td> <td>  -13.850</td> <td>   43.154</td>\n",
       "</tr>\n",
       "<tr>\n",
       "  <th>공동주택 비율</th>            <td>   42.9862</td> <td>   13.321</td> <td>    3.227</td> <td> 0.002</td> <td>   16.654</td> <td>   69.318</td>\n",
       "</tr>\n",
       "<tr>\n",
       "  <th>평균 도로 길이</th>           <td>  -33.4434</td> <td>   15.461</td> <td>   -2.163</td> <td> 0.032</td> <td>  -64.008</td> <td>   -2.879</td>\n",
       "</tr>\n",
       "<tr>\n",
       "  <th>도로길이고려_전체통합도</th>       <td>    0.9037</td> <td>   12.405</td> <td>    0.073</td> <td> 0.942</td> <td>  -23.619</td> <td>   25.427</td>\n",
       "</tr>\n",
       "<tr>\n",
       "  <th>평균최근접정류장거리</th>         <td>  -35.8325</td> <td>   18.540</td> <td>   -1.933</td> <td> 0.055</td> <td>  -72.482</td> <td>    0.817</td>\n",
       "</tr>\n",
       "<tr>\n",
       "  <th>점포밀도</th>               <td>  -22.4930</td> <td>   36.395</td> <td>   -0.618</td> <td> 0.538</td> <td>  -94.438</td> <td>   49.452</td>\n",
       "</tr>\n",
       "<tr>\n",
       "  <th>도로율</th>                <td>  -10.7827</td> <td>   15.060</td> <td>   -0.716</td> <td> 0.475</td> <td>  -40.553</td> <td>   18.988</td>\n",
       "</tr>\n",
       "<tr>\n",
       "  <th>상가밀도</th>               <td>   30.2310</td> <td>   33.842</td> <td>    0.893</td> <td> 0.373</td> <td>  -36.668</td> <td>   97.131</td>\n",
       "</tr>\n",
       "</table>\n",
       "<table class=\"simpletable\">\n",
       "<tr>\n",
       "  <th>Omnibus:</th>       <td> 4.615</td> <th>  Durbin-Watson:     </th> <td>   1.788</td>\n",
       "</tr>\n",
       "<tr>\n",
       "  <th>Prob(Omnibus):</th> <td> 0.100</td> <th>  Jarque-Bera (JB):  </th> <td>   5.700</td>\n",
       "</tr>\n",
       "<tr>\n",
       "  <th>Skew:</th>          <td> 0.134</td> <th>  Prob(JB):          </th> <td>  0.0578</td>\n",
       "</tr>\n",
       "<tr>\n",
       "  <th>Kurtosis:</th>      <td> 3.891</td> <th>  Cond. No.          </th> <td>    31.8</td>\n",
       "</tr>\n",
       "</table><br/><br/>Notes:<br/>[1] Standard Errors assume that the covariance matrix of the errors is correctly specified."
      ],
      "text/plain": [
       "<class 'statsmodels.iolib.summary.Summary'>\n",
       "\"\"\"\n",
       "                            OLS Regression Results                            \n",
       "==============================================================================\n",
       "Dep. Variable:                      y   R-squared:                       0.337\n",
       "Model:                            OLS   Adj. R-squared:                  0.267\n",
       "Method:                 Least Squares   F-statistic:                     4.822\n",
       "Date:                Wed, 22 Dec 2021   Prob (F-statistic):           1.68e-07\n",
       "Time:                        15:19:23   Log-Likelihood:                -737.49\n",
       "No. Observations:                 158   AIC:                             1507.\n",
       "Df Residuals:                     142   BIC:                             1556.\n",
       "Df Model:                          15                                         \n",
       "Covariance Type:            nonrobust                                         \n",
       "======================================================================================\n",
       "                         coef    std err          t      P>|t|      [0.025      0.975]\n",
       "--------------------------------------------------------------------------------------\n",
       "const                102.8975     15.406      6.679      0.000      72.443     133.352\n",
       "주거인구/직장인구            -26.2978     29.191     -0.901      0.369     -84.003      31.408\n",
       "아파트 가구수              -27.8773     14.910     -1.870      0.064     -57.352       1.597\n",
       "단독주택 비율               59.7504     14.925      4.003      0.000      30.246      89.255\n",
       "서비스업매출비율              12.3824     13.327      0.929      0.354     -13.962      38.727\n",
       "외식업매출비율               -6.2146     10.481     -0.593      0.554     -26.933      14.503\n",
       "근린생활시설 비율             25.7340     12.572      2.047      0.043       0.881      50.587\n",
       "평균최근접역거리              39.3385      9.427      4.173      0.000      20.704      57.973\n",
       "(주거인구+직장인구) / 유동인구    14.6521     14.418      1.016      0.311     -13.850      43.154\n",
       "공동주택 비율               42.9862     13.321      3.227      0.002      16.654      69.318\n",
       "평균 도로 길이             -33.4434     15.461     -2.163      0.032     -64.008      -2.879\n",
       "도로길이고려_전체통합도           0.9037     12.405      0.073      0.942     -23.619      25.427\n",
       "평균최근접정류장거리           -35.8325     18.540     -1.933      0.055     -72.482       0.817\n",
       "점포밀도                 -22.4930     36.395     -0.618      0.538     -94.438      49.452\n",
       "도로율                  -10.7827     15.060     -0.716      0.475     -40.553      18.988\n",
       "상가밀도                  30.2310     33.842      0.893      0.373     -36.668      97.131\n",
       "==============================================================================\n",
       "Omnibus:                        4.615   Durbin-Watson:                   1.788\n",
       "Prob(Omnibus):                  0.100   Jarque-Bera (JB):                5.700\n",
       "Skew:                           0.134   Prob(JB):                       0.0578\n",
       "Kurtosis:                       3.891   Cond. No.                         31.8\n",
       "==============================================================================\n",
       "\n",
       "Notes:\n",
       "[1] Standard Errors assume that the covariance matrix of the errors is correctly specified.\n",
       "\"\"\""
      ]
     },
     "execution_count": 76,
     "metadata": {},
     "output_type": "execute_result"
    }
   ],
   "source": [
    "import statsmodels.api as sm\n",
    "\n",
    "X = mm_scaled_dX\n",
    "    # clean_data.loc[:,remove_vif['features'].values]\n",
    "X = sm.add_constant(X)\n",
    "y = clean_data.loc[:,'평균영업기간'].values\n",
    "\n",
    "ols_model = sm.OLS(y,X)\n",
    "results = ols_model.fit()\n",
    "results.summary()"
   ]
  },
  {
   "cell_type": "code",
   "execution_count": 82,
   "id": "c48a143e",
   "metadata": {
    "collapsed": false,
    "jupyter": {
     "outputs_hidden": false
    },
    "pycharm": {
     "name": "#%%\n"
    }
   },
   "outputs": [
    {
     "data": {
      "text/plain": [
       "0.11371543710701495"
      ]
     },
     "execution_count": 82,
     "metadata": {},
     "output_type": "execute_result"
    }
   ],
   "source": [
    "gdf = pd.DataFrame(clean_data.loc[:,'geometry'],columns=['geometry'])\n",
    "# y = clean_data['평균영업기간'].values\n",
    "\n",
    "y = results.resid\n",
    "w = Queen.from_dataframe(gdf)\n",
    "\n",
    "moran = Moran(y, w,permutations=999)\n",
    "moran.I"
   ]
  },
  {
   "cell_type": "code",
   "execution_count": 83,
   "id": "5900a34a",
   "metadata": {
    "collapsed": false,
    "jupyter": {
     "outputs_hidden": false
    },
    "pycharm": {
     "name": "#%%\n"
    }
   },
   "outputs": [
    {
     "data": {
      "text/plain": [
       "0.015"
      ]
     },
     "execution_count": 83,
     "metadata": {},
     "output_type": "execute_result"
    }
   ],
   "source": [
    "moran.p_sim"
   ]
  },
  {
   "cell_type": "code",
   "execution_count": 104,
   "id": "b679d036",
   "metadata": {
    "collapsed": false,
    "jupyter": {
     "outputs_hidden": false
    },
    "pycharm": {
     "name": "#%%\n"
    }
   },
   "outputs": [
    {
     "data": {
      "text/plain": [
       "const                 5.044235e-10\n",
       "주거인구/직장인구             3.691772e-01\n",
       "아파트 가구수               6.358737e-02\n",
       "단독주택 비율               1.002440e-04\n",
       "서비스업매출비율              3.543942e-01\n",
       "외식업매출비율               5.541466e-01\n",
       "근린생활시설 비율             4.251484e-02\n",
       "평균최근접역거리              5.211010e-05\n",
       "(주거인구+직장인구) / 유동인구    3.112490e-01\n",
       "공동주택 비율               1.552995e-03\n",
       "평균 도로 길이              3.221334e-02\n",
       "도로길이고려_전체통합도          9.420315e-01\n",
       "평균최근접정류장거리            5.526014e-02\n",
       "점포밀도                  5.375445e-01\n",
       "도로율                   4.751716e-01\n",
       "상가밀도                  3.732103e-01\n",
       "dtype: float64"
      ]
     },
     "execution_count": 104,
     "metadata": {},
     "output_type": "execute_result"
    }
   ],
   "source": [
    "\n",
    "results.pvalues"
   ]
  },
  {
   "cell_type": "markdown",
   "id": "3c37e429",
   "metadata": {
    "pycharm": {
     "name": "#%% md\n"
    }
   },
   "source": [
    "#### 회귀계수 출력"
   ]
  },
  {
   "cell_type": "code",
   "execution_count": 60,
   "id": "1315634b-e46a-4e55-a022-03d900876613",
   "metadata": {},
   "outputs": [],
   "source": [
    "mgwr_coef_df = pd.DataFrame(mgwr_results.params)\n",
    "mgwr_coef_df.columns = ['intercept']+remove_vif['features'].values.tolist()\n",
    "# mgwr_coef_df = mgwr_coef_df[RFE(mgwr_coef_df)]\n",
    "mgwr_coef_df['x'] = u\n",
    "mgwr_coef_df['y'] = v\n",
    "mgwr_coef_df['BAS_ID'] = clean_data['BAS_ID']\n",
    "mgwr_coef_df.to_csv('../data/전처리 파일/회귀계수/MGWR 회귀계수(평균영업기간,mm,bisquare,data_1222).csv',index=False,encoding='euc-kr')"
   ]
  },
  {
   "cell_type": "code",
   "execution_count": 64,
   "id": "c6a51129-6779-471e-af69-e0843b990f44",
   "metadata": {},
   "outputs": [],
   "source": [
    "mgwr_coef_df = pd.DataFrame(mgwr_results.params,index=clean_data.BAS_ID)\n",
    "mgwr_coef_df.columns = ['intercept']+list(remove_vif['features'].values)"
   ]
  },
  {
   "cell_type": "code",
   "execution_count": 92,
   "id": "70f0538c",
   "metadata": {
    "collapsed": false,
    "jupyter": {
     "outputs_hidden": false
    },
    "pycharm": {
     "name": "#%%\n"
    }
   },
   "outputs": [
    {
     "data": {
      "text/html": [
       "<div>\n",
       "<style scoped>\n",
       "    .dataframe tbody tr th:only-of-type {\n",
       "        vertical-align: middle;\n",
       "    }\n",
       "\n",
       "    .dataframe tbody tr th {\n",
       "        vertical-align: top;\n",
       "    }\n",
       "\n",
       "    .dataframe thead th {\n",
       "        text-align: right;\n",
       "    }\n",
       "</style>\n",
       "<table border=\"1\" class=\"dataframe\">\n",
       "  <thead>\n",
       "    <tr style=\"text-align: right;\">\n",
       "      <th></th>\n",
       "      <th>intercept</th>\n",
       "      <th>주거인구/직장인구</th>\n",
       "      <th>아파트 가구수</th>\n",
       "      <th>단독주택 비율</th>\n",
       "      <th>서비스업매출비율</th>\n",
       "      <th>외식업매출비율</th>\n",
       "      <th>근린생활시설 비율</th>\n",
       "      <th>평균최근접역거리</th>\n",
       "      <th>(주거인구+직장인구) / 유동인구</th>\n",
       "      <th>공동주택 비율</th>\n",
       "      <th>평균 도로 길이</th>\n",
       "      <th>도로길이고려_전체통합도</th>\n",
       "      <th>평균최근접정류장거리</th>\n",
       "      <th>점포밀도</th>\n",
       "      <th>도로율</th>\n",
       "      <th>상가밀도</th>\n",
       "    </tr>\n",
       "    <tr>\n",
       "      <th>BAS_ID</th>\n",
       "      <th></th>\n",
       "      <th></th>\n",
       "      <th></th>\n",
       "      <th></th>\n",
       "      <th></th>\n",
       "      <th></th>\n",
       "      <th></th>\n",
       "      <th></th>\n",
       "      <th></th>\n",
       "      <th></th>\n",
       "      <th></th>\n",
       "      <th></th>\n",
       "      <th></th>\n",
       "      <th></th>\n",
       "      <th></th>\n",
       "      <th></th>\n",
       "    </tr>\n",
       "  </thead>\n",
       "  <tbody>\n",
       "    <tr>\n",
       "      <th>21300</th>\n",
       "      <td>101.621097</td>\n",
       "      <td>-19.987889</td>\n",
       "      <td>-16.801620</td>\n",
       "      <td>65.704605</td>\n",
       "      <td>14.014662</td>\n",
       "      <td>-5.626208</td>\n",
       "      <td>23.586274</td>\n",
       "      <td>35.361611</td>\n",
       "      <td>17.711248</td>\n",
       "      <td>40.306141</td>\n",
       "      <td>-23.904455</td>\n",
       "      <td>3.311235</td>\n",
       "      <td>-35.622408</td>\n",
       "      <td>-19.685987</td>\n",
       "      <td>-6.035367</td>\n",
       "      <td>30.520389</td>\n",
       "    </tr>\n",
       "    <tr>\n",
       "      <th>21301</th>\n",
       "      <td>101.588382</td>\n",
       "      <td>-23.890852</td>\n",
       "      <td>-8.773298</td>\n",
       "      <td>62.139227</td>\n",
       "      <td>13.830890</td>\n",
       "      <td>-5.889719</td>\n",
       "      <td>23.802630</td>\n",
       "      <td>35.318115</td>\n",
       "      <td>17.663914</td>\n",
       "      <td>40.324000</td>\n",
       "      <td>-23.854534</td>\n",
       "      <td>3.292138</td>\n",
       "      <td>-35.577028</td>\n",
       "      <td>-20.044021</td>\n",
       "      <td>-6.141908</td>\n",
       "      <td>29.879127</td>\n",
       "    </tr>\n",
       "    <tr>\n",
       "      <th>21302</th>\n",
       "      <td>101.522925</td>\n",
       "      <td>-25.789394</td>\n",
       "      <td>-5.523626</td>\n",
       "      <td>59.192299</td>\n",
       "      <td>13.568331</td>\n",
       "      <td>-6.112244</td>\n",
       "      <td>23.785570</td>\n",
       "      <td>35.243342</td>\n",
       "      <td>17.511612</td>\n",
       "      <td>40.228112</td>\n",
       "      <td>-23.972543</td>\n",
       "      <td>3.123871</td>\n",
       "      <td>-35.527580</td>\n",
       "      <td>-20.232580</td>\n",
       "      <td>-6.288905</td>\n",
       "      <td>29.235275</td>\n",
       "    </tr>\n",
       "    <tr>\n",
       "      <th>21303</th>\n",
       "      <td>101.521680</td>\n",
       "      <td>-24.057234</td>\n",
       "      <td>-10.941299</td>\n",
       "      <td>61.390775</td>\n",
       "      <td>13.604052</td>\n",
       "      <td>-5.993951</td>\n",
       "      <td>23.585937</td>\n",
       "      <td>35.249103</td>\n",
       "      <td>17.485549</td>\n",
       "      <td>40.168892</td>\n",
       "      <td>-24.069333</td>\n",
       "      <td>3.058700</td>\n",
       "      <td>-35.539301</td>\n",
       "      <td>-19.990565</td>\n",
       "      <td>-6.257364</td>\n",
       "      <td>29.536470</td>\n",
       "    </tr>\n",
       "    <tr>\n",
       "      <th>21304</th>\n",
       "      <td>101.489663</td>\n",
       "      <td>-25.927305</td>\n",
       "      <td>-8.067665</td>\n",
       "      <td>58.775076</td>\n",
       "      <td>13.453254</td>\n",
       "      <td>-6.175319</td>\n",
       "      <td>23.636990</td>\n",
       "      <td>35.200969</td>\n",
       "      <td>17.435722</td>\n",
       "      <td>40.154172</td>\n",
       "      <td>-24.076259</td>\n",
       "      <td>2.997333</td>\n",
       "      <td>-35.520551</td>\n",
       "      <td>-20.167782</td>\n",
       "      <td>-6.342535</td>\n",
       "      <td>29.049711</td>\n",
       "    </tr>\n",
       "    <tr>\n",
       "      <th>...</th>\n",
       "      <td>...</td>\n",
       "      <td>...</td>\n",
       "      <td>...</td>\n",
       "      <td>...</td>\n",
       "      <td>...</td>\n",
       "      <td>...</td>\n",
       "      <td>...</td>\n",
       "      <td>...</td>\n",
       "      <td>...</td>\n",
       "      <td>...</td>\n",
       "      <td>...</td>\n",
       "      <td>...</td>\n",
       "      <td>...</td>\n",
       "      <td>...</td>\n",
       "      <td>...</td>\n",
       "      <td>...</td>\n",
       "    </tr>\n",
       "    <tr>\n",
       "      <th>21455</th>\n",
       "      <td>101.245787</td>\n",
       "      <td>21.224317</td>\n",
       "      <td>-24.982116</td>\n",
       "      <td>81.376537</td>\n",
       "      <td>13.441081</td>\n",
       "      <td>-4.954238</td>\n",
       "      <td>20.847649</td>\n",
       "      <td>35.116662</td>\n",
       "      <td>16.353710</td>\n",
       "      <td>38.960687</td>\n",
       "      <td>-26.599721</td>\n",
       "      <td>1.491737</td>\n",
       "      <td>-35.138179</td>\n",
       "      <td>-17.696100</td>\n",
       "      <td>-6.251154</td>\n",
       "      <td>31.653166</td>\n",
       "    </tr>\n",
       "    <tr>\n",
       "      <th>21456</th>\n",
       "      <td>101.005612</td>\n",
       "      <td>-26.704756</td>\n",
       "      <td>-31.688316</td>\n",
       "      <td>74.597850</td>\n",
       "      <td>12.198783</td>\n",
       "      <td>-6.271569</td>\n",
       "      <td>21.307287</td>\n",
       "      <td>34.845402</td>\n",
       "      <td>15.500597</td>\n",
       "      <td>38.473790</td>\n",
       "      <td>-26.768097</td>\n",
       "      <td>0.723165</td>\n",
       "      <td>-34.839900</td>\n",
       "      <td>-18.363022</td>\n",
       "      <td>-6.742205</td>\n",
       "      <td>30.076730</td>\n",
       "    </tr>\n",
       "    <tr>\n",
       "      <th>21457</th>\n",
       "      <td>100.869224</td>\n",
       "      <td>-43.321240</td>\n",
       "      <td>-53.173870</td>\n",
       "      <td>62.917525</td>\n",
       "      <td>11.516640</td>\n",
       "      <td>-7.025526</td>\n",
       "      <td>22.215082</td>\n",
       "      <td>34.753040</td>\n",
       "      <td>14.861097</td>\n",
       "      <td>38.292458</td>\n",
       "      <td>-26.611846</td>\n",
       "      <td>0.423437</td>\n",
       "      <td>-34.507010</td>\n",
       "      <td>-19.367136</td>\n",
       "      <td>-7.177739</td>\n",
       "      <td>28.595270</td>\n",
       "    </tr>\n",
       "    <tr>\n",
       "      <th>21458</th>\n",
       "      <td>100.929799</td>\n",
       "      <td>-39.837053</td>\n",
       "      <td>-45.371749</td>\n",
       "      <td>66.149594</td>\n",
       "      <td>11.769030</td>\n",
       "      <td>-6.842123</td>\n",
       "      <td>21.657555</td>\n",
       "      <td>34.663485</td>\n",
       "      <td>15.339811</td>\n",
       "      <td>38.480290</td>\n",
       "      <td>-26.562386</td>\n",
       "      <td>0.614864</td>\n",
       "      <td>-34.912496</td>\n",
       "      <td>-18.943958</td>\n",
       "      <td>-6.993857</td>\n",
       "      <td>29.259096</td>\n",
       "    </tr>\n",
       "    <tr>\n",
       "      <th>21459</th>\n",
       "      <td>100.908172</td>\n",
       "      <td>-41.499135</td>\n",
       "      <td>-50.286377</td>\n",
       "      <td>67.892868</td>\n",
       "      <td>11.744293</td>\n",
       "      <td>-6.739841</td>\n",
       "      <td>21.906847</td>\n",
       "      <td>34.824721</td>\n",
       "      <td>14.972537</td>\n",
       "      <td>38.291671</td>\n",
       "      <td>-26.761885</td>\n",
       "      <td>0.456836</td>\n",
       "      <td>-34.519328</td>\n",
       "      <td>-18.954073</td>\n",
       "      <td>-7.012409</td>\n",
       "      <td>29.325957</td>\n",
       "    </tr>\n",
       "  </tbody>\n",
       "</table>\n",
       "<p>158 rows × 16 columns</p>\n",
       "</div>"
      ],
      "text/plain": [
       "         intercept  주거인구/직장인구    아파트 가구수    단독주택 비율   서비스업매출비율   외식업매출비율  \\\n",
       "BAS_ID                                                                     \n",
       "21300   101.621097 -19.987889 -16.801620  65.704605  14.014662 -5.626208   \n",
       "21301   101.588382 -23.890852  -8.773298  62.139227  13.830890 -5.889719   \n",
       "21302   101.522925 -25.789394  -5.523626  59.192299  13.568331 -6.112244   \n",
       "21303   101.521680 -24.057234 -10.941299  61.390775  13.604052 -5.993951   \n",
       "21304   101.489663 -25.927305  -8.067665  58.775076  13.453254 -6.175319   \n",
       "...            ...        ...        ...        ...        ...       ...   \n",
       "21455   101.245787  21.224317 -24.982116  81.376537  13.441081 -4.954238   \n",
       "21456   101.005612 -26.704756 -31.688316  74.597850  12.198783 -6.271569   \n",
       "21457   100.869224 -43.321240 -53.173870  62.917525  11.516640 -7.025526   \n",
       "21458   100.929799 -39.837053 -45.371749  66.149594  11.769030 -6.842123   \n",
       "21459   100.908172 -41.499135 -50.286377  67.892868  11.744293 -6.739841   \n",
       "\n",
       "        근린생활시설 비율   평균최근접역거리  (주거인구+직장인구) / 유동인구    공동주택 비율   평균 도로 길이  \\\n",
       "BAS_ID                                                                   \n",
       "21300   23.586274  35.361611           17.711248  40.306141 -23.904455   \n",
       "21301   23.802630  35.318115           17.663914  40.324000 -23.854534   \n",
       "21302   23.785570  35.243342           17.511612  40.228112 -23.972543   \n",
       "21303   23.585937  35.249103           17.485549  40.168892 -24.069333   \n",
       "21304   23.636990  35.200969           17.435722  40.154172 -24.076259   \n",
       "...           ...        ...                 ...        ...        ...   \n",
       "21455   20.847649  35.116662           16.353710  38.960687 -26.599721   \n",
       "21456   21.307287  34.845402           15.500597  38.473790 -26.768097   \n",
       "21457   22.215082  34.753040           14.861097  38.292458 -26.611846   \n",
       "21458   21.657555  34.663485           15.339811  38.480290 -26.562386   \n",
       "21459   21.906847  34.824721           14.972537  38.291671 -26.761885   \n",
       "\n",
       "        도로길이고려_전체통합도  평균최근접정류장거리       점포밀도       도로율       상가밀도  \n",
       "BAS_ID                                                            \n",
       "21300       3.311235  -35.622408 -19.685987 -6.035367  30.520389  \n",
       "21301       3.292138  -35.577028 -20.044021 -6.141908  29.879127  \n",
       "21302       3.123871  -35.527580 -20.232580 -6.288905  29.235275  \n",
       "21303       3.058700  -35.539301 -19.990565 -6.257364  29.536470  \n",
       "21304       2.997333  -35.520551 -20.167782 -6.342535  29.049711  \n",
       "...              ...         ...        ...       ...        ...  \n",
       "21455       1.491737  -35.138179 -17.696100 -6.251154  31.653166  \n",
       "21456       0.723165  -34.839900 -18.363022 -6.742205  30.076730  \n",
       "21457       0.423437  -34.507010 -19.367136 -7.177739  28.595270  \n",
       "21458       0.614864  -34.912496 -18.943958 -6.993857  29.259096  \n",
       "21459       0.456836  -34.519328 -18.954073 -7.012409  29.325957  \n",
       "\n",
       "[158 rows x 16 columns]"
      ]
     },
     "execution_count": 92,
     "metadata": {},
     "output_type": "execute_result"
    }
   ],
   "source": [
    "mgwr_coef_df"
   ]
  },
  {
   "cell_type": "code",
   "execution_count": null,
   "id": "46fcfe09",
   "metadata": {
    "collapsed": false,
    "jupyter": {
     "outputs_hidden": false
    },
    "pycharm": {
     "name": "#%%\n"
    }
   },
   "outputs": [],
   "source": [
    "a = mgwr_coef_df.loc[:,['주거인구/직장인구']]\n",
    "a[a['주거인구/직장인구'] > 0].sort_index()"
   ]
  },
  {
   "cell_type": "code",
   "execution_count": null,
   "id": "10fcdf3e",
   "metadata": {
    "collapsed": false,
    "jupyter": {
     "outputs_hidden": false
    },
    "pycharm": {
     "name": "#%%\n"
    }
   },
   "outputs": [],
   "source": [
    "mgwr_coef_df = mgwr_coef_df.drop('intercept',axis=1)"
   ]
  },
  {
   "cell_type": "code",
   "execution_count": null,
   "id": "e275f9b4",
   "metadata": {
    "collapsed": false,
    "jupyter": {
     "outputs_hidden": false
    },
    "pycharm": {
     "name": "#%%\n"
    }
   },
   "outputs": [],
   "source": [
    "check_vif(mgwr_coef_df)"
   ]
  },
  {
   "cell_type": "code",
   "execution_count": 65,
   "id": "31512d78",
   "metadata": {
    "collapsed": false,
    "jupyter": {
     "outputs_hidden": false
    },
    "pycharm": {
     "name": "#%%\n"
    }
   },
   "outputs": [],
   "source": [
    "agg_coef = mgwr_coef_df.describe()"
   ]
  },
  {
   "cell_type": "code",
   "execution_count": 66,
   "id": "cd469541",
   "metadata": {
    "collapsed": false,
    "jupyter": {
     "outputs_hidden": false
    },
    "pycharm": {
     "name": "#%%\n"
    }
   },
   "outputs": [],
   "source": [
    "agg_coef_T = agg_coef.loc[['min','max','mean','std'],:].transpose()\n",
    "agg_coef_T\n",
    "agg_coef_T.to_csv('../data/전처리 파일/회귀계수/회귀계수 통계량(평균영업기간).csv',encoding='euc-kr')"
   ]
  },
  {
   "cell_type": "markdown",
   "id": "dc75dcf6",
   "metadata": {
    "pycharm": {
     "name": "#%% md\n"
    }
   },
   "source": [
    "#### local collinearity 확인"
   ]
  },
  {
   "cell_type": "code",
   "execution_count": null,
   "id": "e0a16927-56ab-41b8-b299-e613e6235fb8",
   "metadata": {},
   "outputs": [],
   "source": [
    "vdp = pd.DataFrame(mgwr_results.local_collinearity()[1])\n",
    "vdp.columns = ['Intercept']+remove_vif['features'].values"
   ]
  },
  {
   "cell_type": "code",
   "execution_count": null,
   "id": "3df96b5f",
   "metadata": {
    "collapsed": false,
    "jupyter": {
     "outputs_hidden": false
    },
    "pycharm": {
     "name": "#%%\n"
    }
   },
   "outputs": [],
   "source": [
    "remove_vif['features'].values"
   ]
  },
  {
   "cell_type": "code",
   "execution_count": null,
   "id": "c0121cb4",
   "metadata": {
    "collapsed": false,
    "jupyter": {
     "outputs_hidden": false
    },
    "pycharm": {
     "name": "#%%\n"
    }
   },
   "outputs": [],
   "source": [
    "vdp = pd.DataFrame(mgwr_results.local_collinearity()[1])\n",
    "vdp"
   ]
  },
  {
   "cell_type": "code",
   "execution_count": null,
   "id": "6dffd095-e668-4f99-8919-28646f11620d",
   "metadata": {},
   "outputs": [],
   "source": [
    "# vdp_1 = vdp.iloc[:,1]\n",
    "# vdp_1[vdp_1 > 0.5]\n",
    "\n",
    "# for idx, data in vdp.iterrows():\n",
    "#     mul = data[data.apply(lambda x : x >0.5)]\n",
    "#     if len(mul) > 1:\n",
    "#         print('{} : {}'.format(idx,mul[1:]))"
   ]
  },
  {
   "cell_type": "code",
   "execution_count": 67,
   "id": "a3d21254-a00b-45aa-b6ab-4e25e7d97fcb",
   "metadata": {},
   "outputs": [],
   "source": [
    "local_con_num = pd.Series(mgwr_results.local_collinearity()[0].flatten())"
   ]
  },
  {
   "cell_type": "code",
   "execution_count": 68,
   "id": "4a16ee10-ab70-4255-b5f5-b545cf096d73",
   "metadata": {},
   "outputs": [
    {
     "data": {
      "text/plain": [
       "22     26.966545\n",
       "20     26.504973\n",
       "19     26.235460\n",
       "26     26.052574\n",
       "21     25.938919\n",
       "         ...    \n",
       "92     22.934279\n",
       "124    22.923920\n",
       "87     22.920475\n",
       "86     22.915000\n",
       "85     22.823202\n",
       "Length: 158, dtype: float64"
      ]
     },
     "execution_count": 68,
     "metadata": {},
     "output_type": "execute_result"
    }
   ],
   "source": [
    "local_con_num.sort_values(ascending=False)"
   ]
  },
  {
   "cell_type": "code",
   "execution_count": null,
   "id": "25698693",
   "metadata": {
    "collapsed": false,
    "jupyter": {
     "outputs_hidden": false
    },
    "pycharm": {
     "name": "#%%\n"
    }
   },
   "outputs": [],
   "source": [
    "a,b = coef_RFE(clean_data.loc[:,local_mul_col])\n",
    "display(a.local_collinearity()[0].max())\n",
    "display(b)"
   ]
  },
  {
   "cell_type": "markdown",
   "id": "a4437870-c855-4ace-ab9f-fa189aba1189",
   "metadata": {
    "tags": []
   },
   "source": [
    "### 3.2.1 Optimal Max Bandwidth"
   ]
  },
  {
   "cell_type": "code",
   "execution_count": null,
   "id": "61e06af1-103a-43e7-91da-a1f948e8bd5a",
   "metadata": {},
   "outputs": [],
   "source": [
    "store_path = '../data/전처리 파일/가중치행렬(mgwr,f3,120)'\n",
    "bandwidth = []\n",
    "aicc = []\n",
    "r2 = []\n",
    "ll = []\n",
    "start = 80\n",
    "end = 120\n",
    "step = 2\n",
    "\n",
    "for bw in range(start,end,step):\n",
    "    gwr_bw = bw\n",
    "    gwr_model = GWR(s_coords, s_y1, s_X, gwr_bw,kernel='f1',spherical=True)\n",
    "    gwr_results = gwr_model.fit()\n",
    "    print('='*30+' RESULT '+'='*30)\n",
    "    print('Bandwidth : {}, R2 : {:3f}, Log-Likelihood : {:3f}, AICc : {:.3f}'.format(bw,gwr_results.R2,\n",
    "                                                                              gwr_results.llf,gwr_results.aicc))\n",
    "    bandwidth.append(bw)\n",
    "    aicc.append(gwr_results.aicc)\n",
    "    r2.append(gwr_results.R2)\n",
    "    ll.append(gwr_results.llf)\n",
    "#     p_val = spatial_variability(gwr_model,bw,n_iters=1000)\n",
    "#     print('유의 확률 30% : {}'.format(len(p_val[p_val < 0.3])))\n",
    "    \n",
    "#     gwr_coef_df = pd.DataFrame(gwr_results.params)\n",
    "#     gwr_coef_df.columns = ['intercept']+list(clean_data.iloc[:,ind_var_col].columns)\n",
    "#     gwr_coef_df['x'] = u\n",
    "#     gwr_coef_df['y'] = v\n",
    "#     gwr_coef_df['BAS_ID'] = clean_data['BAS_ID']\n",
    "#     gwr_coef_df.to_csv('../data/전처리 파일/회귀계수/BW별 회귀계수(AICc)/GWR 회귀계수(평균영업기간,bw_'+str(bw)+',1111).csv',index=False,encoding='euc-kr')\n",
    "#     weight = pd.DataFrame(mgwr_results.W[2],columns=clean_data['BAS_ID'],index=clean_data['BAS_ID'])\n",
    "#     weight.to_csv(os.path.join(store_path,'weight('+str(bw)+',f3).csv'),encoding='euc-kr')\n",
    "\n",
    "aicc_by_bw = pd.DataFrame({'band width':bandwidth,'R2':r2,'Log-Likelihood':ll,'AICc':aicc})"
   ]
  },
  {
   "cell_type": "code",
   "execution_count": null,
   "id": "6ebbe2cc-3687-4c65-83cb-1e3856c412fc",
   "metadata": {},
   "outputs": [],
   "source": [
    "# Band width에 따른 AICc 그래프\n",
    "sns.scatterplot(x=aicc_by_bw['band width'],y=aicc_by_bw['AICc'],color='magenta')\n",
    "plt.show()"
   ]
  },
  {
   "cell_type": "code",
   "execution_count": null,
   "id": "b746a963-5196-4b6c-a320-0f742f31318e",
   "metadata": {},
   "outputs": [],
   "source": [
    "diff_aicc = pd.DataFrame({'Interval':range(0,len(aicc_by_bw['AICc'])-1),'diff':abs(np.diff(aicc_by_bw['AICc']))})"
   ]
  },
  {
   "cell_type": "code",
   "execution_count": null,
   "id": "b5122b55-05f0-431f-90dc-2f95aa0c673e",
   "metadata": {},
   "outputs": [],
   "source": [
    "# AICc 감소폭 그래프\n",
    "\n",
    "sns.scatterplot(x=diff_aicc['Interval'],y=diff_aicc['diff'],color='violet')\n",
    "plt.show()"
   ]
  },
  {
   "cell_type": "markdown",
   "id": "63d4dc4c-412e-4bfc-8aff-3f34946015f5",
   "metadata": {},
   "source": [
    "### 3.2.2 Column별 회귀계수 분포"
   ]
  },
  {
   "cell_type": "code",
   "execution_count": 99,
   "id": "55cd7046",
   "metadata": {
    "collapsed": false,
    "jupyter": {
     "outputs_hidden": false
    },
    "pycharm": {
     "name": "#%%\n"
    }
   },
   "outputs": [],
   "source": [
    "coef_ols = pd.DataFrame({'columns':['const']+list(remove_vif.features.values)\n",
    "                            ,'coef':results.params})"
   ]
  },
  {
   "cell_type": "code",
   "execution_count": 100,
   "id": "02ece8c4",
   "metadata": {
    "collapsed": false,
    "jupyter": {
     "outputs_hidden": false
    },
    "pycharm": {
     "name": "#%%\n"
    }
   },
   "outputs": [
    {
     "data": {
      "image/png": "[encoded data removed]",
      "text/plain": [
       "<Figure size 1000x700 with 1 Axes>"
      ]
     },
     "metadata": {},
     "output_type": "display_data"
    }
   ],
   "source": [
    "fig, ax = plt.subplots(nrows=1,ncols=1,figsize=(10,7))\n",
    "\n",
    "sns.boxplot(data=mgwr_coef_df.iloc[:,1:],ax=ax)\n",
    "sns.scatterplot(x='columns',y='coef',data=coef_ols.iloc[1:,:],color='magenta',ax=ax)\n",
    "ax.set_xticklabels(mgwr_coef_df.columns[1:], rotation=45, ha='right')\n",
    "ax.hlines(y=0,color='red',xmin=0,xmax=14)\n",
    "\n",
    "plt.savefig('../data/결과 이미지/회귀계수 boxplot(평균폐업기간).jpg')\n",
    "plt.show()"
   ]
  },
  {
   "cell_type": "code",
   "execution_count": null,
   "id": "fd5729a5-0768-4185-a11a-f985fdfbffe2",
   "metadata": {},
   "outputs": [],
   "source": [
    "coef_df_list = [] # bw별 회귀계수 data frame list, tuple로 저장할것(bandwidth, coef_df)\n",
    "coef_df_by_col_list = [] # column별 회귀계수 dataframe list\n",
    "start = 80\n",
    "end = 130\n",
    "step = 2\n",
    "\n",
    "# bw별로 회귀계수 dataframe 생성\n",
    "for bw in range(start,end,step):\n",
    "    mgwr_selector = Sel_BW(s_coords, s_y1, s_X,multi=True,kernel='bisquare',spherical=True)\n",
    "    mgwr_bw = mgwr_selector.search(multi_bw_min=[2],multi_bw_max=[bw])\n",
    "    mgwr_model = MGWR(s_coords, s_y1, s_X, mgwr_bw_selector,kernel='bisquare',spherical=True)\n",
    "    mgwr_results = mgwr_model.fit()\n",
    "    \n",
    "    mgwr_coef_df = pd.DataFrame(mgwr_results.params)\n",
    "    mgwr_coef_df.columns = ['intercept']+list(clean_data.iloc[:,ind_var_col].columns)\n",
    "    mgwr_coef_df['BAS_ID'] = clean_data['BAS_ID']\n",
    "    coef_df_list.append(tuple((bw,mgwr_coef_df)))\n",
    "\n",
    "# column별 회귀계수 dataframe list 생성\n",
    "for i in range(32): \n",
    "    coef_df_by_col_list.append(pd.DataFrame(columns=range(start,end,step),index=clean_data['BAS_ID']))\n",
    "\n",
    "# loop 돌면서 각 컬럼별, bw별 dataframe을 생성\n",
    "for bw,coef_df in coef_df_list:\n",
    "    for i in range(32):\n",
    "        coef_df_by_col_list[i].loc[:,bw] = coef_df.iloc[:,i].values"
   ]
  },
  {
   "cell_type": "code",
   "execution_count": null,
   "id": "2207e617-047d-4bfb-94e8-a744dfe55255",
   "metadata": {},
   "outputs": [],
   "source": [
    "# 개별공시지가 회귀계수의 분포를 살펴보자\n",
    "col_name = '개별공시지가 변화 차분평균'\n",
    "col_idx = clean_data.columns.values.tolist().index(col_name)\n",
    "target = coef_df_by_col_list[col_idx]\n",
    "bas_id = '21300'\n",
    "# target.loc[bas_id].describe()\n",
    "sns.distplot(x=target.loc[bas_id])\n",
    "plt.show()"
   ]
  },
  {
   "cell_type": "code",
   "execution_count": null,
   "id": "39e9d553-310f-45da-bf04-a39a33250ac4",
   "metadata": {},
   "outputs": [],
   "source": [
    "bas_id_list = list(clean_data['BAS_ID'])\n",
    "store_path = '../data/전처리 파일/회귀계수/Column별'\n",
    "\n",
    "for col in tqdm(list(dX)): \n",
    "    if '/' in col:\n",
    "        col_path = col.replace('/',',')\n",
    "    else:\n",
    "        col_path = col\n",
    "        \n",
    "    if not os.path.isdir(os.path.join(store_path,col_path)):\n",
    "        os.mkdir(os.path.join(store_path,col_path))\n",
    "    \n",
    "    col_idx = dX.columns.values.tolist().index(col)+1\n",
    "    target = coef_df_by_col_list[col_idx]\n",
    "    \n",
    "    for bas_id in bas_id_list:\n",
    "        # min값과 max값의 부호가 다른 경우에만 그래프 저장 실행\n",
    "        if (target.loc[bas_id].min()*target.loc[bas_id].max()) > 0:\n",
    "            continue\n",
    "            \n",
    "        sns.histplot(x=target.loc[bas_id], kde=True,color='violet')\n",
    "        plt.title(bas_id)\n",
    "        plt.savefig(os.path.join(store_path,col_path,bas_id+'.png'))\n",
    "        plt.cla()"
   ]
  },
  {
   "cell_type": "code",
   "execution_count": null,
   "id": "e5ed2013-b501-4cb8-824b-248e0f848419",
   "metadata": {},
   "outputs": [],
   "source": [
    "dir_list = os.listdir(store_path)\n",
    "count = []\n",
    "for dir_name in dir_list:\n",
    "    file_num = len(os.listdir(os.path.join(store_path,dir_name)))\n",
    "    count.append(file_num)\n",
    "#     print('{} : {}'.format(dir_name,file_num))\n",
    "    \n",
    "count_df = pd.Series(count,index=dir_list)\n",
    "count_df.sort_values(ascending=False)"
   ]
  },
  {
   "cell_type": "markdown",
   "id": "eec53f27-fed8-44a8-9ede-3458b5993a03",
   "metadata": {
    "tags": []
   },
   "source": [
    "### 3.2.3 Restriction Distance"
   ]
  },
  {
   "cell_type": "code",
   "execution_count": null,
   "id": "cacee425-ffbd-4fa3-bf9c-7f216b673e3b",
   "metadata": {},
   "outputs": [],
   "source": [
    "def local_cdist(coords_i, coords, spherical):\n",
    "    \"\"\"\n",
    "    Compute Haversine (spherical=True) or Euclidean (spherical=False) distance for a local kernel.\n",
    "    \"\"\"\n",
    "    if spherical:\n",
    "        dLat = np.radians(coords[:, 1] - coords_i[1])\n",
    "        dLon = np.radians(coords[:, 0] - coords_i[0])\n",
    "        lat1 = np.radians(coords[:, 1])\n",
    "        lat2 = np.radians(coords_i[1])\n",
    "        a = np.sin(\n",
    "            dLat / 2)**2 + np.cos(lat1) * np.cos(lat2) * np.sin(dLon / 2)**2\n",
    "        c = 2 * np.arcsin(np.sqrt(a))\n",
    "        R = 6371.0\n",
    "        return R * c\n",
    "    else:\n",
    "        return np.sqrt(np.sum((coords_i - coords)**2, axis=1))"
   ]
  },
  {
   "cell_type": "code",
   "execution_count": null,
   "id": "929728fc-9314-4245-9406-d87b81e8d12a",
   "metadata": {},
   "outputs": [],
   "source": [
    "bw_list = range(10,158,10)\n",
    "pos_count = 158\n",
    "coords = np.array(s_coords)\n",
    "eps = 1.0000001\n",
    "\n",
    "df = pd.DataFrame({'BAS_ID':clean_data['BAS_ID']})\n",
    "\n",
    "for bw in bw_list:\n",
    "    max_dis_list = []\n",
    "    for i in range(pos_count): \n",
    "        dis_list = local_cdist(coords[i],coords,True)\n",
    "        max_dis = np.partition(dis_list,int(bw) - 1)[int(bw) - 1] * eps  #partial sort in O(n) Time\n",
    "#         print(max_dis)\n",
    "        max_dis_list.append(max_dis)\n",
    "    \n",
    "    df[str(bw)] = max_dis_list\n",
    "\n",
    "df.head()"
   ]
  },
  {
   "cell_type": "code",
   "execution_count": null,
   "id": "30023312-e5e8-4411-b11f-056e5b7a2d10",
   "metadata": {},
   "outputs": [],
   "source": [
    "df.describe()"
   ]
  },
  {
   "cell_type": "code",
   "execution_count": null,
   "id": "035618a6-08a9-4b8d-b912-c35a550542a7",
   "metadata": {},
   "outputs": [],
   "source": [
    "sns.boxplot(data=df.loc[:,'90':])\n",
    "plt.savefig('../data/결과 이미지/restrict_bw(평균영업기간).jpg')\n",
    "plt.show()"
   ]
  },
  {
   "cell_type": "code",
   "execution_count": null,
   "id": "a0513eb1-546f-4a47-b0b3-fb8827659d1b",
   "metadata": {},
   "outputs": [],
   "source": [
    "dist_Q3 = dict(df.describe().loc['75%'])\n",
    "max_dist_dict = dist_Q3\n",
    "max_dist_dict['158'] = 6.400214\n",
    "max_dist_dict"
   ]
  },
  {
   "cell_type": "code",
   "execution_count": null,
   "id": "5940d38a-1768-4350-bd43-c6b132259415",
   "metadata": {},
   "outputs": [],
   "source": [
    "temp_bw = []\n",
    "\n",
    "for bw in range(10,159):\n",
    "    start_bw = int(bw / 10)*10\n",
    "    start_dist = max_dist_dict[str(int(start_bw))]\n",
    "    \n",
    "    if start_bw != 150:\n",
    "        temp_bw.append(start_dist+(max_dist_dict[str(int(start_bw)+10)]-start_dist)/10*(bw-start_bw))\n",
    "    else:\n",
    "        temp_bw.append(start_dist+(max_dist_dict[str(int(start_bw)+8)]-start_dist)/8*(bw-start_bw))\n",
    "    \n",
    "distance_by_bw = pd.DataFrame({'bw':range(10,159),'distance':temp_bw})"
   ]
  },
  {
   "cell_type": "code",
   "execution_count": null,
   "id": "655a743b-c292-4b5d-befd-edda0c39fdd6",
   "metadata": {},
   "outputs": [],
   "source": [
    "sns.scatterplot(x=distance_by_bw['bw'],y=distance_by_bw['distance'])\n",
    "plt.savefig('../data/결과 이미지/restrict_bw_smooth_graph(평균영업기간).jpg')\n",
    "plt.show()"
   ]
  },
  {
   "cell_type": "markdown",
   "id": "856eb91c-7adb-4a8a-b6db-da6ff573ee39",
   "metadata": {},
   "source": [
    "### 3.2.4 Recursive Local Multicollinearity Elimination "
   ]
  },
  {
   "cell_type": "code",
   "execution_count": null,
   "id": "c2a5a129-d182-4b49-8346-a87c8d86a5bd",
   "metadata": {},
   "outputs": [],
   "source": [
    "def coef_RFE(df):\n",
    "    flag = True\n",
    "    next_col = list(df.columns)\n",
    "    \n",
    "    while flag:\n",
    "        \n",
    "        temp_X = df.loc[:,next_col].values\n",
    "    \n",
    "        mgwr_selector = Sel_BW(s_coords, s_y1, temp_X,multi=True,kernel='f1',spherical=True)\n",
    "        mgwr_bw = mgwr_selector.search(multi_bw_min=[2])\n",
    "        print(mgwr_bw)\n",
    "        mgwr_model = MGWR(s_coords, s_y1, temp_X, mgwr_selector,kernel='f1',spherical=True,hat_matrix=True)\n",
    "        mgwr_results = mgwr_model.fit()\n",
    "    \n",
    "        mgwr_coef_df = pd.DataFrame(mgwr_results.params)\n",
    "        mgwr_coef_df.columns = ['intercept']+next_col\n",
    "    \n",
    "        result = check_vif(mgwr_coef_df.iloc[:,1:])\n",
    "        display(result.iloc[-3:,:])\n",
    "\n",
    "        if len(result[result['VIF Factor'] > 10]) == 0:\n",
    "            return mgwr_results, result\n",
    "            # 유일한 탈출 조건\n",
    "        \n",
    "        next_col = result.iloc[:-1,1].values.tolist()\n",
    "        \n",
    "result, last_feature = coef_RFE(try_data.loc[:,remove_vif['features'].values])\n",
    "display(last_feature)\n",
    "display(result.summary())"
   ]
  },
  {
   "cell_type": "code",
   "execution_count": null,
   "id": "71f8eb78",
   "metadata": {
    "collapsed": false,
    "jupyter": {
     "outputs_hidden": false
    },
    "pycharm": {
     "name": "#%%\n"
    }
   },
   "outputs": [],
   "source": [
    "last_feature.to_csv('../data/결과 데이터/회귀계수 간의 다중공선성(평균영업기간).csv',encoding='euc-kr')"
   ]
  },
  {
   "cell_type": "code",
   "execution_count": null,
   "id": "fbb2ae04-4155-4325-bcc8-623c891c5968",
   "metadata": {},
   "outputs": [],
   "source": [
    "list(last_feature['features'].values)"
   ]
  },
  {
   "cell_type": "code",
   "execution_count": null,
   "id": "1dc6cca8-56e0-4da6-9b7d-18b2fc948a56",
   "metadata": {},
   "outputs": [],
   "source": [
    "cc = pd.Series(result.local_collinearity()[0].flatten(),index=clean_data.loc[:,'BAS_ID'])\n",
    "cc.max()"
   ]
  },
  {
   "cell_type": "markdown",
   "id": "6053df46-3634-41ac-889d-4f0bb8af44a2",
   "metadata": {},
   "source": [
    "## 3.3 Kernel별 GWR Modeling\n",
    "- bisquare, f1, gaussian\n",
    "- max bandwidth : 120, 거리제한 O\n",
    "- 대역폭은 고정되어 있고, 커널별 가중치 자료가 필요한 것이기 때문에 굳이 시간이 오래걸리는 MGWR모델이 아닌 GWR 모델을 생성하여 가중치 자료를 생성"
   ]
  },
  {
   "cell_type": "code",
   "execution_count": null,
   "id": "3d60f381-97f8-4f12-84eb-4515d552d5e0",
   "metadata": {},
   "outputs": [],
   "source": [
    "# 1. Raw Data\n",
    "rd_X = clean_data.iloc[:,ind_var_col]\n",
    "\n",
    "ind_dataset = [rd_X]\n",
    "# [rd_X,remove_high_vif_X,scaled_X,remove_high_vif_scaled_X]\n",
    "kernel = ['bisquare']\n",
    "# ,'bisquare']\n",
    "# ,'f2','f3','gaussian','exponential','bisquare']\n",
    "max_multi_bw = [120]\n",
    "# [90,100,110,120]\n",
    "\n",
    "aicc = []\n",
    "mbw = []\n",
    "r2 = []\n",
    "adj_r2 = []\n",
    "ker = []\n",
    "dataset_idx = []\n",
    "count = 0\n",
    "start_time = time.time()\n",
    "\n",
    "for func in kernel:\n",
    "    for bw in max_multi_bw:\n",
    "        for i,s_X in enumerate(ind_dataset):\n",
    "            s_X = s_X.values\n",
    "            # 모델 생성\n",
    "\n",
    "#             gwr_selector = Sel_BW(s_coords, s_y1, s_X,kernel=func,spherical=True)\n",
    "#             gwr_bw = gwr_selector.search(bw_min=[2],multi_bw_max=[bw])\n",
    "#             print(mgwr_bw)\n",
    "            gwr_model = GWR(s_coords, s_y1, s_X, bw ,kernel=func,spherical=True)\n",
    "            gwr_results = gwr_model.fit()\n",
    "    \n",
    "            # 평가 지표\n",
    "            aicc.append(gwr_results.aicc)\n",
    "            mbw.append(bw)\n",
    "            r2.append(gwr_results.R2)\n",
    "            adj_r2.append(gwr_results.adj_R2)\n",
    "            ker.append(func)\n",
    "            dataset_idx.append(i)\n",
    "            weight = pd.DataFrame(gwr_results.W,columns=clean_data['BAS_ID'],index=clean_data['BAS_ID'])\n",
    "            weight.to_csv('../data/전처리 파일/가중치행렬/weight('+str(bw)+',renew f1,1122).csv',encoding='euc-kr')\n",
    "            \n",
    "            print('========================= RESULT =========================')\n",
    "            print('KERNEL : {}'.format(func))\n",
    "            print('DATASET NUMBER : {}'.format(i))\n",
    "            print('R2 : {:.8f}'.format(gwr_results.R2))\n",
    "            print('Adj. R2 : {:.8f}'.format(gwr_results.adj_R2))\n",
    "            print('AICc : {:.8f}'.format(gwr_results.aicc))\n",
    "            print('MAX BANDWIDTH : {:.8f}'.format(bw))\n",
    "    \n",
    "            count += 1\n",
    "            print('진행률 : {0:.2f}%, 소요시간 : {1:.2f}분'.format(count/(len(kernel)*len(ind_dataset)*len(max_multi_bw))*100,(time.time()-start_time)/60))\n",
    "\n",
    "valid_result = pd.DataFrame({'Data Number':dataset_idx,'Kernel':ker,'R2':r2,'Adj. R2':adj_r2\n",
    "                             ,'AICc':aicc,'Max Bandwidth':mbw})"
   ]
  },
  {
   "cell_type": "markdown",
   "id": "87c39282-3514-40de-bf02-0f7bb0d88c74",
   "metadata": {},
   "source": [
    "## 3.4 거리제한에 따른 회귀계수의 비교"
   ]
  },
  {
   "cell_type": "code",
   "execution_count": null,
   "id": "808312e7-741e-4de3-a390-d40572331ac4",
   "metadata": {},
   "outputs": [],
   "source": [
    "coef_dir = os.listdir('../data/전처리 파일/회귀계수')\n",
    "coef_dir"
   ]
  },
  {
   "cell_type": "code",
   "execution_count": null,
   "id": "9e64d20e-e959-4431-807b-b568e2cf3f0b",
   "metadata": {},
   "outputs": [],
   "source": [
    "not_restrict = pd.read_csv('../data/전처리 파일/회귀계수/MGWR 회귀계수(평균영업기간,max_bw_120,거리제한 X,renew f1,1118).csv',encoding='euc-kr')\n",
    "restrict = pd.read_csv('../data/전처리 파일/회귀계수/MGWR 회귀계수(평균영업기간,max_bw_120,renew f1,1118).csv',encoding='euc-kr')"
   ]
  },
  {
   "cell_type": "code",
   "execution_count": null,
   "id": "7ff0930d-9238-48e0-bc19-261efec4b23f",
   "metadata": {},
   "outputs": [],
   "source": [
    "not_restrict = not_restrict.drop(['x','y'],axis=1)\n",
    "restrict = restrict.drop(['x','y'],axis=1)\n",
    "display(not_restrict.head())\n",
    "display(restrict.head())"
   ]
  },
  {
   "cell_type": "code",
   "execution_count": null,
   "id": "512b557a-5a2d-4a18-aa21-e3ed68d5d8ef",
   "metadata": {},
   "outputs": [],
   "source": [
    "pd.set_option('display.max_rows',10)"
   ]
  },
  {
   "cell_type": "code",
   "execution_count": null,
   "id": "225a225f-fbdf-49e6-9942-b171baa834cd",
   "metadata": {},
   "outputs": [],
   "source": [
    "coef_vif_result = RFE(restrict.iloc[:,:-1])\n",
    "col = coef_vif_result.features.values.tolist()+['BAS_ID','x','y']\n",
    "remove_vif = restrict.loc[:,col]\n",
    "remove_vif.to_csv('../data/전처리 파일/회귀계수/MGWR 회귀계수(평균영업기간,max_bw_120, renew f1,다중공선성 제거,1119).csv',index=False,encoding='euc-kr')"
   ]
  },
  {
   "cell_type": "code",
   "execution_count": null,
   "id": "7ddb97ab-b2d3-4363-8410-f5c46b663f5b",
   "metadata": {},
   "outputs": [],
   "source": [
    "path = '../data/군집화 결과/renew_f1(영업기간,maxbw120,1118).csv'\n",
    "cluster_data = pd.read_csv(path,encoding='euc-kr')\n",
    "cluster_data.head()"
   ]
  },
  {
   "cell_type": "code",
   "execution_count": null,
   "id": "ed65d8fc-2677-4a06-a022-f03becdde4d8",
   "metadata": {},
   "outputs": [],
   "source": [
    "merge_restrict = pd.concat([restrict,cluster_data['open_11cluster']],axis=1)\n",
    "merge_not_restrict = pd.concat([not_restrict,cluster_data['open_11cluster']],axis=1)"
   ]
  },
  {
   "cell_type": "code",
   "execution_count": null,
   "id": "03c5c0a7-e197-44d7-a078-1b95528245d7",
   "metadata": {},
   "outputs": [],
   "source": [
    "sorted(cluster_data['open_11cluster'].unique())"
   ]
  },
  {
   "cell_type": "code",
   "execution_count": null,
   "id": "dad1092a-1e46-4d28-8fa6-b82e5f420ee2",
   "metadata": {},
   "outputs": [],
   "source": [
    "merge_not_restrict['open_11cluster'].unique()"
   ]
  },
  {
   "cell_type": "code",
   "execution_count": null,
   "id": "e5f05d54-6ee6-44d2-8151-e23b0e82d48b",
   "metadata": {},
   "outputs": [],
   "source": [
    "# 중간 위치의 기초구역 리스트\n",
    "# 21314, 21315, 21334, 21363, 21376\n",
    "# 해당 기초구역들만 다른 색으로 표시해보자\n",
    "store_path = '../data/전처리 파일/회귀계수/거리제한 전후 회귀계수 비교'\n",
    "# inter_area = [21314, 21315, 21334, 21363, 21376]\n",
    "# idx = restrict[restrict['BAS_ID'].isin(inter_area)].index\n",
    "\n",
    "if not os.path.exists(store_path):\n",
    "    os.mkdir(store_path)\n",
    "\n",
    "for i,col in enumerate(restrict.columns[:-1]):\n",
    "    if '/' in col:\n",
    "        col_path = col.replace('/',',')\n",
    "    else:\n",
    "        col_path = col\n",
    "        \n",
    "    fig, axes = plt.subplots(nrows=1,ncols=2,figsize=(20,7),sharey=True)\n",
    "    \n",
    "    sns.scatterplot(x='BAS_ID',y=col,data = merge_not_restrict,hue='open_11cluster',ax=axes[0],palette=\"Paired\")\n",
    "    sns.scatterplot(x='BAS_ID',y=col,data = merge_restrict,hue='open_11cluster',ax=axes[1],palette=\"Paired\")\n",
    "    axes[0].set_title('NOT RESTRICT')\n",
    "    axes[1].set_title('RESTRICT')\n",
    "    plt.savefig(os.path.join(store_path,col_path))"
   ]
  },
  {
   "cell_type": "code",
   "execution_count": null,
   "id": "7c5096e5-5ea9-44c7-a83e-511a82952a2e",
   "metadata": {},
   "outputs": [],
   "source": [
    "path = '../data/전처리 파일/가중치행렬/가중치행렬(bw별, 거리제한 O)'\n",
    "weight_name = os.listdir(path)\n",
    "weight = pd.read_csv(os.path.join(path,weight_name[2]),encoding='euc-kr')"
   ]
  },
  {
   "cell_type": "code",
   "execution_count": null,
   "id": "6d92ce0d-85db-4969-a356-ac9c010f3baf",
   "metadata": {},
   "outputs": [],
   "source": [
    "use_weight = weight[weight > 0].count()\n",
    "len(use_weight[use_weight < 80])"
   ]
  },
  {
   "cell_type": "code",
   "execution_count": null,
   "id": "74740cf4-7145-4dd0-9fb4-01b589418312",
   "metadata": {},
   "outputs": [],
   "source": [
    "scatter_data = pd.concat([clean_data[['BAS_ID','평균영업기간','평균폐업기간']],cluster_data['open_11cluster']],axis=1)\n",
    "scatter_data.head()"
   ]
  },
  {
   "cell_type": "code",
   "execution_count": null,
   "id": "8af3434c-5cbd-4422-89aa-b3fa999fea4a",
   "metadata": {},
   "outputs": [],
   "source": [
    "cluster_num = 11\n",
    "col_num = 3\n",
    "\n",
    "fig, axes = plt.subplots(nrows=int(cluster_num / col_num)+1,ncols=col_num,figsize=(20,20))\n",
    "\n",
    "for i, num in enumerate(sorted(cluster_data['open_11cluster'].unique())):\n",
    "    temp_df = scatter_data.loc[scatter_data['open_11cluster']==num]\n",
    "    sns.scatterplot(data=temp_df,x='평균폐업기간',y='평균영업기간',color='magenta',palette='deep',ax=axes[int(i/col_num),i % col_num])\n",
    "    axes[int(i/col_num),i % col_num].set_title('CLUSTER '+str(num))\n",
    "    axes[int(i/col_num),i % col_num].hlines(temp_df['평균영업기간'].mean(),0,temp_df['평균폐업기간'].max(),color='blue')\n",
    "    axes[int(i/col_num),i % col_num].vlines(temp_df['평균폐업기간'].mean(),0,temp_df['평균영업기간'].max(),color='blue')\n",
    "    \n",
    "plt.show()"
   ]
  },
  {
   "cell_type": "code",
   "execution_count": null,
   "id": "a3ec9e15-8fcf-4963-b60d-2d15f82fcbd9",
   "metadata": {},
   "outputs": [],
   "source": [
    "clean_data['도로길이고려_전체통합도'].describe()"
   ]
  },
  {
   "cell_type": "markdown",
   "id": "20068af2-a004-40ff-b7d8-ffb480e8a54c",
   "metadata": {},
   "source": [
    "## 3.5 특성별 MGWR Modeling"
   ]
  },
  {
   "cell_type": "code",
   "execution_count": null,
   "id": "d046648d-a764-4ce1-912c-ef6f7dc7765e",
   "metadata": {},
   "outputs": [],
   "source": [
    "#Calibrate MGWR model\n",
    "# 평균영업기간\n",
    "rfe_result = []\n",
    "\n",
    "for col in col_list[:-1]:\n",
    "    result, last_feature =coef_RFE(clean_data.loc[:,col])\n",
    "    rfe_result.append((result,last_feature))"
   ]
  },
  {
   "cell_type": "code",
   "execution_count": null,
   "id": "c386fd6d-7a11-46dc-bdb3-d4507a5a870d",
   "metadata": {
    "pycharm": {
     "name": "#%%\n"
    }
   },
   "outputs": [],
   "source": [
    "for model_result, feature in rfe_result:\n",
    "    display(feature)\n",
    "    display(model_result.summary())"
   ]
  },
  {
   "cell_type": "markdown",
   "id": "15fe839e",
   "metadata": {
    "pycharm": {
     "name": "#%% md\n"
    }
   },
   "source": [
    "# 4. 분산 분석"
   ]
  },
  {
   "cell_type": "code",
   "execution_count": null,
   "id": "6960868d",
   "metadata": {
    "collapsed": false,
    "jupyter": {
     "outputs_hidden": false
    },
    "pycharm": {
     "name": "#%%\n"
    }
   },
   "outputs": [],
   "source": [
    "# 필요 데이터셋 생성\n",
    "s_X = pd.concat([clean_data.loc[:,local_mul_col],clean_data.loc[:,['x','y']]],axis=1)\n",
    "\n",
    "# train, test split\n",
    "X_train, X_test, y_train, y_test = train_test_split(s_X, s_y1, test_size=0.2, shuffle=True,random_state=34)\n",
    "\n",
    "# train 좌표 생성\n",
    "u_train = X_train.loc[:,'x']\n",
    "v_train = X_train.loc[:,'y']\n",
    "train_coords = list(zip(u_train,v_train))\n",
    "\n",
    "# test 좌표 생성\n",
    "u_test = X_test.loc[:,'x']\n",
    "v_test = X_test.loc[:,'y']\n",
    "test_coords = list(zip(u_test,v_test))\n",
    "\n",
    "# train, test set 독립변수 리스트에서 좌표 제거\n",
    "X_train.drop(['x','y'],axis=1,inplace=True)\n",
    "X_test.drop(['x','y'],axis=1,inplace=True)\n",
    "\n",
    "X_train = X_train.values\n",
    "X_test = X_test.values\n",
    "\n",
    "# 모델 생성\n",
    "mgwr_selector = Sel_BW(train_coords, y_train, X_train, multi=True,kernel='f1',spherical=True)\n",
    "mgwr_bw = mgwr_selector.search(multi_bw_min=[2],multi_bw_max=[120])\n",
    "\n",
    "print('BAND WIDTH : {}'.format(mgwr_bw))\n",
    "mgwr_model = MGWR(train_coords, y_train, X_train, mgwr_selector,kernel='f1',spherical=True)\n",
    "mgwr_results = mgwr_model.fit()\n",
    "\n",
    "# Prediction\n",
    "scale = mgwr_results.scale\n",
    "residuals = mgwr_results.resid_response\n",
    "pred_results = mgwr_model.predict(np.array(test_coords), X_test, scale, residuals)\n",
    "pred = pred_results.predictions.flatten()"
   ]
  },
  {
   "cell_type": "markdown",
   "id": "abc44e9d",
   "metadata": {
    "pycharm": {
     "name": "#%% md\n"
    }
   },
   "source": [
    "## 4.1 정규성 검증"
   ]
  },
  {
   "cell_type": "code",
   "execution_count": null,
   "id": "2482d341",
   "metadata": {
    "collapsed": false,
    "jupyter": {
     "outputs_hidden": false
    },
    "pycharm": {
     "name": "#%%\n"
    }
   },
   "outputs": [],
   "source": [
    "test = stats.shapiro(y_test)\n",
    "print('검정통계량 : {0}\\np-value : {1}'.format(test[0],test[1]))\n",
    "\n",
    "# 유의 수준 0.05에서 귀무가설을 기각할 수 없으므로 y_test는 정규성을 따른다."
   ]
  },
  {
   "cell_type": "code",
   "execution_count": null,
   "id": "50432420",
   "metadata": {
    "collapsed": false,
    "jupyter": {
     "outputs_hidden": false
    },
    "pycharm": {
     "name": "#%%\n"
    }
   },
   "outputs": [],
   "source": [
    "test = stats.shapiro(pred)\n",
    "print('검정통계량 : {0}\\np-value : {1}'.format(test[0],test[1]))\n",
    "\n",
    "# 유의수준 0.05에서 귀무가설을 기각하고 대립가설을 채택\n",
    "# 따라서 정규성을 띄지 않는다."
   ]
  },
  {
   "cell_type": "code",
   "execution_count": null,
   "id": "f116ad41",
   "metadata": {
    "collapsed": false,
    "jupyter": {
     "outputs_hidden": false
    },
    "pycharm": {
     "name": "#%%\n"
    }
   },
   "outputs": [],
   "source": [
    "df = pd.DataFrame({'pred':pred,'test':y_test.flatten()})\n",
    "df.describe()"
   ]
  },
  {
   "cell_type": "code",
   "execution_count": null,
   "id": "4d9ccead",
   "metadata": {
    "collapsed": false,
    "jupyter": {
     "outputs_hidden": false
    },
    "pycharm": {
     "name": "#%%\n"
    }
   },
   "outputs": [],
   "source": [
    "# 독립이표본 t-test\n",
    "result = stats.ttest_ind(pred, y_test, equal_var=False)\n",
    "print('p-value : {:.8f}'.format(result[1][0]))\n",
    "\n",
    "# 유의 수준 0.05에서 귀무가설을 기각할 수 없으므로 두 집단 간의 평균 차이가 없다고 말할 수 있다."
   ]
  },
  {
   "cell_type": "code",
   "execution_count": null,
   "id": "2de76e82",
   "metadata": {
    "collapsed": false,
    "jupyter": {
     "outputs_hidden": false
    },
    "pycharm": {
     "name": "#%%\n"
    }
   },
   "outputs": [],
   "source": [
    "ax = plt.subplot()\n",
    "sns.distplot(y_test,ax=ax,color='red',label='test set',hist=False)\n",
    "sns.distplot(pred,ax=ax,color='violet',label='prediction',hist=False)\n",
    "ax.set_title('Prediction vs Test Set')\n",
    "ax.legend()\n",
    "plt.show()"
   ]
  }
 ],
 "metadata": {
  "kernelspec": {
   "display_name": "Python 3",
   "language": "python",
   "name": "python3"
  },
  "language_info": {
   "codemirror_mode": {
    "name": "ipython",
    "version": 3
   },
   "file_extension": ".py",
   "mimetype": "text/x-python",
   "name": "python",
   "nbconvert_exporter": "python",
   "pygments_lexer": "ipython3",
   "version": "3.8.11"
  },
  "toc-autonumbering": false,
  "toc-showcode": false,
  "toc-showmarkdowntxt": false,
  "toc-showtags": false
 },
 "nbformat": 4,
 "nbformat_minor": 5
}
